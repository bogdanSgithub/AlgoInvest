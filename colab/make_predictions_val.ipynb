{
 "cells": [
  {
   "cell_type": "code",
   "execution_count": 2,
   "metadata": {},
   "outputs": [],
   "source": [
    "import datetime as dt\n",
    "import pandas as pd\n",
    "import joblib"
   ]
  },
  {
   "cell_type": "code",
   "execution_count": 3,
   "metadata": {},
   "outputs": [],
   "source": [
    "df_train = pd.read_csv('training.csv', index_col='Date') # 2003 - 2013\n",
    "df_val = pd.read_csv('validation.csv', index_col='Date') # 2017/08/3\n",
    "\n",
    "MODEL_PATH = \"model.pkl\"\n",
    "model = joblib.load(MODEL_PATH)"
   ]
  },
  {
   "cell_type": "code",
   "execution_count": 12,
   "metadata": {},
   "outputs": [
    {
     "data": {
      "text/plain": [
       "Index(['Ticker', 'Price', 'stock_p_change', 'SP500', 'SP500_p_change',\n",
       "       'Market Cap', 'Enterprise Value', 'Trailing P/E', 'Forward P/E',\n",
       "       'PEG Ratio', 'Price/Sales', 'Price/Book', 'Enterprise Value/Revenue',\n",
       "       'Enterprise Value/EBITDA', 'Profit Margin', 'Operating Margin',\n",
       "       'Return on Assets', 'Return on Equity', 'Revenue', 'Revenue Per Share',\n",
       "       'EBITDA', 'Net Income Avl to Common', 'Diluted EPS', 'Total Cash',\n",
       "       'Total Cash Per Share', 'Total Debt', 'Total Debt/Equity',\n",
       "       'Current Ratio', 'Book Value Per Share', 'Beta',\n",
       "       '50-Day Moving Average', '200-Day Moving Average', 'Avg Vol (3 month)',\n",
       "       'Shares Outstanding'],\n",
       "      dtype='object')"
      ]
     },
     "metadata": {},
     "output_type": "display_data"
    },
    {
     "name": "stdout",
     "output_type": "stream",
     "text": [
      "df1: Ticker df2: Ticker\n",
      "df1: Price df2: Price\n",
      "df1: stock_p_change df2: stock_p_change\n",
      "df1: SP500 df2: SP500\n",
      "df1: SP500_p_change df2: SP500_p_change\n",
      "df1: Market Cap df2: Market Cap\n",
      "df1: Enterprise Value df2: Enterprise Value\n",
      "df1: Trailing P/E df2: Trailing P/E\n",
      "df1: Forward P/E df2: Forward P/E\n",
      "df1: PEG Ratio df2: PEG Ratio\n",
      "df1: Price/Sales df2: Price/Sales\n",
      "df1: Price/Book df2: Price/Book\n",
      "df1: Enterprise Value/Revenue df2: Enterprise Value/Revenue\n",
      "df1: Enterprise Value/EBITDA df2: Enterprise Value/EBITDA\n",
      "df1: Profit Margin df2: Profit Margin\n",
      "df1: Operating Margin df2: Operating Margin\n",
      "df1: Return on Assets df2: Return on Assets\n",
      "df1: Return on Equity df2: Return on Equity\n",
      "df1: Revenue df2: Revenue\n",
      "df1: Revenue Per Share df2: Revenue Per Share\n",
      "df1: EBITDA df2: EBITDA\n",
      "df1: Net Income Avl to Common df2: Net Income Avl to Common\n",
      "df1: Diluted EPS df2: Diluted EPS\n",
      "df1: Total Cash df2: Total Cash\n",
      "df1: Total Cash Per Share df2: Total Cash Per Share\n",
      "df1: Total Debt df2: Total Debt\n",
      "df1: Total Debt/Equity df2: Total Debt/Equity\n",
      "df1: Current Ratio df2: Current Ratio\n",
      "df1: Book Value Per Share df2: Book Value Per Share\n",
      "df1: Beta df2: Beta\n",
      "df1: 50-Day Moving Average df2: 50-Day Moving Average\n",
      "df1: 200-Day Moving Average df2: 200-Day Moving Average\n",
      "df1: Avg Vol (3 month) df2: Avg Vol (3 month)\n",
      "df1: Shares Outstanding df2: Shares Outstanding\n"
     ]
    }
   ],
   "source": [
    "display(df_train.columns)\n",
    "\n",
    "df_val = pd.read_csv('validation.csv', index_col='Date')\n",
    "#display(df_val)\n",
    "df_val.drop(columns=['Unix', 'Quarterly Revenue Growth', 'Gross Profit', 'Float', '% Held by Insiders', '% Held by Institutions', 'Shares Short',\n",
    "       'Short Ratio', 'Short % of Float', 'Shares Short (prior month', 'Operating Cash Flow', 'Quarterly Earnings Growth',\n",
    "       'Levered Free Cash Flow'], inplace=True)\n",
    "\n",
    "df1_columns = [col for i, col in enumerate(df_train.columns) if i not in []]\n",
    "df2_columns = [col for i, col in enumerate(df_val.columns) if i not in []]\n",
    "\n",
    "for col1, col2 in zip(df1_columns, df2_columns):\n",
    "    print(f\"df1: {col1} df2: {col2}\")"
   ]
  },
  {
   "cell_type": "code",
   "execution_count": 15,
   "metadata": {},
   "outputs": [
    {
     "data": {
      "text/plain": [
       "Index(['Market Cap', 'Enterprise Value', 'Trailing P/E', 'Forward P/E',\n",
       "       'PEG Ratio', 'Price/Sales', 'Price/Book', 'Enterprise Value/Revenue',\n",
       "       'Enterprise Value/EBITDA', 'Profit Margin', 'Operating Margin',\n",
       "       'Return on Assets', 'Return on Equity', 'Revenue', 'Revenue Per Share',\n",
       "       'EBITDA', 'Net Income Avl to Common', 'Diluted EPS', 'Total Cash',\n",
       "       'Total Cash Per Share', 'Total Debt', 'Total Debt/Equity',\n",
       "       'Current Ratio', 'Book Value Per Share', 'Beta',\n",
       "       '50-Day Moving Average', '200-Day Moving Average', 'Avg Vol (3 month)',\n",
       "       'Shares Outstanding'],\n",
       "      dtype='object')"
      ]
     },
     "metadata": {},
     "output_type": "display_data"
    },
    {
     "data": {
      "text/plain": [
       "(29,)"
      ]
     },
     "metadata": {},
     "output_type": "display_data"
    }
   ],
   "source": [
    "import numpy as np\n",
    "\n",
    "def prepare_data(df):\n",
    "\n",
    "    df.dropna(axis=0, how=\"any\", inplace=True)\n",
    "\n",
    "    features = df.columns[5:]\n",
    "    display(features)\n",
    "    display(features.shape)\n",
    "    x = df[features]\n",
    "\n",
    "    #scaler = StandardScaler()\n",
    "    # Fit and transform the data\n",
    "    #x = pd.DataFrame(scaler.fit_transform(x), columns=x.columns)\n",
    "\n",
    "    return x\n",
    "\n",
    "X = prepare_data(df_val)\n"
   ]
  },
  {
   "cell_type": "code",
   "execution_count": 16,
   "metadata": {},
   "outputs": [],
   "source": [
    "predictions = model.predict(X)"
   ]
  },
  {
   "cell_type": "code",
   "execution_count": 25,
   "metadata": {},
   "outputs": [
    {
     "data": {
      "text/plain": [
       "['CAH',\n",
       " 'LSI',\n",
       " 'CNX',\n",
       " 'JBL',\n",
       " 'BAX',\n",
       " 'FDX',\n",
       " 'SWK',\n",
       " 'HTZ',\n",
       " 'RRC',\n",
       " 'NBL',\n",
       " 'LH',\n",
       " 'SNA',\n",
       " 'GT',\n",
       " 'CRM',\n",
       " 'BIIB',\n",
       " 'ICE',\n",
       " 'QDEL',\n",
       " 'DDS',\n",
       " 'AIZ',\n",
       " 'GNW',\n",
       " 'DNR',\n",
       " 'BRK-B',\n",
       " 'RL',\n",
       " 'SFLY',\n",
       " 'WAT',\n",
       " 'PBI',\n",
       " 'BLK',\n",
       " 'DLX',\n",
       " 'FB',\n",
       " 'KR',\n",
       " 'CI',\n",
       " 'AMD',\n",
       " 'PSA',\n",
       " 'AMP',\n",
       " 'BBBY',\n",
       " 'APD']"
      ]
     },
     "execution_count": 25,
     "metadata": {},
     "output_type": "execute_result"
    }
   ],
   "source": [
    "preds = pd.Series(predictions, name='Predictions')\n",
    "#X_original = pd.DataFrame(scaler.inverse_transform(X), columns=X.columns)\n",
    "merged = pd.concat([df_val.reset_index(drop=True), preds.reset_index(drop=True)], axis=1)\n",
    "\n",
    "stock_symbols = merged[merged['Predictions'] == True]['Ticker'].to_list()\n",
    "stock_symbols"
   ]
  },
  {
   "cell_type": "code",
   "execution_count": 24,
   "metadata": {},
   "outputs": [
    {
     "name": "stderr",
     "output_type": "stream",
     "text": [
      "[*********************100%%**********************]  1 of 1 completed\n",
      "C:\\Users\\Bogdan\\AppData\\Local\\Temp\\ipykernel_6088\\1143581877.py:10: FutureWarning: Series.__getitem__ treating keys as positions is deprecated. In a future version, integer keys will always be treated as labels (consistent with DataFrame behavior). To access a value by position, use `ser.iloc[pos]`\n",
      "  pct_change = df[-1] / df[0]\n",
      "[*********************100%%**********************]  1 of 1 completed\n",
      "\n",
      "1 Failed download:\n",
      "['LSI']: YFTzMissingError('$%ticker%: possibly delisted; No timezone found')\n",
      "[*********************100%%**********************]  1 of 1 completed\n",
      "C:\\Users\\Bogdan\\AppData\\Local\\Temp\\ipykernel_6088\\1143581877.py:10: FutureWarning: Series.__getitem__ treating keys as positions is deprecated. In a future version, integer keys will always be treated as labels (consistent with DataFrame behavior). To access a value by position, use `ser.iloc[pos]`\n",
      "  pct_change = df[-1] / df[0]\n",
      "[*********************100%%**********************]  1 of 1 completed\n",
      "C:\\Users\\Bogdan\\AppData\\Local\\Temp\\ipykernel_6088\\1143581877.py:10: FutureWarning: Series.__getitem__ treating keys as positions is deprecated. In a future version, integer keys will always be treated as labels (consistent with DataFrame behavior). To access a value by position, use `ser.iloc[pos]`\n",
      "  pct_change = df[-1] / df[0]\n",
      "[*********************100%%**********************]  1 of 1 completed\n",
      "C:\\Users\\Bogdan\\AppData\\Local\\Temp\\ipykernel_6088\\1143581877.py:10: FutureWarning: Series.__getitem__ treating keys as positions is deprecated. In a future version, integer keys will always be treated as labels (consistent with DataFrame behavior). To access a value by position, use `ser.iloc[pos]`\n",
      "  pct_change = df[-1] / df[0]\n",
      "[*********************100%%**********************]  1 of 1 completed\n",
      "C:\\Users\\Bogdan\\AppData\\Local\\Temp\\ipykernel_6088\\1143581877.py:10: FutureWarning: Series.__getitem__ treating keys as positions is deprecated. In a future version, integer keys will always be treated as labels (consistent with DataFrame behavior). To access a value by position, use `ser.iloc[pos]`\n",
      "  pct_change = df[-1] / df[0]\n",
      "[*********************100%%**********************]  1 of 1 completed\n",
      "C:\\Users\\Bogdan\\AppData\\Local\\Temp\\ipykernel_6088\\1143581877.py:10: FutureWarning: Series.__getitem__ treating keys as positions is deprecated. In a future version, integer keys will always be treated as labels (consistent with DataFrame behavior). To access a value by position, use `ser.iloc[pos]`\n",
      "  pct_change = df[-1] / df[0]\n",
      "[*********************100%%**********************]  1 of 1 completed\n",
      "\n",
      "1 Failed download:\n",
      "['HTZ']: YFChartError(\"%ticker%: Data doesn't exist for startDate = 1501732800, endDate = 1538539200\")\n",
      "[*********************100%%**********************]  1 of 1 completed\n",
      "C:\\Users\\Bogdan\\AppData\\Local\\Temp\\ipykernel_6088\\1143581877.py:10: FutureWarning: Series.__getitem__ treating keys as positions is deprecated. In a future version, integer keys will always be treated as labels (consistent with DataFrame behavior). To access a value by position, use `ser.iloc[pos]`\n",
      "  pct_change = df[-1] / df[0]\n",
      "[*********************100%%**********************]  1 of 1 completed\n",
      "\n",
      "1 Failed download:\n",
      "['NBL']: YFTzMissingError('$%ticker%: possibly delisted; No timezone found')\n",
      "[*********************100%%**********************]  1 of 1 completed\n",
      "C:\\Users\\Bogdan\\AppData\\Local\\Temp\\ipykernel_6088\\1143581877.py:10: FutureWarning: Series.__getitem__ treating keys as positions is deprecated. In a future version, integer keys will always be treated as labels (consistent with DataFrame behavior). To access a value by position, use `ser.iloc[pos]`\n",
      "  pct_change = df[-1] / df[0]\n",
      "[*********************100%%**********************]  1 of 1 completed\n",
      "C:\\Users\\Bogdan\\AppData\\Local\\Temp\\ipykernel_6088\\1143581877.py:10: FutureWarning: Series.__getitem__ treating keys as positions is deprecated. In a future version, integer keys will always be treated as labels (consistent with DataFrame behavior). To access a value by position, use `ser.iloc[pos]`\n",
      "  pct_change = df[-1] / df[0]\n",
      "[*********************100%%**********************]  1 of 1 completed\n",
      "C:\\Users\\Bogdan\\AppData\\Local\\Temp\\ipykernel_6088\\1143581877.py:10: FutureWarning: Series.__getitem__ treating keys as positions is deprecated. In a future version, integer keys will always be treated as labels (consistent with DataFrame behavior). To access a value by position, use `ser.iloc[pos]`\n",
      "  pct_change = df[-1] / df[0]\n",
      "[*********************100%%**********************]  1 of 1 completed\n",
      "C:\\Users\\Bogdan\\AppData\\Local\\Temp\\ipykernel_6088\\1143581877.py:10: FutureWarning: Series.__getitem__ treating keys as positions is deprecated. In a future version, integer keys will always be treated as labels (consistent with DataFrame behavior). To access a value by position, use `ser.iloc[pos]`\n",
      "  pct_change = df[-1] / df[0]\n",
      "[*********************100%%**********************]  1 of 1 completed\n",
      "C:\\Users\\Bogdan\\AppData\\Local\\Temp\\ipykernel_6088\\1143581877.py:10: FutureWarning: Series.__getitem__ treating keys as positions is deprecated. In a future version, integer keys will always be treated as labels (consistent with DataFrame behavior). To access a value by position, use `ser.iloc[pos]`\n",
      "  pct_change = df[-1] / df[0]\n",
      "[*********************100%%**********************]  1 of 1 completed\n",
      "C:\\Users\\Bogdan\\AppData\\Local\\Temp\\ipykernel_6088\\1143581877.py:10: FutureWarning: Series.__getitem__ treating keys as positions is deprecated. In a future version, integer keys will always be treated as labels (consistent with DataFrame behavior). To access a value by position, use `ser.iloc[pos]`\n",
      "  pct_change = df[-1] / df[0]\n",
      "[*********************100%%**********************]  1 of 1 completed\n",
      "C:\\Users\\Bogdan\\AppData\\Local\\Temp\\ipykernel_6088\\1143581877.py:10: FutureWarning: Series.__getitem__ treating keys as positions is deprecated. In a future version, integer keys will always be treated as labels (consistent with DataFrame behavior). To access a value by position, use `ser.iloc[pos]`\n",
      "  pct_change = df[-1] / df[0]\n",
      "[*********************100%%**********************]  1 of 1 completed\n",
      "C:\\Users\\Bogdan\\AppData\\Local\\Temp\\ipykernel_6088\\1143581877.py:10: FutureWarning: Series.__getitem__ treating keys as positions is deprecated. In a future version, integer keys will always be treated as labels (consistent with DataFrame behavior). To access a value by position, use `ser.iloc[pos]`\n",
      "  pct_change = df[-1] / df[0]\n",
      "[*********************100%%**********************]  1 of 1 completed\n",
      "C:\\Users\\Bogdan\\AppData\\Local\\Temp\\ipykernel_6088\\1143581877.py:10: FutureWarning: Series.__getitem__ treating keys as positions is deprecated. In a future version, integer keys will always be treated as labels (consistent with DataFrame behavior). To access a value by position, use `ser.iloc[pos]`\n",
      "  pct_change = df[-1] / df[0]\n",
      "[*********************100%%**********************]  1 of 1 completed\n",
      "C:\\Users\\Bogdan\\AppData\\Local\\Temp\\ipykernel_6088\\1143581877.py:10: FutureWarning: Series.__getitem__ treating keys as positions is deprecated. In a future version, integer keys will always be treated as labels (consistent with DataFrame behavior). To access a value by position, use `ser.iloc[pos]`\n",
      "  pct_change = df[-1] / df[0]\n",
      "[*********************100%%**********************]  1 of 1 completed\n",
      "\n",
      "1 Failed download:\n",
      "['DNR']: YFTzMissingError('$%ticker%: possibly delisted; No timezone found')\n",
      "[*********************100%%**********************]  1 of 1 completed\n",
      "C:\\Users\\Bogdan\\AppData\\Local\\Temp\\ipykernel_6088\\1143581877.py:10: FutureWarning: Series.__getitem__ treating keys as positions is deprecated. In a future version, integer keys will always be treated as labels (consistent with DataFrame behavior). To access a value by position, use `ser.iloc[pos]`\n",
      "  pct_change = df[-1] / df[0]\n",
      "[*********************100%%**********************]  1 of 1 completed\n",
      "C:\\Users\\Bogdan\\AppData\\Local\\Temp\\ipykernel_6088\\1143581877.py:10: FutureWarning: Series.__getitem__ treating keys as positions is deprecated. In a future version, integer keys will always be treated as labels (consistent with DataFrame behavior). To access a value by position, use `ser.iloc[pos]`\n",
      "  pct_change = df[-1] / df[0]\n",
      "[*********************100%%**********************]  1 of 1 completed\n",
      "\n",
      "1 Failed download:\n",
      "['SFLY']: YFTzMissingError('$%ticker%: possibly delisted; No timezone found')\n",
      "[*********************100%%**********************]  1 of 1 completed\n",
      "C:\\Users\\Bogdan\\AppData\\Local\\Temp\\ipykernel_6088\\1143581877.py:10: FutureWarning: Series.__getitem__ treating keys as positions is deprecated. In a future version, integer keys will always be treated as labels (consistent with DataFrame behavior). To access a value by position, use `ser.iloc[pos]`\n",
      "  pct_change = df[-1] / df[0]\n",
      "[*********************100%%**********************]  1 of 1 completed\n",
      "C:\\Users\\Bogdan\\AppData\\Local\\Temp\\ipykernel_6088\\1143581877.py:10: FutureWarning: Series.__getitem__ treating keys as positions is deprecated. In a future version, integer keys will always be treated as labels (consistent with DataFrame behavior). To access a value by position, use `ser.iloc[pos]`\n",
      "  pct_change = df[-1] / df[0]\n",
      "[*********************100%%**********************]  1 of 1 completed\n",
      "C:\\Users\\Bogdan\\AppData\\Local\\Temp\\ipykernel_6088\\1143581877.py:10: FutureWarning: Series.__getitem__ treating keys as positions is deprecated. In a future version, integer keys will always be treated as labels (consistent with DataFrame behavior). To access a value by position, use `ser.iloc[pos]`\n",
      "  pct_change = df[-1] / df[0]\n",
      "[*********************100%%**********************]  1 of 1 completed\n",
      "C:\\Users\\Bogdan\\AppData\\Local\\Temp\\ipykernel_6088\\1143581877.py:10: FutureWarning: Series.__getitem__ treating keys as positions is deprecated. In a future version, integer keys will always be treated as labels (consistent with DataFrame behavior). To access a value by position, use `ser.iloc[pos]`\n",
      "  pct_change = df[-1] / df[0]\n",
      "[*********************100%%**********************]  1 of 1 completed\n",
      "\n",
      "1 Failed download:\n",
      "['FB']: YFTzMissingError('$%ticker%: possibly delisted; No timezone found')\n",
      "[*********************100%%**********************]  1 of 1 completed\n",
      "C:\\Users\\Bogdan\\AppData\\Local\\Temp\\ipykernel_6088\\1143581877.py:10: FutureWarning: Series.__getitem__ treating keys as positions is deprecated. In a future version, integer keys will always be treated as labels (consistent with DataFrame behavior). To access a value by position, use `ser.iloc[pos]`\n",
      "  pct_change = df[-1] / df[0]\n",
      "[*********************100%%**********************]  1 of 1 completed\n",
      "C:\\Users\\Bogdan\\AppData\\Local\\Temp\\ipykernel_6088\\1143581877.py:10: FutureWarning: Series.__getitem__ treating keys as positions is deprecated. In a future version, integer keys will always be treated as labels (consistent with DataFrame behavior). To access a value by position, use `ser.iloc[pos]`\n",
      "  pct_change = df[-1] / df[0]\n",
      "[*********************100%%**********************]  1 of 1 completed\n",
      "C:\\Users\\Bogdan\\AppData\\Local\\Temp\\ipykernel_6088\\1143581877.py:10: FutureWarning: Series.__getitem__ treating keys as positions is deprecated. In a future version, integer keys will always be treated as labels (consistent with DataFrame behavior). To access a value by position, use `ser.iloc[pos]`\n",
      "  pct_change = df[-1] / df[0]\n",
      "[*********************100%%**********************]  1 of 1 completed\n",
      "C:\\Users\\Bogdan\\AppData\\Local\\Temp\\ipykernel_6088\\1143581877.py:10: FutureWarning: Series.__getitem__ treating keys as positions is deprecated. In a future version, integer keys will always be treated as labels (consistent with DataFrame behavior). To access a value by position, use `ser.iloc[pos]`\n",
      "  pct_change = df[-1] / df[0]\n",
      "[*********************100%%**********************]  1 of 1 completed\n",
      "C:\\Users\\Bogdan\\AppData\\Local\\Temp\\ipykernel_6088\\1143581877.py:10: FutureWarning: Series.__getitem__ treating keys as positions is deprecated. In a future version, integer keys will always be treated as labels (consistent with DataFrame behavior). To access a value by position, use `ser.iloc[pos]`\n",
      "  pct_change = df[-1] / df[0]\n",
      "[*********************100%%**********************]  1 of 1 completed\n",
      "\n",
      "1 Failed download:\n",
      "['BBBY']: YFTzMissingError('$%ticker%: possibly delisted; No timezone found')\n",
      "[*********************100%%**********************]  1 of 1 completed"
     ]
    },
    {
     "name": "stdout",
     "output_type": "stream",
     "text": [
      "Stock: CAH, Percentage Change: -18.99%\n",
      "Stock: CNX, Percentage Change: 12.62%\n",
      "Stock: JBL, Percentage Change: -10.09%\n",
      "Stock: BAX, Percentage Change: 31.37%\n",
      "Stock: FDX, Percentage Change: 15.51%\n",
      "Stock: SWK, Percentage Change: 5.93%\n",
      "Stock: RRC, Percentage Change: -2.16%\n",
      "Stock: LH, Percentage Change: 7.96%\n",
      "Stock: SNA, Percentage Change: 24.50%\n",
      "Stock: GT, Percentage Change: -23.18%\n",
      "Stock: CRM, Percentage Change: 74.06%\n",
      "Stock: BIIB, Percentage Change: 20.73%\n",
      "Stock: ICE, Percentage Change: 16.68%\n",
      "Stock: QDEL, Percentage Change: 104.25%\n",
      "Stock: DDS, Percentage Change: 5.94%\n",
      "Stock: AIZ, Percentage Change: 6.38%\n",
      "Stock: GNW, Percentage Change: 23.72%\n",
      "Stock: BRK-B, Percentage Change: 20.28%\n",
      "Stock: RL, Percentage Change: 75.13%\n",
      "Stock: WAT, Percentage Change: 8.87%\n",
      "Stock: PBI, Percentage Change: -40.26%\n",
      "Stock: BLK, Percentage Change: 15.23%\n",
      "Stock: DLX, Percentage Change: -21.32%\n",
      "Stock: KR, Percentage Change: 23.95%\n",
      "Stock: CI, Percentage Change: 19.65%\n",
      "Stock: AMD, Percentage Change: 119.18%\n",
      "Stock: PSA, Percentage Change: 4.84%\n",
      "Stock: AMP, Percentage Change: 4.15%\n",
      "Stock: APD, Percentage Change: 19.70%\n",
      "18.780876694262048 %\n"
     ]
    },
    {
     "name": "stderr",
     "output_type": "stream",
     "text": [
      "\n",
      "C:\\Users\\Bogdan\\AppData\\Local\\Temp\\ipykernel_6088\\1143581877.py:10: FutureWarning: Series.__getitem__ treating keys as positions is deprecated. In a future version, integer keys will always be treated as labels (consistent with DataFrame behavior). To access a value by position, use `ser.iloc[pos]`\n",
      "  pct_change = df[-1] / df[0]\n"
     ]
    }
   ],
   "source": [
    "start = dt.datetime(2017, 8, 3)\n",
    "end = dt.datetime(2018, 8, 3)\n",
    "results = []\n",
    "average = 0\n",
    "import yfinance as yf\n",
    "\n",
    "for stock in stock_symbols:\n",
    "    df = yf.download(stock, start=start, end=end)['Adj Close']\n",
    "    if len(df) > 0:\n",
    "        pct_change = df[-1] / df[0]\n",
    "        results.append((stock, pct_change))\n",
    "        average += pct_change\n",
    "\n",
    "for stock, pct_change in results:\n",
    "    print(f\"Stock: {stock}, Percentage Change: {(pct_change-1):.2%}\")\n",
    "print(f\"{(average/len(results) - 1) * 100} %\")"
   ]
  }
 ],
 "metadata": {
  "kernelspec": {
   "display_name": ".venv",
   "language": "python",
   "name": "python3"
  },
  "language_info": {
   "codemirror_mode": {
    "name": "ipython",
    "version": 3
   },
   "file_extension": ".py",
   "mimetype": "text/x-python",
   "name": "python",
   "nbconvert_exporter": "python",
   "pygments_lexer": "ipython3",
   "version": "3.10.8"
  }
 },
 "nbformat": 4,
 "nbformat_minor": 2
}
