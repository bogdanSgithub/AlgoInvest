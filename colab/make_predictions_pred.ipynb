{
 "cells": [
  {
   "cell_type": "code",
   "execution_count": 2,
   "metadata": {},
   "outputs": [],
   "source": [
    "import datetime as dt\n",
    "import pandas as pd\n",
    "import joblib"
   ]
  },
  {
   "cell_type": "code",
   "execution_count": 3,
   "metadata": {},
   "outputs": [],
   "source": [
    "df_train = pd.read_csv('training.csv', index_col='Date') # 2003 - 2013\n",
    "df_val = pd.read_csv('validation.csv', index_col='Date') # 2017/08/3\n",
    "df_pred = pd.read_csv('prediction.csv', index_col='Date') # 2024/07/23\n",
    "\n",
    "MODEL_PATH = \"model.pkl\"\n",
    "model = joblib.load(MODEL_PATH)"
   ]
  },
  {
   "cell_type": "code",
   "execution_count": 4,
   "metadata": {},
   "outputs": [
    {
     "data": {
      "text/plain": [
       "Index(['Ticker', 'Price', 'stock_p_change', 'SP500', 'SP500_p_change',\n",
       "       'Market Cap', 'Enterprise Value', 'Trailing P/E', 'Forward P/E',\n",
       "       'PEG Ratio', 'Price/Sales', 'Price/Book', 'Enterprise Value/Revenue',\n",
       "       'Enterprise Value/EBITDA', 'Profit Margin', 'Operating Margin',\n",
       "       'Return on Assets', 'Return on Equity', 'Revenue', 'Revenue Per Share',\n",
       "       'EBITDA', 'Net Income Avl to Common', 'Diluted EPS', 'Total Cash',\n",
       "       'Total Cash Per Share', 'Total Debt', 'Total Debt/Equity',\n",
       "       'Current Ratio', 'Book Value Per Share', 'Beta',\n",
       "       '50-Day Moving Average', '200-Day Moving Average', 'Avg Vol (3 month)',\n",
       "       'Shares Outstanding'],\n",
       "      dtype='object')"
      ]
     },
     "metadata": {},
     "output_type": "display_data"
    },
    {
     "data": {
      "text/plain": [
       "Index(['Ticker', 'Market Cap', 'Enterprise Value', 'Trailing P/E',\n",
       "       'Forward P/E', 'PEG Ratio', 'Price/Sales', 'Price/Book',\n",
       "       'Enterprise Value/Revenue', 'Enterprise Value/EBITDA', 'Profit Margin',\n",
       "       'Operating Margin', 'Return on Assets', 'Return on Equity', 'Revenue',\n",
       "       'Revenue Per Share', 'EBITDA', 'Net Income Avl to Common',\n",
       "       'Diluted EPS', 'Total Cash', 'Total Cash Per Share', 'Total Debt',\n",
       "       'Total Debt/Equity', 'Current Ratio', 'Book Value Per Share', 'Beta',\n",
       "       '50-Day Moving Average', '200-Day Moving Average', 'Avg Vol (3 month)',\n",
       "       'Shares Outstanding', 'Predictions'],\n",
       "      dtype='object')"
      ]
     },
     "metadata": {},
     "output_type": "display_data"
    }
   ],
   "source": [
    "display(df_train.columns)\n",
    "\n",
    "#display(df_val)\n",
    "df_pred.drop(columns=['Quarterly Revenue Growth  (yoy)', 'Operating Cash Flow  (ttm)'], inplace=True)\n",
    "\n",
    "df_pred.rename(columns={\n",
    "    'PEG Ratio (5yr expected)': 'PEG Ratio',\n",
    "    'Operating Margin  (ttm)': 'Operating Margin',\n",
    "    'Return on Assets  (ttm)': 'Return on Assets',\n",
    "    'Return on Equity  (ttm)': 'Return on Equity', \n",
    "    'Revenue  (ttm)': 'Revenue',\n",
    "    'Revenue Per Share  (ttm)': 'Revenue Per Share',\n",
    "    'Net Income Avi to Common  (ttm)': 'Net Income Avl to Common',\n",
    "    'Diluted EPS  (ttm)': 'Diluted EPS',\n",
    "    'Total Cash  (mrq)': 'Total Cash',\n",
    "    'Total Cash Per Share  (mrq)': 'Total Cash Per Share',\n",
    "    'Total Debt  (mrq)': 'Total Debt',\n",
    "    'Total Debt/Equity  (mrq)': 'Total Debt/Equity',\n",
    "    'Current Ratio  (mrq)': 'Current Ratio',\n",
    "    'Book Value Per Share  (mrq)': 'Book Value Per Share',\n",
    "    'Beta (5Y Monthly)': 'Beta',\n",
    "    '50-Day Moving Average3': '50-Day Moving Average',\n",
    "    '200-Day Moving Average3': '200-Day Moving Average',\n",
    "    'Avg Vol (3 month)3': 'Avg Vol (3 month)',\n",
    "    'Shares Outstanding5': 'Shares Outstanding'\n",
    "\n",
    "}, inplace=True)\n",
    "\n",
    "display(df_pred.columns)\n",
    "# drop Gross Profit from 1\n",
    "\n",
    "# drop 'Quarterly Revenue Growth  (yoy) from 2' 'Operating Cash Flow  (ttm)'"
   ]
  },
  {
   "cell_type": "code",
   "execution_count": 6,
   "metadata": {},
   "outputs": [
    {
     "name": "stdout",
     "output_type": "stream",
     "text": [
      "df1: Ticker df2: Ticker\n",
      "df1: Market Cap df2: Market Cap\n",
      "df1: Enterprise Value df2: Enterprise Value\n",
      "df1: Trailing P/E df2: Trailing P/E\n",
      "df1: Forward P/E df2: Forward P/E\n",
      "df1: PEG Ratio df2: PEG Ratio\n",
      "df1: Price/Sales df2: Price/Sales\n",
      "df1: Price/Book df2: Price/Book\n",
      "df1: Enterprise Value/Revenue df2: Enterprise Value/Revenue\n",
      "df1: Enterprise Value/EBITDA df2: Enterprise Value/EBITDA\n",
      "df1: Profit Margin df2: Profit Margin\n",
      "df1: Operating Margin df2: Operating Margin\n",
      "df1: Return on Assets df2: Return on Assets\n",
      "df1: Return on Equity df2: Return on Equity\n",
      "df1: Revenue df2: Revenue\n",
      "df1: Revenue Per Share df2: Revenue Per Share\n",
      "df1: EBITDA df2: EBITDA\n",
      "df1: Net Income Avl to Common df2: Net Income Avl to Common\n",
      "df1: Diluted EPS df2: Diluted EPS\n",
      "df1: Total Cash df2: Total Cash\n",
      "df1: Total Cash Per Share df2: Total Cash Per Share\n",
      "df1: Total Debt df2: Total Debt\n",
      "df1: Total Debt/Equity df2: Total Debt/Equity\n",
      "df1: Current Ratio df2: Current Ratio\n",
      "df1: Book Value Per Share df2: Book Value Per Share\n",
      "df1: Beta df2: Beta\n",
      "df1: 50-Day Moving Average df2: 50-Day Moving Average\n",
      "df1: 200-Day Moving Average df2: 200-Day Moving Average\n",
      "df1: Avg Vol (3 month) df2: Avg Vol (3 month)\n",
      "df1: Shares Outstanding df2: Shares Outstanding\n"
     ]
    }
   ],
   "source": [
    "df1_columns = [col for i, col in enumerate(df_train.columns) if i not in [1, 2, 3, 4]]\n",
    "df2_columns = [col for i, col in enumerate(df_pred.columns) if i not in []]\n",
    "\n",
    "for col1, col2 in zip(df1_columns, df2_columns):\n",
    "    print(f\"df1: {col1} df2: {col2}\")"
   ]
  },
  {
   "cell_type": "code",
   "execution_count": 9,
   "metadata": {},
   "outputs": [],
   "source": [
    "X = df_pred.iloc[:, 1:]"
   ]
  },
  {
   "cell_type": "code",
   "execution_count": 10,
   "metadata": {},
   "outputs": [],
   "source": [
    "predictions = model.predict(X)"
   ]
  },
  {
   "cell_type": "code",
   "execution_count": 11,
   "metadata": {},
   "outputs": [],
   "source": [
    "preds = pd.Series(predictions, name='Predictions')\n",
    "#X_original = pd.DataFrame(scaler.inverse_transform(X), columns=X.columns)\n",
    "merged = pd.concat([df_pred.reset_index(drop=True), preds.reset_index(drop=True)], axis=1)\n",
    "\n",
    "stock_symbols = merged[merged['Predictions'] == True]['Ticker'].to_list()"
   ]
  },
  {
   "cell_type": "code",
   "execution_count": 12,
   "metadata": {},
   "outputs": [
    {
     "name": "stderr",
     "output_type": "stream",
     "text": [
      "[*********************100%%**********************]  1 of 1 completed\n",
      "C:\\Users\\Bogdan\\AppData\\Local\\Temp\\ipykernel_22652\\458884508.py:10: FutureWarning: Series.__getitem__ treating keys as positions is deprecated. In a future version, integer keys will always be treated as labels (consistent with DataFrame behavior). To access a value by position, use `ser.iloc[pos]`\n",
      "  pct_change = df[-1] / df[0]\n",
      "[*********************100%%**********************]  1 of 1 completed\n",
      "C:\\Users\\Bogdan\\AppData\\Local\\Temp\\ipykernel_22652\\458884508.py:10: FutureWarning: Series.__getitem__ treating keys as positions is deprecated. In a future version, integer keys will always be treated as labels (consistent with DataFrame behavior). To access a value by position, use `ser.iloc[pos]`\n",
      "  pct_change = df[-1] / df[0]\n",
      "[*********************100%%**********************]  1 of 1 completed\n",
      "C:\\Users\\Bogdan\\AppData\\Local\\Temp\\ipykernel_22652\\458884508.py:10: FutureWarning: Series.__getitem__ treating keys as positions is deprecated. In a future version, integer keys will always be treated as labels (consistent with DataFrame behavior). To access a value by position, use `ser.iloc[pos]`\n",
      "  pct_change = df[-1] / df[0]\n",
      "[*********************100%%**********************]  1 of 1 completed\n",
      "C:\\Users\\Bogdan\\AppData\\Local\\Temp\\ipykernel_22652\\458884508.py:10: FutureWarning: Series.__getitem__ treating keys as positions is deprecated. In a future version, integer keys will always be treated as labels (consistent with DataFrame behavior). To access a value by position, use `ser.iloc[pos]`\n",
      "  pct_change = df[-1] / df[0]\n",
      "[*********************100%%**********************]  1 of 1 completed\n",
      "C:\\Users\\Bogdan\\AppData\\Local\\Temp\\ipykernel_22652\\458884508.py:10: FutureWarning: Series.__getitem__ treating keys as positions is deprecated. In a future version, integer keys will always be treated as labels (consistent with DataFrame behavior). To access a value by position, use `ser.iloc[pos]`\n",
      "  pct_change = df[-1] / df[0]\n",
      "[*********************100%%**********************]  1 of 1 completed\n",
      "C:\\Users\\Bogdan\\AppData\\Local\\Temp\\ipykernel_22652\\458884508.py:10: FutureWarning: Series.__getitem__ treating keys as positions is deprecated. In a future version, integer keys will always be treated as labels (consistent with DataFrame behavior). To access a value by position, use `ser.iloc[pos]`\n",
      "  pct_change = df[-1] / df[0]\n",
      "[*********************100%%**********************]  1 of 1 completed\n",
      "C:\\Users\\Bogdan\\AppData\\Local\\Temp\\ipykernel_22652\\458884508.py:10: FutureWarning: Series.__getitem__ treating keys as positions is deprecated. In a future version, integer keys will always be treated as labels (consistent with DataFrame behavior). To access a value by position, use `ser.iloc[pos]`\n",
      "  pct_change = df[-1] / df[0]\n",
      "[*********************100%%**********************]  1 of 1 completed\n",
      "C:\\Users\\Bogdan\\AppData\\Local\\Temp\\ipykernel_22652\\458884508.py:10: FutureWarning: Series.__getitem__ treating keys as positions is deprecated. In a future version, integer keys will always be treated as labels (consistent with DataFrame behavior). To access a value by position, use `ser.iloc[pos]`\n",
      "  pct_change = df[-1] / df[0]\n",
      "[*********************100%%**********************]  1 of 1 completed\n",
      "C:\\Users\\Bogdan\\AppData\\Local\\Temp\\ipykernel_22652\\458884508.py:10: FutureWarning: Series.__getitem__ treating keys as positions is deprecated. In a future version, integer keys will always be treated as labels (consistent with DataFrame behavior). To access a value by position, use `ser.iloc[pos]`\n",
      "  pct_change = df[-1] / df[0]\n",
      "[*********************100%%**********************]  1 of 1 completed\n",
      "C:\\Users\\Bogdan\\AppData\\Local\\Temp\\ipykernel_22652\\458884508.py:10: FutureWarning: Series.__getitem__ treating keys as positions is deprecated. In a future version, integer keys will always be treated as labels (consistent with DataFrame behavior). To access a value by position, use `ser.iloc[pos]`\n",
      "  pct_change = df[-1] / df[0]\n",
      "[*********************100%%**********************]  1 of 1 completed\n",
      "C:\\Users\\Bogdan\\AppData\\Local\\Temp\\ipykernel_22652\\458884508.py:10: FutureWarning: Series.__getitem__ treating keys as positions is deprecated. In a future version, integer keys will always be treated as labels (consistent with DataFrame behavior). To access a value by position, use `ser.iloc[pos]`\n",
      "  pct_change = df[-1] / df[0]\n",
      "[*********************100%%**********************]  1 of 1 completed\n",
      "C:\\Users\\Bogdan\\AppData\\Local\\Temp\\ipykernel_22652\\458884508.py:10: FutureWarning: Series.__getitem__ treating keys as positions is deprecated. In a future version, integer keys will always be treated as labels (consistent with DataFrame behavior). To access a value by position, use `ser.iloc[pos]`\n",
      "  pct_change = df[-1] / df[0]\n",
      "[*********************100%%**********************]  1 of 1 completed\n",
      "C:\\Users\\Bogdan\\AppData\\Local\\Temp\\ipykernel_22652\\458884508.py:10: FutureWarning: Series.__getitem__ treating keys as positions is deprecated. In a future version, integer keys will always be treated as labels (consistent with DataFrame behavior). To access a value by position, use `ser.iloc[pos]`\n",
      "  pct_change = df[-1] / df[0]\n",
      "[*********************100%%**********************]  1 of 1 completed\n",
      "C:\\Users\\Bogdan\\AppData\\Local\\Temp\\ipykernel_22652\\458884508.py:10: FutureWarning: Series.__getitem__ treating keys as positions is deprecated. In a future version, integer keys will always be treated as labels (consistent with DataFrame behavior). To access a value by position, use `ser.iloc[pos]`\n",
      "  pct_change = df[-1] / df[0]\n",
      "[*********************100%%**********************]  1 of 1 completed\n",
      "C:\\Users\\Bogdan\\AppData\\Local\\Temp\\ipykernel_22652\\458884508.py:10: FutureWarning: Series.__getitem__ treating keys as positions is deprecated. In a future version, integer keys will always be treated as labels (consistent with DataFrame behavior). To access a value by position, use `ser.iloc[pos]`\n",
      "  pct_change = df[-1] / df[0]\n",
      "[*********************100%%**********************]  1 of 1 completed\n",
      "C:\\Users\\Bogdan\\AppData\\Local\\Temp\\ipykernel_22652\\458884508.py:10: FutureWarning: Series.__getitem__ treating keys as positions is deprecated. In a future version, integer keys will always be treated as labels (consistent with DataFrame behavior). To access a value by position, use `ser.iloc[pos]`\n",
      "  pct_change = df[-1] / df[0]\n",
      "[*********************100%%**********************]  1 of 1 completed\n",
      "C:\\Users\\Bogdan\\AppData\\Local\\Temp\\ipykernel_22652\\458884508.py:10: FutureWarning: Series.__getitem__ treating keys as positions is deprecated. In a future version, integer keys will always be treated as labels (consistent with DataFrame behavior). To access a value by position, use `ser.iloc[pos]`\n",
      "  pct_change = df[-1] / df[0]\n",
      "[*********************100%%**********************]  1 of 1 completed\n",
      "C:\\Users\\Bogdan\\AppData\\Local\\Temp\\ipykernel_22652\\458884508.py:10: FutureWarning: Series.__getitem__ treating keys as positions is deprecated. In a future version, integer keys will always be treated as labels (consistent with DataFrame behavior). To access a value by position, use `ser.iloc[pos]`\n",
      "  pct_change = df[-1] / df[0]\n",
      "[*********************100%%**********************]  1 of 1 completed\n",
      "C:\\Users\\Bogdan\\AppData\\Local\\Temp\\ipykernel_22652\\458884508.py:10: FutureWarning: Series.__getitem__ treating keys as positions is deprecated. In a future version, integer keys will always be treated as labels (consistent with DataFrame behavior). To access a value by position, use `ser.iloc[pos]`\n",
      "  pct_change = df[-1] / df[0]\n",
      "[*********************100%%**********************]  1 of 1 completed\n",
      "C:\\Users\\Bogdan\\AppData\\Local\\Temp\\ipykernel_22652\\458884508.py:10: FutureWarning: Series.__getitem__ treating keys as positions is deprecated. In a future version, integer keys will always be treated as labels (consistent with DataFrame behavior). To access a value by position, use `ser.iloc[pos]`\n",
      "  pct_change = df[-1] / df[0]\n",
      "[*********************100%%**********************]  1 of 1 completed\n",
      "C:\\Users\\Bogdan\\AppData\\Local\\Temp\\ipykernel_22652\\458884508.py:10: FutureWarning: Series.__getitem__ treating keys as positions is deprecated. In a future version, integer keys will always be treated as labels (consistent with DataFrame behavior). To access a value by position, use `ser.iloc[pos]`\n",
      "  pct_change = df[-1] / df[0]\n",
      "[*********************100%%**********************]  1 of 1 completed\n",
      "C:\\Users\\Bogdan\\AppData\\Local\\Temp\\ipykernel_22652\\458884508.py:10: FutureWarning: Series.__getitem__ treating keys as positions is deprecated. In a future version, integer keys will always be treated as labels (consistent with DataFrame behavior). To access a value by position, use `ser.iloc[pos]`\n",
      "  pct_change = df[-1] / df[0]\n",
      "[*********************100%%**********************]  1 of 1 completed\n",
      "C:\\Users\\Bogdan\\AppData\\Local\\Temp\\ipykernel_22652\\458884508.py:10: FutureWarning: Series.__getitem__ treating keys as positions is deprecated. In a future version, integer keys will always be treated as labels (consistent with DataFrame behavior). To access a value by position, use `ser.iloc[pos]`\n",
      "  pct_change = df[-1] / df[0]\n",
      "[*********************100%%**********************]  1 of 1 completed\n",
      "C:\\Users\\Bogdan\\AppData\\Local\\Temp\\ipykernel_22652\\458884508.py:10: FutureWarning: Series.__getitem__ treating keys as positions is deprecated. In a future version, integer keys will always be treated as labels (consistent with DataFrame behavior). To access a value by position, use `ser.iloc[pos]`\n",
      "  pct_change = df[-1] / df[0]\n",
      "[*********************100%%**********************]  1 of 1 completed"
     ]
    },
    {
     "name": "stdout",
     "output_type": "stream",
     "text": [
      "Stock: APD, Percentage Change: 7.76%\n",
      "Stock: COR, Percentage Change: 6.24%\n",
      "Stock: CPAY, Percentage Change: 2.96%\n",
      "Stock: CSGP, Percentage Change: 2.87%\n",
      "Stock: CRWD, Percentage Change: 0.99%\n",
      "Stock: DHI, Percentage Change: 8.81%\n",
      "Stock: ETN, Percentage Change: -6.50%\n",
      "Stock: FFIV, Percentage Change: 14.51%\n",
      "Stock: FSLR, Percentage Change: 3.61%\n",
      "Stock: IVZ, Percentage Change: 3.64%\n",
      "Stock: LHX, Percentage Change: -3.89%\n",
      "Stock: LRCX, Percentage Change: -11.70%\n",
      "Stock: LEN, Percentage Change: 7.16%\n",
      "Stock: LULU, Percentage Change: -4.56%\n",
      "Stock: RL, Percentage Change: 4.53%\n",
      "Stock: RMD, Percentage Change: 8.42%\n",
      "Stock: SPGI, Percentage Change: 1.02%\n",
      "Stock: SNA, Percentage Change: 4.00%\n",
      "Stock: LUV, Percentage Change: 3.68%\n",
      "Stock: TEL, Percentage Change: 1.55%\n",
      "Stock: ULTA, Percentage Change: -2.73%\n",
      "Stock: VRTX, Percentage Change: -1.85%\n",
      "Stock: GWW, Percentage Change: 3.47%\n",
      "Stock: WBA, Percentage Change: -6.09%\n",
      "Stock: WTW, Percentage Change: 5.65%\n",
      "2.141768606962846 %\n"
     ]
    },
    {
     "name": "stderr",
     "output_type": "stream",
     "text": [
      "\n",
      "C:\\Users\\Bogdan\\AppData\\Local\\Temp\\ipykernel_22652\\458884508.py:10: FutureWarning: Series.__getitem__ treating keys as positions is deprecated. In a future version, integer keys will always be treated as labels (consistent with DataFrame behavior). To access a value by position, use `ser.iloc[pos]`\n",
      "  pct_change = df[-1] / df[0]\n"
     ]
    }
   ],
   "source": [
    "start = dt.datetime(2024, 7, 23)\n",
    "end = dt.datetime.now()\n",
    "results = []\n",
    "average = 0\n",
    "import yfinance as yf\n",
    "\n",
    "for stock in stock_symbols:\n",
    "    df = yf.download(stock, start=start, end=end)['Adj Close']\n",
    "    if len(df) > 0:\n",
    "        pct_change = df[-1] / df[0]\n",
    "        results.append((stock, pct_change))\n",
    "        average += pct_change\n",
    "\n",
    "for stock, pct_change in results:\n",
    "    print(f\"Stock: {stock}, Percentage Change: {(pct_change-1):.2%}\")\n",
    "print(f\"{(average/len(results) - 1) * 100} %\")"
   ]
  },
  {
   "cell_type": "code",
   "execution_count": 14,
   "metadata": {},
   "outputs": [],
   "source": [
    "merged.to_csv('final.csv')"
   ]
  }
 ],
 "metadata": {
  "kernelspec": {
   "display_name": ".venv",
   "language": "python",
   "name": "python3"
  },
  "language_info": {
   "codemirror_mode": {
    "name": "ipython",
    "version": 3
   },
   "file_extension": ".py",
   "mimetype": "text/x-python",
   "name": "python",
   "nbconvert_exporter": "python",
   "pygments_lexer": "ipython3",
   "version": "3.10.8"
  }
 },
 "nbformat": 4,
 "nbformat_minor": 2
}
