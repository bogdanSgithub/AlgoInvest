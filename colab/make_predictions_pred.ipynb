{
 "cells": [
  {
   "cell_type": "code",
   "execution_count": 2,
   "metadata": {},
   "outputs": [],
   "source": [
    "import datetime as dt\n",
    "import pandas as pd\n",
    "import joblib"
   ]
  },
  {
   "cell_type": "code",
   "execution_count": 3,
   "metadata": {},
   "outputs": [],
   "source": [
    "df_train = pd.read_csv('training.csv', index_col='Date') # 2003 - 2013\n",
    "df_val = pd.read_csv('validation.csv', index_col='Date') # 2017/08/3\n",
    "df_pred = pd.read_csv('prediction.csv', index_col='Date') # 2024/07/23\n",
    "\n",
    "MODEL_PATH = \"model.pkl\"\n",
    "model = joblib.load(MODEL_PATH)"
   ]
  },
  {
   "cell_type": "code",
   "execution_count": 4,
   "metadata": {},
   "outputs": [
    {
     "data": {
      "text/plain": [
       "Index(['Ticker', 'Price', 'stock_p_change', 'SP500', 'SP500_p_change',\n",
       "       'Market Cap', 'Enterprise Value', 'Trailing P/E', 'Forward P/E',\n",
       "       'PEG Ratio', 'Price/Sales', 'Price/Book', 'Enterprise Value/Revenue',\n",
       "       'Enterprise Value/EBITDA', 'Profit Margin', 'Operating Margin',\n",
       "       'Return on Assets', 'Return on Equity', 'Revenue', 'Revenue Per Share',\n",
       "       'EBITDA', 'Net Income Avl to Common', 'Diluted EPS', 'Total Cash',\n",
       "       'Total Cash Per Share', 'Total Debt', 'Total Debt/Equity',\n",
       "       'Current Ratio', 'Book Value Per Share', 'Beta',\n",
       "       '50-Day Moving Average', '200-Day Moving Average', 'Avg Vol (3 month)',\n",
       "       'Shares Outstanding'],\n",
       "      dtype='object')"
      ]
     },
     "metadata": {},
     "output_type": "display_data"
    },
    {
     "data": {
      "text/plain": [
       "Index(['Ticker', 'Market Cap', 'Enterprise Value', 'Trailing P/E',\n",
       "       'Forward P/E', 'PEG Ratio', 'Price/Sales', 'Price/Book',\n",
       "       'Enterprise Value/Revenue', 'Enterprise Value/EBITDA', 'Profit Margin',\n",
       "       'Operating Margin', 'Return on Assets', 'Return on Equity', 'Revenue',\n",
       "       'Revenue Per Share', 'EBITDA', 'Net Income Avl to Common',\n",
       "       'Diluted EPS', 'Total Cash', 'Total Cash Per Share', 'Total Debt',\n",
       "       'Total Debt/Equity', 'Current Ratio', 'Book Value Per Share', 'Beta',\n",
       "       '50-Day Moving Average', '200-Day Moving Average', 'Avg Vol (3 month)',\n",
       "       'Shares Outstanding', 'Predictions'],\n",
       "      dtype='object')"
      ]
     },
     "metadata": {},
     "output_type": "display_data"
    }
   ],
   "source": [
    "# no need to run this now, this was code to setup the csv file\n",
    "display(df_train.columns)\n",
    "\n",
    "#display(df_val)\n",
    "df_pred.drop(columns=['Quarterly Revenue Growth  (yoy)', 'Operating Cash Flow  (ttm)'], inplace=True)\n",
    "\n",
    "df_pred.rename(columns={\n",
    "    'PEG Ratio (5yr expected)': 'PEG Ratio',\n",
    "    'Operating Margin  (ttm)': 'Operating Margin',\n",
    "    'Return on Assets  (ttm)': 'Return on Assets',\n",
    "    'Return on Equity  (ttm)': 'Return on Equity', \n",
    "    'Revenue  (ttm)': 'Revenue',\n",
    "    'Revenue Per Share  (ttm)': 'Revenue Per Share',\n",
    "    'Net Income Avi to Common  (ttm)': 'Net Income Avl to Common',\n",
    "    'Diluted EPS  (ttm)': 'Diluted EPS',\n",
    "    'Total Cash  (mrq)': 'Total Cash',\n",
    "    'Total Cash Per Share  (mrq)': 'Total Cash Per Share',\n",
    "    'Total Debt  (mrq)': 'Total Debt',\n",
    "    'Total Debt/Equity  (mrq)': 'Total Debt/Equity',\n",
    "    'Current Ratio  (mrq)': 'Current Ratio',\n",
    "    'Book Value Per Share  (mrq)': 'Book Value Per Share',\n",
    "    'Beta (5Y Monthly)': 'Beta',\n",
    "    '50-Day Moving Average3': '50-Day Moving Average',\n",
    "    '200-Day Moving Average3': '200-Day Moving Average',\n",
    "    'Avg Vol (3 month)3': 'Avg Vol (3 month)',\n",
    "    'Shares Outstanding5': 'Shares Outstanding'\n",
    "\n",
    "}, inplace=True)\n",
    "\n",
    "display(df_pred.columns)\n",
    "\n",
    "df1_columns = [col for i, col in enumerate(df_train.columns) if i not in [1, 2, 3, 4]]\n",
    "df2_columns = [col for i, col in enumerate(df_pred.columns) if i not in []]\n",
    "\n",
    "for col1, col2 in zip(df1_columns, df2_columns):\n",
    "    print(f\"df1: {col1} df2: {col2}\")"
   ]
  },
  {
   "cell_type": "code",
   "execution_count": 4,
   "metadata": {},
   "outputs": [],
   "source": [
    "X = df_pred.iloc[:, 1:]"
   ]
  },
  {
   "cell_type": "code",
   "execution_count": 5,
   "metadata": {},
   "outputs": [],
   "source": [
    "predictions = model.predict(X)"
   ]
  },
  {
   "cell_type": "code",
   "execution_count": 6,
   "metadata": {},
   "outputs": [],
   "source": [
    "preds = pd.Series(predictions, name='Predictions')\n",
    "#X_original = pd.DataFrame(scaler.inverse_transform(X), columns=X.columns)\n",
    "merged = pd.concat([df_pred.reset_index(drop=True), preds.reset_index(drop=True)], axis=1)\n",
    "\n",
    "stock_symbols = merged[merged['Predictions'] == True]['Ticker'].to_list()"
   ]
  },
  {
   "cell_type": "code",
   "execution_count": 11,
   "metadata": {},
   "outputs": [
    {
     "name": "stderr",
     "output_type": "stream",
     "text": [
      "[*********************100%%**********************]  1 of 1 completed"
     ]
    },
    {
     "name": "stdout",
     "output_type": "stream",
     "text": [
      "Stock: SPY, Percentage Change: 1.51%\n",
      "1.5078145011006017 %\n"
     ]
    },
    {
     "name": "stderr",
     "output_type": "stream",
     "text": [
      "\n",
      "C:\\Users\\Bogdan\\AppData\\Local\\Temp\\ipykernel_10620\\3167201161.py:10: FutureWarning: Series.__getitem__ treating keys as positions is deprecated. In a future version, integer keys will always be treated as labels (consistent with DataFrame behavior). To access a value by position, use `ser.iloc[pos]`\n",
      "  pct_change = df[-1] / df[0]\n"
     ]
    }
   ],
   "source": [
    "start = dt.datetime(2024, 7, 23)\n",
    "end = dt.datetime.now()\n",
    "results = []\n",
    "average = 0\n",
    "import yfinance as yf\n",
    "\n",
    "for stock in ['SPY']:\n",
    "    df = yf.download(stock, start=start, end=end)['Adj Close']\n",
    "    if len(df) > 0:\n",
    "        pct_change = df[-1] / df[0]\n",
    "        results.append((stock, pct_change))\n",
    "        average += pct_change\n",
    "\n",
    "for stock, pct_change in results:\n",
    "    print(f\"Stock: {stock}, Percentage Change: {(pct_change-1):.2%}\")\n",
    "print(f\"{(average/len(results) - 1) * 100} %\")"
   ]
  },
  {
   "cell_type": "code",
   "execution_count": 14,
   "metadata": {},
   "outputs": [],
   "source": [
    "merged.to_csv('final.csv')"
   ]
  }
 ],
 "metadata": {
  "kernelspec": {
   "display_name": ".venv",
   "language": "python",
   "name": "python3"
  },
  "language_info": {
   "codemirror_mode": {
    "name": "ipython",
    "version": 3
   },
   "file_extension": ".py",
   "mimetype": "text/x-python",
   "name": "python",
   "nbconvert_exporter": "python",
   "pygments_lexer": "ipython3",
   "version": "3.10.8"
  }
 },
 "nbformat": 4,
 "nbformat_minor": 2
}
