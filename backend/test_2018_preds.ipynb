{
 "cells": [
  {
   "cell_type": "code",
   "execution_count": 22,
   "metadata": {},
   "outputs": [],
   "source": [
    "import yfinance as yf\n",
    "import datetime as dt\n",
    "import pandas as pd"
   ]
  },
  {
   "cell_type": "code",
   "execution_count": 23,
   "metadata": {},
   "outputs": [],
   "source": [
    "df = pd.read_csv('data/test.csv')"
   ]
  },
  {
   "cell_type": "code",
   "execution_count": 27,
   "metadata": {},
   "outputs": [
    {
     "data": {
      "text/html": [
       "<div>\n",
       "<style scoped>\n",
       "    .dataframe tbody tr th:only-of-type {\n",
       "        vertical-align: middle;\n",
       "    }\n",
       "\n",
       "    .dataframe tbody tr th {\n",
       "        vertical-align: top;\n",
       "    }\n",
       "\n",
       "    .dataframe thead th {\n",
       "        text-align: right;\n",
       "    }\n",
       "</style>\n",
       "<table border=\"1\" class=\"dataframe\">\n",
       "  <thead>\n",
       "    <tr style=\"text-align: right;\">\n",
       "      <th></th>\n",
       "      <th>Date</th>\n",
       "      <th>Unix</th>\n",
       "      <th>Ticker</th>\n",
       "      <th>Price</th>\n",
       "      <th>stock_p_change</th>\n",
       "      <th>SP500</th>\n",
       "      <th>SP500_p_change</th>\n",
       "      <th>Market Cap</th>\n",
       "      <th>Enterprise Value</th>\n",
       "      <th>Trailing P/E</th>\n",
       "      <th>...</th>\n",
       "      <th>200-Day Moving Average</th>\n",
       "      <th>Avg Vol (3 month)</th>\n",
       "      <th>Shares Outstanding</th>\n",
       "      <th>Float</th>\n",
       "      <th>% Held by Insiders</th>\n",
       "      <th>% Held by Institutions</th>\n",
       "      <th>Shares Short</th>\n",
       "      <th>Short Ratio</th>\n",
       "      <th>Short % of Float</th>\n",
       "      <th>Shares Short (prior month</th>\n",
       "    </tr>\n",
       "  </thead>\n",
       "  <tbody>\n",
       "    <tr>\n",
       "      <th>368</th>\n",
       "      <td>0</td>\n",
       "      <td>0</td>\n",
       "      <td>MSFT</td>\n",
       "      <td>0</td>\n",
       "      <td>0</td>\n",
       "      <td>0</td>\n",
       "      <td>0</td>\n",
       "      <td>8.322300e+11</td>\n",
       "      <td>8.136800e+11</td>\n",
       "      <td>50.95</td>\n",
       "      <td>...</td>\n",
       "      <td>102.83</td>\n",
       "      <td>24490000.0</td>\n",
       "      <td>7.670000e+09</td>\n",
       "      <td>7.560000e+09</td>\n",
       "      <td>1.39</td>\n",
       "      <td>74.57</td>\n",
       "      <td>43070000.0</td>\n",
       "      <td>1.99</td>\n",
       "      <td>0.57</td>\n",
       "      <td>44630000.0</td>\n",
       "    </tr>\n",
       "  </tbody>\n",
       "</table>\n",
       "<p>1 rows × 48 columns</p>\n",
       "</div>"
      ],
      "text/plain": [
       "     Date  Unix Ticker  Price  stock_p_change  SP500  SP500_p_change  \\\n",
       "368     0     0   MSFT      0               0      0               0   \n",
       "\n",
       "       Market Cap  Enterprise Value  Trailing P/E  ...  \\\n",
       "368  8.322300e+11      8.136800e+11         50.95  ...   \n",
       "\n",
       "     200-Day Moving Average  Avg Vol (3 month)  Shares Outstanding  \\\n",
       "368                  102.83         24490000.0        7.670000e+09   \n",
       "\n",
       "            Float  % Held by Insiders  % Held by Institutions  Shares Short  \\\n",
       "368  7.560000e+09                1.39                   74.57    43070000.0   \n",
       "\n",
       "     Short Ratio  Short % of Float  Shares Short (prior month  \n",
       "368         1.99              0.57                 44630000.0  \n",
       "\n",
       "[1 rows x 48 columns]"
      ]
     },
     "execution_count": 27,
     "metadata": {},
     "output_type": "execute_result"
    }
   ],
   "source": [
    "df[df.Ticker == 'MSFT']"
   ]
  },
  {
   "cell_type": "code",
   "execution_count": 21,
   "metadata": {},
   "outputs": [
    {
     "name": "stderr",
     "output_type": "stream",
     "text": [
      "[*********************100%%**********************]  1 of 1 completed"
     ]
    },
    {
     "name": "stdout",
     "output_type": "stream",
     "text": [
      "Stock: SPY, Percentage Change: 121.65%\n",
      "1.2164591240753069\n"
     ]
    },
    {
     "name": "stderr",
     "output_type": "stream",
     "text": [
      "\n",
      "C:\\Users\\Bogdan\\AppData\\Local\\Temp\\ipykernel_25216\\3344478694.py:15: FutureWarning: Series.__getitem__ treating keys as positions is deprecated. In a future version, integer keys will always be treated as labels (consistent with DataFrame behavior). To access a value by position, use `ser.iloc[pos]`\n",
      "  pct_change = df[-1] / df[0]\n"
     ]
    }
   ],
   "source": [
    "stock_symbols = [\n",
    "    'ABC', 'LSI', 'TRV', 'IP', 'PH', 'OI', 'BAX', 'FDX', 'INTU', 'SWK',\n",
    "    'WGO', 'DGX', 'LH', 'SNA', 'GT', 'BIIB', 'DHI', 'BWA', 'GES', 'GNW',\n",
    "    'DNR', 'LLL', 'LYB', 'R', 'PBI', 'BLK', 'DLX', 'DIS', 'GTN', 'AMP',\n",
    "    'LMT', 'LM', 'PHM', 'APD'\n",
    "]\n",
    "start = dt.datetime(2017, 1, 3)\n",
    "end = dt.datetime(2018, 1, 3)\n",
    "results = []\n",
    "average = 0\n",
    "\n",
    "for stock in ['SPY']:\n",
    "    df = yf.download(stock, start=start, end=end)['Adj Close']\n",
    "    if len(df) > 0:\n",
    "        pct_change = df[-1] / df[0]\n",
    "        #print(f'start price {df[0]}')\n",
    "        #print(f'end price {df[-1]}')\n",
    "        results.append((stock, pct_change))\n",
    "        average += pct_change\n",
    "        #print(stock, pct_change)\n",
    "\n",
    "for stock, pct_change in results:\n",
    "    print(f\"Stock: {stock}, Percentage Change: {pct_change:.2%}\")\n",
    "print(average/len(results))"
   ]
  }
 ],
 "metadata": {
  "kernelspec": {
   "display_name": ".venv",
   "language": "python",
   "name": "python3"
  },
  "language_info": {
   "codemirror_mode": {
    "name": "ipython",
    "version": 3
   },
   "file_extension": ".py",
   "mimetype": "text/x-python",
   "name": "python",
   "nbconvert_exporter": "python",
   "pygments_lexer": "ipython3",
   "version": "3.10.8"
  }
 },
 "nbformat": 4,
 "nbformat_minor": 2
}
