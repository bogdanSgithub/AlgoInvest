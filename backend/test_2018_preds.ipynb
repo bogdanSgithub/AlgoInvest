{
 "cells": [
  {
   "cell_type": "code",
   "execution_count": 35,
   "metadata": {},
   "outputs": [],
   "source": [
    "import yfinance as yf\n",
    "import datetime as dt\n",
    "import pandas as pd"
   ]
  },
  {
   "cell_type": "code",
   "execution_count": 36,
   "metadata": {},
   "outputs": [],
   "source": [
    "df = pd.read_csv('data/test.csv')\n",
    "df = df[['Ticker', 'Market Cap', 'Diluted EPS', 'Shares Outstanding']]\n",
    "# date is august 2017"
   ]
  },
  {
   "cell_type": "code",
   "execution_count": 37,
   "metadata": {},
   "outputs": [
    {
     "data": {
      "text/html": [
       "<div>\n",
       "<style scoped>\n",
       "    .dataframe tbody tr th:only-of-type {\n",
       "        vertical-align: middle;\n",
       "    }\n",
       "\n",
       "    .dataframe tbody tr th {\n",
       "        vertical-align: top;\n",
       "    }\n",
       "\n",
       "    .dataframe thead th {\n",
       "        text-align: right;\n",
       "    }\n",
       "</style>\n",
       "<table border=\"1\" class=\"dataframe\">\n",
       "  <thead>\n",
       "    <tr style=\"text-align: right;\">\n",
       "      <th></th>\n",
       "      <th>Ticker</th>\n",
       "      <th>Market Cap</th>\n",
       "      <th>Diluted EPS</th>\n",
       "      <th>Shares Outstanding</th>\n",
       "    </tr>\n",
       "  </thead>\n",
       "  <tbody>\n",
       "    <tr>\n",
       "      <th>43</th>\n",
       "      <td>NVDA</td>\n",
       "      <td>$154.91B</td>\n",
       "      <td>6.861</td>\n",
       "      <td>6.080000e+08</td>\n",
       "    </tr>\n",
       "    <tr>\n",
       "      <th>119</th>\n",
       "      <td>ADBE</td>\n",
       "      <td>$118.69B</td>\n",
       "      <td>4.840</td>\n",
       "      <td>4.881300e+08</td>\n",
       "    </tr>\n",
       "    <tr>\n",
       "      <th>156</th>\n",
       "      <td>GOOG</td>\n",
       "      <td>$777.27B</td>\n",
       "      <td>23.160</td>\n",
       "      <td>3.498800e+08</td>\n",
       "    </tr>\n",
       "    <tr>\n",
       "      <th>306</th>\n",
       "      <td>JPM</td>\n",
       "      <td>$380.73B</td>\n",
       "      <td>7.470</td>\n",
       "      <td>3.360000e+09</td>\n",
       "    </tr>\n",
       "    <tr>\n",
       "      <th>329</th>\n",
       "      <td>LLY</td>\n",
       "      <td>$114.43B</td>\n",
       "      <td>-0.140</td>\n",
       "      <td>9.975000e+08</td>\n",
       "    </tr>\n",
       "    <tr>\n",
       "      <th>354</th>\n",
       "      <td>BRK-B</td>\n",
       "      <td>$534.85B</td>\n",
       "      <td>19.250</td>\n",
       "      <td>1.360000e+09</td>\n",
       "    </tr>\n",
       "    <tr>\n",
       "      <th>368</th>\n",
       "      <td>MSFT</td>\n",
       "      <td>$832.23B</td>\n",
       "      <td>2.130</td>\n",
       "      <td>7.670000e+09</td>\n",
       "    </tr>\n",
       "    <tr>\n",
       "      <th>390</th>\n",
       "      <td>NFLX</td>\n",
       "      <td>$146.42B</td>\n",
       "      <td>2.203</td>\n",
       "      <td>4.354600e+08</td>\n",
       "    </tr>\n",
       "    <tr>\n",
       "      <th>452</th>\n",
       "      <td>FB</td>\n",
       "      <td>$448.01B</td>\n",
       "      <td>6.460</td>\n",
       "      <td>2.410000e+09</td>\n",
       "    </tr>\n",
       "    <tr>\n",
       "      <th>466</th>\n",
       "      <td>PEP</td>\n",
       "      <td>$153.61B</td>\n",
       "      <td>3.470</td>\n",
       "      <td>1.410000e+09</td>\n",
       "    </tr>\n",
       "  </tbody>\n",
       "</table>\n",
       "</div>"
      ],
      "text/plain": [
       "    Ticker Market Cap  Diluted EPS  Shares Outstanding\n",
       "43    NVDA   $154.91B        6.861        6.080000e+08\n",
       "119   ADBE   $118.69B        4.840        4.881300e+08\n",
       "156   GOOG   $777.27B       23.160        3.498800e+08\n",
       "306    JPM   $380.73B        7.470        3.360000e+09\n",
       "329    LLY   $114.43B       -0.140        9.975000e+08\n",
       "354  BRK-B   $534.85B       19.250        1.360000e+09\n",
       "368   MSFT   $832.23B        2.130        7.670000e+09\n",
       "390   NFLX   $146.42B        2.203        4.354600e+08\n",
       "452     FB   $448.01B        6.460        2.410000e+09\n",
       "466    PEP   $153.61B        3.470        1.410000e+09"
      ]
     },
     "execution_count": 37,
     "metadata": {},
     "output_type": "execute_result"
    }
   ],
   "source": [
    "\n",
    "df['Market Cap'] = pd.to_numeric(df['Market Cap'], errors='coerce')\n",
    "\n",
    "# Format the 'Market Cap' to display in billions with two decimal places\n",
    "#df['Market Cap'] = df['Market Cap'].apply(lambda x: \"${:.2f}B\".format(x / 1e9))\n",
    "#df[df.Ticker.isin(['ADBE', 'MSFT', 'NVDA', 'FB', 'NFLX', 'BRK-B', 'LLY', 'GOOG', 'JPM', 'PEP'])]"
   ]
  },
  {
   "cell_type": "code",
   "execution_count": 21,
   "metadata": {},
   "outputs": [
    {
     "name": "stderr",
     "output_type": "stream",
     "text": [
      "[*********************100%%**********************]  1 of 1 completed"
     ]
    },
    {
     "name": "stdout",
     "output_type": "stream",
     "text": [
      "Stock: SPY, Percentage Change: 121.65%\n",
      "1.2164591240753069\n"
     ]
    },
    {
     "name": "stderr",
     "output_type": "stream",
     "text": [
      "\n",
      "C:\\Users\\Bogdan\\AppData\\Local\\Temp\\ipykernel_25216\\3344478694.py:15: FutureWarning: Series.__getitem__ treating keys as positions is deprecated. In a future version, integer keys will always be treated as labels (consistent with DataFrame behavior). To access a value by position, use `ser.iloc[pos]`\n",
      "  pct_change = df[-1] / df[0]\n"
     ]
    }
   ],
   "source": [
    "stock_symbols = [\n",
    "    'ABC', 'LSI', 'TRV', 'IP', 'PH', 'OI', 'BAX', 'FDX', 'INTU', 'SWK',\n",
    "    'WGO', 'DGX', 'LH', 'SNA', 'GT', 'BIIB', 'DHI', 'BWA', 'GES', 'GNW',\n",
    "    'DNR', 'LLL', 'LYB', 'R', 'PBI', 'BLK', 'DLX', 'DIS', 'GTN', 'AMP',\n",
    "    'LMT', 'LM', 'PHM', 'APD'\n",
    "]\n",
    "start = dt.datetime(2017, 8, 3)\n",
    "end = dt.datetime(2018, 8, 3)\n",
    "results = []\n",
    "average = 0\n",
    "\n",
    "for stock in ['SPY']:\n",
    "    df = yf.download(stock, start=start, end=end)['Adj Close']\n",
    "    if len(df) > 0:\n",
    "        pct_change = df[-1] / df[0]\n",
    "        #print(f'start price {df[0]}')\n",
    "        #print(f'end price {df[-1]}')\n",
    "        results.append((stock, pct_change))\n",
    "        average += pct_change\n",
    "        #print(stock, pct_change)\n",
    "\n",
    "for stock, pct_change in results:\n",
    "    print(f\"Stock: {stock}, Percentage Change: {pct_change:.2%}\")\n",
    "print(average/len(results))"
   ]
  }
 ],
 "metadata": {
  "kernelspec": {
   "display_name": ".venv",
   "language": "python",
   "name": "python3"
  },
  "language_info": {
   "codemirror_mode": {
    "name": "ipython",
    "version": 3
   },
   "file_extension": ".py",
   "mimetype": "text/x-python",
   "name": "python",
   "nbconvert_exporter": "python",
   "pygments_lexer": "ipython3",
   "version": "3.10.8"
  }
 },
 "nbformat": 4,
 "nbformat_minor": 2
}
