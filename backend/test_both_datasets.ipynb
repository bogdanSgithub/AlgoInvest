{
 "cells": [
  {
   "cell_type": "code",
   "execution_count": 38,
   "metadata": {},
   "outputs": [],
   "source": [
    "import yfinance as yf\n",
    "import datetime as dt\n",
    "import pandas as pd\n",
    "import joblib"
   ]
  },
  {
   "cell_type": "code",
   "execution_count": 39,
   "metadata": {},
   "outputs": [],
   "source": [
    "df = pd.read_csv('data/test.csv')\n",
    "MODEL_PATH = \"model.pkl\"\n",
    "model = joblib.load(MODEL_PATH)\n",
    "# date is august 2017"
   ]
  },
  {
   "cell_type": "code",
   "execution_count": 45,
   "metadata": {},
   "outputs": [
    {
     "data": {
      "text/plain": [
       "Index(['Date', 'Unix', 'Ticker', 'Price', 'stock_p_change', 'SP500',\n",
       "       'SP500_p_change', 'Market Cap', 'Enterprise Value', 'Trailing P/E',\n",
       "       'Forward P/E', 'PEG Ratio', 'Price/Sales', 'Price/Book',\n",
       "       'Enterprise Value/Revenue', 'Enterprise Value/EBITDA', 'Profit Margin',\n",
       "       'Operating Margin', 'Return on Assets', 'Return on Equity', 'Revenue',\n",
       "       'Revenue Per Share', 'Quarterly Revenue Growth', 'Gross Profit',\n",
       "       'EBITDA', 'Net Income Avi to Common', 'Diluted EPS',\n",
       "       'Quarterly Earnings Growth', 'Total Cash', 'Total Cash Per Share',\n",
       "       'Total Debt', 'Total Debt/Equity', 'Current Ratio',\n",
       "       'Book Value Per Share', 'Operating Cash Flow', 'Levered Free Cash Flow',\n",
       "       'Beta', '50-Day Moving Average', '200-Day Moving Average',\n",
       "       'Avg Vol (3 month)', 'Shares Outstanding', 'Float',\n",
       "       '% Held by Insiders', '% Held by Institutions', 'Shares Short',\n",
       "       'Short Ratio', 'Short % of Float', 'Shares Short (prior month'],\n",
       "      dtype='object')"
      ]
     },
     "metadata": {},
     "output_type": "display_data"
    },
    {
     "data": {
      "text/plain": [
       "Index(['Date', 'Ticker', 'Price', 'stock_p_change', 'SP500', 'SP500_p_change',\n",
       "       'Market Cap', 'Enterprise Value', 'Trailing P/E', 'Forward P/E',\n",
       "       'PEG Ratio', 'Price/Sales', 'Price/Book', 'Enterprise Value/Revenue',\n",
       "       'Enterprise Value/EBITDA', 'Profit Margin', 'Operating Margin',\n",
       "       'Return on Assets', 'Return on Equity', 'Revenue', 'Revenue Per Share',\n",
       "       'Qtrly Revenue Growth', 'Gross Profit', 'EBITDA',\n",
       "       'Net Income Avl to Common', 'Diluted EPS', 'Total Cash',\n",
       "       'Total Cash Per Share', 'Total Debt', 'Total Debt/Equity',\n",
       "       'Current Ratio', 'Book Value Per Share', 'Operating Cash Flow', 'Beta',\n",
       "       '50-Day Moving Average', '200-Day Moving Average', 'Avg Vol (3 month)',\n",
       "       'Shares Outstanding'],\n",
       "      dtype='object')"
      ]
     },
     "metadata": {},
     "output_type": "display_data"
    }
   ],
   "source": [
    "other_df = pd.read_csv('data/training.csv')\n",
    "\n",
    "columns_to_drop = ['Unix',\n",
    " 'Float',\n",
    "       '% Held by Insiders', '% Held by Institutions', 'Shares Short',\n",
    "       'Short Ratio', 'Short % of Float', 'Shares Short (prior month', 'Levered Free Cash Flow', ]\n",
    "\n",
    "df = df.drop(columns=columns_to_drop)"
   ]
  },
  {
   "cell_type": "code",
   "execution_count": 46,
   "metadata": {},
   "outputs": [
    {
     "data": {
      "text/plain": [
       "(40,)"
      ]
     },
     "metadata": {},
     "output_type": "display_data"
    },
    {
     "data": {
      "text/plain": [
       "(38,)"
      ]
     },
     "metadata": {},
     "output_type": "display_data"
    }
   ],
   "source": [
    "display(df.columns.shape)\n",
    "display(other_df.columns.shape)"
   ]
  },
  {
   "cell_type": "code",
   "execution_count": 49,
   "metadata": {},
   "outputs": [
    {
     "name": "stderr",
     "output_type": "stream",
     "text": [
      "[*********************100%%**********************]  1 of 1 completed\n",
      "\n",
      "1 Failed download:\n",
      "['ABC']: YFTzMissingError('$%ticker%: possibly delisted; No timezone found')\n",
      "[*********************100%%**********************]  1 of 1 completed\n",
      "\n",
      "1 Failed download:\n",
      "['LSI']: YFTzMissingError('$%ticker%: possibly delisted; No timezone found')\n",
      "[*********************100%%**********************]  1 of 1 completed\n",
      "C:\\Users\\Bogdan\\AppData\\Local\\Temp\\ipykernel_18716\\2791796125.py:15: FutureWarning: Series.__getitem__ treating keys as positions is deprecated. In a future version, integer keys will always be treated as labels (consistent with DataFrame behavior). To access a value by position, use `ser.iloc[pos]`\n",
      "  pct_change = df[-1] / df[0]\n",
      "[*********************100%%**********************]  1 of 1 completed\n",
      "C:\\Users\\Bogdan\\AppData\\Local\\Temp\\ipykernel_18716\\2791796125.py:15: FutureWarning: Series.__getitem__ treating keys as positions is deprecated. In a future version, integer keys will always be treated as labels (consistent with DataFrame behavior). To access a value by position, use `ser.iloc[pos]`\n",
      "  pct_change = df[-1] / df[0]\n",
      "[*********************100%%**********************]  1 of 1 completed\n",
      "C:\\Users\\Bogdan\\AppData\\Local\\Temp\\ipykernel_18716\\2791796125.py:15: FutureWarning: Series.__getitem__ treating keys as positions is deprecated. In a future version, integer keys will always be treated as labels (consistent with DataFrame behavior). To access a value by position, use `ser.iloc[pos]`\n",
      "  pct_change = df[-1] / df[0]\n",
      "[*********************100%%**********************]  1 of 1 completed\n",
      "C:\\Users\\Bogdan\\AppData\\Local\\Temp\\ipykernel_18716\\2791796125.py:15: FutureWarning: Series.__getitem__ treating keys as positions is deprecated. In a future version, integer keys will always be treated as labels (consistent with DataFrame behavior). To access a value by position, use `ser.iloc[pos]`\n",
      "  pct_change = df[-1] / df[0]\n",
      "[*********************100%%**********************]  1 of 1 completed\n",
      "C:\\Users\\Bogdan\\AppData\\Local\\Temp\\ipykernel_18716\\2791796125.py:15: FutureWarning: Series.__getitem__ treating keys as positions is deprecated. In a future version, integer keys will always be treated as labels (consistent with DataFrame behavior). To access a value by position, use `ser.iloc[pos]`\n",
      "  pct_change = df[-1] / df[0]\n",
      "[*********************100%%**********************]  1 of 1 completed\n",
      "C:\\Users\\Bogdan\\AppData\\Local\\Temp\\ipykernel_18716\\2791796125.py:15: FutureWarning: Series.__getitem__ treating keys as positions is deprecated. In a future version, integer keys will always be treated as labels (consistent with DataFrame behavior). To access a value by position, use `ser.iloc[pos]`\n",
      "  pct_change = df[-1] / df[0]\n",
      "[*********************100%%**********************]  1 of 1 completed\n",
      "C:\\Users\\Bogdan\\AppData\\Local\\Temp\\ipykernel_18716\\2791796125.py:15: FutureWarning: Series.__getitem__ treating keys as positions is deprecated. In a future version, integer keys will always be treated as labels (consistent with DataFrame behavior). To access a value by position, use `ser.iloc[pos]`\n",
      "  pct_change = df[-1] / df[0]\n",
      "[*********************100%%**********************]  1 of 1 completed\n",
      "C:\\Users\\Bogdan\\AppData\\Local\\Temp\\ipykernel_18716\\2791796125.py:15: FutureWarning: Series.__getitem__ treating keys as positions is deprecated. In a future version, integer keys will always be treated as labels (consistent with DataFrame behavior). To access a value by position, use `ser.iloc[pos]`\n",
      "  pct_change = df[-1] / df[0]\n",
      "[*********************100%%**********************]  1 of 1 completed\n",
      "C:\\Users\\Bogdan\\AppData\\Local\\Temp\\ipykernel_18716\\2791796125.py:15: FutureWarning: Series.__getitem__ treating keys as positions is deprecated. In a future version, integer keys will always be treated as labels (consistent with DataFrame behavior). To access a value by position, use `ser.iloc[pos]`\n",
      "  pct_change = df[-1] / df[0]\n",
      "[*********************100%%**********************]  1 of 1 completed\n",
      "C:\\Users\\Bogdan\\AppData\\Local\\Temp\\ipykernel_18716\\2791796125.py:15: FutureWarning: Series.__getitem__ treating keys as positions is deprecated. In a future version, integer keys will always be treated as labels (consistent with DataFrame behavior). To access a value by position, use `ser.iloc[pos]`\n",
      "  pct_change = df[-1] / df[0]\n",
      "[*********************100%%**********************]  1 of 1 completed\n",
      "C:\\Users\\Bogdan\\AppData\\Local\\Temp\\ipykernel_18716\\2791796125.py:15: FutureWarning: Series.__getitem__ treating keys as positions is deprecated. In a future version, integer keys will always be treated as labels (consistent with DataFrame behavior). To access a value by position, use `ser.iloc[pos]`\n",
      "  pct_change = df[-1] / df[0]\n",
      "[*********************100%%**********************]  1 of 1 completed\n",
      "C:\\Users\\Bogdan\\AppData\\Local\\Temp\\ipykernel_18716\\2791796125.py:15: FutureWarning: Series.__getitem__ treating keys as positions is deprecated. In a future version, integer keys will always be treated as labels (consistent with DataFrame behavior). To access a value by position, use `ser.iloc[pos]`\n",
      "  pct_change = df[-1] / df[0]\n",
      "[*********************100%%**********************]  1 of 1 completed\n",
      "C:\\Users\\Bogdan\\AppData\\Local\\Temp\\ipykernel_18716\\2791796125.py:15: FutureWarning: Series.__getitem__ treating keys as positions is deprecated. In a future version, integer keys will always be treated as labels (consistent with DataFrame behavior). To access a value by position, use `ser.iloc[pos]`\n",
      "  pct_change = df[-1] / df[0]\n",
      "[*********************100%%**********************]  1 of 1 completed\n",
      "C:\\Users\\Bogdan\\AppData\\Local\\Temp\\ipykernel_18716\\2791796125.py:15: FutureWarning: Series.__getitem__ treating keys as positions is deprecated. In a future version, integer keys will always be treated as labels (consistent with DataFrame behavior). To access a value by position, use `ser.iloc[pos]`\n",
      "  pct_change = df[-1] / df[0]\n",
      "[*********************100%%**********************]  1 of 1 completed\n",
      "C:\\Users\\Bogdan\\AppData\\Local\\Temp\\ipykernel_18716\\2791796125.py:15: FutureWarning: Series.__getitem__ treating keys as positions is deprecated. In a future version, integer keys will always be treated as labels (consistent with DataFrame behavior). To access a value by position, use `ser.iloc[pos]`\n",
      "  pct_change = df[-1] / df[0]\n",
      "[*********************100%%**********************]  1 of 1 completed\n",
      "C:\\Users\\Bogdan\\AppData\\Local\\Temp\\ipykernel_18716\\2791796125.py:15: FutureWarning: Series.__getitem__ treating keys as positions is deprecated. In a future version, integer keys will always be treated as labels (consistent with DataFrame behavior). To access a value by position, use `ser.iloc[pos]`\n",
      "  pct_change = df[-1] / df[0]\n",
      "[*********************100%%**********************]  1 of 1 completed\n",
      "C:\\Users\\Bogdan\\AppData\\Local\\Temp\\ipykernel_18716\\2791796125.py:15: FutureWarning: Series.__getitem__ treating keys as positions is deprecated. In a future version, integer keys will always be treated as labels (consistent with DataFrame behavior). To access a value by position, use `ser.iloc[pos]`\n",
      "  pct_change = df[-1] / df[0]\n",
      "[*********************100%%**********************]  1 of 1 completed\n",
      "C:\\Users\\Bogdan\\AppData\\Local\\Temp\\ipykernel_18716\\2791796125.py:15: FutureWarning: Series.__getitem__ treating keys as positions is deprecated. In a future version, integer keys will always be treated as labels (consistent with DataFrame behavior). To access a value by position, use `ser.iloc[pos]`\n",
      "  pct_change = df[-1] / df[0]\n",
      "[*********************100%%**********************]  1 of 1 completed\n",
      "\n",
      "1 Failed download:\n",
      "['DNR']: YFTzMissingError('$%ticker%: possibly delisted; No timezone found')\n",
      "[*********************100%%**********************]  1 of 1 completed\n",
      "\n",
      "1 Failed download:\n",
      "['LLL']: YFTzMissingError('$%ticker%: possibly delisted; No timezone found')\n",
      "[*********************100%%**********************]  1 of 1 completed\n",
      "C:\\Users\\Bogdan\\AppData\\Local\\Temp\\ipykernel_18716\\2791796125.py:15: FutureWarning: Series.__getitem__ treating keys as positions is deprecated. In a future version, integer keys will always be treated as labels (consistent with DataFrame behavior). To access a value by position, use `ser.iloc[pos]`\n",
      "  pct_change = df[-1] / df[0]\n",
      "[*********************100%%**********************]  1 of 1 completed\n",
      "C:\\Users\\Bogdan\\AppData\\Local\\Temp\\ipykernel_18716\\2791796125.py:15: FutureWarning: Series.__getitem__ treating keys as positions is deprecated. In a future version, integer keys will always be treated as labels (consistent with DataFrame behavior). To access a value by position, use `ser.iloc[pos]`\n",
      "  pct_change = df[-1] / df[0]\n",
      "[*********************100%%**********************]  1 of 1 completed\n",
      "C:\\Users\\Bogdan\\AppData\\Local\\Temp\\ipykernel_18716\\2791796125.py:15: FutureWarning: Series.__getitem__ treating keys as positions is deprecated. In a future version, integer keys will always be treated as labels (consistent with DataFrame behavior). To access a value by position, use `ser.iloc[pos]`\n",
      "  pct_change = df[-1] / df[0]\n",
      "[*********************100%%**********************]  1 of 1 completed\n",
      "C:\\Users\\Bogdan\\AppData\\Local\\Temp\\ipykernel_18716\\2791796125.py:15: FutureWarning: Series.__getitem__ treating keys as positions is deprecated. In a future version, integer keys will always be treated as labels (consistent with DataFrame behavior). To access a value by position, use `ser.iloc[pos]`\n",
      "  pct_change = df[-1] / df[0]\n",
      "[*********************100%%**********************]  1 of 1 completed\n",
      "C:\\Users\\Bogdan\\AppData\\Local\\Temp\\ipykernel_18716\\2791796125.py:15: FutureWarning: Series.__getitem__ treating keys as positions is deprecated. In a future version, integer keys will always be treated as labels (consistent with DataFrame behavior). To access a value by position, use `ser.iloc[pos]`\n",
      "  pct_change = df[-1] / df[0]\n",
      "[*********************100%%**********************]  1 of 1 completed\n",
      "C:\\Users\\Bogdan\\AppData\\Local\\Temp\\ipykernel_18716\\2791796125.py:15: FutureWarning: Series.__getitem__ treating keys as positions is deprecated. In a future version, integer keys will always be treated as labels (consistent with DataFrame behavior). To access a value by position, use `ser.iloc[pos]`\n",
      "  pct_change = df[-1] / df[0]\n",
      "[*********************100%%**********************]  1 of 1 completed\n",
      "C:\\Users\\Bogdan\\AppData\\Local\\Temp\\ipykernel_18716\\2791796125.py:15: FutureWarning: Series.__getitem__ treating keys as positions is deprecated. In a future version, integer keys will always be treated as labels (consistent with DataFrame behavior). To access a value by position, use `ser.iloc[pos]`\n",
      "  pct_change = df[-1] / df[0]\n",
      "[*********************100%%**********************]  1 of 1 completed\n",
      "C:\\Users\\Bogdan\\AppData\\Local\\Temp\\ipykernel_18716\\2791796125.py:15: FutureWarning: Series.__getitem__ treating keys as positions is deprecated. In a future version, integer keys will always be treated as labels (consistent with DataFrame behavior). To access a value by position, use `ser.iloc[pos]`\n",
      "  pct_change = df[-1] / df[0]\n",
      "[*********************100%%**********************]  1 of 1 completed\n",
      "C:\\Users\\Bogdan\\AppData\\Local\\Temp\\ipykernel_18716\\2791796125.py:15: FutureWarning: Series.__getitem__ treating keys as positions is deprecated. In a future version, integer keys will always be treated as labels (consistent with DataFrame behavior). To access a value by position, use `ser.iloc[pos]`\n",
      "  pct_change = df[-1] / df[0]\n",
      "[*********************100%%**********************]  1 of 1 completed\n",
      "\n",
      "1 Failed download:\n",
      "['LM']: YFTzMissingError('$%ticker%: possibly delisted; No timezone found')\n",
      "[*********************100%%**********************]  1 of 1 completed\n",
      "C:\\Users\\Bogdan\\AppData\\Local\\Temp\\ipykernel_18716\\2791796125.py:15: FutureWarning: Series.__getitem__ treating keys as positions is deprecated. In a future version, integer keys will always be treated as labels (consistent with DataFrame behavior). To access a value by position, use `ser.iloc[pos]`\n",
      "  pct_change = df[-1] / df[0]\n",
      "[*********************100%%**********************]  1 of 1 completed"
     ]
    },
    {
     "name": "stdout",
     "output_type": "stream",
     "text": [
      "Stock: TRV, Percentage Change: 101.33%\n",
      "Stock: IP, Percentage Change: 100.36%\n",
      "Stock: PH, Percentage Change: 105.44%\n",
      "Stock: OI, Percentage Change: 75.89%\n",
      "Stock: BAX, Percentage Change: 122.46%\n",
      "Stock: FDX, Percentage Change: 116.23%\n",
      "Stock: INTU, Percentage Change: 151.42%\n",
      "Stock: SWK, Percentage Change: 102.81%\n",
      "Stock: WGO, Percentage Change: 111.65%\n",
      "Stock: DGX, Percentage Change: 102.83%\n",
      "Stock: LH, Percentage Change: 109.92%\n",
      "Stock: SNA, Percentage Change: 111.69%\n",
      "Stock: GT, Percentage Change: 79.57%\n",
      "Stock: BIIB, Percentage Change: 121.62%\n",
      "Stock: DHI, Percentage Change: 121.82%\n",
      "Stock: BWA, Percentage Change: 98.58%\n",
      "Stock: GES, Percentage Change: 174.85%\n",
      "Stock: GNW, Percentage Change: 138.14%\n",
      "Stock: LYB, Percentage Change: 126.75%\n",
      "Stock: R, Percentage Change: 111.20%\n",
      "Stock: PBI, Percentage Change: 68.92%\n",
      "Stock: BLK, Percentage Change: 114.02%\n",
      "Stock: DLX, Percentage Change: 83.32%\n",
      "Stock: DIS, Percentage Change: 105.00%\n",
      "Stock: GTN, Percentage Change: 110.29%\n",
      "Stock: AMP, Percentage Change: 97.55%\n",
      "Stock: LMT, Percentage Change: 111.50%\n",
      "Stock: PHM, Percentage Change: 114.30%\n",
      "Stock: APD, Percentage Change: 111.77%\n",
      "1.1038687337496886\n"
     ]
    },
    {
     "name": "stderr",
     "output_type": "stream",
     "text": [
      "\n",
      "C:\\Users\\Bogdan\\AppData\\Local\\Temp\\ipykernel_18716\\2791796125.py:15: FutureWarning: Series.__getitem__ treating keys as positions is deprecated. In a future version, integer keys will always be treated as labels (consistent with DataFrame behavior). To access a value by position, use `ser.iloc[pos]`\n",
      "  pct_change = df[-1] / df[0]\n"
     ]
    }
   ],
   "source": [
    "stock_symbols = [\n",
    "    'ABC', 'LSI', 'TRV', 'IP', 'PH', 'OI', 'BAX', 'FDX', 'INTU', 'SWK',\n",
    "    'WGO', 'DGX', 'LH', 'SNA', 'GT', 'BIIB', 'DHI', 'BWA', 'GES', 'GNW',\n",
    "    'DNR', 'LLL', 'LYB', 'R', 'PBI', 'BLK', 'DLX', 'DIS', 'GTN', 'AMP',\n",
    "    'LMT', 'LM', 'PHM', 'APD'\n",
    "]\n",
    "start = dt.datetime(2017, 8, 3)\n",
    "end = dt.datetime(2018, 8, 3)\n",
    "results = []\n",
    "average = 0\n",
    "\n",
    "for stock in stock_symbols:\n",
    "    df = yf.download(stock, start=start, end=end)['Adj Close']\n",
    "    if len(df) > 0:\n",
    "        pct_change = df[-1] / df[0]\n",
    "        #print(f'start price {df[0]}')\n",
    "        #print(f'end price {df[-1]}')\n",
    "        results.append((stock, pct_change))\n",
    "        average += pct_change\n",
    "        #print(stock, pct_change)\n",
    "\n",
    "for stock, pct_change in results:\n",
    "    print(f\"Stock: {stock}, Percentage Change: {pct_change:.2%}\")\n",
    "print(average/len(results))"
   ]
  }
 ],
 "metadata": {
  "kernelspec": {
   "display_name": ".venv",
   "language": "python",
   "name": "python3"
  },
  "language_info": {
   "codemirror_mode": {
    "name": "ipython",
    "version": 3
   },
   "file_extension": ".py",
   "mimetype": "text/x-python",
   "name": "python",
   "nbconvert_exporter": "python",
   "pygments_lexer": "ipython3",
   "version": "3.10.8"
  }
 },
 "nbformat": 4,
 "nbformat_minor": 2
}
