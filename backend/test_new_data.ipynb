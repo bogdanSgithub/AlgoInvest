{
 "cells": [
  {
   "cell_type": "code",
   "execution_count": 2,
   "metadata": {},
   "outputs": [],
   "source": [
    "import pandas as pd\n",
    "import joblib"
   ]
  },
  {
   "cell_type": "code",
   "execution_count": 55,
   "metadata": {},
   "outputs": [],
   "source": [
    "MODEL_PATH = \"model.pkl\""
   ]
  },
  {
   "cell_type": "code",
   "execution_count": 56,
   "metadata": {},
   "outputs": [],
   "source": [
    "model = joblib.load(MODEL_PATH)"
   ]
  },
  {
   "cell_type": "code",
   "execution_count": 57,
   "metadata": {},
   "outputs": [],
   "source": [
    "new_data = pd.read_csv('data/new.csv')\n",
    "training_data = pd.read_csv('data/training.csv')"
   ]
  },
  {
   "cell_type": "code",
   "execution_count": 58,
   "metadata": {},
   "outputs": [
    {
     "data": {
      "text/plain": [
       "Index(['Date', 'Ticker', 'Price', 'stock_p_change', 'SP500', 'SP500_p_change',\n",
       "       'Market Cap', 'Enterprise Value', 'Trailing P/E', 'Forward P/E',\n",
       "       'PEG Ratio', 'Price/Sales', 'Price/Book', 'Enterprise Value/Revenue',\n",
       "       'Enterprise Value/EBITDA', 'Profit Margin', 'Operating Margin',\n",
       "       'Return on Assets', 'Return on Equity', 'Revenue', 'Revenue Per Share',\n",
       "       'Qtrly Revenue Growth', 'Gross Profit', 'EBITDA',\n",
       "       'Net Income Avl to Common', 'Diluted EPS', 'Total Cash',\n",
       "       'Total Cash Per Share', 'Total Debt', 'Total Debt/Equity',\n",
       "       'Current Ratio', 'Book Value Per Share', 'Operating Cash Flow', 'Beta',\n",
       "       '50-Day Moving Average', '200-Day Moving Average', 'Avg Vol (3 month)',\n",
       "       'Shares Outstanding'],\n",
       "      dtype='object')"
      ]
     },
     "execution_count": 58,
     "metadata": {},
     "output_type": "execute_result"
    }
   ],
   "source": [
    "training_data.columns"
   ]
  },
  {
   "cell_type": "code",
   "execution_count": 59,
   "metadata": {},
   "outputs": [],
   "source": [
    "columns_to_drop = ['% Held by Insiders1',\n",
    " '% Held by Institutions1', '5 Year Average Dividend Yield4', '52 Week High3',\n",
    " '52 Week Low3',\n",
    " '52 Week Range3', 'Avg Vol (10 day)3', 'Dividend Date3',\n",
    " 'Ex-Dividend Date4',\n",
    " 'Fiscal Year Ends',\n",
    " 'Float8',\n",
    " 'Forward Annual Dividend Rate4',\n",
    " 'Forward Annual Dividend Yield4','Implied Shares Outstanding6',\n",
    " 'Last Split Date3',\n",
    " 'Last Split Factor2',\n",
    " 'Levered Free Cash Flow  (ttm)',\n",
    " 'Most Recent Quarter  (mrq)', 'Payout Ratio4', 'Quarterly Earnings Growth  (yoy)', 'S&P 500 52-Week Change3', 'Shares Short (6/28/2024)4',\n",
    " 'Shares Short (8/31/2018)4',\n",
    " 'Shares Short (prior month )4',\n",
    " 'Shares Short (prior month 5/31/2024)4',\n",
    " 'Shares Short (prior month 7/31/2018)4',\n",
    " 'Shares Short4',\n",
    " 'Short % of Float (6/28/2024)4',\n",
    " 'Short % of Float (8/31/2018)4',\n",
    " 'Short % of Float4',\n",
    " 'Short % of Shares Outstanding (6/28/2024)4',\n",
    " 'Short % of Shares Outstanding (8/31/2018)4',\n",
    " 'Short % of Shares Outstanding4',\n",
    " 'Short Ratio (6/28/2024)4',\n",
    " 'Short Ratio (8/31/2018)4',\n",
    " 'Short Ratio4', 'Trailing Annual Dividend Rate3',\n",
    " 'Trailing Annual Dividend Yield3', 'Gross Profit  (ttm)']\n",
    "\n",
    "new_data = new_data.drop(columns=columns_to_drop)"
   ]
  },
  {
   "cell_type": "code",
   "execution_count": 60,
   "metadata": {},
   "outputs": [],
   "source": [
    "X = new_data.iloc[:, 2:]"
   ]
  },
  {
   "cell_type": "code",
   "execution_count": 62,
   "metadata": {},
   "outputs": [],
   "source": [
    "import pandas as pd\n",
    "from io import StringIO\n",
    "import numpy as np\n",
    "\n",
    "# Define the data as a CSV string for this example\n",
    "data = \"\"\"Date,Ticker,Market Cap,Enterprise Value,Trailing P/E,Forward P/E,PEG Ratio (5yr expected),Price/Sales,Price/Book,Enterprise Value/Revenue,Enterprise Value/EBITDA,Fiscal Year Ends,Most Recent Quarter  (mrq),Profit Margin,Operating Margin  (ttm),Return on Assets  (ttm),Return on Equity  (ttm),Revenue  (ttm),Revenue Per Share  (ttm),Quarterly Revenue Growth  (yoy),Gross Profit  (ttm),EBITDA,Net Income Avi to Common  (ttm),Diluted EPS  (ttm),Quarterly Earnings Growth  (yoy),Total Cash  (mrq),Total Cash Per Share  (mrq),Total Debt  (mrq),Total Debt/Equity  (mrq),Current Ratio  (mrq),Book Value Per Share  (mrq),Operating Cash Flow  (ttm),Levered Free Cash Flow  (ttm),Beta (5Y Monthly),52 Week Range3,S&P 500 52-Week Change3,52 Week High3,52 Week Low3,50-Day Moving Average3,200-Day Moving Average3,Avg Vol (3 month)3,Avg Vol (10 day)3,Shares Outstanding5,Implied Shares Outstanding6,Float8,% Held by Insiders1,% Held by Institutions1,Shares Short (6/28/2024)4,Short Ratio (6/28/2024)4,Short % of Float (6/28/2024)4,Short % of Shares Outstanding (6/28/2024)4,Shares Short (prior month 5/31/2024)4,Forward Annual Dividend Rate4,Forward Annual Dividend Yield4,Trailing Annual Dividend Rate3,Trailing Annual Dividend Yield3,5 Year Average Dividend Yield4,Payout Ratio4,Dividend Date3,Ex-Dividend Date4,Last Split Factor2,Last Split Date3,Shares Short (8/31/2018)4,Short Ratio (8/31/2018)4,Short % of Float (8/31/2018)4,Short % of Shares Outstanding (8/31/2018)4,Shares Short (prior month 7/31/2018)4,Shares Short4,Short Ratio4,Short % of Float4,Short % of Shares Outstanding4,Shares Short (prior month )4\n",
    "2024-07-23,MMM,58.09B,69.27B,16.99,14.24,1.9,1.78,11.94,2.12,11.33,12/31/2023,3/31/2024,-21.57%,21.70%,7.58%,-69.29%,32.65B,58.89,-0.30%,--,8.15B,-7.04B,-12.73,-4.90%,10.97B,19.83,22.26B,451.17%,1.64,8.79,6.17B,8.9B,1,14.31%,21.83%,106.04,71.36,101.38,88.22,4.57M,3.44M,553.36M,553.89M,552.65M,0.11%,66.54%,8.07M,1.64,1.46%,1.46%,9.35M,2.8,2.67%,6.01,5.73%,4.35,61.67%,6/12/2024,5/23/2024,1196:1000,4/1/\"\"\"\n",
    "\n",
    "\n",
    "# Define a function to convert percentage values to float\n",
    "def convert(value):\n",
    "    value = value.replace(',', '')\n",
    "    if pd.isna(value) or value == '--':\n",
    "        return np.nan\n",
    "    elif '%' in value:\n",
    "        return float(value.replace('%', '').strip())\n",
    "    elif 'k' in value:\n",
    "        return float(value.replace('k', '').strip()) * 1e3\n",
    "    elif 'M' in value:\n",
    "        return float(value.replace('M', '').strip()) * 1e6\n",
    "    elif 'B' in value:\n",
    "        return float(value.replace('B', '').strip()) * 1e9\n",
    "    elif 'T' in value:\n",
    "        return float(value.replace('T', '').strip()) * 1e12\n",
    "    else:\n",
    "        try:\n",
    "            return float(value)\n",
    "        except:\n",
    "            print(value)\n",
    "\n",
    "\n",
    "df = X\n",
    "\n",
    "# Apply conversion functions to other columns\n",
    "for col in df.columns:\n",
    "    if col != 'Date' and df[col].dtype == object:\n",
    "        df[col] = df[col].apply(convert)"
   ]
  },
  {
   "cell_type": "code",
   "execution_count": 109,
   "metadata": {},
   "outputs": [],
   "source": [
    "from sklearn.preprocessing import StandardScaler\n",
    "X = X.dropna()\n",
    "s = training_data.drop(columns=['Date', 'Ticker', 'Price', 'stock_p_change', 'SP500', 'SP500_p_change', 'Gross Profit'])\n",
    "X.columns = s.columns\n",
    "scaler = StandardScaler()\n",
    "# Fit and transform the data\n",
    "X = pd.DataFrame(scaler.fit_transform(X), columns=X.columns)"
   ]
  },
  {
   "cell_type": "code",
   "execution_count": 110,
   "metadata": {},
   "outputs": [],
   "source": [
    "predictions = model.predict(X)"
   ]
  },
  {
   "cell_type": "code",
   "execution_count": 111,
   "metadata": {},
   "outputs": [
    {
     "data": {
      "text/plain": [
       "array([False, False, False, False, False,  True, False, False, False,\n",
       "       False, False,  True, False, False, False, False,  True,  True,\n",
       "        True, False, False, False, False,  True, False, False, False,\n",
       "       False,  True, False,  True,  True, False, False,  True, False,\n",
       "        True,  True,  True,  True,  True, False,  True, False, False,\n",
       "       False,  True, False,  True, False,  True, False, False,  True,\n",
       "        True,  True,  True,  True, False,  True,  True,  True,  True,\n",
       "       False, False,  True,  True,  True, False, False,  True,  True,\n",
       "        True,  True,  True,  True, False, False, False, False, False,\n",
       "        True,  True, False,  True, False, False,  True,  True, False,\n",
       "        True,  True, False,  True,  True,  True, False, False, False,\n",
       "       False,  True,  True,  True,  True,  True,  True, False,  True,\n",
       "       False, False, False, False, False, False,  True,  True,  True,\n",
       "       False, False, False, False, False,  True,  True,  True, False,\n",
       "       False,  True,  True,  True, False, False, False,  True,  True,\n",
       "        True,  True,  True,  True,  True, False, False, False,  True,\n",
       "       False,  True,  True, False, False,  True,  True,  True, False,\n",
       "        True, False,  True,  True, False, False, False,  True,  True,\n",
       "       False, False,  True, False, False, False, False,  True, False,\n",
       "       False, False, False,  True,  True, False,  True, False, False,\n",
       "       False,  True,  True,  True,  True,  True, False,  True,  True,\n",
       "       False,  True,  True, False,  True, False,  True, False,  True,\n",
       "       False, False,  True,  True, False,  True,  True,  True, False,\n",
       "       False,  True, False,  True,  True, False,  True,  True, False,\n",
       "       False,  True,  True, False, False, False,  True, False, False,\n",
       "        True, False, False, False, False,  True,  True, False, False,\n",
       "        True, False, False, False,  True, False,  True,  True,  True,\n",
       "       False,  True,  True, False,  True, False,  True,  True, False,\n",
       "        True,  True,  True,  True, False,  True, False,  True,  True,\n",
       "        True, False,  True,  True, False, False, False,  True, False,\n",
       "       False, False, False, False, False, False,  True,  True, False,\n",
       "       False, False, False, False,  True, False, False, False,  True,\n",
       "       False, False, False,  True,  True,  True,  True, False,  True,\n",
       "        True, False, False, False, False,  True, False,  True, False,\n",
       "       False, False, False, False,  True, False,  True, False, False,\n",
       "       False, False,  True, False,  True, False, False, False,  True,\n",
       "        True, False,  True, False, False, False,  True, False, False,\n",
       "       False,  True,  True, False, False,  True, False])"
      ]
     },
     "execution_count": 111,
     "metadata": {},
     "output_type": "execute_result"
    }
   ],
   "source": [
    "predictions"
   ]
  },
  {
   "cell_type": "code",
   "execution_count": 118,
   "metadata": {},
   "outputs": [],
   "source": [
    "preds = pd.Series(predictions, name='Predictions')\n",
    "X_original = pd.DataFrame(scaler.inverse_transform(X), columns=X.columns)\n",
    "merged = pd.concat([X_original.reset_index(drop=True), preds.reset_index(drop=True)], axis=1)\n"
   ]
  },
  {
   "cell_type": "code",
   "execution_count": 119,
   "metadata": {},
   "outputs": [],
   "source": [
    "market_caps = merged[merged['Predictions']==True]['Market Cap']"
   ]
  },
  {
   "cell_type": "code",
   "execution_count": 120,
   "metadata": {},
   "outputs": [
    {
     "data": {
      "text/plain": [
       "5      1.245000e+10\n",
       "11     1.108000e+10\n",
       "16     1.467000e+10\n",
       "17     2.020000e+10\n",
       "18     4.973000e+10\n",
       "           ...     \n",
       "326    1.716000e+11\n",
       "330    6.495000e+10\n",
       "334    2.714000e+10\n",
       "335    3.097000e+10\n",
       "338    2.270000e+10\n",
       "Name: Market Cap, Length: 158, dtype: float64"
      ]
     },
     "execution_count": 120,
     "metadata": {},
     "output_type": "execute_result"
    }
   ],
   "source": [
    "market_caps"
   ]
  },
  {
   "cell_type": "code",
   "execution_count": 121,
   "metadata": {},
   "outputs": [],
   "source": [
    "new_testing = pd.read_csv('data/new.csv')"
   ]
  },
  {
   "cell_type": "code",
   "execution_count": 122,
   "metadata": {},
   "outputs": [],
   "source": [
    "new_testing['Market Cap'] = new_testing['Market Cap'].apply(convert)"
   ]
  },
  {
   "cell_type": "code",
   "execution_count": 124,
   "metadata": {},
   "outputs": [],
   "source": [
    "b = new_testing[new_testing['Market Cap'].isin(market_caps)]"
   ]
  },
  {
   "cell_type": "code",
   "execution_count": 130,
   "metadata": {},
   "outputs": [
    {
     "data": {
      "text/plain": [
       "array(['META', 'XOM', 'CVX', 'TMUS', 'CSCO', 'DIS', 'VZ', 'CMCSA', 'SPGI',\n",
       "       'NEE', 'T', 'COP', 'TJX', 'REGN', 'DE', 'MDT', 'FI', 'MDLZ', 'BMY',\n",
       "       'DUK', 'CL', 'APH', 'CMG', 'CVS', 'EOG', 'CME', 'PH', 'TGT',\n",
       "       'WELL', 'NOC', 'CRWD', 'PYPL', 'PCAR', 'OXY', 'PSA', 'AEP', 'OKE',\n",
       "       'KMB', 'KMI', 'PCG', 'JCI', 'LEN', 'TEL', 'GWW', 'HES', 'CHTR',\n",
       "       'KDP', 'COR', 'D', 'RCL', 'CMI', 'KHC', 'KR', 'PWR', 'DOW', 'CTVA',\n",
       "       'PEG', 'CTSH', 'SYY', 'EXC', 'GIS', 'LULU', 'BKR', 'CNC', 'MLM',\n",
       "       'BIIB', 'LYB', 'VICI', 'XEL', 'LVS', 'CSGP', 'CBRE', 'PPG', 'HAL',\n",
       "       'DVN', 'DAL', 'WTW', 'HPE', 'NTAP', 'DOV', 'DTE', 'FE', 'ZBH',\n",
       "       'LYV', 'PPL', 'AEE', 'BBY', 'ULTA', 'ESS', 'ATO', 'CNP', 'LH',\n",
       "       'OMC', 'EXPD', 'PKG', 'HRL', 'DRI', 'BG', 'EQT', 'CE', 'AMCR',\n",
       "       'AKAM', 'VTRS', 'INCY', 'EVRG', 'HST', 'KMX', 'AES', 'BEN', 'DVA',\n",
       "       'JNPR', 'LKQ', 'CRL', 'EMN', 'IPG', 'TAP', 'HII', 'FFIV', 'WBA',\n",
       "       'GNRC', 'TPR', 'MOS', 'PNW', 'HSIC', 'HAS', 'CZR', 'IVZ'],\n",
       "      dtype=object)"
      ]
     },
     "execution_count": 130,
     "metadata": {},
     "output_type": "execute_result"
    }
   ],
   "source": [
    "b.sort_values(by='Market Cap', ascending=False)['Ticker'].unique()"
   ]
  }
 ],
 "metadata": {
  "kernelspec": {
   "display_name": ".venv",
   "language": "python",
   "name": "python3"
  },
  "language_info": {
   "codemirror_mode": {
    "name": "ipython",
    "version": 3
   },
   "file_extension": ".py",
   "mimetype": "text/x-python",
   "name": "python",
   "nbconvert_exporter": "python",
   "pygments_lexer": "ipython3",
   "version": "3.10.8"
  }
 },
 "nbformat": 4,
 "nbformat_minor": 2
}
