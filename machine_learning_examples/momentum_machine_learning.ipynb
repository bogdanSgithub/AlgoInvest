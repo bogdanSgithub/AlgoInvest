{
 "cells": [
  {
   "cell_type": "markdown",
   "metadata": {},
   "source": [
    "We are building a logistic regression model that will try to predict the next month returns based off the past month return, past 3 months return, past 6 months return and past 9 months return."
   ]
  },
  {
   "cell_type": "code",
   "execution_count": 1,
   "metadata": {},
   "outputs": [],
   "source": [
    "import pandas as pd\n",
    "import numpy as np\n",
    "import matplotlib.pyplot as plt\n",
    "import yfinance as yf\n",
    "import datetime as dt\n",
    "import plotly.express as px"
   ]
  },
  {
   "cell_type": "code",
   "execution_count": 2,
   "metadata": {},
   "outputs": [],
   "source": [
    "tickers = pd.read_html('https://en.wikipedia.org/wiki/List_of_S%26P_500_companies')[0]['Symbol'].str.replace('.', '-')\n",
    "start = dt.datetime(2023, 1, 1)\n",
    "starting_date = dt.datetime(2024, 1, 1)\n",
    "end = dt.datetime.now()\n",
    "interval = '1mo'\n",
    "\n",
    "bins = [-float('inf'), -0.5, -0.2, -0.15, -0.1, -0.05, 0, 0.05, 0.10, 0.15, 0.2, 0.5, float('inf')]\n",
    "labels = ['extremly low', 'very low', 'fairly low', 'low', 'negative', 'slightly negative',\n",
    "          'slightly positive', 'positive', 'fairly high', 'high', 'very high', 'extremely high']"
   ]
  },
  {
   "cell_type": "code",
   "execution_count": 3,
   "metadata": {},
   "outputs": [],
   "source": [
    "def get_n_mtl_returns(df, periods):\n",
    "    for i in periods:\n",
    "        df[f'{i}_mt_ret'] = df['Adj Close'].pct_change(i).shift()\n",
    "    return df"
   ]
  },
  {
   "cell_type": "code",
   "execution_count": 4,
   "metadata": {},
   "outputs": [],
   "source": [
    "def prep_stock_df(stock_df):\n",
    "    stock_df = get_n_mtl_returns(stock_df, [1, 3, 6, 9]).dropna()\n",
    "    stock_df['returns'] = stock_df['Adj Close'].pct_change()\n",
    "    stock_df = stock_df[stock_df.index >= starting_date]\n",
    "    stock_df['category'] = pd.cut(stock_df['returns'], bins=bins, labels=labels)\n",
    "    return stock_df"
   ]
  },
  {
   "cell_type": "code",
   "execution_count": 5,
   "metadata": {},
   "outputs": [
    {
     "name": "stderr",
     "output_type": "stream",
     "text": [
      "[*********************100%%**********************]  1 of 1 completed\n",
      "C:\\Users\\Bogdan\\AppData\\Local\\Temp\\ipykernel_28348\\2407199606.py:3: SettingWithCopyWarning: \n",
      "A value is trying to be set on a copy of a slice from a DataFrame.\n",
      "Try using .loc[row_indexer,col_indexer] = value instead\n",
      "\n",
      "See the caveats in the documentation: https://pandas.pydata.org/pandas-docs/stable/user_guide/indexing.html#returning-a-view-versus-a-copy\n",
      "  stock_df['returns'] = stock_df['Adj Close'].pct_change()\n",
      "[*********************100%%**********************]  1 of 1 completed\n",
      "C:\\Users\\Bogdan\\AppData\\Local\\Temp\\ipykernel_28348\\2407199606.py:3: SettingWithCopyWarning: \n",
      "A value is trying to be set on a copy of a slice from a DataFrame.\n",
      "Try using .loc[row_indexer,col_indexer] = value instead\n",
      "\n",
      "See the caveats in the documentation: https://pandas.pydata.org/pandas-docs/stable/user_guide/indexing.html#returning-a-view-versus-a-copy\n",
      "  stock_df['returns'] = stock_df['Adj Close'].pct_change()\n"
     ]
    },
    {
     "name": "stdout",
     "output_type": "stream",
     "text": [
      "MMM is done\n",
      "AOS is done\n"
     ]
    },
    {
     "name": "stderr",
     "output_type": "stream",
     "text": [
      "[*********************100%%**********************]  1 of 1 completed\n",
      "C:\\Users\\Bogdan\\AppData\\Local\\Temp\\ipykernel_28348\\2407199606.py:3: SettingWithCopyWarning: \n",
      "A value is trying to be set on a copy of a slice from a DataFrame.\n",
      "Try using .loc[row_indexer,col_indexer] = value instead\n",
      "\n",
      "See the caveats in the documentation: https://pandas.pydata.org/pandas-docs/stable/user_guide/indexing.html#returning-a-view-versus-a-copy\n",
      "  stock_df['returns'] = stock_df['Adj Close'].pct_change()\n",
      "[*********************100%%**********************]  1 of 1 completed\n",
      "C:\\Users\\Bogdan\\AppData\\Local\\Temp\\ipykernel_28348\\2407199606.py:3: SettingWithCopyWarning: \n",
      "A value is trying to be set on a copy of a slice from a DataFrame.\n",
      "Try using .loc[row_indexer,col_indexer] = value instead\n",
      "\n",
      "See the caveats in the documentation: https://pandas.pydata.org/pandas-docs/stable/user_guide/indexing.html#returning-a-view-versus-a-copy\n",
      "  stock_df['returns'] = stock_df['Adj Close'].pct_change()\n",
      "[*********************100%%**********************]  1 of 1 completed\n",
      "C:\\Users\\Bogdan\\AppData\\Local\\Temp\\ipykernel_28348\\2407199606.py:3: SettingWithCopyWarning: \n",
      "A value is trying to be set on a copy of a slice from a DataFrame.\n",
      "Try using .loc[row_indexer,col_indexer] = value instead\n",
      "\n",
      "See the caveats in the documentation: https://pandas.pydata.org/pandas-docs/stable/user_guide/indexing.html#returning-a-view-versus-a-copy\n",
      "  stock_df['returns'] = stock_df['Adj Close'].pct_change()\n",
      "[*********************100%%**********************]  1 of 1 completed"
     ]
    },
    {
     "name": "stdout",
     "output_type": "stream",
     "text": [
      "ABT is done\n",
      "ABBV is done\n",
      "ACN is done\n"
     ]
    },
    {
     "name": "stderr",
     "output_type": "stream",
     "text": [
      "\n",
      "C:\\Users\\Bogdan\\AppData\\Local\\Temp\\ipykernel_28348\\2407199606.py:3: SettingWithCopyWarning: \n",
      "A value is trying to be set on a copy of a slice from a DataFrame.\n",
      "Try using .loc[row_indexer,col_indexer] = value instead\n",
      "\n",
      "See the caveats in the documentation: https://pandas.pydata.org/pandas-docs/stable/user_guide/indexing.html#returning-a-view-versus-a-copy\n",
      "  stock_df['returns'] = stock_df['Adj Close'].pct_change()\n",
      "[*********************100%%**********************]  1 of 1 completed\n",
      "C:\\Users\\Bogdan\\AppData\\Local\\Temp\\ipykernel_28348\\2407199606.py:3: SettingWithCopyWarning: \n",
      "A value is trying to be set on a copy of a slice from a DataFrame.\n",
      "Try using .loc[row_indexer,col_indexer] = value instead\n",
      "\n",
      "See the caveats in the documentation: https://pandas.pydata.org/pandas-docs/stable/user_guide/indexing.html#returning-a-view-versus-a-copy\n",
      "  stock_df['returns'] = stock_df['Adj Close'].pct_change()\n",
      "[*********************100%%**********************]  1 of 1 completed"
     ]
    },
    {
     "name": "stdout",
     "output_type": "stream",
     "text": [
      "ADBE is done\n",
      "AMD is done\n",
      "AES is done\n"
     ]
    },
    {
     "name": "stderr",
     "output_type": "stream",
     "text": [
      "\n",
      "C:\\Users\\Bogdan\\AppData\\Local\\Temp\\ipykernel_28348\\2407199606.py:3: SettingWithCopyWarning: \n",
      "A value is trying to be set on a copy of a slice from a DataFrame.\n",
      "Try using .loc[row_indexer,col_indexer] = value instead\n",
      "\n",
      "See the caveats in the documentation: https://pandas.pydata.org/pandas-docs/stable/user_guide/indexing.html#returning-a-view-versus-a-copy\n",
      "  stock_df['returns'] = stock_df['Adj Close'].pct_change()\n",
      "[*********************100%%**********************]  1 of 1 completed\n",
      "C:\\Users\\Bogdan\\AppData\\Local\\Temp\\ipykernel_28348\\2407199606.py:3: SettingWithCopyWarning: \n",
      "A value is trying to be set on a copy of a slice from a DataFrame.\n",
      "Try using .loc[row_indexer,col_indexer] = value instead\n",
      "\n",
      "See the caveats in the documentation: https://pandas.pydata.org/pandas-docs/stable/user_guide/indexing.html#returning-a-view-versus-a-copy\n",
      "  stock_df['returns'] = stock_df['Adj Close'].pct_change()\n",
      "[*********************100%%**********************]  1 of 1 completed\n",
      "C:\\Users\\Bogdan\\AppData\\Local\\Temp\\ipykernel_28348\\2407199606.py:3: SettingWithCopyWarning: \n",
      "A value is trying to be set on a copy of a slice from a DataFrame.\n",
      "Try using .loc[row_indexer,col_indexer] = value instead\n",
      "\n",
      "See the caveats in the documentation: https://pandas.pydata.org/pandas-docs/stable/user_guide/indexing.html#returning-a-view-versus-a-copy\n",
      "  stock_df['returns'] = stock_df['Adj Close'].pct_change()\n"
     ]
    },
    {
     "name": "stdout",
     "output_type": "stream",
     "text": [
      "AFL is done\n",
      "A is done\n"
     ]
    },
    {
     "name": "stderr",
     "output_type": "stream",
     "text": [
      "[*********************100%%**********************]  1 of 1 completed\n",
      "C:\\Users\\Bogdan\\AppData\\Local\\Temp\\ipykernel_28348\\2407199606.py:3: SettingWithCopyWarning: \n",
      "A value is trying to be set on a copy of a slice from a DataFrame.\n",
      "Try using .loc[row_indexer,col_indexer] = value instead\n",
      "\n",
      "See the caveats in the documentation: https://pandas.pydata.org/pandas-docs/stable/user_guide/indexing.html#returning-a-view-versus-a-copy\n",
      "  stock_df['returns'] = stock_df['Adj Close'].pct_change()\n",
      "[*********************100%%**********************]  1 of 1 completed\n",
      "C:\\Users\\Bogdan\\AppData\\Local\\Temp\\ipykernel_28348\\2407199606.py:3: SettingWithCopyWarning: \n",
      "A value is trying to be set on a copy of a slice from a DataFrame.\n",
      "Try using .loc[row_indexer,col_indexer] = value instead\n",
      "\n",
      "See the caveats in the documentation: https://pandas.pydata.org/pandas-docs/stable/user_guide/indexing.html#returning-a-view-versus-a-copy\n",
      "  stock_df['returns'] = stock_df['Adj Close'].pct_change()\n",
      "[*********************100%%**********************]  1 of 1 completed\n",
      "C:\\Users\\Bogdan\\AppData\\Local\\Temp\\ipykernel_28348\\2407199606.py:3: SettingWithCopyWarning: \n",
      "A value is trying to be set on a copy of a slice from a DataFrame.\n",
      "Try using .loc[row_indexer,col_indexer] = value instead\n",
      "\n",
      "See the caveats in the documentation: https://pandas.pydata.org/pandas-docs/stable/user_guide/indexing.html#returning-a-view-versus-a-copy\n",
      "  stock_df['returns'] = stock_df['Adj Close'].pct_change()\n",
      "[*********************100%%**********************]  1 of 1 completed"
     ]
    },
    {
     "name": "stdout",
     "output_type": "stream",
     "text": [
      "APD is done\n",
      "ABNB is done\n",
      "AKAM is done\n"
     ]
    },
    {
     "name": "stderr",
     "output_type": "stream",
     "text": [
      "\n",
      "C:\\Users\\Bogdan\\AppData\\Local\\Temp\\ipykernel_28348\\2407199606.py:3: SettingWithCopyWarning: \n",
      "A value is trying to be set on a copy of a slice from a DataFrame.\n",
      "Try using .loc[row_indexer,col_indexer] = value instead\n",
      "\n",
      "See the caveats in the documentation: https://pandas.pydata.org/pandas-docs/stable/user_guide/indexing.html#returning-a-view-versus-a-copy\n",
      "  stock_df['returns'] = stock_df['Adj Close'].pct_change()\n",
      "[*********************100%%**********************]  1 of 1 completed\n",
      "C:\\Users\\Bogdan\\AppData\\Local\\Temp\\ipykernel_28348\\2407199606.py:3: SettingWithCopyWarning: \n",
      "A value is trying to be set on a copy of a slice from a DataFrame.\n",
      "Try using .loc[row_indexer,col_indexer] = value instead\n",
      "\n",
      "See the caveats in the documentation: https://pandas.pydata.org/pandas-docs/stable/user_guide/indexing.html#returning-a-view-versus-a-copy\n",
      "  stock_df['returns'] = stock_df['Adj Close'].pct_change()\n",
      "[*********************100%%**********************]  1 of 1 completed"
     ]
    },
    {
     "name": "stdout",
     "output_type": "stream",
     "text": [
      "ALB is done\n",
      "ARE is done\n",
      "ALGN is done\n"
     ]
    },
    {
     "name": "stderr",
     "output_type": "stream",
     "text": [
      "\n",
      "C:\\Users\\Bogdan\\AppData\\Local\\Temp\\ipykernel_28348\\2407199606.py:3: SettingWithCopyWarning: \n",
      "A value is trying to be set on a copy of a slice from a DataFrame.\n",
      "Try using .loc[row_indexer,col_indexer] = value instead\n",
      "\n",
      "See the caveats in the documentation: https://pandas.pydata.org/pandas-docs/stable/user_guide/indexing.html#returning-a-view-versus-a-copy\n",
      "  stock_df['returns'] = stock_df['Adj Close'].pct_change()\n",
      "[*********************100%%**********************]  1 of 1 completed\n",
      "C:\\Users\\Bogdan\\AppData\\Local\\Temp\\ipykernel_28348\\2407199606.py:3: SettingWithCopyWarning: \n",
      "A value is trying to be set on a copy of a slice from a DataFrame.\n",
      "Try using .loc[row_indexer,col_indexer] = value instead\n",
      "\n",
      "See the caveats in the documentation: https://pandas.pydata.org/pandas-docs/stable/user_guide/indexing.html#returning-a-view-versus-a-copy\n",
      "  stock_df['returns'] = stock_df['Adj Close'].pct_change()\n",
      "[*********************100%%**********************]  1 of 1 completed\n",
      "C:\\Users\\Bogdan\\AppData\\Local\\Temp\\ipykernel_28348\\2407199606.py:3: SettingWithCopyWarning: \n",
      "A value is trying to be set on a copy of a slice from a DataFrame.\n",
      "Try using .loc[row_indexer,col_indexer] = value instead\n",
      "\n",
      "See the caveats in the documentation: https://pandas.pydata.org/pandas-docs/stable/user_guide/indexing.html#returning-a-view-versus-a-copy\n",
      "  stock_df['returns'] = stock_df['Adj Close'].pct_change()\n",
      "[*********************100%%**********************]  1 of 1 completed"
     ]
    },
    {
     "name": "stdout",
     "output_type": "stream",
     "text": [
      "ALLE is done\n",
      "LNT is done\n"
     ]
    },
    {
     "name": "stderr",
     "output_type": "stream",
     "text": [
      "\n",
      "C:\\Users\\Bogdan\\AppData\\Local\\Temp\\ipykernel_28348\\2407199606.py:3: SettingWithCopyWarning: \n",
      "A value is trying to be set on a copy of a slice from a DataFrame.\n",
      "Try using .loc[row_indexer,col_indexer] = value instead\n",
      "\n",
      "See the caveats in the documentation: https://pandas.pydata.org/pandas-docs/stable/user_guide/indexing.html#returning-a-view-versus-a-copy\n",
      "  stock_df['returns'] = stock_df['Adj Close'].pct_change()\n",
      "[*********************100%%**********************]  1 of 1 completed\n",
      "C:\\Users\\Bogdan\\AppData\\Local\\Temp\\ipykernel_28348\\2407199606.py:3: SettingWithCopyWarning: \n",
      "A value is trying to be set on a copy of a slice from a DataFrame.\n",
      "Try using .loc[row_indexer,col_indexer] = value instead\n",
      "\n",
      "See the caveats in the documentation: https://pandas.pydata.org/pandas-docs/stable/user_guide/indexing.html#returning-a-view-versus-a-copy\n",
      "  stock_df['returns'] = stock_df['Adj Close'].pct_change()\n",
      "[*********************100%%**********************]  1 of 1 completed\n",
      "C:\\Users\\Bogdan\\AppData\\Local\\Temp\\ipykernel_28348\\2407199606.py:3: SettingWithCopyWarning: \n",
      "A value is trying to be set on a copy of a slice from a DataFrame.\n",
      "Try using .loc[row_indexer,col_indexer] = value instead\n",
      "\n",
      "See the caveats in the documentation: https://pandas.pydata.org/pandas-docs/stable/user_guide/indexing.html#returning-a-view-versus-a-copy\n",
      "  stock_df['returns'] = stock_df['Adj Close'].pct_change()\n"
     ]
    },
    {
     "name": "stdout",
     "output_type": "stream",
     "text": [
      "ALL is done\n",
      "GOOGL is done\n",
      "GOOG is done\n"
     ]
    },
    {
     "name": "stderr",
     "output_type": "stream",
     "text": [
      "[*********************100%%**********************]  1 of 1 completed\n",
      "C:\\Users\\Bogdan\\AppData\\Local\\Temp\\ipykernel_28348\\2407199606.py:3: SettingWithCopyWarning: \n",
      "A value is trying to be set on a copy of a slice from a DataFrame.\n",
      "Try using .loc[row_indexer,col_indexer] = value instead\n",
      "\n",
      "See the caveats in the documentation: https://pandas.pydata.org/pandas-docs/stable/user_guide/indexing.html#returning-a-view-versus-a-copy\n",
      "  stock_df['returns'] = stock_df['Adj Close'].pct_change()\n",
      "[*********************100%%**********************]  1 of 1 completed\n",
      "C:\\Users\\Bogdan\\AppData\\Local\\Temp\\ipykernel_28348\\2407199606.py:3: SettingWithCopyWarning: \n",
      "A value is trying to be set on a copy of a slice from a DataFrame.\n",
      "Try using .loc[row_indexer,col_indexer] = value instead\n",
      "\n",
      "See the caveats in the documentation: https://pandas.pydata.org/pandas-docs/stable/user_guide/indexing.html#returning-a-view-versus-a-copy\n",
      "  stock_df['returns'] = stock_df['Adj Close'].pct_change()\n",
      "[*********************100%%**********************]  1 of 1 completed\n",
      "C:\\Users\\Bogdan\\AppData\\Local\\Temp\\ipykernel_28348\\2407199606.py:3: SettingWithCopyWarning: \n",
      "A value is trying to be set on a copy of a slice from a DataFrame.\n",
      "Try using .loc[row_indexer,col_indexer] = value instead\n",
      "\n",
      "See the caveats in the documentation: https://pandas.pydata.org/pandas-docs/stable/user_guide/indexing.html#returning-a-view-versus-a-copy\n",
      "  stock_df['returns'] = stock_df['Adj Close'].pct_change()\n",
      "[*********************100%%**********************]  1 of 1 completed"
     ]
    },
    {
     "name": "stdout",
     "output_type": "stream",
     "text": [
      "MO is done\n",
      "AMZN is done\n",
      "AMCR is done\n"
     ]
    },
    {
     "name": "stderr",
     "output_type": "stream",
     "text": [
      "\n",
      "C:\\Users\\Bogdan\\AppData\\Local\\Temp\\ipykernel_28348\\2407199606.py:3: SettingWithCopyWarning: \n",
      "A value is trying to be set on a copy of a slice from a DataFrame.\n",
      "Try using .loc[row_indexer,col_indexer] = value instead\n",
      "\n",
      "See the caveats in the documentation: https://pandas.pydata.org/pandas-docs/stable/user_guide/indexing.html#returning-a-view-versus-a-copy\n",
      "  stock_df['returns'] = stock_df['Adj Close'].pct_change()\n",
      "[*********************100%%**********************]  1 of 1 completed\n",
      "C:\\Users\\Bogdan\\AppData\\Local\\Temp\\ipykernel_28348\\2407199606.py:3: SettingWithCopyWarning: \n",
      "A value is trying to be set on a copy of a slice from a DataFrame.\n",
      "Try using .loc[row_indexer,col_indexer] = value instead\n",
      "\n",
      "See the caveats in the documentation: https://pandas.pydata.org/pandas-docs/stable/user_guide/indexing.html#returning-a-view-versus-a-copy\n",
      "  stock_df['returns'] = stock_df['Adj Close'].pct_change()\n",
      "[*********************100%%**********************]  1 of 1 completed\n",
      "C:\\Users\\Bogdan\\AppData\\Local\\Temp\\ipykernel_28348\\2407199606.py:3: SettingWithCopyWarning: \n",
      "A value is trying to be set on a copy of a slice from a DataFrame.\n",
      "Try using .loc[row_indexer,col_indexer] = value instead\n",
      "\n",
      "See the caveats in the documentation: https://pandas.pydata.org/pandas-docs/stable/user_guide/indexing.html#returning-a-view-versus-a-copy\n",
      "  stock_df['returns'] = stock_df['Adj Close'].pct_change()\n"
     ]
    },
    {
     "name": "stdout",
     "output_type": "stream",
     "text": [
      "AEE is done\n",
      "AAL is done\n",
      "AEP is done\n"
     ]
    },
    {
     "name": "stderr",
     "output_type": "stream",
     "text": [
      "[*********************100%%**********************]  1 of 1 completed\n",
      "C:\\Users\\Bogdan\\AppData\\Local\\Temp\\ipykernel_28348\\2407199606.py:3: SettingWithCopyWarning: \n",
      "A value is trying to be set on a copy of a slice from a DataFrame.\n",
      "Try using .loc[row_indexer,col_indexer] = value instead\n",
      "\n",
      "See the caveats in the documentation: https://pandas.pydata.org/pandas-docs/stable/user_guide/indexing.html#returning-a-view-versus-a-copy\n",
      "  stock_df['returns'] = stock_df['Adj Close'].pct_change()\n",
      "[*********************100%%**********************]  1 of 1 completed"
     ]
    },
    {
     "name": "stdout",
     "output_type": "stream",
     "text": [
      "AXP is done\n"
     ]
    },
    {
     "name": "stderr",
     "output_type": "stream",
     "text": [
      "\n",
      "C:\\Users\\Bogdan\\AppData\\Local\\Temp\\ipykernel_28348\\2407199606.py:3: SettingWithCopyWarning: \n",
      "A value is trying to be set on a copy of a slice from a DataFrame.\n",
      "Try using .loc[row_indexer,col_indexer] = value instead\n",
      "\n",
      "See the caveats in the documentation: https://pandas.pydata.org/pandas-docs/stable/user_guide/indexing.html#returning-a-view-versus-a-copy\n",
      "  stock_df['returns'] = stock_df['Adj Close'].pct_change()\n",
      "[*********************100%%**********************]  1 of 1 completed\n",
      "C:\\Users\\Bogdan\\AppData\\Local\\Temp\\ipykernel_28348\\2407199606.py:3: SettingWithCopyWarning: \n",
      "A value is trying to be set on a copy of a slice from a DataFrame.\n",
      "Try using .loc[row_indexer,col_indexer] = value instead\n",
      "\n",
      "See the caveats in the documentation: https://pandas.pydata.org/pandas-docs/stable/user_guide/indexing.html#returning-a-view-versus-a-copy\n",
      "  stock_df['returns'] = stock_df['Adj Close'].pct_change()\n",
      "[*********************100%%**********************]  1 of 1 completed\n",
      "C:\\Users\\Bogdan\\AppData\\Local\\Temp\\ipykernel_28348\\2407199606.py:3: SettingWithCopyWarning: \n",
      "A value is trying to be set on a copy of a slice from a DataFrame.\n",
      "Try using .loc[row_indexer,col_indexer] = value instead\n",
      "\n",
      "See the caveats in the documentation: https://pandas.pydata.org/pandas-docs/stable/user_guide/indexing.html#returning-a-view-versus-a-copy\n",
      "  stock_df['returns'] = stock_df['Adj Close'].pct_change()\n"
     ]
    },
    {
     "name": "stdout",
     "output_type": "stream",
     "text": [
      "AIG is done\n",
      "AMT is done\n",
      "AWK is done\n"
     ]
    },
    {
     "name": "stderr",
     "output_type": "stream",
     "text": [
      "[*********************100%%**********************]  1 of 1 completed\n",
      "C:\\Users\\Bogdan\\AppData\\Local\\Temp\\ipykernel_28348\\2407199606.py:3: SettingWithCopyWarning: \n",
      "A value is trying to be set on a copy of a slice from a DataFrame.\n",
      "Try using .loc[row_indexer,col_indexer] = value instead\n",
      "\n",
      "See the caveats in the documentation: https://pandas.pydata.org/pandas-docs/stable/user_guide/indexing.html#returning-a-view-versus-a-copy\n",
      "  stock_df['returns'] = stock_df['Adj Close'].pct_change()\n",
      "[*********************100%%**********************]  1 of 1 completed\n",
      "C:\\Users\\Bogdan\\AppData\\Local\\Temp\\ipykernel_28348\\2407199606.py:3: SettingWithCopyWarning: \n",
      "A value is trying to be set on a copy of a slice from a DataFrame.\n",
      "Try using .loc[row_indexer,col_indexer] = value instead\n",
      "\n",
      "See the caveats in the documentation: https://pandas.pydata.org/pandas-docs/stable/user_guide/indexing.html#returning-a-view-versus-a-copy\n",
      "  stock_df['returns'] = stock_df['Adj Close'].pct_change()\n",
      "[*********************100%%**********************]  1 of 1 completed"
     ]
    },
    {
     "name": "stdout",
     "output_type": "stream",
     "text": [
      "AMP is done\n",
      "AME is done\n"
     ]
    },
    {
     "name": "stderr",
     "output_type": "stream",
     "text": [
      "\n",
      "C:\\Users\\Bogdan\\AppData\\Local\\Temp\\ipykernel_28348\\2407199606.py:3: SettingWithCopyWarning: \n",
      "A value is trying to be set on a copy of a slice from a DataFrame.\n",
      "Try using .loc[row_indexer,col_indexer] = value instead\n",
      "\n",
      "See the caveats in the documentation: https://pandas.pydata.org/pandas-docs/stable/user_guide/indexing.html#returning-a-view-versus-a-copy\n",
      "  stock_df['returns'] = stock_df['Adj Close'].pct_change()\n",
      "[*********************100%%**********************]  1 of 1 completed\n",
      "C:\\Users\\Bogdan\\AppData\\Local\\Temp\\ipykernel_28348\\2407199606.py:3: SettingWithCopyWarning: \n",
      "A value is trying to be set on a copy of a slice from a DataFrame.\n",
      "Try using .loc[row_indexer,col_indexer] = value instead\n",
      "\n",
      "See the caveats in the documentation: https://pandas.pydata.org/pandas-docs/stable/user_guide/indexing.html#returning-a-view-versus-a-copy\n",
      "  stock_df['returns'] = stock_df['Adj Close'].pct_change()\n",
      "[*********************100%%**********************]  1 of 1 completed"
     ]
    },
    {
     "name": "stdout",
     "output_type": "stream",
     "text": [
      "AMGN is done\n",
      "APH is done\n",
      "ADI is done\n"
     ]
    },
    {
     "name": "stderr",
     "output_type": "stream",
     "text": [
      "\n",
      "C:\\Users\\Bogdan\\AppData\\Local\\Temp\\ipykernel_28348\\2407199606.py:3: SettingWithCopyWarning: \n",
      "A value is trying to be set on a copy of a slice from a DataFrame.\n",
      "Try using .loc[row_indexer,col_indexer] = value instead\n",
      "\n",
      "See the caveats in the documentation: https://pandas.pydata.org/pandas-docs/stable/user_guide/indexing.html#returning-a-view-versus-a-copy\n",
      "  stock_df['returns'] = stock_df['Adj Close'].pct_change()\n",
      "[*********************100%%**********************]  1 of 1 completed\n",
      "C:\\Users\\Bogdan\\AppData\\Local\\Temp\\ipykernel_28348\\2407199606.py:3: SettingWithCopyWarning: \n",
      "A value is trying to be set on a copy of a slice from a DataFrame.\n",
      "Try using .loc[row_indexer,col_indexer] = value instead\n",
      "\n",
      "See the caveats in the documentation: https://pandas.pydata.org/pandas-docs/stable/user_guide/indexing.html#returning-a-view-versus-a-copy\n",
      "  stock_df['returns'] = stock_df['Adj Close'].pct_change()\n",
      "[*********************100%%**********************]  1 of 1 completed\n",
      "C:\\Users\\Bogdan\\AppData\\Local\\Temp\\ipykernel_28348\\2407199606.py:3: SettingWithCopyWarning: \n",
      "A value is trying to be set on a copy of a slice from a DataFrame.\n",
      "Try using .loc[row_indexer,col_indexer] = value instead\n",
      "\n",
      "See the caveats in the documentation: https://pandas.pydata.org/pandas-docs/stable/user_guide/indexing.html#returning-a-view-versus-a-copy\n",
      "  stock_df['returns'] = stock_df['Adj Close'].pct_change()\n"
     ]
    },
    {
     "name": "stdout",
     "output_type": "stream",
     "text": [
      "ANSS is done\n",
      "AON is done\n"
     ]
    },
    {
     "name": "stderr",
     "output_type": "stream",
     "text": [
      "[*********************100%%**********************]  1 of 1 completed\n",
      "C:\\Users\\Bogdan\\AppData\\Local\\Temp\\ipykernel_28348\\2407199606.py:3: SettingWithCopyWarning: \n",
      "A value is trying to be set on a copy of a slice from a DataFrame.\n",
      "Try using .loc[row_indexer,col_indexer] = value instead\n",
      "\n",
      "See the caveats in the documentation: https://pandas.pydata.org/pandas-docs/stable/user_guide/indexing.html#returning-a-view-versus-a-copy\n",
      "  stock_df['returns'] = stock_df['Adj Close'].pct_change()\n",
      "[*********************100%%**********************]  1 of 1 completed\n",
      "C:\\Users\\Bogdan\\AppData\\Local\\Temp\\ipykernel_28348\\2407199606.py:3: SettingWithCopyWarning: \n",
      "A value is trying to be set on a copy of a slice from a DataFrame.\n",
      "Try using .loc[row_indexer,col_indexer] = value instead\n",
      "\n",
      "See the caveats in the documentation: https://pandas.pydata.org/pandas-docs/stable/user_guide/indexing.html#returning-a-view-versus-a-copy\n",
      "  stock_df['returns'] = stock_df['Adj Close'].pct_change()\n"
     ]
    },
    {
     "name": "stdout",
     "output_type": "stream",
     "text": [
      "APA is done\n",
      "AAPL is done\n"
     ]
    },
    {
     "name": "stderr",
     "output_type": "stream",
     "text": [
      "[*********************100%%**********************]  1 of 1 completed\n",
      "C:\\Users\\Bogdan\\AppData\\Local\\Temp\\ipykernel_28348\\2407199606.py:3: SettingWithCopyWarning: \n",
      "A value is trying to be set on a copy of a slice from a DataFrame.\n",
      "Try using .loc[row_indexer,col_indexer] = value instead\n",
      "\n",
      "See the caveats in the documentation: https://pandas.pydata.org/pandas-docs/stable/user_guide/indexing.html#returning-a-view-versus-a-copy\n",
      "  stock_df['returns'] = stock_df['Adj Close'].pct_change()\n",
      "[*********************100%%**********************]  1 of 1 completed\n",
      "C:\\Users\\Bogdan\\AppData\\Local\\Temp\\ipykernel_28348\\2407199606.py:3: SettingWithCopyWarning: \n",
      "A value is trying to be set on a copy of a slice from a DataFrame.\n",
      "Try using .loc[row_indexer,col_indexer] = value instead\n",
      "\n",
      "See the caveats in the documentation: https://pandas.pydata.org/pandas-docs/stable/user_guide/indexing.html#returning-a-view-versus-a-copy\n",
      "  stock_df['returns'] = stock_df['Adj Close'].pct_change()\n",
      "[*********************100%%**********************]  1 of 1 completed\n",
      "C:\\Users\\Bogdan\\AppData\\Local\\Temp\\ipykernel_28348\\2407199606.py:3: SettingWithCopyWarning: \n",
      "A value is trying to be set on a copy of a slice from a DataFrame.\n",
      "Try using .loc[row_indexer,col_indexer] = value instead\n",
      "\n",
      "See the caveats in the documentation: https://pandas.pydata.org/pandas-docs/stable/user_guide/indexing.html#returning-a-view-versus-a-copy\n",
      "  stock_df['returns'] = stock_df['Adj Close'].pct_change()\n"
     ]
    },
    {
     "name": "stdout",
     "output_type": "stream",
     "text": [
      "AMAT is done\n",
      "APTV is done\n",
      "ACGL is done\n"
     ]
    },
    {
     "name": "stderr",
     "output_type": "stream",
     "text": [
      "[*********************100%%**********************]  1 of 1 completed\n",
      "C:\\Users\\Bogdan\\AppData\\Local\\Temp\\ipykernel_28348\\2407199606.py:3: SettingWithCopyWarning: \n",
      "A value is trying to be set on a copy of a slice from a DataFrame.\n",
      "Try using .loc[row_indexer,col_indexer] = value instead\n",
      "\n",
      "See the caveats in the documentation: https://pandas.pydata.org/pandas-docs/stable/user_guide/indexing.html#returning-a-view-versus-a-copy\n",
      "  stock_df['returns'] = stock_df['Adj Close'].pct_change()\n",
      "[*********************100%%**********************]  1 of 1 completed\n",
      "C:\\Users\\Bogdan\\AppData\\Local\\Temp\\ipykernel_28348\\2407199606.py:3: SettingWithCopyWarning: \n",
      "A value is trying to be set on a copy of a slice from a DataFrame.\n",
      "Try using .loc[row_indexer,col_indexer] = value instead\n",
      "\n",
      "See the caveats in the documentation: https://pandas.pydata.org/pandas-docs/stable/user_guide/indexing.html#returning-a-view-versus-a-copy\n",
      "  stock_df['returns'] = stock_df['Adj Close'].pct_change()\n",
      "[*********************100%%**********************]  1 of 1 completed\n",
      "C:\\Users\\Bogdan\\AppData\\Local\\Temp\\ipykernel_28348\\2407199606.py:3: SettingWithCopyWarning: \n",
      "A value is trying to be set on a copy of a slice from a DataFrame.\n",
      "Try using .loc[row_indexer,col_indexer] = value instead\n",
      "\n",
      "See the caveats in the documentation: https://pandas.pydata.org/pandas-docs/stable/user_guide/indexing.html#returning-a-view-versus-a-copy\n",
      "  stock_df['returns'] = stock_df['Adj Close'].pct_change()\n"
     ]
    },
    {
     "name": "stdout",
     "output_type": "stream",
     "text": [
      "ADM is done\n",
      "ANET is done\n",
      "AJG is done\n"
     ]
    },
    {
     "name": "stderr",
     "output_type": "stream",
     "text": [
      "[*********************100%%**********************]  1 of 1 completed\n",
      "C:\\Users\\Bogdan\\AppData\\Local\\Temp\\ipykernel_28348\\2407199606.py:3: SettingWithCopyWarning: \n",
      "A value is trying to be set on a copy of a slice from a DataFrame.\n",
      "Try using .loc[row_indexer,col_indexer] = value instead\n",
      "\n",
      "See the caveats in the documentation: https://pandas.pydata.org/pandas-docs/stable/user_guide/indexing.html#returning-a-view-versus-a-copy\n",
      "  stock_df['returns'] = stock_df['Adj Close'].pct_change()\n",
      "[*********************100%%**********************]  1 of 1 completed\n",
      "C:\\Users\\Bogdan\\AppData\\Local\\Temp\\ipykernel_28348\\2407199606.py:3: SettingWithCopyWarning: \n",
      "A value is trying to be set on a copy of a slice from a DataFrame.\n",
      "Try using .loc[row_indexer,col_indexer] = value instead\n",
      "\n",
      "See the caveats in the documentation: https://pandas.pydata.org/pandas-docs/stable/user_guide/indexing.html#returning-a-view-versus-a-copy\n",
      "  stock_df['returns'] = stock_df['Adj Close'].pct_change()\n",
      "[*********************100%%**********************]  1 of 1 completed\n",
      "C:\\Users\\Bogdan\\AppData\\Local\\Temp\\ipykernel_28348\\2407199606.py:3: SettingWithCopyWarning: \n",
      "A value is trying to be set on a copy of a slice from a DataFrame.\n",
      "Try using .loc[row_indexer,col_indexer] = value instead\n",
      "\n",
      "See the caveats in the documentation: https://pandas.pydata.org/pandas-docs/stable/user_guide/indexing.html#returning-a-view-versus-a-copy\n",
      "  stock_df['returns'] = stock_df['Adj Close'].pct_change()\n"
     ]
    },
    {
     "name": "stdout",
     "output_type": "stream",
     "text": [
      "AIZ is done\n",
      "T is done\n",
      "ATO is done\n"
     ]
    },
    {
     "name": "stderr",
     "output_type": "stream",
     "text": [
      "[*********************100%%**********************]  1 of 1 completed\n",
      "C:\\Users\\Bogdan\\AppData\\Local\\Temp\\ipykernel_28348\\2407199606.py:3: SettingWithCopyWarning: \n",
      "A value is trying to be set on a copy of a slice from a DataFrame.\n",
      "Try using .loc[row_indexer,col_indexer] = value instead\n",
      "\n",
      "See the caveats in the documentation: https://pandas.pydata.org/pandas-docs/stable/user_guide/indexing.html#returning-a-view-versus-a-copy\n",
      "  stock_df['returns'] = stock_df['Adj Close'].pct_change()\n",
      "[*********************100%%**********************]  1 of 1 completed\n",
      "C:\\Users\\Bogdan\\AppData\\Local\\Temp\\ipykernel_28348\\2407199606.py:3: SettingWithCopyWarning: \n",
      "A value is trying to be set on a copy of a slice from a DataFrame.\n",
      "Try using .loc[row_indexer,col_indexer] = value instead\n",
      "\n",
      "See the caveats in the documentation: https://pandas.pydata.org/pandas-docs/stable/user_guide/indexing.html#returning-a-view-versus-a-copy\n",
      "  stock_df['returns'] = stock_df['Adj Close'].pct_change()\n",
      "[*********************100%%**********************]  1 of 1 completed\n",
      "C:\\Users\\Bogdan\\AppData\\Local\\Temp\\ipykernel_28348\\2407199606.py:3: SettingWithCopyWarning: \n",
      "A value is trying to be set on a copy of a slice from a DataFrame.\n",
      "Try using .loc[row_indexer,col_indexer] = value instead\n",
      "\n",
      "See the caveats in the documentation: https://pandas.pydata.org/pandas-docs/stable/user_guide/indexing.html#returning-a-view-versus-a-copy\n",
      "  stock_df['returns'] = stock_df['Adj Close'].pct_change()\n"
     ]
    },
    {
     "name": "stdout",
     "output_type": "stream",
     "text": [
      "ADSK is done\n",
      "ADP is done\n",
      "AZO is done\n"
     ]
    },
    {
     "name": "stderr",
     "output_type": "stream",
     "text": [
      "[*********************100%%**********************]  1 of 1 completed\n",
      "C:\\Users\\Bogdan\\AppData\\Local\\Temp\\ipykernel_28348\\2407199606.py:3: SettingWithCopyWarning: \n",
      "A value is trying to be set on a copy of a slice from a DataFrame.\n",
      "Try using .loc[row_indexer,col_indexer] = value instead\n",
      "\n",
      "See the caveats in the documentation: https://pandas.pydata.org/pandas-docs/stable/user_guide/indexing.html#returning-a-view-versus-a-copy\n",
      "  stock_df['returns'] = stock_df['Adj Close'].pct_change()\n",
      "[*********************100%%**********************]  1 of 1 completed\n",
      "C:\\Users\\Bogdan\\AppData\\Local\\Temp\\ipykernel_28348\\2407199606.py:3: SettingWithCopyWarning: \n",
      "A value is trying to be set on a copy of a slice from a DataFrame.\n",
      "Try using .loc[row_indexer,col_indexer] = value instead\n",
      "\n",
      "See the caveats in the documentation: https://pandas.pydata.org/pandas-docs/stable/user_guide/indexing.html#returning-a-view-versus-a-copy\n",
      "  stock_df['returns'] = stock_df['Adj Close'].pct_change()\n",
      "[*********************100%%**********************]  1 of 1 completed"
     ]
    },
    {
     "name": "stdout",
     "output_type": "stream",
     "text": [
      "AVB is done\n",
      "AVY is done\n"
     ]
    },
    {
     "name": "stderr",
     "output_type": "stream",
     "text": [
      "\n",
      "C:\\Users\\Bogdan\\AppData\\Local\\Temp\\ipykernel_28348\\2407199606.py:3: SettingWithCopyWarning: \n",
      "A value is trying to be set on a copy of a slice from a DataFrame.\n",
      "Try using .loc[row_indexer,col_indexer] = value instead\n",
      "\n",
      "See the caveats in the documentation: https://pandas.pydata.org/pandas-docs/stable/user_guide/indexing.html#returning-a-view-versus-a-copy\n",
      "  stock_df['returns'] = stock_df['Adj Close'].pct_change()\n",
      "[*********************100%%**********************]  1 of 1 completed"
     ]
    },
    {
     "name": "stdout",
     "output_type": "stream",
     "text": [
      "AXON is done\n",
      "BKR is done\n"
     ]
    },
    {
     "name": "stderr",
     "output_type": "stream",
     "text": [
      "\n",
      "C:\\Users\\Bogdan\\AppData\\Local\\Temp\\ipykernel_28348\\2407199606.py:3: SettingWithCopyWarning: \n",
      "A value is trying to be set on a copy of a slice from a DataFrame.\n",
      "Try using .loc[row_indexer,col_indexer] = value instead\n",
      "\n",
      "See the caveats in the documentation: https://pandas.pydata.org/pandas-docs/stable/user_guide/indexing.html#returning-a-view-versus-a-copy\n",
      "  stock_df['returns'] = stock_df['Adj Close'].pct_change()\n",
      "[*********************100%%**********************]  1 of 1 completed\n",
      "C:\\Users\\Bogdan\\AppData\\Local\\Temp\\ipykernel_28348\\2407199606.py:3: SettingWithCopyWarning: \n",
      "A value is trying to be set on a copy of a slice from a DataFrame.\n",
      "Try using .loc[row_indexer,col_indexer] = value instead\n",
      "\n",
      "See the caveats in the documentation: https://pandas.pydata.org/pandas-docs/stable/user_guide/indexing.html#returning-a-view-versus-a-copy\n",
      "  stock_df['returns'] = stock_df['Adj Close'].pct_change()\n",
      "[*********************100%%**********************]  1 of 1 completed\n",
      "C:\\Users\\Bogdan\\AppData\\Local\\Temp\\ipykernel_28348\\2407199606.py:3: SettingWithCopyWarning: \n",
      "A value is trying to be set on a copy of a slice from a DataFrame.\n",
      "Try using .loc[row_indexer,col_indexer] = value instead\n",
      "\n",
      "See the caveats in the documentation: https://pandas.pydata.org/pandas-docs/stable/user_guide/indexing.html#returning-a-view-versus-a-copy\n",
      "  stock_df['returns'] = stock_df['Adj Close'].pct_change()\n",
      "[*********************100%%**********************]  1 of 1 completed"
     ]
    },
    {
     "name": "stdout",
     "output_type": "stream",
     "text": [
      "BALL is done\n",
      "BAC is done\n"
     ]
    },
    {
     "name": "stderr",
     "output_type": "stream",
     "text": [
      "\n",
      "C:\\Users\\Bogdan\\AppData\\Local\\Temp\\ipykernel_28348\\2407199606.py:3: SettingWithCopyWarning: \n",
      "A value is trying to be set on a copy of a slice from a DataFrame.\n",
      "Try using .loc[row_indexer,col_indexer] = value instead\n",
      "\n",
      "See the caveats in the documentation: https://pandas.pydata.org/pandas-docs/stable/user_guide/indexing.html#returning-a-view-versus-a-copy\n",
      "  stock_df['returns'] = stock_df['Adj Close'].pct_change()\n",
      "[*********************100%%**********************]  1 of 1 completed\n",
      "C:\\Users\\Bogdan\\AppData\\Local\\Temp\\ipykernel_28348\\2407199606.py:3: SettingWithCopyWarning: \n",
      "A value is trying to be set on a copy of a slice from a DataFrame.\n",
      "Try using .loc[row_indexer,col_indexer] = value instead\n",
      "\n",
      "See the caveats in the documentation: https://pandas.pydata.org/pandas-docs/stable/user_guide/indexing.html#returning-a-view-versus-a-copy\n",
      "  stock_df['returns'] = stock_df['Adj Close'].pct_change()\n",
      "[*********************100%%**********************]  1 of 1 completed"
     ]
    },
    {
     "name": "stdout",
     "output_type": "stream",
     "text": [
      "BK is done\n",
      "BBWI is done\n"
     ]
    },
    {
     "name": "stderr",
     "output_type": "stream",
     "text": [
      "\n",
      "C:\\Users\\Bogdan\\AppData\\Local\\Temp\\ipykernel_28348\\2407199606.py:3: SettingWithCopyWarning: \n",
      "A value is trying to be set on a copy of a slice from a DataFrame.\n",
      "Try using .loc[row_indexer,col_indexer] = value instead\n",
      "\n",
      "See the caveats in the documentation: https://pandas.pydata.org/pandas-docs/stable/user_guide/indexing.html#returning-a-view-versus-a-copy\n",
      "  stock_df['returns'] = stock_df['Adj Close'].pct_change()\n",
      "[*********************100%%**********************]  1 of 1 completed\n",
      "C:\\Users\\Bogdan\\AppData\\Local\\Temp\\ipykernel_28348\\2407199606.py:3: SettingWithCopyWarning: \n",
      "A value is trying to be set on a copy of a slice from a DataFrame.\n",
      "Try using .loc[row_indexer,col_indexer] = value instead\n",
      "\n",
      "See the caveats in the documentation: https://pandas.pydata.org/pandas-docs/stable/user_guide/indexing.html#returning-a-view-versus-a-copy\n",
      "  stock_df['returns'] = stock_df['Adj Close'].pct_change()\n",
      "[*********************100%%**********************]  1 of 1 completed\n",
      "C:\\Users\\Bogdan\\AppData\\Local\\Temp\\ipykernel_28348\\2407199606.py:3: SettingWithCopyWarning: \n",
      "A value is trying to be set on a copy of a slice from a DataFrame.\n",
      "Try using .loc[row_indexer,col_indexer] = value instead\n",
      "\n",
      "See the caveats in the documentation: https://pandas.pydata.org/pandas-docs/stable/user_guide/indexing.html#returning-a-view-versus-a-copy\n",
      "  stock_df['returns'] = stock_df['Adj Close'].pct_change()\n"
     ]
    },
    {
     "name": "stdout",
     "output_type": "stream",
     "text": [
      "BAX is done\n",
      "BDX is done\n",
      "BRK-B is done\n"
     ]
    },
    {
     "name": "stderr",
     "output_type": "stream",
     "text": [
      "[*********************100%%**********************]  1 of 1 completed\n",
      "C:\\Users\\Bogdan\\AppData\\Local\\Temp\\ipykernel_28348\\2407199606.py:3: SettingWithCopyWarning: \n",
      "A value is trying to be set on a copy of a slice from a DataFrame.\n",
      "Try using .loc[row_indexer,col_indexer] = value instead\n",
      "\n",
      "See the caveats in the documentation: https://pandas.pydata.org/pandas-docs/stable/user_guide/indexing.html#returning-a-view-versus-a-copy\n",
      "  stock_df['returns'] = stock_df['Adj Close'].pct_change()\n",
      "[*********************100%%**********************]  1 of 1 completed\n",
      "C:\\Users\\Bogdan\\AppData\\Local\\Temp\\ipykernel_28348\\2407199606.py:3: SettingWithCopyWarning: \n",
      "A value is trying to be set on a copy of a slice from a DataFrame.\n",
      "Try using .loc[row_indexer,col_indexer] = value instead\n",
      "\n",
      "See the caveats in the documentation: https://pandas.pydata.org/pandas-docs/stable/user_guide/indexing.html#returning-a-view-versus-a-copy\n",
      "  stock_df['returns'] = stock_df['Adj Close'].pct_change()\n",
      "[*********************100%%**********************]  1 of 1 completed"
     ]
    },
    {
     "name": "stdout",
     "output_type": "stream",
     "text": [
      "BBY is done\n",
      "BIO is done\n"
     ]
    },
    {
     "name": "stderr",
     "output_type": "stream",
     "text": [
      "\n",
      "C:\\Users\\Bogdan\\AppData\\Local\\Temp\\ipykernel_28348\\2407199606.py:3: SettingWithCopyWarning: \n",
      "A value is trying to be set on a copy of a slice from a DataFrame.\n",
      "Try using .loc[row_indexer,col_indexer] = value instead\n",
      "\n",
      "See the caveats in the documentation: https://pandas.pydata.org/pandas-docs/stable/user_guide/indexing.html#returning-a-view-versus-a-copy\n",
      "  stock_df['returns'] = stock_df['Adj Close'].pct_change()\n",
      "[*********************100%%**********************]  1 of 1 completed\n",
      "C:\\Users\\Bogdan\\AppData\\Local\\Temp\\ipykernel_28348\\2407199606.py:3: SettingWithCopyWarning: \n",
      "A value is trying to be set on a copy of a slice from a DataFrame.\n",
      "Try using .loc[row_indexer,col_indexer] = value instead\n",
      "\n",
      "See the caveats in the documentation: https://pandas.pydata.org/pandas-docs/stable/user_guide/indexing.html#returning-a-view-versus-a-copy\n",
      "  stock_df['returns'] = stock_df['Adj Close'].pct_change()\n",
      "[*********************100%%**********************]  1 of 1 completed\n",
      "C:\\Users\\Bogdan\\AppData\\Local\\Temp\\ipykernel_28348\\2407199606.py:3: SettingWithCopyWarning: \n",
      "A value is trying to be set on a copy of a slice from a DataFrame.\n",
      "Try using .loc[row_indexer,col_indexer] = value instead\n",
      "\n",
      "See the caveats in the documentation: https://pandas.pydata.org/pandas-docs/stable/user_guide/indexing.html#returning-a-view-versus-a-copy\n",
      "  stock_df['returns'] = stock_df['Adj Close'].pct_change()\n",
      "[*********************100%%**********************]  1 of 1 completed"
     ]
    },
    {
     "name": "stdout",
     "output_type": "stream",
     "text": [
      "TECH is done\n",
      "BIIB is done\n",
      "BLK is done\n"
     ]
    },
    {
     "name": "stderr",
     "output_type": "stream",
     "text": [
      "\n",
      "C:\\Users\\Bogdan\\AppData\\Local\\Temp\\ipykernel_28348\\2407199606.py:3: SettingWithCopyWarning: \n",
      "A value is trying to be set on a copy of a slice from a DataFrame.\n",
      "Try using .loc[row_indexer,col_indexer] = value instead\n",
      "\n",
      "See the caveats in the documentation: https://pandas.pydata.org/pandas-docs/stable/user_guide/indexing.html#returning-a-view-versus-a-copy\n",
      "  stock_df['returns'] = stock_df['Adj Close'].pct_change()\n",
      "[*********************100%%**********************]  1 of 1 completed\n",
      "C:\\Users\\Bogdan\\AppData\\Local\\Temp\\ipykernel_28348\\2407199606.py:3: SettingWithCopyWarning: \n",
      "A value is trying to be set on a copy of a slice from a DataFrame.\n",
      "Try using .loc[row_indexer,col_indexer] = value instead\n",
      "\n",
      "See the caveats in the documentation: https://pandas.pydata.org/pandas-docs/stable/user_guide/indexing.html#returning-a-view-versus-a-copy\n",
      "  stock_df['returns'] = stock_df['Adj Close'].pct_change()\n",
      "[*********************100%%**********************]  1 of 1 completed\n",
      "C:\\Users\\Bogdan\\AppData\\Local\\Temp\\ipykernel_28348\\2407199606.py:3: SettingWithCopyWarning: \n",
      "A value is trying to be set on a copy of a slice from a DataFrame.\n",
      "Try using .loc[row_indexer,col_indexer] = value instead\n",
      "\n",
      "See the caveats in the documentation: https://pandas.pydata.org/pandas-docs/stable/user_guide/indexing.html#returning-a-view-versus-a-copy\n",
      "  stock_df['returns'] = stock_df['Adj Close'].pct_change()\n"
     ]
    },
    {
     "name": "stdout",
     "output_type": "stream",
     "text": [
      "BX is done\n",
      "BA is done\n",
      "BKNG is done\n"
     ]
    },
    {
     "name": "stderr",
     "output_type": "stream",
     "text": [
      "[*********************100%%**********************]  1 of 1 completed\n",
      "C:\\Users\\Bogdan\\AppData\\Local\\Temp\\ipykernel_28348\\2407199606.py:3: SettingWithCopyWarning: \n",
      "A value is trying to be set on a copy of a slice from a DataFrame.\n",
      "Try using .loc[row_indexer,col_indexer] = value instead\n",
      "\n",
      "See the caveats in the documentation: https://pandas.pydata.org/pandas-docs/stable/user_guide/indexing.html#returning-a-view-versus-a-copy\n",
      "  stock_df['returns'] = stock_df['Adj Close'].pct_change()\n",
      "[*********************100%%**********************]  1 of 1 completed\n",
      "C:\\Users\\Bogdan\\AppData\\Local\\Temp\\ipykernel_28348\\2407199606.py:3: SettingWithCopyWarning: \n",
      "A value is trying to be set on a copy of a slice from a DataFrame.\n",
      "Try using .loc[row_indexer,col_indexer] = value instead\n",
      "\n",
      "See the caveats in the documentation: https://pandas.pydata.org/pandas-docs/stable/user_guide/indexing.html#returning-a-view-versus-a-copy\n",
      "  stock_df['returns'] = stock_df['Adj Close'].pct_change()\n"
     ]
    },
    {
     "name": "stdout",
     "output_type": "stream",
     "text": [
      "BWA is done\n",
      "BSX is done\n"
     ]
    },
    {
     "name": "stderr",
     "output_type": "stream",
     "text": [
      "[*********************100%%**********************]  1 of 1 completed\n",
      "C:\\Users\\Bogdan\\AppData\\Local\\Temp\\ipykernel_28348\\2407199606.py:3: SettingWithCopyWarning: \n",
      "A value is trying to be set on a copy of a slice from a DataFrame.\n",
      "Try using .loc[row_indexer,col_indexer] = value instead\n",
      "\n",
      "See the caveats in the documentation: https://pandas.pydata.org/pandas-docs/stable/user_guide/indexing.html#returning-a-view-versus-a-copy\n",
      "  stock_df['returns'] = stock_df['Adj Close'].pct_change()\n",
      "[*********************100%%**********************]  1 of 1 completed\n",
      "C:\\Users\\Bogdan\\AppData\\Local\\Temp\\ipykernel_28348\\2407199606.py:3: SettingWithCopyWarning: \n",
      "A value is trying to be set on a copy of a slice from a DataFrame.\n",
      "Try using .loc[row_indexer,col_indexer] = value instead\n",
      "\n",
      "See the caveats in the documentation: https://pandas.pydata.org/pandas-docs/stable/user_guide/indexing.html#returning-a-view-versus-a-copy\n",
      "  stock_df['returns'] = stock_df['Adj Close'].pct_change()\n",
      "[*********************100%%**********************]  1 of 1 completed\n",
      "C:\\Users\\Bogdan\\AppData\\Local\\Temp\\ipykernel_28348\\2407199606.py:3: SettingWithCopyWarning: \n",
      "A value is trying to be set on a copy of a slice from a DataFrame.\n",
      "Try using .loc[row_indexer,col_indexer] = value instead\n",
      "\n",
      "See the caveats in the documentation: https://pandas.pydata.org/pandas-docs/stable/user_guide/indexing.html#returning-a-view-versus-a-copy\n",
      "  stock_df['returns'] = stock_df['Adj Close'].pct_change()\n"
     ]
    },
    {
     "name": "stdout",
     "output_type": "stream",
     "text": [
      "BMY is done\n",
      "AVGO is done\n",
      "BR is done\n"
     ]
    },
    {
     "name": "stderr",
     "output_type": "stream",
     "text": [
      "[*********************100%%**********************]  1 of 1 completed\n",
      "C:\\Users\\Bogdan\\AppData\\Local\\Temp\\ipykernel_28348\\2407199606.py:3: SettingWithCopyWarning: \n",
      "A value is trying to be set on a copy of a slice from a DataFrame.\n",
      "Try using .loc[row_indexer,col_indexer] = value instead\n",
      "\n",
      "See the caveats in the documentation: https://pandas.pydata.org/pandas-docs/stable/user_guide/indexing.html#returning-a-view-versus-a-copy\n",
      "  stock_df['returns'] = stock_df['Adj Close'].pct_change()\n",
      "[*********************100%%**********************]  1 of 1 completed\n",
      "C:\\Users\\Bogdan\\AppData\\Local\\Temp\\ipykernel_28348\\2407199606.py:3: SettingWithCopyWarning: \n",
      "A value is trying to be set on a copy of a slice from a DataFrame.\n",
      "Try using .loc[row_indexer,col_indexer] = value instead\n",
      "\n",
      "See the caveats in the documentation: https://pandas.pydata.org/pandas-docs/stable/user_guide/indexing.html#returning-a-view-versus-a-copy\n",
      "  stock_df['returns'] = stock_df['Adj Close'].pct_change()\n",
      "[*********************100%%**********************]  1 of 1 completed"
     ]
    },
    {
     "name": "stdout",
     "output_type": "stream",
     "text": [
      "BRO is done\n",
      "BF-B is done\n",
      "BLDR is done\n"
     ]
    },
    {
     "name": "stderr",
     "output_type": "stream",
     "text": [
      "\n",
      "C:\\Users\\Bogdan\\AppData\\Local\\Temp\\ipykernel_28348\\2407199606.py:3: SettingWithCopyWarning: \n",
      "A value is trying to be set on a copy of a slice from a DataFrame.\n",
      "Try using .loc[row_indexer,col_indexer] = value instead\n",
      "\n",
      "See the caveats in the documentation: https://pandas.pydata.org/pandas-docs/stable/user_guide/indexing.html#returning-a-view-versus-a-copy\n",
      "  stock_df['returns'] = stock_df['Adj Close'].pct_change()\n",
      "[*********************100%%**********************]  1 of 1 completed\n",
      "C:\\Users\\Bogdan\\AppData\\Local\\Temp\\ipykernel_28348\\2407199606.py:3: SettingWithCopyWarning: \n",
      "A value is trying to be set on a copy of a slice from a DataFrame.\n",
      "Try using .loc[row_indexer,col_indexer] = value instead\n",
      "\n",
      "See the caveats in the documentation: https://pandas.pydata.org/pandas-docs/stable/user_guide/indexing.html#returning-a-view-versus-a-copy\n",
      "  stock_df['returns'] = stock_df['Adj Close'].pct_change()\n",
      "[*********************100%%**********************]  1 of 1 completed\n",
      "C:\\Users\\Bogdan\\AppData\\Local\\Temp\\ipykernel_28348\\2407199606.py:3: SettingWithCopyWarning: \n",
      "A value is trying to be set on a copy of a slice from a DataFrame.\n",
      "Try using .loc[row_indexer,col_indexer] = value instead\n",
      "\n",
      "See the caveats in the documentation: https://pandas.pydata.org/pandas-docs/stable/user_guide/indexing.html#returning-a-view-versus-a-copy\n",
      "  stock_df['returns'] = stock_df['Adj Close'].pct_change()\n",
      "[*********************100%%**********************]  1 of 1 completed\n",
      "C:\\Users\\Bogdan\\AppData\\Local\\Temp\\ipykernel_28348\\2407199606.py:3: SettingWithCopyWarning: \n",
      "A value is trying to be set on a copy of a slice from a DataFrame.\n",
      "Try using .loc[row_indexer,col_indexer] = value instead\n",
      "\n",
      "See the caveats in the documentation: https://pandas.pydata.org/pandas-docs/stable/user_guide/indexing.html#returning-a-view-versus-a-copy\n",
      "  stock_df['returns'] = stock_df['Adj Close'].pct_change()\n"
     ]
    },
    {
     "name": "stdout",
     "output_type": "stream",
     "text": [
      "BG is done\n",
      "BXP is done\n",
      "CDNS is done\n"
     ]
    },
    {
     "name": "stderr",
     "output_type": "stream",
     "text": [
      "[*********************100%%**********************]  1 of 1 completed\n",
      "C:\\Users\\Bogdan\\AppData\\Local\\Temp\\ipykernel_28348\\2407199606.py:3: SettingWithCopyWarning: \n",
      "A value is trying to be set on a copy of a slice from a DataFrame.\n",
      "Try using .loc[row_indexer,col_indexer] = value instead\n",
      "\n",
      "See the caveats in the documentation: https://pandas.pydata.org/pandas-docs/stable/user_guide/indexing.html#returning-a-view-versus-a-copy\n",
      "  stock_df['returns'] = stock_df['Adj Close'].pct_change()\n",
      "[*********************100%%**********************]  1 of 1 completed\n",
      "C:\\Users\\Bogdan\\AppData\\Local\\Temp\\ipykernel_28348\\2407199606.py:3: SettingWithCopyWarning: \n",
      "A value is trying to be set on a copy of a slice from a DataFrame.\n",
      "Try using .loc[row_indexer,col_indexer] = value instead\n",
      "\n",
      "See the caveats in the documentation: https://pandas.pydata.org/pandas-docs/stable/user_guide/indexing.html#returning-a-view-versus-a-copy\n",
      "  stock_df['returns'] = stock_df['Adj Close'].pct_change()\n",
      "[*********************100%%**********************]  1 of 1 completed"
     ]
    },
    {
     "name": "stdout",
     "output_type": "stream",
     "text": [
      "CZR is done\n",
      "CPT is done\n"
     ]
    },
    {
     "name": "stderr",
     "output_type": "stream",
     "text": [
      "\n",
      "C:\\Users\\Bogdan\\AppData\\Local\\Temp\\ipykernel_28348\\2407199606.py:3: SettingWithCopyWarning: \n",
      "A value is trying to be set on a copy of a slice from a DataFrame.\n",
      "Try using .loc[row_indexer,col_indexer] = value instead\n",
      "\n",
      "See the caveats in the documentation: https://pandas.pydata.org/pandas-docs/stable/user_guide/indexing.html#returning-a-view-versus-a-copy\n",
      "  stock_df['returns'] = stock_df['Adj Close'].pct_change()\n",
      "[*********************100%%**********************]  1 of 1 completed\n",
      "C:\\Users\\Bogdan\\AppData\\Local\\Temp\\ipykernel_28348\\2407199606.py:3: SettingWithCopyWarning: \n",
      "A value is trying to be set on a copy of a slice from a DataFrame.\n",
      "Try using .loc[row_indexer,col_indexer] = value instead\n",
      "\n",
      "See the caveats in the documentation: https://pandas.pydata.org/pandas-docs/stable/user_guide/indexing.html#returning-a-view-versus-a-copy\n",
      "  stock_df['returns'] = stock_df['Adj Close'].pct_change()\n",
      "[*********************100%%**********************]  1 of 1 completed"
     ]
    },
    {
     "name": "stdout",
     "output_type": "stream",
     "text": [
      "CPB is done\n",
      "COF is done\n"
     ]
    },
    {
     "name": "stderr",
     "output_type": "stream",
     "text": [
      "\n",
      "C:\\Users\\Bogdan\\AppData\\Local\\Temp\\ipykernel_28348\\2407199606.py:3: SettingWithCopyWarning: \n",
      "A value is trying to be set on a copy of a slice from a DataFrame.\n",
      "Try using .loc[row_indexer,col_indexer] = value instead\n",
      "\n",
      "See the caveats in the documentation: https://pandas.pydata.org/pandas-docs/stable/user_guide/indexing.html#returning-a-view-versus-a-copy\n",
      "  stock_df['returns'] = stock_df['Adj Close'].pct_change()\n",
      "[*********************100%%**********************]  1 of 1 completed\n",
      "C:\\Users\\Bogdan\\AppData\\Local\\Temp\\ipykernel_28348\\2407199606.py:3: SettingWithCopyWarning: \n",
      "A value is trying to be set on a copy of a slice from a DataFrame.\n",
      "Try using .loc[row_indexer,col_indexer] = value instead\n",
      "\n",
      "See the caveats in the documentation: https://pandas.pydata.org/pandas-docs/stable/user_guide/indexing.html#returning-a-view-versus-a-copy\n",
      "  stock_df['returns'] = stock_df['Adj Close'].pct_change()\n",
      "[*********************100%%**********************]  1 of 1 completed\n",
      "C:\\Users\\Bogdan\\AppData\\Local\\Temp\\ipykernel_28348\\2407199606.py:3: SettingWithCopyWarning: \n",
      "A value is trying to be set on a copy of a slice from a DataFrame.\n",
      "Try using .loc[row_indexer,col_indexer] = value instead\n",
      "\n",
      "See the caveats in the documentation: https://pandas.pydata.org/pandas-docs/stable/user_guide/indexing.html#returning-a-view-versus-a-copy\n",
      "  stock_df['returns'] = stock_df['Adj Close'].pct_change()\n"
     ]
    },
    {
     "name": "stdout",
     "output_type": "stream",
     "text": [
      "CAH is done\n",
      "KMX is done\n",
      "CCL is done\n"
     ]
    },
    {
     "name": "stderr",
     "output_type": "stream",
     "text": [
      "[*********************100%%**********************]  1 of 1 completed\n",
      "C:\\Users\\Bogdan\\AppData\\Local\\Temp\\ipykernel_28348\\2407199606.py:3: SettingWithCopyWarning: \n",
      "A value is trying to be set on a copy of a slice from a DataFrame.\n",
      "Try using .loc[row_indexer,col_indexer] = value instead\n",
      "\n",
      "See the caveats in the documentation: https://pandas.pydata.org/pandas-docs/stable/user_guide/indexing.html#returning-a-view-versus-a-copy\n",
      "  stock_df['returns'] = stock_df['Adj Close'].pct_change()\n",
      "[*********************100%%**********************]  1 of 1 completed\n",
      "C:\\Users\\Bogdan\\AppData\\Local\\Temp\\ipykernel_28348\\2407199606.py:3: SettingWithCopyWarning: \n",
      "A value is trying to be set on a copy of a slice from a DataFrame.\n",
      "Try using .loc[row_indexer,col_indexer] = value instead\n",
      "\n",
      "See the caveats in the documentation: https://pandas.pydata.org/pandas-docs/stable/user_guide/indexing.html#returning-a-view-versus-a-copy\n",
      "  stock_df['returns'] = stock_df['Adj Close'].pct_change()\n",
      "[*********************100%%**********************]  1 of 1 completed"
     ]
    },
    {
     "name": "stdout",
     "output_type": "stream",
     "text": [
      "CARR is done\n",
      "CTLT is done\n",
      "CAT is done\n"
     ]
    },
    {
     "name": "stderr",
     "output_type": "stream",
     "text": [
      "\n",
      "C:\\Users\\Bogdan\\AppData\\Local\\Temp\\ipykernel_28348\\2407199606.py:3: SettingWithCopyWarning: \n",
      "A value is trying to be set on a copy of a slice from a DataFrame.\n",
      "Try using .loc[row_indexer,col_indexer] = value instead\n",
      "\n",
      "See the caveats in the documentation: https://pandas.pydata.org/pandas-docs/stable/user_guide/indexing.html#returning-a-view-versus-a-copy\n",
      "  stock_df['returns'] = stock_df['Adj Close'].pct_change()\n",
      "[*********************100%%**********************]  1 of 1 completed\n",
      "C:\\Users\\Bogdan\\AppData\\Local\\Temp\\ipykernel_28348\\2407199606.py:3: SettingWithCopyWarning: \n",
      "A value is trying to be set on a copy of a slice from a DataFrame.\n",
      "Try using .loc[row_indexer,col_indexer] = value instead\n",
      "\n",
      "See the caveats in the documentation: https://pandas.pydata.org/pandas-docs/stable/user_guide/indexing.html#returning-a-view-versus-a-copy\n",
      "  stock_df['returns'] = stock_df['Adj Close'].pct_change()\n",
      "[*********************100%%**********************]  1 of 1 completed\n",
      "C:\\Users\\Bogdan\\AppData\\Local\\Temp\\ipykernel_28348\\2407199606.py:3: SettingWithCopyWarning: \n",
      "A value is trying to be set on a copy of a slice from a DataFrame.\n",
      "Try using .loc[row_indexer,col_indexer] = value instead\n",
      "\n",
      "See the caveats in the documentation: https://pandas.pydata.org/pandas-docs/stable/user_guide/indexing.html#returning-a-view-versus-a-copy\n",
      "  stock_df['returns'] = stock_df['Adj Close'].pct_change()\n",
      "[*********************100%%**********************]  1 of 1 completed\n",
      "C:\\Users\\Bogdan\\AppData\\Local\\Temp\\ipykernel_28348\\2407199606.py:3: SettingWithCopyWarning: \n",
      "A value is trying to be set on a copy of a slice from a DataFrame.\n",
      "Try using .loc[row_indexer,col_indexer] = value instead\n",
      "\n",
      "See the caveats in the documentation: https://pandas.pydata.org/pandas-docs/stable/user_guide/indexing.html#returning-a-view-versus-a-copy\n",
      "  stock_df['returns'] = stock_df['Adj Close'].pct_change()\n",
      "[*********************100%%**********************]  1 of 1 completed"
     ]
    },
    {
     "name": "stdout",
     "output_type": "stream",
     "text": [
      "CBOE is done\n",
      "CBRE is done\n",
      "CDW is done\n",
      "CE is done\n"
     ]
    },
    {
     "name": "stderr",
     "output_type": "stream",
     "text": [
      "\n",
      "C:\\Users\\Bogdan\\AppData\\Local\\Temp\\ipykernel_28348\\2407199606.py:3: SettingWithCopyWarning: \n",
      "A value is trying to be set on a copy of a slice from a DataFrame.\n",
      "Try using .loc[row_indexer,col_indexer] = value instead\n",
      "\n",
      "See the caveats in the documentation: https://pandas.pydata.org/pandas-docs/stable/user_guide/indexing.html#returning-a-view-versus-a-copy\n",
      "  stock_df['returns'] = stock_df['Adj Close'].pct_change()\n",
      "[*********************100%%**********************]  1 of 1 completed\n",
      "C:\\Users\\Bogdan\\AppData\\Local\\Temp\\ipykernel_28348\\2407199606.py:3: SettingWithCopyWarning: \n",
      "A value is trying to be set on a copy of a slice from a DataFrame.\n",
      "Try using .loc[row_indexer,col_indexer] = value instead\n",
      "\n",
      "See the caveats in the documentation: https://pandas.pydata.org/pandas-docs/stable/user_guide/indexing.html#returning-a-view-versus-a-copy\n",
      "  stock_df['returns'] = stock_df['Adj Close'].pct_change()\n",
      "[*********************100%%**********************]  1 of 1 completed\n",
      "C:\\Users\\Bogdan\\AppData\\Local\\Temp\\ipykernel_28348\\2407199606.py:3: SettingWithCopyWarning: \n",
      "A value is trying to be set on a copy of a slice from a DataFrame.\n",
      "Try using .loc[row_indexer,col_indexer] = value instead\n",
      "\n",
      "See the caveats in the documentation: https://pandas.pydata.org/pandas-docs/stable/user_guide/indexing.html#returning-a-view-versus-a-copy\n",
      "  stock_df['returns'] = stock_df['Adj Close'].pct_change()\n",
      "[*********************100%%**********************]  1 of 1 completed"
     ]
    },
    {
     "name": "stdout",
     "output_type": "stream",
     "text": [
      "COR is done\n",
      "CNC is done\n"
     ]
    },
    {
     "name": "stderr",
     "output_type": "stream",
     "text": [
      "\n",
      "C:\\Users\\Bogdan\\AppData\\Local\\Temp\\ipykernel_28348\\2407199606.py:3: SettingWithCopyWarning: \n",
      "A value is trying to be set on a copy of a slice from a DataFrame.\n",
      "Try using .loc[row_indexer,col_indexer] = value instead\n",
      "\n",
      "See the caveats in the documentation: https://pandas.pydata.org/pandas-docs/stable/user_guide/indexing.html#returning-a-view-versus-a-copy\n",
      "  stock_df['returns'] = stock_df['Adj Close'].pct_change()\n",
      "[*********************100%%**********************]  1 of 1 completed\n",
      "C:\\Users\\Bogdan\\AppData\\Local\\Temp\\ipykernel_28348\\2407199606.py:3: SettingWithCopyWarning: \n",
      "A value is trying to be set on a copy of a slice from a DataFrame.\n",
      "Try using .loc[row_indexer,col_indexer] = value instead\n",
      "\n",
      "See the caveats in the documentation: https://pandas.pydata.org/pandas-docs/stable/user_guide/indexing.html#returning-a-view-versus-a-copy\n",
      "  stock_df['returns'] = stock_df['Adj Close'].pct_change()\n",
      "[*********************100%%**********************]  1 of 1 completed"
     ]
    },
    {
     "name": "stdout",
     "output_type": "stream",
     "text": [
      "CNP is done\n",
      "CF is done\n"
     ]
    },
    {
     "name": "stderr",
     "output_type": "stream",
     "text": [
      "\n",
      "C:\\Users\\Bogdan\\AppData\\Local\\Temp\\ipykernel_28348\\2407199606.py:3: SettingWithCopyWarning: \n",
      "A value is trying to be set on a copy of a slice from a DataFrame.\n",
      "Try using .loc[row_indexer,col_indexer] = value instead\n",
      "\n",
      "See the caveats in the documentation: https://pandas.pydata.org/pandas-docs/stable/user_guide/indexing.html#returning-a-view-versus-a-copy\n",
      "  stock_df['returns'] = stock_df['Adj Close'].pct_change()\n",
      "[*********************100%%**********************]  1 of 1 completed\n",
      "C:\\Users\\Bogdan\\AppData\\Local\\Temp\\ipykernel_28348\\2407199606.py:3: SettingWithCopyWarning: \n",
      "A value is trying to be set on a copy of a slice from a DataFrame.\n",
      "Try using .loc[row_indexer,col_indexer] = value instead\n",
      "\n",
      "See the caveats in the documentation: https://pandas.pydata.org/pandas-docs/stable/user_guide/indexing.html#returning-a-view-versus-a-copy\n",
      "  stock_df['returns'] = stock_df['Adj Close'].pct_change()\n",
      "[*********************100%%**********************]  1 of 1 completed"
     ]
    },
    {
     "name": "stdout",
     "output_type": "stream",
     "text": [
      "CHRW is done\n",
      "CRL is done\n",
      "SCHW is done\n"
     ]
    },
    {
     "name": "stderr",
     "output_type": "stream",
     "text": [
      "\n",
      "C:\\Users\\Bogdan\\AppData\\Local\\Temp\\ipykernel_28348\\2407199606.py:3: SettingWithCopyWarning: \n",
      "A value is trying to be set on a copy of a slice from a DataFrame.\n",
      "Try using .loc[row_indexer,col_indexer] = value instead\n",
      "\n",
      "See the caveats in the documentation: https://pandas.pydata.org/pandas-docs/stable/user_guide/indexing.html#returning-a-view-versus-a-copy\n",
      "  stock_df['returns'] = stock_df['Adj Close'].pct_change()\n",
      "[*********************100%%**********************]  1 of 1 completed\n",
      "C:\\Users\\Bogdan\\AppData\\Local\\Temp\\ipykernel_28348\\2407199606.py:3: SettingWithCopyWarning: \n",
      "A value is trying to be set on a copy of a slice from a DataFrame.\n",
      "Try using .loc[row_indexer,col_indexer] = value instead\n",
      "\n",
      "See the caveats in the documentation: https://pandas.pydata.org/pandas-docs/stable/user_guide/indexing.html#returning-a-view-versus-a-copy\n",
      "  stock_df['returns'] = stock_df['Adj Close'].pct_change()\n",
      "[*********************100%%**********************]  1 of 1 completed"
     ]
    },
    {
     "name": "stdout",
     "output_type": "stream",
     "text": [
      "CHTR is done\n",
      "CVX is done\n"
     ]
    },
    {
     "name": "stderr",
     "output_type": "stream",
     "text": [
      "\n",
      "C:\\Users\\Bogdan\\AppData\\Local\\Temp\\ipykernel_28348\\2407199606.py:3: SettingWithCopyWarning: \n",
      "A value is trying to be set on a copy of a slice from a DataFrame.\n",
      "Try using .loc[row_indexer,col_indexer] = value instead\n",
      "\n",
      "See the caveats in the documentation: https://pandas.pydata.org/pandas-docs/stable/user_guide/indexing.html#returning-a-view-versus-a-copy\n",
      "  stock_df['returns'] = stock_df['Adj Close'].pct_change()\n",
      "[*********************100%%**********************]  1 of 1 completed\n",
      "C:\\Users\\Bogdan\\AppData\\Local\\Temp\\ipykernel_28348\\2407199606.py:3: SettingWithCopyWarning: \n",
      "A value is trying to be set on a copy of a slice from a DataFrame.\n",
      "Try using .loc[row_indexer,col_indexer] = value instead\n",
      "\n",
      "See the caveats in the documentation: https://pandas.pydata.org/pandas-docs/stable/user_guide/indexing.html#returning-a-view-versus-a-copy\n",
      "  stock_df['returns'] = stock_df['Adj Close'].pct_change()\n",
      "[*********************100%%**********************]  1 of 1 completed\n",
      "C:\\Users\\Bogdan\\AppData\\Local\\Temp\\ipykernel_28348\\2407199606.py:3: SettingWithCopyWarning: \n",
      "A value is trying to be set on a copy of a slice from a DataFrame.\n",
      "Try using .loc[row_indexer,col_indexer] = value instead\n",
      "\n",
      "See the caveats in the documentation: https://pandas.pydata.org/pandas-docs/stable/user_guide/indexing.html#returning-a-view-versus-a-copy\n",
      "  stock_df['returns'] = stock_df['Adj Close'].pct_change()\n"
     ]
    },
    {
     "name": "stdout",
     "output_type": "stream",
     "text": [
      "CMG is done\n",
      "CB is done\n"
     ]
    },
    {
     "name": "stderr",
     "output_type": "stream",
     "text": [
      "[*********************100%%**********************]  1 of 1 completed\n",
      "C:\\Users\\Bogdan\\AppData\\Local\\Temp\\ipykernel_28348\\2407199606.py:3: SettingWithCopyWarning: \n",
      "A value is trying to be set on a copy of a slice from a DataFrame.\n",
      "Try using .loc[row_indexer,col_indexer] = value instead\n",
      "\n",
      "See the caveats in the documentation: https://pandas.pydata.org/pandas-docs/stable/user_guide/indexing.html#returning-a-view-versus-a-copy\n",
      "  stock_df['returns'] = stock_df['Adj Close'].pct_change()\n",
      "[*********************100%%**********************]  1 of 1 completed\n",
      "C:\\Users\\Bogdan\\AppData\\Local\\Temp\\ipykernel_28348\\2407199606.py:3: SettingWithCopyWarning: \n",
      "A value is trying to be set on a copy of a slice from a DataFrame.\n",
      "Try using .loc[row_indexer,col_indexer] = value instead\n",
      "\n",
      "See the caveats in the documentation: https://pandas.pydata.org/pandas-docs/stable/user_guide/indexing.html#returning-a-view-versus-a-copy\n",
      "  stock_df['returns'] = stock_df['Adj Close'].pct_change()\n",
      "[*********************100%%**********************]  1 of 1 completed"
     ]
    },
    {
     "name": "stdout",
     "output_type": "stream",
     "text": [
      "CHD is done\n",
      "CI is done\n"
     ]
    },
    {
     "name": "stderr",
     "output_type": "stream",
     "text": [
      "\n",
      "C:\\Users\\Bogdan\\AppData\\Local\\Temp\\ipykernel_28348\\2407199606.py:3: SettingWithCopyWarning: \n",
      "A value is trying to be set on a copy of a slice from a DataFrame.\n",
      "Try using .loc[row_indexer,col_indexer] = value instead\n",
      "\n",
      "See the caveats in the documentation: https://pandas.pydata.org/pandas-docs/stable/user_guide/indexing.html#returning-a-view-versus-a-copy\n",
      "  stock_df['returns'] = stock_df['Adj Close'].pct_change()\n",
      "[*********************100%%**********************]  1 of 1 completed\n",
      "C:\\Users\\Bogdan\\AppData\\Local\\Temp\\ipykernel_28348\\2407199606.py:3: SettingWithCopyWarning: \n",
      "A value is trying to be set on a copy of a slice from a DataFrame.\n",
      "Try using .loc[row_indexer,col_indexer] = value instead\n",
      "\n",
      "See the caveats in the documentation: https://pandas.pydata.org/pandas-docs/stable/user_guide/indexing.html#returning-a-view-versus-a-copy\n",
      "  stock_df['returns'] = stock_df['Adj Close'].pct_change()\n",
      "[*********************100%%**********************]  1 of 1 completed\n",
      "C:\\Users\\Bogdan\\AppData\\Local\\Temp\\ipykernel_28348\\2407199606.py:3: SettingWithCopyWarning: \n",
      "A value is trying to be set on a copy of a slice from a DataFrame.\n",
      "Try using .loc[row_indexer,col_indexer] = value instead\n",
      "\n",
      "See the caveats in the documentation: https://pandas.pydata.org/pandas-docs/stable/user_guide/indexing.html#returning-a-view-versus-a-copy\n",
      "  stock_df['returns'] = stock_df['Adj Close'].pct_change()\n"
     ]
    },
    {
     "name": "stdout",
     "output_type": "stream",
     "text": [
      "CINF is done\n",
      "CTAS is done\n",
      "CSCO is done\n"
     ]
    },
    {
     "name": "stderr",
     "output_type": "stream",
     "text": [
      "[*********************100%%**********************]  1 of 1 completed\n",
      "C:\\Users\\Bogdan\\AppData\\Local\\Temp\\ipykernel_28348\\2407199606.py:3: SettingWithCopyWarning: \n",
      "A value is trying to be set on a copy of a slice from a DataFrame.\n",
      "Try using .loc[row_indexer,col_indexer] = value instead\n",
      "\n",
      "See the caveats in the documentation: https://pandas.pydata.org/pandas-docs/stable/user_guide/indexing.html#returning-a-view-versus-a-copy\n",
      "  stock_df['returns'] = stock_df['Adj Close'].pct_change()\n",
      "[*********************100%%**********************]  1 of 1 completed\n",
      "C:\\Users\\Bogdan\\AppData\\Local\\Temp\\ipykernel_28348\\2407199606.py:3: SettingWithCopyWarning: \n",
      "A value is trying to be set on a copy of a slice from a DataFrame.\n",
      "Try using .loc[row_indexer,col_indexer] = value instead\n",
      "\n",
      "See the caveats in the documentation: https://pandas.pydata.org/pandas-docs/stable/user_guide/indexing.html#returning-a-view-versus-a-copy\n",
      "  stock_df['returns'] = stock_df['Adj Close'].pct_change()\n"
     ]
    },
    {
     "name": "stdout",
     "output_type": "stream",
     "text": [
      "C is done\n",
      "CFG is done\n"
     ]
    },
    {
     "name": "stderr",
     "output_type": "stream",
     "text": [
      "[*********************100%%**********************]  1 of 1 completed\n",
      "C:\\Users\\Bogdan\\AppData\\Local\\Temp\\ipykernel_28348\\2407199606.py:3: SettingWithCopyWarning: \n",
      "A value is trying to be set on a copy of a slice from a DataFrame.\n",
      "Try using .loc[row_indexer,col_indexer] = value instead\n",
      "\n",
      "See the caveats in the documentation: https://pandas.pydata.org/pandas-docs/stable/user_guide/indexing.html#returning-a-view-versus-a-copy\n",
      "  stock_df['returns'] = stock_df['Adj Close'].pct_change()\n",
      "[*********************100%%**********************]  1 of 1 completed\n",
      "C:\\Users\\Bogdan\\AppData\\Local\\Temp\\ipykernel_28348\\2407199606.py:3: SettingWithCopyWarning: \n",
      "A value is trying to be set on a copy of a slice from a DataFrame.\n",
      "Try using .loc[row_indexer,col_indexer] = value instead\n",
      "\n",
      "See the caveats in the documentation: https://pandas.pydata.org/pandas-docs/stable/user_guide/indexing.html#returning-a-view-versus-a-copy\n",
      "  stock_df['returns'] = stock_df['Adj Close'].pct_change()\n"
     ]
    },
    {
     "name": "stdout",
     "output_type": "stream",
     "text": [
      "CLX is done\n",
      "CME is done\n"
     ]
    },
    {
     "name": "stderr",
     "output_type": "stream",
     "text": [
      "[*********************100%%**********************]  1 of 1 completed\n",
      "C:\\Users\\Bogdan\\AppData\\Local\\Temp\\ipykernel_28348\\2407199606.py:3: SettingWithCopyWarning: \n",
      "A value is trying to be set on a copy of a slice from a DataFrame.\n",
      "Try using .loc[row_indexer,col_indexer] = value instead\n",
      "\n",
      "See the caveats in the documentation: https://pandas.pydata.org/pandas-docs/stable/user_guide/indexing.html#returning-a-view-versus-a-copy\n",
      "  stock_df['returns'] = stock_df['Adj Close'].pct_change()\n",
      "[*********************100%%**********************]  1 of 1 completed\n",
      "C:\\Users\\Bogdan\\AppData\\Local\\Temp\\ipykernel_28348\\2407199606.py:3: SettingWithCopyWarning: \n",
      "A value is trying to be set on a copy of a slice from a DataFrame.\n",
      "Try using .loc[row_indexer,col_indexer] = value instead\n",
      "\n",
      "See the caveats in the documentation: https://pandas.pydata.org/pandas-docs/stable/user_guide/indexing.html#returning-a-view-versus-a-copy\n",
      "  stock_df['returns'] = stock_df['Adj Close'].pct_change()\n"
     ]
    },
    {
     "name": "stdout",
     "output_type": "stream",
     "text": [
      "CMS is done\n",
      "KO is done\n"
     ]
    },
    {
     "name": "stderr",
     "output_type": "stream",
     "text": [
      "[*********************100%%**********************]  1 of 1 completed\n",
      "C:\\Users\\Bogdan\\AppData\\Local\\Temp\\ipykernel_28348\\2407199606.py:3: SettingWithCopyWarning: \n",
      "A value is trying to be set on a copy of a slice from a DataFrame.\n",
      "Try using .loc[row_indexer,col_indexer] = value instead\n",
      "\n",
      "See the caveats in the documentation: https://pandas.pydata.org/pandas-docs/stable/user_guide/indexing.html#returning-a-view-versus-a-copy\n",
      "  stock_df['returns'] = stock_df['Adj Close'].pct_change()\n",
      "[*********************100%%**********************]  1 of 1 completed\n",
      "C:\\Users\\Bogdan\\AppData\\Local\\Temp\\ipykernel_28348\\2407199606.py:3: SettingWithCopyWarning: \n",
      "A value is trying to be set on a copy of a slice from a DataFrame.\n",
      "Try using .loc[row_indexer,col_indexer] = value instead\n",
      "\n",
      "See the caveats in the documentation: https://pandas.pydata.org/pandas-docs/stable/user_guide/indexing.html#returning-a-view-versus-a-copy\n",
      "  stock_df['returns'] = stock_df['Adj Close'].pct_change()\n",
      "[*********************100%%**********************]  1 of 1 completed"
     ]
    },
    {
     "name": "stdout",
     "output_type": "stream",
     "text": [
      "CTSH is done\n",
      "CL is done\n"
     ]
    },
    {
     "name": "stderr",
     "output_type": "stream",
     "text": [
      "\n",
      "C:\\Users\\Bogdan\\AppData\\Local\\Temp\\ipykernel_28348\\2407199606.py:3: SettingWithCopyWarning: \n",
      "A value is trying to be set on a copy of a slice from a DataFrame.\n",
      "Try using .loc[row_indexer,col_indexer] = value instead\n",
      "\n",
      "See the caveats in the documentation: https://pandas.pydata.org/pandas-docs/stable/user_guide/indexing.html#returning-a-view-versus-a-copy\n",
      "  stock_df['returns'] = stock_df['Adj Close'].pct_change()\n",
      "[*********************100%%**********************]  1 of 1 completed\n",
      "C:\\Users\\Bogdan\\AppData\\Local\\Temp\\ipykernel_28348\\2407199606.py:3: SettingWithCopyWarning: \n",
      "A value is trying to be set on a copy of a slice from a DataFrame.\n",
      "Try using .loc[row_indexer,col_indexer] = value instead\n",
      "\n",
      "See the caveats in the documentation: https://pandas.pydata.org/pandas-docs/stable/user_guide/indexing.html#returning-a-view-versus-a-copy\n",
      "  stock_df['returns'] = stock_df['Adj Close'].pct_change()\n"
     ]
    },
    {
     "name": "stdout",
     "output_type": "stream",
     "text": [
      "CMCSA is done\n",
      "CAG is done\n"
     ]
    },
    {
     "name": "stderr",
     "output_type": "stream",
     "text": [
      "[*********************100%%**********************]  1 of 1 completed\n",
      "C:\\Users\\Bogdan\\AppData\\Local\\Temp\\ipykernel_28348\\2407199606.py:3: SettingWithCopyWarning: \n",
      "A value is trying to be set on a copy of a slice from a DataFrame.\n",
      "Try using .loc[row_indexer,col_indexer] = value instead\n",
      "\n",
      "See the caveats in the documentation: https://pandas.pydata.org/pandas-docs/stable/user_guide/indexing.html#returning-a-view-versus-a-copy\n",
      "  stock_df['returns'] = stock_df['Adj Close'].pct_change()\n",
      "[*********************100%%**********************]  1 of 1 completed\n",
      "C:\\Users\\Bogdan\\AppData\\Local\\Temp\\ipykernel_28348\\2407199606.py:3: SettingWithCopyWarning: \n",
      "A value is trying to be set on a copy of a slice from a DataFrame.\n",
      "Try using .loc[row_indexer,col_indexer] = value instead\n",
      "\n",
      "See the caveats in the documentation: https://pandas.pydata.org/pandas-docs/stable/user_guide/indexing.html#returning-a-view-versus-a-copy\n",
      "  stock_df['returns'] = stock_df['Adj Close'].pct_change()\n",
      "[*********************100%%**********************]  1 of 1 completed"
     ]
    },
    {
     "name": "stdout",
     "output_type": "stream",
     "text": [
      "COP is done\n",
      "ED is done\n"
     ]
    },
    {
     "name": "stderr",
     "output_type": "stream",
     "text": [
      "\n",
      "C:\\Users\\Bogdan\\AppData\\Local\\Temp\\ipykernel_28348\\2407199606.py:3: SettingWithCopyWarning: \n",
      "A value is trying to be set on a copy of a slice from a DataFrame.\n",
      "Try using .loc[row_indexer,col_indexer] = value instead\n",
      "\n",
      "See the caveats in the documentation: https://pandas.pydata.org/pandas-docs/stable/user_guide/indexing.html#returning-a-view-versus-a-copy\n",
      "  stock_df['returns'] = stock_df['Adj Close'].pct_change()\n",
      "[*********************100%%**********************]  1 of 1 completed\n",
      "C:\\Users\\Bogdan\\AppData\\Local\\Temp\\ipykernel_28348\\2407199606.py:3: SettingWithCopyWarning: \n",
      "A value is trying to be set on a copy of a slice from a DataFrame.\n",
      "Try using .loc[row_indexer,col_indexer] = value instead\n",
      "\n",
      "See the caveats in the documentation: https://pandas.pydata.org/pandas-docs/stable/user_guide/indexing.html#returning-a-view-versus-a-copy\n",
      "  stock_df['returns'] = stock_df['Adj Close'].pct_change()\n",
      "[*********************100%%**********************]  1 of 1 completed\n",
      "C:\\Users\\Bogdan\\AppData\\Local\\Temp\\ipykernel_28348\\2407199606.py:3: SettingWithCopyWarning: \n",
      "A value is trying to be set on a copy of a slice from a DataFrame.\n",
      "Try using .loc[row_indexer,col_indexer] = value instead\n",
      "\n",
      "See the caveats in the documentation: https://pandas.pydata.org/pandas-docs/stable/user_guide/indexing.html#returning-a-view-versus-a-copy\n",
      "  stock_df['returns'] = stock_df['Adj Close'].pct_change()\n"
     ]
    },
    {
     "name": "stdout",
     "output_type": "stream",
     "text": [
      "STZ is done\n",
      "CEG is done\n",
      "COO is done\n"
     ]
    },
    {
     "name": "stderr",
     "output_type": "stream",
     "text": [
      "[*********************100%%**********************]  1 of 1 completed\n",
      "C:\\Users\\Bogdan\\AppData\\Local\\Temp\\ipykernel_28348\\2407199606.py:3: SettingWithCopyWarning: \n",
      "A value is trying to be set on a copy of a slice from a DataFrame.\n",
      "Try using .loc[row_indexer,col_indexer] = value instead\n",
      "\n",
      "See the caveats in the documentation: https://pandas.pydata.org/pandas-docs/stable/user_guide/indexing.html#returning-a-view-versus-a-copy\n",
      "  stock_df['returns'] = stock_df['Adj Close'].pct_change()\n",
      "[*********************100%%**********************]  1 of 1 completed\n",
      "C:\\Users\\Bogdan\\AppData\\Local\\Temp\\ipykernel_28348\\2407199606.py:3: SettingWithCopyWarning: \n",
      "A value is trying to be set on a copy of a slice from a DataFrame.\n",
      "Try using .loc[row_indexer,col_indexer] = value instead\n",
      "\n",
      "See the caveats in the documentation: https://pandas.pydata.org/pandas-docs/stable/user_guide/indexing.html#returning-a-view-versus-a-copy\n",
      "  stock_df['returns'] = stock_df['Adj Close'].pct_change()\n",
      "[*********************100%%**********************]  1 of 1 completed\n",
      "C:\\Users\\Bogdan\\AppData\\Local\\Temp\\ipykernel_28348\\2407199606.py:3: SettingWithCopyWarning: \n",
      "A value is trying to be set on a copy of a slice from a DataFrame.\n",
      "Try using .loc[row_indexer,col_indexer] = value instead\n",
      "\n",
      "See the caveats in the documentation: https://pandas.pydata.org/pandas-docs/stable/user_guide/indexing.html#returning-a-view-versus-a-copy\n",
      "  stock_df['returns'] = stock_df['Adj Close'].pct_change()\n"
     ]
    },
    {
     "name": "stdout",
     "output_type": "stream",
     "text": [
      "CPRT is done\n",
      "GLW is done\n",
      "CPAY is done\n"
     ]
    },
    {
     "name": "stderr",
     "output_type": "stream",
     "text": [
      "[*********************100%%**********************]  1 of 1 completed\n",
      "C:\\Users\\Bogdan\\AppData\\Local\\Temp\\ipykernel_28348\\2407199606.py:3: SettingWithCopyWarning: \n",
      "A value is trying to be set on a copy of a slice from a DataFrame.\n",
      "Try using .loc[row_indexer,col_indexer] = value instead\n",
      "\n",
      "See the caveats in the documentation: https://pandas.pydata.org/pandas-docs/stable/user_guide/indexing.html#returning-a-view-versus-a-copy\n",
      "  stock_df['returns'] = stock_df['Adj Close'].pct_change()\n",
      "[*********************100%%**********************]  1 of 1 completed\n",
      "C:\\Users\\Bogdan\\AppData\\Local\\Temp\\ipykernel_28348\\2407199606.py:3: SettingWithCopyWarning: \n",
      "A value is trying to be set on a copy of a slice from a DataFrame.\n",
      "Try using .loc[row_indexer,col_indexer] = value instead\n",
      "\n",
      "See the caveats in the documentation: https://pandas.pydata.org/pandas-docs/stable/user_guide/indexing.html#returning-a-view-versus-a-copy\n",
      "  stock_df['returns'] = stock_df['Adj Close'].pct_change()\n",
      "[*********************100%%**********************]  1 of 1 completed\n",
      "C:\\Users\\Bogdan\\AppData\\Local\\Temp\\ipykernel_28348\\2407199606.py:3: SettingWithCopyWarning: \n",
      "A value is trying to be set on a copy of a slice from a DataFrame.\n",
      "Try using .loc[row_indexer,col_indexer] = value instead\n",
      "\n",
      "See the caveats in the documentation: https://pandas.pydata.org/pandas-docs/stable/user_guide/indexing.html#returning-a-view-versus-a-copy\n",
      "  stock_df['returns'] = stock_df['Adj Close'].pct_change()\n",
      "[*********************100%%**********************]  1 of 1 completed"
     ]
    },
    {
     "name": "stdout",
     "output_type": "stream",
     "text": [
      "CTVA is done\n",
      "CSGP is done\n",
      "COST is done\n"
     ]
    },
    {
     "name": "stderr",
     "output_type": "stream",
     "text": [
      "\n",
      "C:\\Users\\Bogdan\\AppData\\Local\\Temp\\ipykernel_28348\\2407199606.py:3: SettingWithCopyWarning: \n",
      "A value is trying to be set on a copy of a slice from a DataFrame.\n",
      "Try using .loc[row_indexer,col_indexer] = value instead\n",
      "\n",
      "See the caveats in the documentation: https://pandas.pydata.org/pandas-docs/stable/user_guide/indexing.html#returning-a-view-versus-a-copy\n",
      "  stock_df['returns'] = stock_df['Adj Close'].pct_change()\n",
      "[*********************100%%**********************]  1 of 1 completed\n",
      "C:\\Users\\Bogdan\\AppData\\Local\\Temp\\ipykernel_28348\\2407199606.py:3: SettingWithCopyWarning: \n",
      "A value is trying to be set on a copy of a slice from a DataFrame.\n",
      "Try using .loc[row_indexer,col_indexer] = value instead\n",
      "\n",
      "See the caveats in the documentation: https://pandas.pydata.org/pandas-docs/stable/user_guide/indexing.html#returning-a-view-versus-a-copy\n",
      "  stock_df['returns'] = stock_df['Adj Close'].pct_change()\n",
      "[*********************100%%**********************]  1 of 1 completed"
     ]
    },
    {
     "name": "stdout",
     "output_type": "stream",
     "text": [
      "CTRA is done\n",
      "CRWD is done\n",
      "CCI is done\n"
     ]
    },
    {
     "name": "stderr",
     "output_type": "stream",
     "text": [
      "\n",
      "C:\\Users\\Bogdan\\AppData\\Local\\Temp\\ipykernel_28348\\2407199606.py:3: SettingWithCopyWarning: \n",
      "A value is trying to be set on a copy of a slice from a DataFrame.\n",
      "Try using .loc[row_indexer,col_indexer] = value instead\n",
      "\n",
      "See the caveats in the documentation: https://pandas.pydata.org/pandas-docs/stable/user_guide/indexing.html#returning-a-view-versus-a-copy\n",
      "  stock_df['returns'] = stock_df['Adj Close'].pct_change()\n",
      "[*********************100%%**********************]  1 of 1 completed\n",
      "C:\\Users\\Bogdan\\AppData\\Local\\Temp\\ipykernel_28348\\2407199606.py:3: SettingWithCopyWarning: \n",
      "A value is trying to be set on a copy of a slice from a DataFrame.\n",
      "Try using .loc[row_indexer,col_indexer] = value instead\n",
      "\n",
      "See the caveats in the documentation: https://pandas.pydata.org/pandas-docs/stable/user_guide/indexing.html#returning-a-view-versus-a-copy\n",
      "  stock_df['returns'] = stock_df['Adj Close'].pct_change()\n",
      "[*********************100%%**********************]  1 of 1 completed"
     ]
    },
    {
     "name": "stdout",
     "output_type": "stream",
     "text": [
      "CSX is done\n",
      "CMI is done\n"
     ]
    },
    {
     "name": "stderr",
     "output_type": "stream",
     "text": [
      "\n",
      "C:\\Users\\Bogdan\\AppData\\Local\\Temp\\ipykernel_28348\\2407199606.py:3: SettingWithCopyWarning: \n",
      "A value is trying to be set on a copy of a slice from a DataFrame.\n",
      "Try using .loc[row_indexer,col_indexer] = value instead\n",
      "\n",
      "See the caveats in the documentation: https://pandas.pydata.org/pandas-docs/stable/user_guide/indexing.html#returning-a-view-versus-a-copy\n",
      "  stock_df['returns'] = stock_df['Adj Close'].pct_change()\n",
      "[*********************100%%**********************]  1 of 1 completed\n",
      "C:\\Users\\Bogdan\\AppData\\Local\\Temp\\ipykernel_28348\\2407199606.py:3: SettingWithCopyWarning: \n",
      "A value is trying to be set on a copy of a slice from a DataFrame.\n",
      "Try using .loc[row_indexer,col_indexer] = value instead\n",
      "\n",
      "See the caveats in the documentation: https://pandas.pydata.org/pandas-docs/stable/user_guide/indexing.html#returning-a-view-versus-a-copy\n",
      "  stock_df['returns'] = stock_df['Adj Close'].pct_change()\n",
      "[*********************100%%**********************]  1 of 1 completed\n",
      "C:\\Users\\Bogdan\\AppData\\Local\\Temp\\ipykernel_28348\\2407199606.py:3: SettingWithCopyWarning: \n",
      "A value is trying to be set on a copy of a slice from a DataFrame.\n",
      "Try using .loc[row_indexer,col_indexer] = value instead\n",
      "\n",
      "See the caveats in the documentation: https://pandas.pydata.org/pandas-docs/stable/user_guide/indexing.html#returning-a-view-versus-a-copy\n",
      "  stock_df['returns'] = stock_df['Adj Close'].pct_change()\n"
     ]
    },
    {
     "name": "stdout",
     "output_type": "stream",
     "text": [
      "CVS is done\n",
      "DHR is done\n"
     ]
    },
    {
     "name": "stderr",
     "output_type": "stream",
     "text": [
      "[*********************100%%**********************]  1 of 1 completed\n",
      "C:\\Users\\Bogdan\\AppData\\Local\\Temp\\ipykernel_28348\\2407199606.py:3: SettingWithCopyWarning: \n",
      "A value is trying to be set on a copy of a slice from a DataFrame.\n",
      "Try using .loc[row_indexer,col_indexer] = value instead\n",
      "\n",
      "See the caveats in the documentation: https://pandas.pydata.org/pandas-docs/stable/user_guide/indexing.html#returning-a-view-versus-a-copy\n",
      "  stock_df['returns'] = stock_df['Adj Close'].pct_change()\n",
      "[*********************100%%**********************]  1 of 1 completed\n",
      "C:\\Users\\Bogdan\\AppData\\Local\\Temp\\ipykernel_28348\\2407199606.py:3: SettingWithCopyWarning: \n",
      "A value is trying to be set on a copy of a slice from a DataFrame.\n",
      "Try using .loc[row_indexer,col_indexer] = value instead\n",
      "\n",
      "See the caveats in the documentation: https://pandas.pydata.org/pandas-docs/stable/user_guide/indexing.html#returning-a-view-versus-a-copy\n",
      "  stock_df['returns'] = stock_df['Adj Close'].pct_change()\n",
      "[*********************100%%**********************]  1 of 1 completed\n",
      "C:\\Users\\Bogdan\\AppData\\Local\\Temp\\ipykernel_28348\\2407199606.py:3: SettingWithCopyWarning: \n",
      "A value is trying to be set on a copy of a slice from a DataFrame.\n",
      "Try using .loc[row_indexer,col_indexer] = value instead\n",
      "\n",
      "See the caveats in the documentation: https://pandas.pydata.org/pandas-docs/stable/user_guide/indexing.html#returning-a-view-versus-a-copy\n",
      "  stock_df['returns'] = stock_df['Adj Close'].pct_change()\n",
      "[*********************100%%**********************]  1 of 1 completed\n",
      "C:\\Users\\Bogdan\\AppData\\Local\\Temp\\ipykernel_28348\\2407199606.py:3: SettingWithCopyWarning: \n",
      "A value is trying to be set on a copy of a slice from a DataFrame.\n",
      "Try using .loc[row_indexer,col_indexer] = value instead\n",
      "\n",
      "See the caveats in the documentation: https://pandas.pydata.org/pandas-docs/stable/user_guide/indexing.html#returning-a-view-versus-a-copy\n",
      "  stock_df['returns'] = stock_df['Adj Close'].pct_change()\n"
     ]
    },
    {
     "name": "stdout",
     "output_type": "stream",
     "text": [
      "DRI is done\n",
      "DVA is done\n",
      "DAY is done\n",
      "DECK is done\n"
     ]
    },
    {
     "name": "stderr",
     "output_type": "stream",
     "text": [
      "[*********************100%%**********************]  1 of 1 completed\n",
      "C:\\Users\\Bogdan\\AppData\\Local\\Temp\\ipykernel_28348\\2407199606.py:3: SettingWithCopyWarning: \n",
      "A value is trying to be set on a copy of a slice from a DataFrame.\n",
      "Try using .loc[row_indexer,col_indexer] = value instead\n",
      "\n",
      "See the caveats in the documentation: https://pandas.pydata.org/pandas-docs/stable/user_guide/indexing.html#returning-a-view-versus-a-copy\n",
      "  stock_df['returns'] = stock_df['Adj Close'].pct_change()\n",
      "[*********************100%%**********************]  1 of 1 completed\n",
      "C:\\Users\\Bogdan\\AppData\\Local\\Temp\\ipykernel_28348\\2407199606.py:3: SettingWithCopyWarning: \n",
      "A value is trying to be set on a copy of a slice from a DataFrame.\n",
      "Try using .loc[row_indexer,col_indexer] = value instead\n",
      "\n",
      "See the caveats in the documentation: https://pandas.pydata.org/pandas-docs/stable/user_guide/indexing.html#returning-a-view-versus-a-copy\n",
      "  stock_df['returns'] = stock_df['Adj Close'].pct_change()\n"
     ]
    },
    {
     "name": "stdout",
     "output_type": "stream",
     "text": [
      "DE is done\n",
      "DAL is done\n"
     ]
    },
    {
     "name": "stderr",
     "output_type": "stream",
     "text": [
      "[*********************100%%**********************]  1 of 1 completed\n",
      "C:\\Users\\Bogdan\\AppData\\Local\\Temp\\ipykernel_28348\\2407199606.py:3: SettingWithCopyWarning: \n",
      "A value is trying to be set on a copy of a slice from a DataFrame.\n",
      "Try using .loc[row_indexer,col_indexer] = value instead\n",
      "\n",
      "See the caveats in the documentation: https://pandas.pydata.org/pandas-docs/stable/user_guide/indexing.html#returning-a-view-versus-a-copy\n",
      "  stock_df['returns'] = stock_df['Adj Close'].pct_change()\n",
      "[*********************100%%**********************]  1 of 1 completed\n",
      "C:\\Users\\Bogdan\\AppData\\Local\\Temp\\ipykernel_28348\\2407199606.py:3: SettingWithCopyWarning: \n",
      "A value is trying to be set on a copy of a slice from a DataFrame.\n",
      "Try using .loc[row_indexer,col_indexer] = value instead\n",
      "\n",
      "See the caveats in the documentation: https://pandas.pydata.org/pandas-docs/stable/user_guide/indexing.html#returning-a-view-versus-a-copy\n",
      "  stock_df['returns'] = stock_df['Adj Close'].pct_change()\n",
      "[*********************100%%**********************]  1 of 1 completed\n",
      "C:\\Users\\Bogdan\\AppData\\Local\\Temp\\ipykernel_28348\\2407199606.py:3: SettingWithCopyWarning: \n",
      "A value is trying to be set on a copy of a slice from a DataFrame.\n",
      "Try using .loc[row_indexer,col_indexer] = value instead\n",
      "\n",
      "See the caveats in the documentation: https://pandas.pydata.org/pandas-docs/stable/user_guide/indexing.html#returning-a-view-versus-a-copy\n",
      "  stock_df['returns'] = stock_df['Adj Close'].pct_change()\n",
      "[*********************100%%**********************]  1 of 1 completed"
     ]
    },
    {
     "name": "stdout",
     "output_type": "stream",
     "text": [
      "DVN is done\n",
      "DXCM is done\n",
      "FANG is done\n"
     ]
    },
    {
     "name": "stderr",
     "output_type": "stream",
     "text": [
      "\n",
      "C:\\Users\\Bogdan\\AppData\\Local\\Temp\\ipykernel_28348\\2407199606.py:3: SettingWithCopyWarning: \n",
      "A value is trying to be set on a copy of a slice from a DataFrame.\n",
      "Try using .loc[row_indexer,col_indexer] = value instead\n",
      "\n",
      "See the caveats in the documentation: https://pandas.pydata.org/pandas-docs/stable/user_guide/indexing.html#returning-a-view-versus-a-copy\n",
      "  stock_df['returns'] = stock_df['Adj Close'].pct_change()\n",
      "[*********************100%%**********************]  1 of 1 completed\n",
      "C:\\Users\\Bogdan\\AppData\\Local\\Temp\\ipykernel_28348\\2407199606.py:3: SettingWithCopyWarning: \n",
      "A value is trying to be set on a copy of a slice from a DataFrame.\n",
      "Try using .loc[row_indexer,col_indexer] = value instead\n",
      "\n",
      "See the caveats in the documentation: https://pandas.pydata.org/pandas-docs/stable/user_guide/indexing.html#returning-a-view-versus-a-copy\n",
      "  stock_df['returns'] = stock_df['Adj Close'].pct_change()\n",
      "[*********************100%%**********************]  1 of 1 completed\n",
      "C:\\Users\\Bogdan\\AppData\\Local\\Temp\\ipykernel_28348\\2407199606.py:3: SettingWithCopyWarning: \n",
      "A value is trying to be set on a copy of a slice from a DataFrame.\n",
      "Try using .loc[row_indexer,col_indexer] = value instead\n",
      "\n",
      "See the caveats in the documentation: https://pandas.pydata.org/pandas-docs/stable/user_guide/indexing.html#returning-a-view-versus-a-copy\n",
      "  stock_df['returns'] = stock_df['Adj Close'].pct_change()\n",
      "[*********************100%%**********************]  1 of 1 completed"
     ]
    },
    {
     "name": "stdout",
     "output_type": "stream",
     "text": [
      "DLR is done\n",
      "DFS is done\n",
      "DG is done\n",
      "DLTR is done\n"
     ]
    },
    {
     "name": "stderr",
     "output_type": "stream",
     "text": [
      "\n",
      "C:\\Users\\Bogdan\\AppData\\Local\\Temp\\ipykernel_28348\\2407199606.py:3: SettingWithCopyWarning: \n",
      "A value is trying to be set on a copy of a slice from a DataFrame.\n",
      "Try using .loc[row_indexer,col_indexer] = value instead\n",
      "\n",
      "See the caveats in the documentation: https://pandas.pydata.org/pandas-docs/stable/user_guide/indexing.html#returning-a-view-versus-a-copy\n",
      "  stock_df['returns'] = stock_df['Adj Close'].pct_change()\n",
      "[*********************100%%**********************]  1 of 1 completed\n",
      "C:\\Users\\Bogdan\\AppData\\Local\\Temp\\ipykernel_28348\\2407199606.py:3: SettingWithCopyWarning: \n",
      "A value is trying to be set on a copy of a slice from a DataFrame.\n",
      "Try using .loc[row_indexer,col_indexer] = value instead\n",
      "\n",
      "See the caveats in the documentation: https://pandas.pydata.org/pandas-docs/stable/user_guide/indexing.html#returning-a-view-versus-a-copy\n",
      "  stock_df['returns'] = stock_df['Adj Close'].pct_change()\n",
      "[*********************100%%**********************]  1 of 1 completed\n",
      "C:\\Users\\Bogdan\\AppData\\Local\\Temp\\ipykernel_28348\\2407199606.py:3: SettingWithCopyWarning: \n",
      "A value is trying to be set on a copy of a slice from a DataFrame.\n",
      "Try using .loc[row_indexer,col_indexer] = value instead\n",
      "\n",
      "See the caveats in the documentation: https://pandas.pydata.org/pandas-docs/stable/user_guide/indexing.html#returning-a-view-versus-a-copy\n",
      "  stock_df['returns'] = stock_df['Adj Close'].pct_change()\n",
      "[*********************100%%**********************]  1 of 1 completed\n",
      "C:\\Users\\Bogdan\\AppData\\Local\\Temp\\ipykernel_28348\\2407199606.py:3: SettingWithCopyWarning: \n",
      "A value is trying to be set on a copy of a slice from a DataFrame.\n",
      "Try using .loc[row_indexer,col_indexer] = value instead\n",
      "\n",
      "See the caveats in the documentation: https://pandas.pydata.org/pandas-docs/stable/user_guide/indexing.html#returning-a-view-versus-a-copy\n",
      "  stock_df['returns'] = stock_df['Adj Close'].pct_change()\n",
      "[*********************100%%**********************]  1 of 1 completed"
     ]
    },
    {
     "name": "stdout",
     "output_type": "stream",
     "text": [
      "D is done\n",
      "DPZ is done\n",
      "DOV is done\n"
     ]
    },
    {
     "name": "stderr",
     "output_type": "stream",
     "text": [
      "\n",
      "C:\\Users\\Bogdan\\AppData\\Local\\Temp\\ipykernel_28348\\2407199606.py:3: SettingWithCopyWarning: \n",
      "A value is trying to be set on a copy of a slice from a DataFrame.\n",
      "Try using .loc[row_indexer,col_indexer] = value instead\n",
      "\n",
      "See the caveats in the documentation: https://pandas.pydata.org/pandas-docs/stable/user_guide/indexing.html#returning-a-view-versus-a-copy\n",
      "  stock_df['returns'] = stock_df['Adj Close'].pct_change()\n",
      "[*********************100%%**********************]  1 of 1 completed\n",
      "C:\\Users\\Bogdan\\AppData\\Local\\Temp\\ipykernel_28348\\2407199606.py:3: SettingWithCopyWarning: \n",
      "A value is trying to be set on a copy of a slice from a DataFrame.\n",
      "Try using .loc[row_indexer,col_indexer] = value instead\n",
      "\n",
      "See the caveats in the documentation: https://pandas.pydata.org/pandas-docs/stable/user_guide/indexing.html#returning-a-view-versus-a-copy\n",
      "  stock_df['returns'] = stock_df['Adj Close'].pct_change()\n"
     ]
    },
    {
     "name": "stdout",
     "output_type": "stream",
     "text": [
      "DOW is done\n",
      "DHI is done\n"
     ]
    },
    {
     "name": "stderr",
     "output_type": "stream",
     "text": [
      "[*********************100%%**********************]  1 of 1 completed\n",
      "C:\\Users\\Bogdan\\AppData\\Local\\Temp\\ipykernel_28348\\2407199606.py:3: SettingWithCopyWarning: \n",
      "A value is trying to be set on a copy of a slice from a DataFrame.\n",
      "Try using .loc[row_indexer,col_indexer] = value instead\n",
      "\n",
      "See the caveats in the documentation: https://pandas.pydata.org/pandas-docs/stable/user_guide/indexing.html#returning-a-view-versus-a-copy\n",
      "  stock_df['returns'] = stock_df['Adj Close'].pct_change()\n",
      "[*********************100%%**********************]  1 of 1 completed\n",
      "C:\\Users\\Bogdan\\AppData\\Local\\Temp\\ipykernel_28348\\2407199606.py:3: SettingWithCopyWarning: \n",
      "A value is trying to be set on a copy of a slice from a DataFrame.\n",
      "Try using .loc[row_indexer,col_indexer] = value instead\n",
      "\n",
      "See the caveats in the documentation: https://pandas.pydata.org/pandas-docs/stable/user_guide/indexing.html#returning-a-view-versus-a-copy\n",
      "  stock_df['returns'] = stock_df['Adj Close'].pct_change()\n"
     ]
    },
    {
     "name": "stdout",
     "output_type": "stream",
     "text": [
      "DTE is done\n",
      "DUK is done\n"
     ]
    },
    {
     "name": "stderr",
     "output_type": "stream",
     "text": [
      "[*********************100%%**********************]  1 of 1 completed\n",
      "C:\\Users\\Bogdan\\AppData\\Local\\Temp\\ipykernel_28348\\2407199606.py:3: SettingWithCopyWarning: \n",
      "A value is trying to be set on a copy of a slice from a DataFrame.\n",
      "Try using .loc[row_indexer,col_indexer] = value instead\n",
      "\n",
      "See the caveats in the documentation: https://pandas.pydata.org/pandas-docs/stable/user_guide/indexing.html#returning-a-view-versus-a-copy\n",
      "  stock_df['returns'] = stock_df['Adj Close'].pct_change()\n",
      "[*********************100%%**********************]  1 of 1 completed"
     ]
    },
    {
     "name": "stdout",
     "output_type": "stream",
     "text": [
      "DD is done\n",
      "EMN is done\n"
     ]
    },
    {
     "name": "stderr",
     "output_type": "stream",
     "text": [
      "\n",
      "C:\\Users\\Bogdan\\AppData\\Local\\Temp\\ipykernel_28348\\2407199606.py:3: SettingWithCopyWarning: \n",
      "A value is trying to be set on a copy of a slice from a DataFrame.\n",
      "Try using .loc[row_indexer,col_indexer] = value instead\n",
      "\n",
      "See the caveats in the documentation: https://pandas.pydata.org/pandas-docs/stable/user_guide/indexing.html#returning-a-view-versus-a-copy\n",
      "  stock_df['returns'] = stock_df['Adj Close'].pct_change()\n",
      "[*********************100%%**********************]  1 of 1 completed\n",
      "C:\\Users\\Bogdan\\AppData\\Local\\Temp\\ipykernel_28348\\2407199606.py:3: SettingWithCopyWarning: \n",
      "A value is trying to be set on a copy of a slice from a DataFrame.\n",
      "Try using .loc[row_indexer,col_indexer] = value instead\n",
      "\n",
      "See the caveats in the documentation: https://pandas.pydata.org/pandas-docs/stable/user_guide/indexing.html#returning-a-view-versus-a-copy\n",
      "  stock_df['returns'] = stock_df['Adj Close'].pct_change()\n",
      "[*********************100%%**********************]  1 of 1 completed\n",
      "C:\\Users\\Bogdan\\AppData\\Local\\Temp\\ipykernel_28348\\2407199606.py:3: SettingWithCopyWarning: \n",
      "A value is trying to be set on a copy of a slice from a DataFrame.\n",
      "Try using .loc[row_indexer,col_indexer] = value instead\n",
      "\n",
      "See the caveats in the documentation: https://pandas.pydata.org/pandas-docs/stable/user_guide/indexing.html#returning-a-view-versus-a-copy\n",
      "  stock_df['returns'] = stock_df['Adj Close'].pct_change()\n",
      "[*********************100%%**********************]  1 of 1 completed\n",
      "C:\\Users\\Bogdan\\AppData\\Local\\Temp\\ipykernel_28348\\2407199606.py:3: SettingWithCopyWarning: \n",
      "A value is trying to be set on a copy of a slice from a DataFrame.\n",
      "Try using .loc[row_indexer,col_indexer] = value instead\n",
      "\n",
      "See the caveats in the documentation: https://pandas.pydata.org/pandas-docs/stable/user_guide/indexing.html#returning-a-view-versus-a-copy\n",
      "  stock_df['returns'] = stock_df['Adj Close'].pct_change()\n"
     ]
    },
    {
     "name": "stdout",
     "output_type": "stream",
     "text": [
      "ETN is done\n",
      "EBAY is done\n",
      "ECL is done\n"
     ]
    },
    {
     "name": "stderr",
     "output_type": "stream",
     "text": [
      "[*********************100%%**********************]  1 of 1 completed\n",
      "C:\\Users\\Bogdan\\AppData\\Local\\Temp\\ipykernel_28348\\2407199606.py:3: SettingWithCopyWarning: \n",
      "A value is trying to be set on a copy of a slice from a DataFrame.\n",
      "Try using .loc[row_indexer,col_indexer] = value instead\n",
      "\n",
      "See the caveats in the documentation: https://pandas.pydata.org/pandas-docs/stable/user_guide/indexing.html#returning-a-view-versus-a-copy\n",
      "  stock_df['returns'] = stock_df['Adj Close'].pct_change()\n",
      "[*********************100%%**********************]  1 of 1 completed\n",
      "C:\\Users\\Bogdan\\AppData\\Local\\Temp\\ipykernel_28348\\2407199606.py:3: SettingWithCopyWarning: \n",
      "A value is trying to be set on a copy of a slice from a DataFrame.\n",
      "Try using .loc[row_indexer,col_indexer] = value instead\n",
      "\n",
      "See the caveats in the documentation: https://pandas.pydata.org/pandas-docs/stable/user_guide/indexing.html#returning-a-view-versus-a-copy\n",
      "  stock_df['returns'] = stock_df['Adj Close'].pct_change()\n",
      "[*********************100%%**********************]  1 of 1 completed\n",
      "C:\\Users\\Bogdan\\AppData\\Local\\Temp\\ipykernel_28348\\2407199606.py:3: SettingWithCopyWarning: \n",
      "A value is trying to be set on a copy of a slice from a DataFrame.\n",
      "Try using .loc[row_indexer,col_indexer] = value instead\n",
      "\n",
      "See the caveats in the documentation: https://pandas.pydata.org/pandas-docs/stable/user_guide/indexing.html#returning-a-view-versus-a-copy\n",
      "  stock_df['returns'] = stock_df['Adj Close'].pct_change()\n",
      "[*********************100%%**********************]  1 of 1 completed"
     ]
    },
    {
     "name": "stdout",
     "output_type": "stream",
     "text": [
      "EIX is done\n",
      "EW is done\n",
      "EA is done\n",
      "ELV is done\n"
     ]
    },
    {
     "name": "stderr",
     "output_type": "stream",
     "text": [
      "\n",
      "C:\\Users\\Bogdan\\AppData\\Local\\Temp\\ipykernel_28348\\2407199606.py:3: SettingWithCopyWarning: \n",
      "A value is trying to be set on a copy of a slice from a DataFrame.\n",
      "Try using .loc[row_indexer,col_indexer] = value instead\n",
      "\n",
      "See the caveats in the documentation: https://pandas.pydata.org/pandas-docs/stable/user_guide/indexing.html#returning-a-view-versus-a-copy\n",
      "  stock_df['returns'] = stock_df['Adj Close'].pct_change()\n",
      "[*********************100%%**********************]  1 of 1 completed\n",
      "C:\\Users\\Bogdan\\AppData\\Local\\Temp\\ipykernel_28348\\2407199606.py:3: SettingWithCopyWarning: \n",
      "A value is trying to be set on a copy of a slice from a DataFrame.\n",
      "Try using .loc[row_indexer,col_indexer] = value instead\n",
      "\n",
      "See the caveats in the documentation: https://pandas.pydata.org/pandas-docs/stable/user_guide/indexing.html#returning-a-view-versus-a-copy\n",
      "  stock_df['returns'] = stock_df['Adj Close'].pct_change()\n",
      "[*********************100%%**********************]  1 of 1 completed\n",
      "C:\\Users\\Bogdan\\AppData\\Local\\Temp\\ipykernel_28348\\2407199606.py:3: SettingWithCopyWarning: \n",
      "A value is trying to be set on a copy of a slice from a DataFrame.\n",
      "Try using .loc[row_indexer,col_indexer] = value instead\n",
      "\n",
      "See the caveats in the documentation: https://pandas.pydata.org/pandas-docs/stable/user_guide/indexing.html#returning-a-view-versus-a-copy\n",
      "  stock_df['returns'] = stock_df['Adj Close'].pct_change()\n"
     ]
    },
    {
     "name": "stdout",
     "output_type": "stream",
     "text": [
      "LLY is done\n",
      "EMR is done\n"
     ]
    },
    {
     "name": "stderr",
     "output_type": "stream",
     "text": [
      "[*********************100%%**********************]  1 of 1 completed\n",
      "C:\\Users\\Bogdan\\AppData\\Local\\Temp\\ipykernel_28348\\2407199606.py:3: SettingWithCopyWarning: \n",
      "A value is trying to be set on a copy of a slice from a DataFrame.\n",
      "Try using .loc[row_indexer,col_indexer] = value instead\n",
      "\n",
      "See the caveats in the documentation: https://pandas.pydata.org/pandas-docs/stable/user_guide/indexing.html#returning-a-view-versus-a-copy\n",
      "  stock_df['returns'] = stock_df['Adj Close'].pct_change()\n"
     ]
    },
    {
     "name": "stdout",
     "output_type": "stream",
     "text": [
      "ENPH is done\n"
     ]
    },
    {
     "name": "stderr",
     "output_type": "stream",
     "text": [
      "[*********************100%%**********************]  1 of 1 completed\n",
      "C:\\Users\\Bogdan\\AppData\\Local\\Temp\\ipykernel_28348\\2407199606.py:3: SettingWithCopyWarning: \n",
      "A value is trying to be set on a copy of a slice from a DataFrame.\n",
      "Try using .loc[row_indexer,col_indexer] = value instead\n",
      "\n",
      "See the caveats in the documentation: https://pandas.pydata.org/pandas-docs/stable/user_guide/indexing.html#returning-a-view-versus-a-copy\n",
      "  stock_df['returns'] = stock_df['Adj Close'].pct_change()\n",
      "[*********************100%%**********************]  1 of 1 completed\n",
      "C:\\Users\\Bogdan\\AppData\\Local\\Temp\\ipykernel_28348\\2407199606.py:3: SettingWithCopyWarning: \n",
      "A value is trying to be set on a copy of a slice from a DataFrame.\n",
      "Try using .loc[row_indexer,col_indexer] = value instead\n",
      "\n",
      "See the caveats in the documentation: https://pandas.pydata.org/pandas-docs/stable/user_guide/indexing.html#returning-a-view-versus-a-copy\n",
      "  stock_df['returns'] = stock_df['Adj Close'].pct_change()\n"
     ]
    },
    {
     "name": "stdout",
     "output_type": "stream",
     "text": [
      "ETR is done\n",
      "EOG is done\n"
     ]
    },
    {
     "name": "stderr",
     "output_type": "stream",
     "text": [
      "[*********************100%%**********************]  1 of 1 completed\n",
      "C:\\Users\\Bogdan\\AppData\\Local\\Temp\\ipykernel_28348\\2407199606.py:3: SettingWithCopyWarning: \n",
      "A value is trying to be set on a copy of a slice from a DataFrame.\n",
      "Try using .loc[row_indexer,col_indexer] = value instead\n",
      "\n",
      "See the caveats in the documentation: https://pandas.pydata.org/pandas-docs/stable/user_guide/indexing.html#returning-a-view-versus-a-copy\n",
      "  stock_df['returns'] = stock_df['Adj Close'].pct_change()\n"
     ]
    },
    {
     "name": "stdout",
     "output_type": "stream",
     "text": [
      "EPAM is done\n"
     ]
    },
    {
     "name": "stderr",
     "output_type": "stream",
     "text": [
      "[*********************100%%**********************]  1 of 1 completed\n",
      "C:\\Users\\Bogdan\\AppData\\Local\\Temp\\ipykernel_28348\\2407199606.py:3: SettingWithCopyWarning: \n",
      "A value is trying to be set on a copy of a slice from a DataFrame.\n",
      "Try using .loc[row_indexer,col_indexer] = value instead\n",
      "\n",
      "See the caveats in the documentation: https://pandas.pydata.org/pandas-docs/stable/user_guide/indexing.html#returning-a-view-versus-a-copy\n",
      "  stock_df['returns'] = stock_df['Adj Close'].pct_change()\n",
      "[*********************100%%**********************]  1 of 1 completed\n",
      "C:\\Users\\Bogdan\\AppData\\Local\\Temp\\ipykernel_28348\\2407199606.py:3: SettingWithCopyWarning: \n",
      "A value is trying to be set on a copy of a slice from a DataFrame.\n",
      "Try using .loc[row_indexer,col_indexer] = value instead\n",
      "\n",
      "See the caveats in the documentation: https://pandas.pydata.org/pandas-docs/stable/user_guide/indexing.html#returning-a-view-versus-a-copy\n",
      "  stock_df['returns'] = stock_df['Adj Close'].pct_change()\n"
     ]
    },
    {
     "name": "stdout",
     "output_type": "stream",
     "text": [
      "EQT is done\n",
      "EFX is done\n"
     ]
    },
    {
     "name": "stderr",
     "output_type": "stream",
     "text": [
      "[*********************100%%**********************]  1 of 1 completed\n",
      "C:\\Users\\Bogdan\\AppData\\Local\\Temp\\ipykernel_28348\\2407199606.py:3: SettingWithCopyWarning: \n",
      "A value is trying to be set on a copy of a slice from a DataFrame.\n",
      "Try using .loc[row_indexer,col_indexer] = value instead\n",
      "\n",
      "See the caveats in the documentation: https://pandas.pydata.org/pandas-docs/stable/user_guide/indexing.html#returning-a-view-versus-a-copy\n",
      "  stock_df['returns'] = stock_df['Adj Close'].pct_change()\n",
      "[*********************100%%**********************]  1 of 1 completed\n",
      "C:\\Users\\Bogdan\\AppData\\Local\\Temp\\ipykernel_28348\\2407199606.py:3: SettingWithCopyWarning: \n",
      "A value is trying to be set on a copy of a slice from a DataFrame.\n",
      "Try using .loc[row_indexer,col_indexer] = value instead\n",
      "\n",
      "See the caveats in the documentation: https://pandas.pydata.org/pandas-docs/stable/user_guide/indexing.html#returning-a-view-versus-a-copy\n",
      "  stock_df['returns'] = stock_df['Adj Close'].pct_change()\n"
     ]
    },
    {
     "name": "stdout",
     "output_type": "stream",
     "text": [
      "EQIX is done\n",
      "EQR is done\n"
     ]
    },
    {
     "name": "stderr",
     "output_type": "stream",
     "text": [
      "[*********************100%%**********************]  1 of 1 completed\n",
      "C:\\Users\\Bogdan\\AppData\\Local\\Temp\\ipykernel_28348\\2407199606.py:3: SettingWithCopyWarning: \n",
      "A value is trying to be set on a copy of a slice from a DataFrame.\n",
      "Try using .loc[row_indexer,col_indexer] = value instead\n",
      "\n",
      "See the caveats in the documentation: https://pandas.pydata.org/pandas-docs/stable/user_guide/indexing.html#returning-a-view-versus-a-copy\n",
      "  stock_df['returns'] = stock_df['Adj Close'].pct_change()\n"
     ]
    },
    {
     "name": "stdout",
     "output_type": "stream",
     "text": [
      "ESS is done\n"
     ]
    },
    {
     "name": "stderr",
     "output_type": "stream",
     "text": [
      "[*********************100%%**********************]  1 of 1 completed\n",
      "C:\\Users\\Bogdan\\AppData\\Local\\Temp\\ipykernel_28348\\2407199606.py:3: SettingWithCopyWarning: \n",
      "A value is trying to be set on a copy of a slice from a DataFrame.\n",
      "Try using .loc[row_indexer,col_indexer] = value instead\n",
      "\n",
      "See the caveats in the documentation: https://pandas.pydata.org/pandas-docs/stable/user_guide/indexing.html#returning-a-view-versus-a-copy\n",
      "  stock_df['returns'] = stock_df['Adj Close'].pct_change()\n",
      "[*********************100%%**********************]  1 of 1 completed\n",
      "C:\\Users\\Bogdan\\AppData\\Local\\Temp\\ipykernel_28348\\2407199606.py:3: SettingWithCopyWarning: \n",
      "A value is trying to be set on a copy of a slice from a DataFrame.\n",
      "Try using .loc[row_indexer,col_indexer] = value instead\n",
      "\n",
      "See the caveats in the documentation: https://pandas.pydata.org/pandas-docs/stable/user_guide/indexing.html#returning-a-view-versus-a-copy\n",
      "  stock_df['returns'] = stock_df['Adj Close'].pct_change()\n"
     ]
    },
    {
     "name": "stdout",
     "output_type": "stream",
     "text": [
      "EL is done\n",
      "ETSY is done\n"
     ]
    },
    {
     "name": "stderr",
     "output_type": "stream",
     "text": [
      "[*********************100%%**********************]  1 of 1 completed\n",
      "C:\\Users\\Bogdan\\AppData\\Local\\Temp\\ipykernel_28348\\2407199606.py:3: SettingWithCopyWarning: \n",
      "A value is trying to be set on a copy of a slice from a DataFrame.\n",
      "Try using .loc[row_indexer,col_indexer] = value instead\n",
      "\n",
      "See the caveats in the documentation: https://pandas.pydata.org/pandas-docs/stable/user_guide/indexing.html#returning-a-view-versus-a-copy\n",
      "  stock_df['returns'] = stock_df['Adj Close'].pct_change()\n",
      "[*********************100%%**********************]  1 of 1 completed\n",
      "C:\\Users\\Bogdan\\AppData\\Local\\Temp\\ipykernel_28348\\2407199606.py:3: SettingWithCopyWarning: \n",
      "A value is trying to be set on a copy of a slice from a DataFrame.\n",
      "Try using .loc[row_indexer,col_indexer] = value instead\n",
      "\n",
      "See the caveats in the documentation: https://pandas.pydata.org/pandas-docs/stable/user_guide/indexing.html#returning-a-view-versus-a-copy\n",
      "  stock_df['returns'] = stock_df['Adj Close'].pct_change()\n"
     ]
    },
    {
     "name": "stdout",
     "output_type": "stream",
     "text": [
      "EG is done\n",
      "EVRG is done\n"
     ]
    },
    {
     "name": "stderr",
     "output_type": "stream",
     "text": [
      "[*********************100%%**********************]  1 of 1 completed\n",
      "C:\\Users\\Bogdan\\AppData\\Local\\Temp\\ipykernel_28348\\2407199606.py:3: SettingWithCopyWarning: \n",
      "A value is trying to be set on a copy of a slice from a DataFrame.\n",
      "Try using .loc[row_indexer,col_indexer] = value instead\n",
      "\n",
      "See the caveats in the documentation: https://pandas.pydata.org/pandas-docs/stable/user_guide/indexing.html#returning-a-view-versus-a-copy\n",
      "  stock_df['returns'] = stock_df['Adj Close'].pct_change()\n",
      "[*********************100%%**********************]  1 of 1 completed\n",
      "C:\\Users\\Bogdan\\AppData\\Local\\Temp\\ipykernel_28348\\2407199606.py:3: SettingWithCopyWarning: \n",
      "A value is trying to be set on a copy of a slice from a DataFrame.\n",
      "Try using .loc[row_indexer,col_indexer] = value instead\n",
      "\n",
      "See the caveats in the documentation: https://pandas.pydata.org/pandas-docs/stable/user_guide/indexing.html#returning-a-view-versus-a-copy\n",
      "  stock_df['returns'] = stock_df['Adj Close'].pct_change()\n"
     ]
    },
    {
     "name": "stdout",
     "output_type": "stream",
     "text": [
      "ES is done\n",
      "EXC is done\n"
     ]
    },
    {
     "name": "stderr",
     "output_type": "stream",
     "text": [
      "[*********************100%%**********************]  1 of 1 completed\n",
      "C:\\Users\\Bogdan\\AppData\\Local\\Temp\\ipykernel_28348\\2407199606.py:3: SettingWithCopyWarning: \n",
      "A value is trying to be set on a copy of a slice from a DataFrame.\n",
      "Try using .loc[row_indexer,col_indexer] = value instead\n",
      "\n",
      "See the caveats in the documentation: https://pandas.pydata.org/pandas-docs/stable/user_guide/indexing.html#returning-a-view-versus-a-copy\n",
      "  stock_df['returns'] = stock_df['Adj Close'].pct_change()\n"
     ]
    },
    {
     "name": "stdout",
     "output_type": "stream",
     "text": [
      "EXPE is done\n"
     ]
    },
    {
     "name": "stderr",
     "output_type": "stream",
     "text": [
      "[*********************100%%**********************]  1 of 1 completed\n",
      "C:\\Users\\Bogdan\\AppData\\Local\\Temp\\ipykernel_28348\\2407199606.py:3: SettingWithCopyWarning: \n",
      "A value is trying to be set on a copy of a slice from a DataFrame.\n",
      "Try using .loc[row_indexer,col_indexer] = value instead\n",
      "\n",
      "See the caveats in the documentation: https://pandas.pydata.org/pandas-docs/stable/user_guide/indexing.html#returning-a-view-versus-a-copy\n",
      "  stock_df['returns'] = stock_df['Adj Close'].pct_change()\n"
     ]
    },
    {
     "name": "stdout",
     "output_type": "stream",
     "text": [
      "EXPD is done\n"
     ]
    },
    {
     "name": "stderr",
     "output_type": "stream",
     "text": [
      "[*********************100%%**********************]  1 of 1 completed\n",
      "C:\\Users\\Bogdan\\AppData\\Local\\Temp\\ipykernel_28348\\2407199606.py:3: SettingWithCopyWarning: \n",
      "A value is trying to be set on a copy of a slice from a DataFrame.\n",
      "Try using .loc[row_indexer,col_indexer] = value instead\n",
      "\n",
      "See the caveats in the documentation: https://pandas.pydata.org/pandas-docs/stable/user_guide/indexing.html#returning-a-view-versus-a-copy\n",
      "  stock_df['returns'] = stock_df['Adj Close'].pct_change()\n"
     ]
    },
    {
     "name": "stdout",
     "output_type": "stream",
     "text": [
      "EXR is done\n"
     ]
    },
    {
     "name": "stderr",
     "output_type": "stream",
     "text": [
      "[*********************100%%**********************]  1 of 1 completed\n",
      "C:\\Users\\Bogdan\\AppData\\Local\\Temp\\ipykernel_28348\\2407199606.py:3: SettingWithCopyWarning: \n",
      "A value is trying to be set on a copy of a slice from a DataFrame.\n",
      "Try using .loc[row_indexer,col_indexer] = value instead\n",
      "\n",
      "See the caveats in the documentation: https://pandas.pydata.org/pandas-docs/stable/user_guide/indexing.html#returning-a-view-versus-a-copy\n",
      "  stock_df['returns'] = stock_df['Adj Close'].pct_change()\n"
     ]
    },
    {
     "name": "stdout",
     "output_type": "stream",
     "text": [
      "XOM is done\n"
     ]
    },
    {
     "name": "stderr",
     "output_type": "stream",
     "text": [
      "[*********************100%%**********************]  1 of 1 completed\n",
      "C:\\Users\\Bogdan\\AppData\\Local\\Temp\\ipykernel_28348\\2407199606.py:3: SettingWithCopyWarning: \n",
      "A value is trying to be set on a copy of a slice from a DataFrame.\n",
      "Try using .loc[row_indexer,col_indexer] = value instead\n",
      "\n",
      "See the caveats in the documentation: https://pandas.pydata.org/pandas-docs/stable/user_guide/indexing.html#returning-a-view-versus-a-copy\n",
      "  stock_df['returns'] = stock_df['Adj Close'].pct_change()\n",
      "[*********************100%%**********************]  1 of 1 completed"
     ]
    },
    {
     "name": "stdout",
     "output_type": "stream",
     "text": [
      "FFIV is done\n"
     ]
    },
    {
     "name": "stderr",
     "output_type": "stream",
     "text": [
      "\n",
      "C:\\Users\\Bogdan\\AppData\\Local\\Temp\\ipykernel_28348\\2407199606.py:3: SettingWithCopyWarning: \n",
      "A value is trying to be set on a copy of a slice from a DataFrame.\n",
      "Try using .loc[row_indexer,col_indexer] = value instead\n",
      "\n",
      "See the caveats in the documentation: https://pandas.pydata.org/pandas-docs/stable/user_guide/indexing.html#returning-a-view-versus-a-copy\n",
      "  stock_df['returns'] = stock_df['Adj Close'].pct_change()\n",
      "[*********************100%%**********************]  1 of 1 completed\n",
      "C:\\Users\\Bogdan\\AppData\\Local\\Temp\\ipykernel_28348\\2407199606.py:3: SettingWithCopyWarning: \n",
      "A value is trying to be set on a copy of a slice from a DataFrame.\n",
      "Try using .loc[row_indexer,col_indexer] = value instead\n",
      "\n",
      "See the caveats in the documentation: https://pandas.pydata.org/pandas-docs/stable/user_guide/indexing.html#returning-a-view-versus-a-copy\n",
      "  stock_df['returns'] = stock_df['Adj Close'].pct_change()\n"
     ]
    },
    {
     "name": "stdout",
     "output_type": "stream",
     "text": [
      "FDS is done\n",
      "FICO is done\n"
     ]
    },
    {
     "name": "stderr",
     "output_type": "stream",
     "text": [
      "[*********************100%%**********************]  1 of 1 completed\n",
      "C:\\Users\\Bogdan\\AppData\\Local\\Temp\\ipykernel_28348\\2407199606.py:3: SettingWithCopyWarning: \n",
      "A value is trying to be set on a copy of a slice from a DataFrame.\n",
      "Try using .loc[row_indexer,col_indexer] = value instead\n",
      "\n",
      "See the caveats in the documentation: https://pandas.pydata.org/pandas-docs/stable/user_guide/indexing.html#returning-a-view-versus-a-copy\n",
      "  stock_df['returns'] = stock_df['Adj Close'].pct_change()\n"
     ]
    },
    {
     "name": "stdout",
     "output_type": "stream",
     "text": [
      "FAST is done\n"
     ]
    },
    {
     "name": "stderr",
     "output_type": "stream",
     "text": [
      "[*********************100%%**********************]  1 of 1 completed\n",
      "C:\\Users\\Bogdan\\AppData\\Local\\Temp\\ipykernel_28348\\2407199606.py:3: SettingWithCopyWarning: \n",
      "A value is trying to be set on a copy of a slice from a DataFrame.\n",
      "Try using .loc[row_indexer,col_indexer] = value instead\n",
      "\n",
      "See the caveats in the documentation: https://pandas.pydata.org/pandas-docs/stable/user_guide/indexing.html#returning-a-view-versus-a-copy\n",
      "  stock_df['returns'] = stock_df['Adj Close'].pct_change()\n",
      "[*********************100%%**********************]  1 of 1 completed\n",
      "C:\\Users\\Bogdan\\AppData\\Local\\Temp\\ipykernel_28348\\2407199606.py:3: SettingWithCopyWarning: \n",
      "A value is trying to be set on a copy of a slice from a DataFrame.\n",
      "Try using .loc[row_indexer,col_indexer] = value instead\n",
      "\n",
      "See the caveats in the documentation: https://pandas.pydata.org/pandas-docs/stable/user_guide/indexing.html#returning-a-view-versus-a-copy\n",
      "  stock_df['returns'] = stock_df['Adj Close'].pct_change()\n"
     ]
    },
    {
     "name": "stdout",
     "output_type": "stream",
     "text": [
      "FRT is done\n",
      "FDX is done\n"
     ]
    },
    {
     "name": "stderr",
     "output_type": "stream",
     "text": [
      "[*********************100%%**********************]  1 of 1 completed\n",
      "C:\\Users\\Bogdan\\AppData\\Local\\Temp\\ipykernel_28348\\2407199606.py:3: SettingWithCopyWarning: \n",
      "A value is trying to be set on a copy of a slice from a DataFrame.\n",
      "Try using .loc[row_indexer,col_indexer] = value instead\n",
      "\n",
      "See the caveats in the documentation: https://pandas.pydata.org/pandas-docs/stable/user_guide/indexing.html#returning-a-view-versus-a-copy\n",
      "  stock_df['returns'] = stock_df['Adj Close'].pct_change()\n",
      "[*********************100%%**********************]  1 of 1 completed\n",
      "C:\\Users\\Bogdan\\AppData\\Local\\Temp\\ipykernel_28348\\2407199606.py:3: SettingWithCopyWarning: \n",
      "A value is trying to be set on a copy of a slice from a DataFrame.\n",
      "Try using .loc[row_indexer,col_indexer] = value instead\n",
      "\n",
      "See the caveats in the documentation: https://pandas.pydata.org/pandas-docs/stable/user_guide/indexing.html#returning-a-view-versus-a-copy\n",
      "  stock_df['returns'] = stock_df['Adj Close'].pct_change()\n"
     ]
    },
    {
     "name": "stdout",
     "output_type": "stream",
     "text": [
      "FIS is done\n",
      "FITB is done\n"
     ]
    },
    {
     "name": "stderr",
     "output_type": "stream",
     "text": [
      "[*********************100%%**********************]  1 of 1 completed\n",
      "C:\\Users\\Bogdan\\AppData\\Local\\Temp\\ipykernel_28348\\2407199606.py:3: SettingWithCopyWarning: \n",
      "A value is trying to be set on a copy of a slice from a DataFrame.\n",
      "Try using .loc[row_indexer,col_indexer] = value instead\n",
      "\n",
      "See the caveats in the documentation: https://pandas.pydata.org/pandas-docs/stable/user_guide/indexing.html#returning-a-view-versus-a-copy\n",
      "  stock_df['returns'] = stock_df['Adj Close'].pct_change()\n",
      "[*********************100%%**********************]  1 of 1 completed\n",
      "C:\\Users\\Bogdan\\AppData\\Local\\Temp\\ipykernel_28348\\2407199606.py:3: SettingWithCopyWarning: \n",
      "A value is trying to be set on a copy of a slice from a DataFrame.\n",
      "Try using .loc[row_indexer,col_indexer] = value instead\n",
      "\n",
      "See the caveats in the documentation: https://pandas.pydata.org/pandas-docs/stable/user_guide/indexing.html#returning-a-view-versus-a-copy\n",
      "  stock_df['returns'] = stock_df['Adj Close'].pct_change()\n"
     ]
    },
    {
     "name": "stdout",
     "output_type": "stream",
     "text": [
      "FSLR is done\n",
      "FE is done\n"
     ]
    },
    {
     "name": "stderr",
     "output_type": "stream",
     "text": [
      "[*********************100%%**********************]  1 of 1 completed\n",
      "C:\\Users\\Bogdan\\AppData\\Local\\Temp\\ipykernel_28348\\2407199606.py:3: SettingWithCopyWarning: \n",
      "A value is trying to be set on a copy of a slice from a DataFrame.\n",
      "Try using .loc[row_indexer,col_indexer] = value instead\n",
      "\n",
      "See the caveats in the documentation: https://pandas.pydata.org/pandas-docs/stable/user_guide/indexing.html#returning-a-view-versus-a-copy\n",
      "  stock_df['returns'] = stock_df['Adj Close'].pct_change()\n",
      "[*********************100%%**********************]  1 of 1 completed\n",
      "C:\\Users\\Bogdan\\AppData\\Local\\Temp\\ipykernel_28348\\2407199606.py:3: SettingWithCopyWarning: \n",
      "A value is trying to be set on a copy of a slice from a DataFrame.\n",
      "Try using .loc[row_indexer,col_indexer] = value instead\n",
      "\n",
      "See the caveats in the documentation: https://pandas.pydata.org/pandas-docs/stable/user_guide/indexing.html#returning-a-view-versus-a-copy\n",
      "  stock_df['returns'] = stock_df['Adj Close'].pct_change()\n"
     ]
    },
    {
     "name": "stdout",
     "output_type": "stream",
     "text": [
      "FI is done\n",
      "FMC is done\n"
     ]
    },
    {
     "name": "stderr",
     "output_type": "stream",
     "text": [
      "[*********************100%%**********************]  1 of 1 completed\n",
      "C:\\Users\\Bogdan\\AppData\\Local\\Temp\\ipykernel_28348\\2407199606.py:3: SettingWithCopyWarning: \n",
      "A value is trying to be set on a copy of a slice from a DataFrame.\n",
      "Try using .loc[row_indexer,col_indexer] = value instead\n",
      "\n",
      "See the caveats in the documentation: https://pandas.pydata.org/pandas-docs/stable/user_guide/indexing.html#returning-a-view-versus-a-copy\n",
      "  stock_df['returns'] = stock_df['Adj Close'].pct_change()\n",
      "[*********************100%%**********************]  1 of 1 completed\n",
      "C:\\Users\\Bogdan\\AppData\\Local\\Temp\\ipykernel_28348\\2407199606.py:3: SettingWithCopyWarning: \n",
      "A value is trying to be set on a copy of a slice from a DataFrame.\n",
      "Try using .loc[row_indexer,col_indexer] = value instead\n",
      "\n",
      "See the caveats in the documentation: https://pandas.pydata.org/pandas-docs/stable/user_guide/indexing.html#returning-a-view-versus-a-copy\n",
      "  stock_df['returns'] = stock_df['Adj Close'].pct_change()\n",
      "[*********************100%%**********************]  1 of 1 completed"
     ]
    },
    {
     "name": "stdout",
     "output_type": "stream",
     "text": [
      "F is done\n",
      "FTNT is done\n",
      "FTV is done\n"
     ]
    },
    {
     "name": "stderr",
     "output_type": "stream",
     "text": [
      "\n",
      "C:\\Users\\Bogdan\\AppData\\Local\\Temp\\ipykernel_28348\\2407199606.py:3: SettingWithCopyWarning: \n",
      "A value is trying to be set on a copy of a slice from a DataFrame.\n",
      "Try using .loc[row_indexer,col_indexer] = value instead\n",
      "\n",
      "See the caveats in the documentation: https://pandas.pydata.org/pandas-docs/stable/user_guide/indexing.html#returning-a-view-versus-a-copy\n",
      "  stock_df['returns'] = stock_df['Adj Close'].pct_change()\n",
      "[*********************100%%**********************]  1 of 1 completed\n",
      "C:\\Users\\Bogdan\\AppData\\Local\\Temp\\ipykernel_28348\\2407199606.py:3: SettingWithCopyWarning: \n",
      "A value is trying to be set on a copy of a slice from a DataFrame.\n",
      "Try using .loc[row_indexer,col_indexer] = value instead\n",
      "\n",
      "See the caveats in the documentation: https://pandas.pydata.org/pandas-docs/stable/user_guide/indexing.html#returning-a-view-versus-a-copy\n",
      "  stock_df['returns'] = stock_df['Adj Close'].pct_change()\n",
      "[*********************100%%**********************]  1 of 1 completed\n",
      "C:\\Users\\Bogdan\\AppData\\Local\\Temp\\ipykernel_28348\\2407199606.py:3: SettingWithCopyWarning: \n",
      "A value is trying to be set on a copy of a slice from a DataFrame.\n",
      "Try using .loc[row_indexer,col_indexer] = value instead\n",
      "\n",
      "See the caveats in the documentation: https://pandas.pydata.org/pandas-docs/stable/user_guide/indexing.html#returning-a-view-versus-a-copy\n",
      "  stock_df['returns'] = stock_df['Adj Close'].pct_change()\n",
      "[*********************100%%**********************]  1 of 1 completed"
     ]
    },
    {
     "name": "stdout",
     "output_type": "stream",
     "text": [
      "FOXA is done\n",
      "FOX is done\n"
     ]
    },
    {
     "name": "stderr",
     "output_type": "stream",
     "text": [
      "\n",
      "C:\\Users\\Bogdan\\AppData\\Local\\Temp\\ipykernel_28348\\2407199606.py:3: SettingWithCopyWarning: \n",
      "A value is trying to be set on a copy of a slice from a DataFrame.\n",
      "Try using .loc[row_indexer,col_indexer] = value instead\n",
      "\n",
      "See the caveats in the documentation: https://pandas.pydata.org/pandas-docs/stable/user_guide/indexing.html#returning-a-view-versus-a-copy\n",
      "  stock_df['returns'] = stock_df['Adj Close'].pct_change()\n",
      "[*********************100%%**********************]  1 of 1 completed\n",
      "C:\\Users\\Bogdan\\AppData\\Local\\Temp\\ipykernel_28348\\2407199606.py:3: SettingWithCopyWarning: \n",
      "A value is trying to be set on a copy of a slice from a DataFrame.\n",
      "Try using .loc[row_indexer,col_indexer] = value instead\n",
      "\n",
      "See the caveats in the documentation: https://pandas.pydata.org/pandas-docs/stable/user_guide/indexing.html#returning-a-view-versus-a-copy\n",
      "  stock_df['returns'] = stock_df['Adj Close'].pct_change()\n",
      "[*********************100%%**********************]  1 of 1 completed\n",
      "C:\\Users\\Bogdan\\AppData\\Local\\Temp\\ipykernel_28348\\2407199606.py:3: SettingWithCopyWarning: \n",
      "A value is trying to be set on a copy of a slice from a DataFrame.\n",
      "Try using .loc[row_indexer,col_indexer] = value instead\n",
      "\n",
      "See the caveats in the documentation: https://pandas.pydata.org/pandas-docs/stable/user_guide/indexing.html#returning-a-view-versus-a-copy\n",
      "  stock_df['returns'] = stock_df['Adj Close'].pct_change()\n"
     ]
    },
    {
     "name": "stdout",
     "output_type": "stream",
     "text": [
      "BEN is done\n",
      "FCX is done\n",
      "GRMN is done\n"
     ]
    },
    {
     "name": "stderr",
     "output_type": "stream",
     "text": [
      "[*********************100%%**********************]  1 of 1 completed\n",
      "C:\\Users\\Bogdan\\AppData\\Local\\Temp\\ipykernel_28348\\2407199606.py:3: SettingWithCopyWarning: \n",
      "A value is trying to be set on a copy of a slice from a DataFrame.\n",
      "Try using .loc[row_indexer,col_indexer] = value instead\n",
      "\n",
      "See the caveats in the documentation: https://pandas.pydata.org/pandas-docs/stable/user_guide/indexing.html#returning-a-view-versus-a-copy\n",
      "  stock_df['returns'] = stock_df['Adj Close'].pct_change()\n"
     ]
    },
    {
     "name": "stdout",
     "output_type": "stream",
     "text": [
      "IT is done\n"
     ]
    },
    {
     "name": "stderr",
     "output_type": "stream",
     "text": [
      "[*********************100%%**********************]  1 of 1 completed\n",
      "C:\\Users\\Bogdan\\AppData\\Local\\Temp\\ipykernel_28348\\2407199606.py:3: SettingWithCopyWarning: \n",
      "A value is trying to be set on a copy of a slice from a DataFrame.\n",
      "Try using .loc[row_indexer,col_indexer] = value instead\n",
      "\n",
      "See the caveats in the documentation: https://pandas.pydata.org/pandas-docs/stable/user_guide/indexing.html#returning-a-view-versus-a-copy\n",
      "  stock_df['returns'] = stock_df['Adj Close'].pct_change()\n",
      "[*********************100%%**********************]  1 of 1 completed\n",
      "C:\\Users\\Bogdan\\AppData\\Local\\Temp\\ipykernel_28348\\2407199606.py:3: SettingWithCopyWarning: \n",
      "A value is trying to be set on a copy of a slice from a DataFrame.\n",
      "Try using .loc[row_indexer,col_indexer] = value instead\n",
      "\n",
      "See the caveats in the documentation: https://pandas.pydata.org/pandas-docs/stable/user_guide/indexing.html#returning-a-view-versus-a-copy\n",
      "  stock_df['returns'] = stock_df['Adj Close'].pct_change()\n",
      "[*********************100%%**********************]  1 of 1 completed\n"
     ]
    },
    {
     "name": "stdout",
     "output_type": "stream",
     "text": [
      "GE is done\n",
      "GEHC is done\n",
      "GEV is done\n"
     ]
    },
    {
     "name": "stderr",
     "output_type": "stream",
     "text": [
      "[*********************100%%**********************]  1 of 1 completed\n",
      "C:\\Users\\Bogdan\\AppData\\Local\\Temp\\ipykernel_28348\\2407199606.py:3: SettingWithCopyWarning: \n",
      "A value is trying to be set on a copy of a slice from a DataFrame.\n",
      "Try using .loc[row_indexer,col_indexer] = value instead\n",
      "\n",
      "See the caveats in the documentation: https://pandas.pydata.org/pandas-docs/stable/user_guide/indexing.html#returning-a-view-versus-a-copy\n",
      "  stock_df['returns'] = stock_df['Adj Close'].pct_change()\n",
      "[*********************100%%**********************]  1 of 1 completed\n",
      "C:\\Users\\Bogdan\\AppData\\Local\\Temp\\ipykernel_28348\\2407199606.py:3: SettingWithCopyWarning: \n",
      "A value is trying to be set on a copy of a slice from a DataFrame.\n",
      "Try using .loc[row_indexer,col_indexer] = value instead\n",
      "\n",
      "See the caveats in the documentation: https://pandas.pydata.org/pandas-docs/stable/user_guide/indexing.html#returning-a-view-versus-a-copy\n",
      "  stock_df['returns'] = stock_df['Adj Close'].pct_change()\n",
      "[*********************100%%**********************]  1 of 1 completed"
     ]
    },
    {
     "name": "stdout",
     "output_type": "stream",
     "text": [
      "GEN is done\n",
      "GNRC is done\n"
     ]
    },
    {
     "name": "stderr",
     "output_type": "stream",
     "text": [
      "\n",
      "C:\\Users\\Bogdan\\AppData\\Local\\Temp\\ipykernel_28348\\2407199606.py:3: SettingWithCopyWarning: \n",
      "A value is trying to be set on a copy of a slice from a DataFrame.\n",
      "Try using .loc[row_indexer,col_indexer] = value instead\n",
      "\n",
      "See the caveats in the documentation: https://pandas.pydata.org/pandas-docs/stable/user_guide/indexing.html#returning-a-view-versus-a-copy\n",
      "  stock_df['returns'] = stock_df['Adj Close'].pct_change()\n",
      "[*********************100%%**********************]  1 of 1 completed\n",
      "C:\\Users\\Bogdan\\AppData\\Local\\Temp\\ipykernel_28348\\2407199606.py:3: SettingWithCopyWarning: \n",
      "A value is trying to be set on a copy of a slice from a DataFrame.\n",
      "Try using .loc[row_indexer,col_indexer] = value instead\n",
      "\n",
      "See the caveats in the documentation: https://pandas.pydata.org/pandas-docs/stable/user_guide/indexing.html#returning-a-view-versus-a-copy\n",
      "  stock_df['returns'] = stock_df['Adj Close'].pct_change()\n",
      "[*********************100%%**********************]  1 of 1 completed\n",
      "C:\\Users\\Bogdan\\AppData\\Local\\Temp\\ipykernel_28348\\2407199606.py:3: SettingWithCopyWarning: \n",
      "A value is trying to be set on a copy of a slice from a DataFrame.\n",
      "Try using .loc[row_indexer,col_indexer] = value instead\n",
      "\n",
      "See the caveats in the documentation: https://pandas.pydata.org/pandas-docs/stable/user_guide/indexing.html#returning-a-view-versus-a-copy\n",
      "  stock_df['returns'] = stock_df['Adj Close'].pct_change()\n"
     ]
    },
    {
     "name": "stdout",
     "output_type": "stream",
     "text": [
      "GD is done\n",
      "GIS is done\n",
      "GM is done\n"
     ]
    },
    {
     "name": "stderr",
     "output_type": "stream",
     "text": [
      "[*********************100%%**********************]  1 of 1 completed\n",
      "C:\\Users\\Bogdan\\AppData\\Local\\Temp\\ipykernel_28348\\2407199606.py:3: SettingWithCopyWarning: \n",
      "A value is trying to be set on a copy of a slice from a DataFrame.\n",
      "Try using .loc[row_indexer,col_indexer] = value instead\n",
      "\n",
      "See the caveats in the documentation: https://pandas.pydata.org/pandas-docs/stable/user_guide/indexing.html#returning-a-view-versus-a-copy\n",
      "  stock_df['returns'] = stock_df['Adj Close'].pct_change()\n",
      "[*********************100%%**********************]  1 of 1 completed\n",
      "C:\\Users\\Bogdan\\AppData\\Local\\Temp\\ipykernel_28348\\2407199606.py:3: SettingWithCopyWarning: \n",
      "A value is trying to be set on a copy of a slice from a DataFrame.\n",
      "Try using .loc[row_indexer,col_indexer] = value instead\n",
      "\n",
      "See the caveats in the documentation: https://pandas.pydata.org/pandas-docs/stable/user_guide/indexing.html#returning-a-view-versus-a-copy\n",
      "  stock_df['returns'] = stock_df['Adj Close'].pct_change()\n",
      "[*********************100%%**********************]  1 of 1 completed\n",
      "C:\\Users\\Bogdan\\AppData\\Local\\Temp\\ipykernel_28348\\2407199606.py:3: SettingWithCopyWarning: \n",
      "A value is trying to be set on a copy of a slice from a DataFrame.\n",
      "Try using .loc[row_indexer,col_indexer] = value instead\n",
      "\n",
      "See the caveats in the documentation: https://pandas.pydata.org/pandas-docs/stable/user_guide/indexing.html#returning-a-view-versus-a-copy\n",
      "  stock_df['returns'] = stock_df['Adj Close'].pct_change()\n"
     ]
    },
    {
     "name": "stdout",
     "output_type": "stream",
     "text": [
      "GPC is done\n",
      "GILD is done\n",
      "GPN is done\n"
     ]
    },
    {
     "name": "stderr",
     "output_type": "stream",
     "text": [
      "[*********************100%%**********************]  1 of 1 completed\n",
      "C:\\Users\\Bogdan\\AppData\\Local\\Temp\\ipykernel_28348\\2407199606.py:3: SettingWithCopyWarning: \n",
      "A value is trying to be set on a copy of a slice from a DataFrame.\n",
      "Try using .loc[row_indexer,col_indexer] = value instead\n",
      "\n",
      "See the caveats in the documentation: https://pandas.pydata.org/pandas-docs/stable/user_guide/indexing.html#returning-a-view-versus-a-copy\n",
      "  stock_df['returns'] = stock_df['Adj Close'].pct_change()\n",
      "[*********************100%%**********************]  1 of 1 completed\n",
      "C:\\Users\\Bogdan\\AppData\\Local\\Temp\\ipykernel_28348\\2407199606.py:3: SettingWithCopyWarning: \n",
      "A value is trying to be set on a copy of a slice from a DataFrame.\n",
      "Try using .loc[row_indexer,col_indexer] = value instead\n",
      "\n",
      "See the caveats in the documentation: https://pandas.pydata.org/pandas-docs/stable/user_guide/indexing.html#returning-a-view-versus-a-copy\n",
      "  stock_df['returns'] = stock_df['Adj Close'].pct_change()\n",
      "[*********************100%%**********************]  1 of 1 completed\n",
      "C:\\Users\\Bogdan\\AppData\\Local\\Temp\\ipykernel_28348\\2407199606.py:3: SettingWithCopyWarning: \n",
      "A value is trying to be set on a copy of a slice from a DataFrame.\n",
      "Try using .loc[row_indexer,col_indexer] = value instead\n",
      "\n",
      "See the caveats in the documentation: https://pandas.pydata.org/pandas-docs/stable/user_guide/indexing.html#returning-a-view-versus-a-copy\n",
      "  stock_df['returns'] = stock_df['Adj Close'].pct_change()\n"
     ]
    },
    {
     "name": "stdout",
     "output_type": "stream",
     "text": [
      "GL is done\n",
      "GDDY is done\n",
      "GS is done\n"
     ]
    },
    {
     "name": "stderr",
     "output_type": "stream",
     "text": [
      "[*********************100%%**********************]  1 of 1 completed\n",
      "C:\\Users\\Bogdan\\AppData\\Local\\Temp\\ipykernel_28348\\2407199606.py:3: SettingWithCopyWarning: \n",
      "A value is trying to be set on a copy of a slice from a DataFrame.\n",
      "Try using .loc[row_indexer,col_indexer] = value instead\n",
      "\n",
      "See the caveats in the documentation: https://pandas.pydata.org/pandas-docs/stable/user_guide/indexing.html#returning-a-view-versus-a-copy\n",
      "  stock_df['returns'] = stock_df['Adj Close'].pct_change()\n",
      "[*********************100%%**********************]  1 of 1 completed\n",
      "C:\\Users\\Bogdan\\AppData\\Local\\Temp\\ipykernel_28348\\2407199606.py:3: SettingWithCopyWarning: \n",
      "A value is trying to be set on a copy of a slice from a DataFrame.\n",
      "Try using .loc[row_indexer,col_indexer] = value instead\n",
      "\n",
      "See the caveats in the documentation: https://pandas.pydata.org/pandas-docs/stable/user_guide/indexing.html#returning-a-view-versus-a-copy\n",
      "  stock_df['returns'] = stock_df['Adj Close'].pct_change()\n",
      "[*********************100%%**********************]  1 of 1 completed\n",
      "C:\\Users\\Bogdan\\AppData\\Local\\Temp\\ipykernel_28348\\2407199606.py:3: SettingWithCopyWarning: \n",
      "A value is trying to be set on a copy of a slice from a DataFrame.\n",
      "Try using .loc[row_indexer,col_indexer] = value instead\n",
      "\n",
      "See the caveats in the documentation: https://pandas.pydata.org/pandas-docs/stable/user_guide/indexing.html#returning-a-view-versus-a-copy\n",
      "  stock_df['returns'] = stock_df['Adj Close'].pct_change()\n"
     ]
    },
    {
     "name": "stdout",
     "output_type": "stream",
     "text": [
      "HAL is done\n",
      "HIG is done\n",
      "HAS is done\n"
     ]
    },
    {
     "name": "stderr",
     "output_type": "stream",
     "text": [
      "[*********************100%%**********************]  1 of 1 completed\n",
      "C:\\Users\\Bogdan\\AppData\\Local\\Temp\\ipykernel_28348\\2407199606.py:3: SettingWithCopyWarning: \n",
      "A value is trying to be set on a copy of a slice from a DataFrame.\n",
      "Try using .loc[row_indexer,col_indexer] = value instead\n",
      "\n",
      "See the caveats in the documentation: https://pandas.pydata.org/pandas-docs/stable/user_guide/indexing.html#returning-a-view-versus-a-copy\n",
      "  stock_df['returns'] = stock_df['Adj Close'].pct_change()\n",
      "[*********************100%%**********************]  1 of 1 completed\n",
      "C:\\Users\\Bogdan\\AppData\\Local\\Temp\\ipykernel_28348\\2407199606.py:3: SettingWithCopyWarning: \n",
      "A value is trying to be set on a copy of a slice from a DataFrame.\n",
      "Try using .loc[row_indexer,col_indexer] = value instead\n",
      "\n",
      "See the caveats in the documentation: https://pandas.pydata.org/pandas-docs/stable/user_guide/indexing.html#returning-a-view-versus-a-copy\n",
      "  stock_df['returns'] = stock_df['Adj Close'].pct_change()\n",
      "[*********************100%%**********************]  1 of 1 completed\n",
      "C:\\Users\\Bogdan\\AppData\\Local\\Temp\\ipykernel_28348\\2407199606.py:3: SettingWithCopyWarning: \n",
      "A value is trying to be set on a copy of a slice from a DataFrame.\n",
      "Try using .loc[row_indexer,col_indexer] = value instead\n",
      "\n",
      "See the caveats in the documentation: https://pandas.pydata.org/pandas-docs/stable/user_guide/indexing.html#returning-a-view-versus-a-copy\n",
      "  stock_df['returns'] = stock_df['Adj Close'].pct_change()\n"
     ]
    },
    {
     "name": "stdout",
     "output_type": "stream",
     "text": [
      "HCA is done\n",
      "DOC is done\n",
      "HSIC is done\n"
     ]
    },
    {
     "name": "stderr",
     "output_type": "stream",
     "text": [
      "[*********************100%%**********************]  1 of 1 completed\n",
      "C:\\Users\\Bogdan\\AppData\\Local\\Temp\\ipykernel_28348\\2407199606.py:3: SettingWithCopyWarning: \n",
      "A value is trying to be set on a copy of a slice from a DataFrame.\n",
      "Try using .loc[row_indexer,col_indexer] = value instead\n",
      "\n",
      "See the caveats in the documentation: https://pandas.pydata.org/pandas-docs/stable/user_guide/indexing.html#returning-a-view-versus-a-copy\n",
      "  stock_df['returns'] = stock_df['Adj Close'].pct_change()\n",
      "[*********************100%%**********************]  1 of 1 completed\n",
      "C:\\Users\\Bogdan\\AppData\\Local\\Temp\\ipykernel_28348\\2407199606.py:3: SettingWithCopyWarning: \n",
      "A value is trying to be set on a copy of a slice from a DataFrame.\n",
      "Try using .loc[row_indexer,col_indexer] = value instead\n",
      "\n",
      "See the caveats in the documentation: https://pandas.pydata.org/pandas-docs/stable/user_guide/indexing.html#returning-a-view-versus-a-copy\n",
      "  stock_df['returns'] = stock_df['Adj Close'].pct_change()\n",
      "[*********************100%%**********************]  1 of 1 completed\n",
      "C:\\Users\\Bogdan\\AppData\\Local\\Temp\\ipykernel_28348\\2407199606.py:3: SettingWithCopyWarning: \n",
      "A value is trying to be set on a copy of a slice from a DataFrame.\n",
      "Try using .loc[row_indexer,col_indexer] = value instead\n",
      "\n",
      "See the caveats in the documentation: https://pandas.pydata.org/pandas-docs/stable/user_guide/indexing.html#returning-a-view-versus-a-copy\n",
      "  stock_df['returns'] = stock_df['Adj Close'].pct_change()\n"
     ]
    },
    {
     "name": "stdout",
     "output_type": "stream",
     "text": [
      "HSY is done\n",
      "HES is done\n",
      "HPE is done\n"
     ]
    },
    {
     "name": "stderr",
     "output_type": "stream",
     "text": [
      "[*********************100%%**********************]  1 of 1 completed\n",
      "C:\\Users\\Bogdan\\AppData\\Local\\Temp\\ipykernel_28348\\2407199606.py:3: SettingWithCopyWarning: \n",
      "A value is trying to be set on a copy of a slice from a DataFrame.\n",
      "Try using .loc[row_indexer,col_indexer] = value instead\n",
      "\n",
      "See the caveats in the documentation: https://pandas.pydata.org/pandas-docs/stable/user_guide/indexing.html#returning-a-view-versus-a-copy\n",
      "  stock_df['returns'] = stock_df['Adj Close'].pct_change()\n",
      "[*********************100%%**********************]  1 of 1 completed\n",
      "C:\\Users\\Bogdan\\AppData\\Local\\Temp\\ipykernel_28348\\2407199606.py:3: SettingWithCopyWarning: \n",
      "A value is trying to be set on a copy of a slice from a DataFrame.\n",
      "Try using .loc[row_indexer,col_indexer] = value instead\n",
      "\n",
      "See the caveats in the documentation: https://pandas.pydata.org/pandas-docs/stable/user_guide/indexing.html#returning-a-view-versus-a-copy\n",
      "  stock_df['returns'] = stock_df['Adj Close'].pct_change()\n",
      "[*********************100%%**********************]  1 of 1 completed\n",
      "C:\\Users\\Bogdan\\AppData\\Local\\Temp\\ipykernel_28348\\2407199606.py:3: SettingWithCopyWarning: \n",
      "A value is trying to be set on a copy of a slice from a DataFrame.\n",
      "Try using .loc[row_indexer,col_indexer] = value instead\n",
      "\n",
      "See the caveats in the documentation: https://pandas.pydata.org/pandas-docs/stable/user_guide/indexing.html#returning-a-view-versus-a-copy\n",
      "  stock_df['returns'] = stock_df['Adj Close'].pct_change()\n"
     ]
    },
    {
     "name": "stdout",
     "output_type": "stream",
     "text": [
      "HLT is done\n",
      "HOLX is done\n",
      "HD is done\n"
     ]
    },
    {
     "name": "stderr",
     "output_type": "stream",
     "text": [
      "[*********************100%%**********************]  1 of 1 completed\n",
      "C:\\Users\\Bogdan\\AppData\\Local\\Temp\\ipykernel_28348\\2407199606.py:3: SettingWithCopyWarning: \n",
      "A value is trying to be set on a copy of a slice from a DataFrame.\n",
      "Try using .loc[row_indexer,col_indexer] = value instead\n",
      "\n",
      "See the caveats in the documentation: https://pandas.pydata.org/pandas-docs/stable/user_guide/indexing.html#returning-a-view-versus-a-copy\n",
      "  stock_df['returns'] = stock_df['Adj Close'].pct_change()\n",
      "[*********************100%%**********************]  1 of 1 completed"
     ]
    },
    {
     "name": "stdout",
     "output_type": "stream",
     "text": [
      "HON is done\n",
      "HRL is done\n"
     ]
    },
    {
     "name": "stderr",
     "output_type": "stream",
     "text": [
      "\n",
      "C:\\Users\\Bogdan\\AppData\\Local\\Temp\\ipykernel_28348\\2407199606.py:3: SettingWithCopyWarning: \n",
      "A value is trying to be set on a copy of a slice from a DataFrame.\n",
      "Try using .loc[row_indexer,col_indexer] = value instead\n",
      "\n",
      "See the caveats in the documentation: https://pandas.pydata.org/pandas-docs/stable/user_guide/indexing.html#returning-a-view-versus-a-copy\n",
      "  stock_df['returns'] = stock_df['Adj Close'].pct_change()\n",
      "[*********************100%%**********************]  1 of 1 completed\n",
      "C:\\Users\\Bogdan\\AppData\\Local\\Temp\\ipykernel_28348\\2407199606.py:3: SettingWithCopyWarning: \n",
      "A value is trying to be set on a copy of a slice from a DataFrame.\n",
      "Try using .loc[row_indexer,col_indexer] = value instead\n",
      "\n",
      "See the caveats in the documentation: https://pandas.pydata.org/pandas-docs/stable/user_guide/indexing.html#returning-a-view-versus-a-copy\n",
      "  stock_df['returns'] = stock_df['Adj Close'].pct_change()\n",
      "[*********************100%%**********************]  1 of 1 completed\n",
      "C:\\Users\\Bogdan\\AppData\\Local\\Temp\\ipykernel_28348\\2407199606.py:3: SettingWithCopyWarning: \n",
      "A value is trying to be set on a copy of a slice from a DataFrame.\n",
      "Try using .loc[row_indexer,col_indexer] = value instead\n",
      "\n",
      "See the caveats in the documentation: https://pandas.pydata.org/pandas-docs/stable/user_guide/indexing.html#returning-a-view-versus-a-copy\n",
      "  stock_df['returns'] = stock_df['Adj Close'].pct_change()\n"
     ]
    },
    {
     "name": "stdout",
     "output_type": "stream",
     "text": [
      "HST is done\n",
      "HWM is done\n"
     ]
    },
    {
     "name": "stderr",
     "output_type": "stream",
     "text": [
      "[*********************100%%**********************]  1 of 1 completed\n",
      "C:\\Users\\Bogdan\\AppData\\Local\\Temp\\ipykernel_28348\\2407199606.py:3: SettingWithCopyWarning: \n",
      "A value is trying to be set on a copy of a slice from a DataFrame.\n",
      "Try using .loc[row_indexer,col_indexer] = value instead\n",
      "\n",
      "See the caveats in the documentation: https://pandas.pydata.org/pandas-docs/stable/user_guide/indexing.html#returning-a-view-versus-a-copy\n",
      "  stock_df['returns'] = stock_df['Adj Close'].pct_change()\n",
      "[*********************100%%**********************]  1 of 1 completed\n",
      "C:\\Users\\Bogdan\\AppData\\Local\\Temp\\ipykernel_28348\\2407199606.py:3: SettingWithCopyWarning: \n",
      "A value is trying to be set on a copy of a slice from a DataFrame.\n",
      "Try using .loc[row_indexer,col_indexer] = value instead\n",
      "\n",
      "See the caveats in the documentation: https://pandas.pydata.org/pandas-docs/stable/user_guide/indexing.html#returning-a-view-versus-a-copy\n",
      "  stock_df['returns'] = stock_df['Adj Close'].pct_change()\n"
     ]
    },
    {
     "name": "stdout",
     "output_type": "stream",
     "text": [
      "HPQ is done\n",
      "HUBB is done\n"
     ]
    },
    {
     "name": "stderr",
     "output_type": "stream",
     "text": [
      "[*********************100%%**********************]  1 of 1 completed\n",
      "C:\\Users\\Bogdan\\AppData\\Local\\Temp\\ipykernel_28348\\2407199606.py:3: SettingWithCopyWarning: \n",
      "A value is trying to be set on a copy of a slice from a DataFrame.\n",
      "Try using .loc[row_indexer,col_indexer] = value instead\n",
      "\n",
      "See the caveats in the documentation: https://pandas.pydata.org/pandas-docs/stable/user_guide/indexing.html#returning-a-view-versus-a-copy\n",
      "  stock_df['returns'] = stock_df['Adj Close'].pct_change()\n",
      "[*********************100%%**********************]  1 of 1 completed"
     ]
    },
    {
     "name": "stdout",
     "output_type": "stream",
     "text": [
      "HUM is done\n",
      "HBAN is done\n"
     ]
    },
    {
     "name": "stderr",
     "output_type": "stream",
     "text": [
      "\n",
      "C:\\Users\\Bogdan\\AppData\\Local\\Temp\\ipykernel_28348\\2407199606.py:3: SettingWithCopyWarning: \n",
      "A value is trying to be set on a copy of a slice from a DataFrame.\n",
      "Try using .loc[row_indexer,col_indexer] = value instead\n",
      "\n",
      "See the caveats in the documentation: https://pandas.pydata.org/pandas-docs/stable/user_guide/indexing.html#returning-a-view-versus-a-copy\n",
      "  stock_df['returns'] = stock_df['Adj Close'].pct_change()\n",
      "[*********************100%%**********************]  1 of 1 completed\n",
      "C:\\Users\\Bogdan\\AppData\\Local\\Temp\\ipykernel_28348\\2407199606.py:3: SettingWithCopyWarning: \n",
      "A value is trying to be set on a copy of a slice from a DataFrame.\n",
      "Try using .loc[row_indexer,col_indexer] = value instead\n",
      "\n",
      "See the caveats in the documentation: https://pandas.pydata.org/pandas-docs/stable/user_guide/indexing.html#returning-a-view-versus-a-copy\n",
      "  stock_df['returns'] = stock_df['Adj Close'].pct_change()\n",
      "[*********************100%%**********************]  1 of 1 completed\n",
      "C:\\Users\\Bogdan\\AppData\\Local\\Temp\\ipykernel_28348\\2407199606.py:3: SettingWithCopyWarning: \n",
      "A value is trying to be set on a copy of a slice from a DataFrame.\n",
      "Try using .loc[row_indexer,col_indexer] = value instead\n",
      "\n",
      "See the caveats in the documentation: https://pandas.pydata.org/pandas-docs/stable/user_guide/indexing.html#returning-a-view-versus-a-copy\n",
      "  stock_df['returns'] = stock_df['Adj Close'].pct_change()\n"
     ]
    },
    {
     "name": "stdout",
     "output_type": "stream",
     "text": [
      "HII is done\n",
      "IBM is done\n"
     ]
    },
    {
     "name": "stderr",
     "output_type": "stream",
     "text": [
      "[*********************100%%**********************]  1 of 1 completed\n",
      "C:\\Users\\Bogdan\\AppData\\Local\\Temp\\ipykernel_28348\\2407199606.py:3: SettingWithCopyWarning: \n",
      "A value is trying to be set on a copy of a slice from a DataFrame.\n",
      "Try using .loc[row_indexer,col_indexer] = value instead\n",
      "\n",
      "See the caveats in the documentation: https://pandas.pydata.org/pandas-docs/stable/user_guide/indexing.html#returning-a-view-versus-a-copy\n",
      "  stock_df['returns'] = stock_df['Adj Close'].pct_change()\n",
      "[*********************100%%**********************]  1 of 1 completed\n",
      "C:\\Users\\Bogdan\\AppData\\Local\\Temp\\ipykernel_28348\\2407199606.py:3: SettingWithCopyWarning: \n",
      "A value is trying to be set on a copy of a slice from a DataFrame.\n",
      "Try using .loc[row_indexer,col_indexer] = value instead\n",
      "\n",
      "See the caveats in the documentation: https://pandas.pydata.org/pandas-docs/stable/user_guide/indexing.html#returning-a-view-versus-a-copy\n",
      "  stock_df['returns'] = stock_df['Adj Close'].pct_change()\n"
     ]
    },
    {
     "name": "stdout",
     "output_type": "stream",
     "text": [
      "IEX is done\n",
      "IDXX is done\n"
     ]
    },
    {
     "name": "stderr",
     "output_type": "stream",
     "text": [
      "[*********************100%%**********************]  1 of 1 completed\n",
      "C:\\Users\\Bogdan\\AppData\\Local\\Temp\\ipykernel_28348\\2407199606.py:3: SettingWithCopyWarning: \n",
      "A value is trying to be set on a copy of a slice from a DataFrame.\n",
      "Try using .loc[row_indexer,col_indexer] = value instead\n",
      "\n",
      "See the caveats in the documentation: https://pandas.pydata.org/pandas-docs/stable/user_guide/indexing.html#returning-a-view-versus-a-copy\n",
      "  stock_df['returns'] = stock_df['Adj Close'].pct_change()\n",
      "[*********************100%%**********************]  1 of 1 completed\n",
      "C:\\Users\\Bogdan\\AppData\\Local\\Temp\\ipykernel_28348\\2407199606.py:3: SettingWithCopyWarning: \n",
      "A value is trying to be set on a copy of a slice from a DataFrame.\n",
      "Try using .loc[row_indexer,col_indexer] = value instead\n",
      "\n",
      "See the caveats in the documentation: https://pandas.pydata.org/pandas-docs/stable/user_guide/indexing.html#returning-a-view-versus-a-copy\n",
      "  stock_df['returns'] = stock_df['Adj Close'].pct_change()\n",
      "[*********************100%%**********************]  1 of 1 completed\n",
      "C:\\Users\\Bogdan\\AppData\\Local\\Temp\\ipykernel_28348\\2407199606.py:3: SettingWithCopyWarning: \n",
      "A value is trying to be set on a copy of a slice from a DataFrame.\n",
      "Try using .loc[row_indexer,col_indexer] = value instead\n",
      "\n",
      "See the caveats in the documentation: https://pandas.pydata.org/pandas-docs/stable/user_guide/indexing.html#returning-a-view-versus-a-copy\n",
      "  stock_df['returns'] = stock_df['Adj Close'].pct_change()\n",
      "[*********************100%%**********************]  1 of 1 completed\n",
      "C:\\Users\\Bogdan\\AppData\\Local\\Temp\\ipykernel_28348\\2407199606.py:3: SettingWithCopyWarning: \n",
      "A value is trying to be set on a copy of a slice from a DataFrame.\n",
      "Try using .loc[row_indexer,col_indexer] = value instead\n",
      "\n",
      "See the caveats in the documentation: https://pandas.pydata.org/pandas-docs/stable/user_guide/indexing.html#returning-a-view-versus-a-copy\n",
      "  stock_df['returns'] = stock_df['Adj Close'].pct_change()\n"
     ]
    },
    {
     "name": "stdout",
     "output_type": "stream",
     "text": [
      "ITW is done\n",
      "INCY is done\n",
      "IR is done\n",
      "PODD is done\n"
     ]
    },
    {
     "name": "stderr",
     "output_type": "stream",
     "text": [
      "[*********************100%%**********************]  1 of 1 completed\n",
      "C:\\Users\\Bogdan\\AppData\\Local\\Temp\\ipykernel_28348\\2407199606.py:3: SettingWithCopyWarning: \n",
      "A value is trying to be set on a copy of a slice from a DataFrame.\n",
      "Try using .loc[row_indexer,col_indexer] = value instead\n",
      "\n",
      "See the caveats in the documentation: https://pandas.pydata.org/pandas-docs/stable/user_guide/indexing.html#returning-a-view-versus-a-copy\n",
      "  stock_df['returns'] = stock_df['Adj Close'].pct_change()\n",
      "[*********************100%%**********************]  1 of 1 completed\n",
      "C:\\Users\\Bogdan\\AppData\\Local\\Temp\\ipykernel_28348\\2407199606.py:3: SettingWithCopyWarning: \n",
      "A value is trying to be set on a copy of a slice from a DataFrame.\n",
      "Try using .loc[row_indexer,col_indexer] = value instead\n",
      "\n",
      "See the caveats in the documentation: https://pandas.pydata.org/pandas-docs/stable/user_guide/indexing.html#returning-a-view-versus-a-copy\n",
      "  stock_df['returns'] = stock_df['Adj Close'].pct_change()\n",
      "[*********************100%%**********************]  1 of 1 completed"
     ]
    },
    {
     "name": "stdout",
     "output_type": "stream",
     "text": [
      "INTC is done\n",
      "ICE is done\n"
     ]
    },
    {
     "name": "stderr",
     "output_type": "stream",
     "text": [
      "\n",
      "C:\\Users\\Bogdan\\AppData\\Local\\Temp\\ipykernel_28348\\2407199606.py:3: SettingWithCopyWarning: \n",
      "A value is trying to be set on a copy of a slice from a DataFrame.\n",
      "Try using .loc[row_indexer,col_indexer] = value instead\n",
      "\n",
      "See the caveats in the documentation: https://pandas.pydata.org/pandas-docs/stable/user_guide/indexing.html#returning-a-view-versus-a-copy\n",
      "  stock_df['returns'] = stock_df['Adj Close'].pct_change()\n",
      "[*********************100%%**********************]  1 of 1 completed"
     ]
    },
    {
     "name": "stdout",
     "output_type": "stream",
     "text": [
      "IFF is done\n",
      "IP is done\n"
     ]
    },
    {
     "name": "stderr",
     "output_type": "stream",
     "text": [
      "\n",
      "C:\\Users\\Bogdan\\AppData\\Local\\Temp\\ipykernel_28348\\2407199606.py:3: SettingWithCopyWarning: \n",
      "A value is trying to be set on a copy of a slice from a DataFrame.\n",
      "Try using .loc[row_indexer,col_indexer] = value instead\n",
      "\n",
      "See the caveats in the documentation: https://pandas.pydata.org/pandas-docs/stable/user_guide/indexing.html#returning-a-view-versus-a-copy\n",
      "  stock_df['returns'] = stock_df['Adj Close'].pct_change()\n",
      "[*********************100%%**********************]  1 of 1 completed\n",
      "C:\\Users\\Bogdan\\AppData\\Local\\Temp\\ipykernel_28348\\2407199606.py:3: SettingWithCopyWarning: \n",
      "A value is trying to be set on a copy of a slice from a DataFrame.\n",
      "Try using .loc[row_indexer,col_indexer] = value instead\n",
      "\n",
      "See the caveats in the documentation: https://pandas.pydata.org/pandas-docs/stable/user_guide/indexing.html#returning-a-view-versus-a-copy\n",
      "  stock_df['returns'] = stock_df['Adj Close'].pct_change()\n",
      "[*********************100%%**********************]  1 of 1 completed\n",
      "C:\\Users\\Bogdan\\AppData\\Local\\Temp\\ipykernel_28348\\2407199606.py:3: SettingWithCopyWarning: \n",
      "A value is trying to be set on a copy of a slice from a DataFrame.\n",
      "Try using .loc[row_indexer,col_indexer] = value instead\n",
      "\n",
      "See the caveats in the documentation: https://pandas.pydata.org/pandas-docs/stable/user_guide/indexing.html#returning-a-view-versus-a-copy\n",
      "  stock_df['returns'] = stock_df['Adj Close'].pct_change()\n",
      "[*********************100%%**********************]  1 of 1 completed"
     ]
    },
    {
     "name": "stdout",
     "output_type": "stream",
     "text": [
      "IPG is done\n",
      "INTU is done\n",
      "ISRG is done\n"
     ]
    },
    {
     "name": "stderr",
     "output_type": "stream",
     "text": [
      "\n",
      "C:\\Users\\Bogdan\\AppData\\Local\\Temp\\ipykernel_28348\\2407199606.py:3: SettingWithCopyWarning: \n",
      "A value is trying to be set on a copy of a slice from a DataFrame.\n",
      "Try using .loc[row_indexer,col_indexer] = value instead\n",
      "\n",
      "See the caveats in the documentation: https://pandas.pydata.org/pandas-docs/stable/user_guide/indexing.html#returning-a-view-versus-a-copy\n",
      "  stock_df['returns'] = stock_df['Adj Close'].pct_change()\n",
      "[*********************100%%**********************]  1 of 1 completed\n",
      "C:\\Users\\Bogdan\\AppData\\Local\\Temp\\ipykernel_28348\\2407199606.py:3: SettingWithCopyWarning: \n",
      "A value is trying to be set on a copy of a slice from a DataFrame.\n",
      "Try using .loc[row_indexer,col_indexer] = value instead\n",
      "\n",
      "See the caveats in the documentation: https://pandas.pydata.org/pandas-docs/stable/user_guide/indexing.html#returning-a-view-versus-a-copy\n",
      "  stock_df['returns'] = stock_df['Adj Close'].pct_change()\n",
      "[*********************100%%**********************]  1 of 1 completed\n",
      "C:\\Users\\Bogdan\\AppData\\Local\\Temp\\ipykernel_28348\\2407199606.py:3: SettingWithCopyWarning: \n",
      "A value is trying to be set on a copy of a slice from a DataFrame.\n",
      "Try using .loc[row_indexer,col_indexer] = value instead\n",
      "\n",
      "See the caveats in the documentation: https://pandas.pydata.org/pandas-docs/stable/user_guide/indexing.html#returning-a-view-versus-a-copy\n",
      "  stock_df['returns'] = stock_df['Adj Close'].pct_change()\n",
      "[*********************100%%**********************]  1 of 1 completed"
     ]
    },
    {
     "name": "stdout",
     "output_type": "stream",
     "text": [
      "IVZ is done\n",
      "INVH is done\n",
      "IQV is done\n"
     ]
    },
    {
     "name": "stderr",
     "output_type": "stream",
     "text": [
      "\n",
      "C:\\Users\\Bogdan\\AppData\\Local\\Temp\\ipykernel_28348\\2407199606.py:3: SettingWithCopyWarning: \n",
      "A value is trying to be set on a copy of a slice from a DataFrame.\n",
      "Try using .loc[row_indexer,col_indexer] = value instead\n",
      "\n",
      "See the caveats in the documentation: https://pandas.pydata.org/pandas-docs/stable/user_guide/indexing.html#returning-a-view-versus-a-copy\n",
      "  stock_df['returns'] = stock_df['Adj Close'].pct_change()\n",
      "[*********************100%%**********************]  1 of 1 completed\n",
      "C:\\Users\\Bogdan\\AppData\\Local\\Temp\\ipykernel_28348\\2407199606.py:3: SettingWithCopyWarning: \n",
      "A value is trying to be set on a copy of a slice from a DataFrame.\n",
      "Try using .loc[row_indexer,col_indexer] = value instead\n",
      "\n",
      "See the caveats in the documentation: https://pandas.pydata.org/pandas-docs/stable/user_guide/indexing.html#returning-a-view-versus-a-copy\n",
      "  stock_df['returns'] = stock_df['Adj Close'].pct_change()\n",
      "[*********************100%%**********************]  1 of 1 completed\n",
      "C:\\Users\\Bogdan\\AppData\\Local\\Temp\\ipykernel_28348\\2407199606.py:3: SettingWithCopyWarning: \n",
      "A value is trying to be set on a copy of a slice from a DataFrame.\n",
      "Try using .loc[row_indexer,col_indexer] = value instead\n",
      "\n",
      "See the caveats in the documentation: https://pandas.pydata.org/pandas-docs/stable/user_guide/indexing.html#returning-a-view-versus-a-copy\n",
      "  stock_df['returns'] = stock_df['Adj Close'].pct_change()\n"
     ]
    },
    {
     "name": "stdout",
     "output_type": "stream",
     "text": [
      "IRM is done\n",
      "JBHT is done\n"
     ]
    },
    {
     "name": "stderr",
     "output_type": "stream",
     "text": [
      "[*********************100%%**********************]  1 of 1 completed\n",
      "C:\\Users\\Bogdan\\AppData\\Local\\Temp\\ipykernel_28348\\2407199606.py:3: SettingWithCopyWarning: \n",
      "A value is trying to be set on a copy of a slice from a DataFrame.\n",
      "Try using .loc[row_indexer,col_indexer] = value instead\n",
      "\n",
      "See the caveats in the documentation: https://pandas.pydata.org/pandas-docs/stable/user_guide/indexing.html#returning-a-view-versus-a-copy\n",
      "  stock_df['returns'] = stock_df['Adj Close'].pct_change()\n",
      "[*********************100%%**********************]  1 of 1 completed\n",
      "C:\\Users\\Bogdan\\AppData\\Local\\Temp\\ipykernel_28348\\2407199606.py:3: SettingWithCopyWarning: \n",
      "A value is trying to be set on a copy of a slice from a DataFrame.\n",
      "Try using .loc[row_indexer,col_indexer] = value instead\n",
      "\n",
      "See the caveats in the documentation: https://pandas.pydata.org/pandas-docs/stable/user_guide/indexing.html#returning-a-view-versus-a-copy\n",
      "  stock_df['returns'] = stock_df['Adj Close'].pct_change()\n",
      "[*********************100%%**********************]  1 of 1 completed\n",
      "C:\\Users\\Bogdan\\AppData\\Local\\Temp\\ipykernel_28348\\2407199606.py:3: SettingWithCopyWarning: \n",
      "A value is trying to be set on a copy of a slice from a DataFrame.\n",
      "Try using .loc[row_indexer,col_indexer] = value instead\n",
      "\n",
      "See the caveats in the documentation: https://pandas.pydata.org/pandas-docs/stable/user_guide/indexing.html#returning-a-view-versus-a-copy\n",
      "  stock_df['returns'] = stock_df['Adj Close'].pct_change()\n"
     ]
    },
    {
     "name": "stdout",
     "output_type": "stream",
     "text": [
      "JBL is done\n",
      "JKHY is done\n",
      "J is done\n"
     ]
    },
    {
     "name": "stderr",
     "output_type": "stream",
     "text": [
      "[*********************100%%**********************]  1 of 1 completed\n",
      "C:\\Users\\Bogdan\\AppData\\Local\\Temp\\ipykernel_28348\\2407199606.py:3: SettingWithCopyWarning: \n",
      "A value is trying to be set on a copy of a slice from a DataFrame.\n",
      "Try using .loc[row_indexer,col_indexer] = value instead\n",
      "\n",
      "See the caveats in the documentation: https://pandas.pydata.org/pandas-docs/stable/user_guide/indexing.html#returning-a-view-versus-a-copy\n",
      "  stock_df['returns'] = stock_df['Adj Close'].pct_change()\n",
      "[*********************100%%**********************]  1 of 1 completed\n",
      "C:\\Users\\Bogdan\\AppData\\Local\\Temp\\ipykernel_28348\\2407199606.py:3: SettingWithCopyWarning: \n",
      "A value is trying to be set on a copy of a slice from a DataFrame.\n",
      "Try using .loc[row_indexer,col_indexer] = value instead\n",
      "\n",
      "See the caveats in the documentation: https://pandas.pydata.org/pandas-docs/stable/user_guide/indexing.html#returning-a-view-versus-a-copy\n",
      "  stock_df['returns'] = stock_df['Adj Close'].pct_change()\n"
     ]
    },
    {
     "name": "stdout",
     "output_type": "stream",
     "text": [
      "JNJ is done\n",
      "JCI is done\n"
     ]
    },
    {
     "name": "stderr",
     "output_type": "stream",
     "text": [
      "[*********************100%%**********************]  1 of 1 completed\n",
      "C:\\Users\\Bogdan\\AppData\\Local\\Temp\\ipykernel_28348\\2407199606.py:3: SettingWithCopyWarning: \n",
      "A value is trying to be set on a copy of a slice from a DataFrame.\n",
      "Try using .loc[row_indexer,col_indexer] = value instead\n",
      "\n",
      "See the caveats in the documentation: https://pandas.pydata.org/pandas-docs/stable/user_guide/indexing.html#returning-a-view-versus-a-copy\n",
      "  stock_df['returns'] = stock_df['Adj Close'].pct_change()\n",
      "[*********************100%%**********************]  1 of 1 completed\n",
      "C:\\Users\\Bogdan\\AppData\\Local\\Temp\\ipykernel_28348\\2407199606.py:3: SettingWithCopyWarning: \n",
      "A value is trying to be set on a copy of a slice from a DataFrame.\n",
      "Try using .loc[row_indexer,col_indexer] = value instead\n",
      "\n",
      "See the caveats in the documentation: https://pandas.pydata.org/pandas-docs/stable/user_guide/indexing.html#returning-a-view-versus-a-copy\n",
      "  stock_df['returns'] = stock_df['Adj Close'].pct_change()\n"
     ]
    },
    {
     "name": "stdout",
     "output_type": "stream",
     "text": [
      "JPM is done\n",
      "JNPR is done\n"
     ]
    },
    {
     "name": "stderr",
     "output_type": "stream",
     "text": [
      "[*********************100%%**********************]  1 of 1 completed\n",
      "C:\\Users\\Bogdan\\AppData\\Local\\Temp\\ipykernel_28348\\2407199606.py:3: SettingWithCopyWarning: \n",
      "A value is trying to be set on a copy of a slice from a DataFrame.\n",
      "Try using .loc[row_indexer,col_indexer] = value instead\n",
      "\n",
      "See the caveats in the documentation: https://pandas.pydata.org/pandas-docs/stable/user_guide/indexing.html#returning-a-view-versus-a-copy\n",
      "  stock_df['returns'] = stock_df['Adj Close'].pct_change()\n",
      "[*********************100%%**********************]  1 of 1 completed\n",
      "C:\\Users\\Bogdan\\AppData\\Local\\Temp\\ipykernel_28348\\2407199606.py:3: SettingWithCopyWarning: \n",
      "A value is trying to be set on a copy of a slice from a DataFrame.\n",
      "Try using .loc[row_indexer,col_indexer] = value instead\n",
      "\n",
      "See the caveats in the documentation: https://pandas.pydata.org/pandas-docs/stable/user_guide/indexing.html#returning-a-view-versus-a-copy\n",
      "  stock_df['returns'] = stock_df['Adj Close'].pct_change()\n",
      "[*********************100%%**********************]  1 of 1 completed\n",
      "C:\\Users\\Bogdan\\AppData\\Local\\Temp\\ipykernel_28348\\2407199606.py:3: SettingWithCopyWarning: \n",
      "A value is trying to be set on a copy of a slice from a DataFrame.\n",
      "Try using .loc[row_indexer,col_indexer] = value instead\n",
      "\n",
      "See the caveats in the documentation: https://pandas.pydata.org/pandas-docs/stable/user_guide/indexing.html#returning-a-view-versus-a-copy\n",
      "  stock_df['returns'] = stock_df['Adj Close'].pct_change()\n"
     ]
    },
    {
     "name": "stdout",
     "output_type": "stream",
     "text": [
      "K is done\n",
      "KVUE is done\n",
      "KDP is done\n"
     ]
    },
    {
     "name": "stderr",
     "output_type": "stream",
     "text": [
      "[*********************100%%**********************]  1 of 1 completed\n",
      "C:\\Users\\Bogdan\\AppData\\Local\\Temp\\ipykernel_28348\\2407199606.py:3: SettingWithCopyWarning: \n",
      "A value is trying to be set on a copy of a slice from a DataFrame.\n",
      "Try using .loc[row_indexer,col_indexer] = value instead\n",
      "\n",
      "See the caveats in the documentation: https://pandas.pydata.org/pandas-docs/stable/user_guide/indexing.html#returning-a-view-versus-a-copy\n",
      "  stock_df['returns'] = stock_df['Adj Close'].pct_change()\n",
      "[*********************100%%**********************]  1 of 1 completed\n",
      "C:\\Users\\Bogdan\\AppData\\Local\\Temp\\ipykernel_28348\\2407199606.py:3: SettingWithCopyWarning: \n",
      "A value is trying to be set on a copy of a slice from a DataFrame.\n",
      "Try using .loc[row_indexer,col_indexer] = value instead\n",
      "\n",
      "See the caveats in the documentation: https://pandas.pydata.org/pandas-docs/stable/user_guide/indexing.html#returning-a-view-versus-a-copy\n",
      "  stock_df['returns'] = stock_df['Adj Close'].pct_change()\n"
     ]
    },
    {
     "name": "stdout",
     "output_type": "stream",
     "text": [
      "KEY is done\n",
      "KEYS is done\n"
     ]
    },
    {
     "name": "stderr",
     "output_type": "stream",
     "text": [
      "[*********************100%%**********************]  1 of 1 completed\n",
      "C:\\Users\\Bogdan\\AppData\\Local\\Temp\\ipykernel_28348\\2407199606.py:3: SettingWithCopyWarning: \n",
      "A value is trying to be set on a copy of a slice from a DataFrame.\n",
      "Try using .loc[row_indexer,col_indexer] = value instead\n",
      "\n",
      "See the caveats in the documentation: https://pandas.pydata.org/pandas-docs/stable/user_guide/indexing.html#returning-a-view-versus-a-copy\n",
      "  stock_df['returns'] = stock_df['Adj Close'].pct_change()\n",
      "[*********************100%%**********************]  1 of 1 completed\n",
      "C:\\Users\\Bogdan\\AppData\\Local\\Temp\\ipykernel_28348\\2407199606.py:3: SettingWithCopyWarning: \n",
      "A value is trying to be set on a copy of a slice from a DataFrame.\n",
      "Try using .loc[row_indexer,col_indexer] = value instead\n",
      "\n",
      "See the caveats in the documentation: https://pandas.pydata.org/pandas-docs/stable/user_guide/indexing.html#returning-a-view-versus-a-copy\n",
      "  stock_df['returns'] = stock_df['Adj Close'].pct_change()\n"
     ]
    },
    {
     "name": "stdout",
     "output_type": "stream",
     "text": [
      "KMB is done\n",
      "KIM is done\n"
     ]
    },
    {
     "name": "stderr",
     "output_type": "stream",
     "text": [
      "[*********************100%%**********************]  1 of 1 completed\n",
      "C:\\Users\\Bogdan\\AppData\\Local\\Temp\\ipykernel_28348\\2407199606.py:3: SettingWithCopyWarning: \n",
      "A value is trying to be set on a copy of a slice from a DataFrame.\n",
      "Try using .loc[row_indexer,col_indexer] = value instead\n",
      "\n",
      "See the caveats in the documentation: https://pandas.pydata.org/pandas-docs/stable/user_guide/indexing.html#returning-a-view-versus-a-copy\n",
      "  stock_df['returns'] = stock_df['Adj Close'].pct_change()\n",
      "[*********************100%%**********************]  1 of 1 completed\n",
      "C:\\Users\\Bogdan\\AppData\\Local\\Temp\\ipykernel_28348\\2407199606.py:3: SettingWithCopyWarning: \n",
      "A value is trying to be set on a copy of a slice from a DataFrame.\n",
      "Try using .loc[row_indexer,col_indexer] = value instead\n",
      "\n",
      "See the caveats in the documentation: https://pandas.pydata.org/pandas-docs/stable/user_guide/indexing.html#returning-a-view-versus-a-copy\n",
      "  stock_df['returns'] = stock_df['Adj Close'].pct_change()\n",
      "[*********************100%%**********************]  1 of 1 completed"
     ]
    },
    {
     "name": "stdout",
     "output_type": "stream",
     "text": [
      "KMI is done\n",
      "KKR is done\n",
      "KLAC is done\n"
     ]
    },
    {
     "name": "stderr",
     "output_type": "stream",
     "text": [
      "\n",
      "C:\\Users\\Bogdan\\AppData\\Local\\Temp\\ipykernel_28348\\2407199606.py:3: SettingWithCopyWarning: \n",
      "A value is trying to be set on a copy of a slice from a DataFrame.\n",
      "Try using .loc[row_indexer,col_indexer] = value instead\n",
      "\n",
      "See the caveats in the documentation: https://pandas.pydata.org/pandas-docs/stable/user_guide/indexing.html#returning-a-view-versus-a-copy\n",
      "  stock_df['returns'] = stock_df['Adj Close'].pct_change()\n",
      "[*********************100%%**********************]  1 of 1 completed\n",
      "C:\\Users\\Bogdan\\AppData\\Local\\Temp\\ipykernel_28348\\2407199606.py:3: SettingWithCopyWarning: \n",
      "A value is trying to be set on a copy of a slice from a DataFrame.\n",
      "Try using .loc[row_indexer,col_indexer] = value instead\n",
      "\n",
      "See the caveats in the documentation: https://pandas.pydata.org/pandas-docs/stable/user_guide/indexing.html#returning-a-view-versus-a-copy\n",
      "  stock_df['returns'] = stock_df['Adj Close'].pct_change()\n",
      "[*********************100%%**********************]  1 of 1 completed\n",
      "C:\\Users\\Bogdan\\AppData\\Local\\Temp\\ipykernel_28348\\2407199606.py:3: SettingWithCopyWarning: \n",
      "A value is trying to be set on a copy of a slice from a DataFrame.\n",
      "Try using .loc[row_indexer,col_indexer] = value instead\n",
      "\n",
      "See the caveats in the documentation: https://pandas.pydata.org/pandas-docs/stable/user_guide/indexing.html#returning-a-view-versus-a-copy\n",
      "  stock_df['returns'] = stock_df['Adj Close'].pct_change()\n"
     ]
    },
    {
     "name": "stdout",
     "output_type": "stream",
     "text": [
      "KHC is done\n",
      "KR is done\n"
     ]
    },
    {
     "name": "stderr",
     "output_type": "stream",
     "text": [
      "[*********************100%%**********************]  1 of 1 completed\n",
      "C:\\Users\\Bogdan\\AppData\\Local\\Temp\\ipykernel_28348\\2407199606.py:3: SettingWithCopyWarning: \n",
      "A value is trying to be set on a copy of a slice from a DataFrame.\n",
      "Try using .loc[row_indexer,col_indexer] = value instead\n",
      "\n",
      "See the caveats in the documentation: https://pandas.pydata.org/pandas-docs/stable/user_guide/indexing.html#returning-a-view-versus-a-copy\n",
      "  stock_df['returns'] = stock_df['Adj Close'].pct_change()\n",
      "[*********************100%%**********************]  1 of 1 completed\n",
      "C:\\Users\\Bogdan\\AppData\\Local\\Temp\\ipykernel_28348\\2407199606.py:3: SettingWithCopyWarning: \n",
      "A value is trying to be set on a copy of a slice from a DataFrame.\n",
      "Try using .loc[row_indexer,col_indexer] = value instead\n",
      "\n",
      "See the caveats in the documentation: https://pandas.pydata.org/pandas-docs/stable/user_guide/indexing.html#returning-a-view-versus-a-copy\n",
      "  stock_df['returns'] = stock_df['Adj Close'].pct_change()\n",
      "[*********************100%%**********************]  1 of 1 completed"
     ]
    },
    {
     "name": "stdout",
     "output_type": "stream",
     "text": [
      "LHX is done\n",
      "LH is done\n",
      "LRCX is done\n"
     ]
    },
    {
     "name": "stderr",
     "output_type": "stream",
     "text": [
      "\n",
      "C:\\Users\\Bogdan\\AppData\\Local\\Temp\\ipykernel_28348\\2407199606.py:3: SettingWithCopyWarning: \n",
      "A value is trying to be set on a copy of a slice from a DataFrame.\n",
      "Try using .loc[row_indexer,col_indexer] = value instead\n",
      "\n",
      "See the caveats in the documentation: https://pandas.pydata.org/pandas-docs/stable/user_guide/indexing.html#returning-a-view-versus-a-copy\n",
      "  stock_df['returns'] = stock_df['Adj Close'].pct_change()\n",
      "[*********************100%%**********************]  1 of 1 completed\n",
      "C:\\Users\\Bogdan\\AppData\\Local\\Temp\\ipykernel_28348\\2407199606.py:3: SettingWithCopyWarning: \n",
      "A value is trying to be set on a copy of a slice from a DataFrame.\n",
      "Try using .loc[row_indexer,col_indexer] = value instead\n",
      "\n",
      "See the caveats in the documentation: https://pandas.pydata.org/pandas-docs/stable/user_guide/indexing.html#returning-a-view-versus-a-copy\n",
      "  stock_df['returns'] = stock_df['Adj Close'].pct_change()\n",
      "[*********************100%%**********************]  1 of 1 completed\n",
      "C:\\Users\\Bogdan\\AppData\\Local\\Temp\\ipykernel_28348\\2407199606.py:3: SettingWithCopyWarning: \n",
      "A value is trying to be set on a copy of a slice from a DataFrame.\n",
      "Try using .loc[row_indexer,col_indexer] = value instead\n",
      "\n",
      "See the caveats in the documentation: https://pandas.pydata.org/pandas-docs/stable/user_guide/indexing.html#returning-a-view-versus-a-copy\n",
      "  stock_df['returns'] = stock_df['Adj Close'].pct_change()\n",
      "[*********************100%%**********************]  1 of 1 completed\n",
      "C:\\Users\\Bogdan\\AppData\\Local\\Temp\\ipykernel_28348\\2407199606.py:3: SettingWithCopyWarning: \n",
      "A value is trying to be set on a copy of a slice from a DataFrame.\n",
      "Try using .loc[row_indexer,col_indexer] = value instead\n",
      "\n",
      "See the caveats in the documentation: https://pandas.pydata.org/pandas-docs/stable/user_guide/indexing.html#returning-a-view-versus-a-copy\n",
      "  stock_df['returns'] = stock_df['Adj Close'].pct_change()\n"
     ]
    },
    {
     "name": "stdout",
     "output_type": "stream",
     "text": [
      "LW is done\n",
      "LVS is done\n",
      "LDOS is done\n"
     ]
    },
    {
     "name": "stderr",
     "output_type": "stream",
     "text": [
      "[*********************100%%**********************]  1 of 1 completed\n",
      "C:\\Users\\Bogdan\\AppData\\Local\\Temp\\ipykernel_28348\\2407199606.py:3: SettingWithCopyWarning: \n",
      "A value is trying to be set on a copy of a slice from a DataFrame.\n",
      "Try using .loc[row_indexer,col_indexer] = value instead\n",
      "\n",
      "See the caveats in the documentation: https://pandas.pydata.org/pandas-docs/stable/user_guide/indexing.html#returning-a-view-versus-a-copy\n",
      "  stock_df['returns'] = stock_df['Adj Close'].pct_change()\n",
      "[*********************100%%**********************]  1 of 1 completed\n",
      "C:\\Users\\Bogdan\\AppData\\Local\\Temp\\ipykernel_28348\\2407199606.py:3: SettingWithCopyWarning: \n",
      "A value is trying to be set on a copy of a slice from a DataFrame.\n",
      "Try using .loc[row_indexer,col_indexer] = value instead\n",
      "\n",
      "See the caveats in the documentation: https://pandas.pydata.org/pandas-docs/stable/user_guide/indexing.html#returning-a-view-versus-a-copy\n",
      "  stock_df['returns'] = stock_df['Adj Close'].pct_change()\n",
      "[*********************100%%**********************]  1 of 1 completed\n",
      "C:\\Users\\Bogdan\\AppData\\Local\\Temp\\ipykernel_28348\\2407199606.py:3: SettingWithCopyWarning: \n",
      "A value is trying to be set on a copy of a slice from a DataFrame.\n",
      "Try using .loc[row_indexer,col_indexer] = value instead\n",
      "\n",
      "See the caveats in the documentation: https://pandas.pydata.org/pandas-docs/stable/user_guide/indexing.html#returning-a-view-versus-a-copy\n",
      "  stock_df['returns'] = stock_df['Adj Close'].pct_change()\n"
     ]
    },
    {
     "name": "stdout",
     "output_type": "stream",
     "text": [
      "LEN is done\n",
      "LIN is done\n",
      "LYV is done\n"
     ]
    },
    {
     "name": "stderr",
     "output_type": "stream",
     "text": [
      "[*********************100%%**********************]  1 of 1 completed\n",
      "C:\\Users\\Bogdan\\AppData\\Local\\Temp\\ipykernel_28348\\2407199606.py:3: SettingWithCopyWarning: \n",
      "A value is trying to be set on a copy of a slice from a DataFrame.\n",
      "Try using .loc[row_indexer,col_indexer] = value instead\n",
      "\n",
      "See the caveats in the documentation: https://pandas.pydata.org/pandas-docs/stable/user_guide/indexing.html#returning-a-view-versus-a-copy\n",
      "  stock_df['returns'] = stock_df['Adj Close'].pct_change()\n",
      "[*********************100%%**********************]  1 of 1 completed\n",
      "C:\\Users\\Bogdan\\AppData\\Local\\Temp\\ipykernel_28348\\2407199606.py:3: SettingWithCopyWarning: \n",
      "A value is trying to be set on a copy of a slice from a DataFrame.\n",
      "Try using .loc[row_indexer,col_indexer] = value instead\n",
      "\n",
      "See the caveats in the documentation: https://pandas.pydata.org/pandas-docs/stable/user_guide/indexing.html#returning-a-view-versus-a-copy\n",
      "  stock_df['returns'] = stock_df['Adj Close'].pct_change()\n"
     ]
    },
    {
     "name": "stdout",
     "output_type": "stream",
     "text": [
      "LKQ is done\n",
      "LMT is done\n"
     ]
    },
    {
     "name": "stderr",
     "output_type": "stream",
     "text": [
      "[*********************100%%**********************]  1 of 1 completed\n",
      "C:\\Users\\Bogdan\\AppData\\Local\\Temp\\ipykernel_28348\\2407199606.py:3: SettingWithCopyWarning: \n",
      "A value is trying to be set on a copy of a slice from a DataFrame.\n",
      "Try using .loc[row_indexer,col_indexer] = value instead\n",
      "\n",
      "See the caveats in the documentation: https://pandas.pydata.org/pandas-docs/stable/user_guide/indexing.html#returning-a-view-versus-a-copy\n",
      "  stock_df['returns'] = stock_df['Adj Close'].pct_change()\n",
      "[*********************100%%**********************]  1 of 1 completed\n",
      "C:\\Users\\Bogdan\\AppData\\Local\\Temp\\ipykernel_28348\\2407199606.py:3: SettingWithCopyWarning: \n",
      "A value is trying to be set on a copy of a slice from a DataFrame.\n",
      "Try using .loc[row_indexer,col_indexer] = value instead\n",
      "\n",
      "See the caveats in the documentation: https://pandas.pydata.org/pandas-docs/stable/user_guide/indexing.html#returning-a-view-versus-a-copy\n",
      "  stock_df['returns'] = stock_df['Adj Close'].pct_change()\n",
      "[*********************100%%**********************]  1 of 1 completed\n",
      "C:\\Users\\Bogdan\\AppData\\Local\\Temp\\ipykernel_28348\\2407199606.py:3: SettingWithCopyWarning: \n",
      "A value is trying to be set on a copy of a slice from a DataFrame.\n",
      "Try using .loc[row_indexer,col_indexer] = value instead\n",
      "\n",
      "See the caveats in the documentation: https://pandas.pydata.org/pandas-docs/stable/user_guide/indexing.html#returning-a-view-versus-a-copy\n",
      "  stock_df['returns'] = stock_df['Adj Close'].pct_change()\n"
     ]
    },
    {
     "name": "stdout",
     "output_type": "stream",
     "text": [
      "L is done\n",
      "LOW is done\n",
      "LULU is done\n"
     ]
    },
    {
     "name": "stderr",
     "output_type": "stream",
     "text": [
      "[*********************100%%**********************]  1 of 1 completed\n",
      "C:\\Users\\Bogdan\\AppData\\Local\\Temp\\ipykernel_28348\\2407199606.py:3: SettingWithCopyWarning: \n",
      "A value is trying to be set on a copy of a slice from a DataFrame.\n",
      "Try using .loc[row_indexer,col_indexer] = value instead\n",
      "\n",
      "See the caveats in the documentation: https://pandas.pydata.org/pandas-docs/stable/user_guide/indexing.html#returning-a-view-versus-a-copy\n",
      "  stock_df['returns'] = stock_df['Adj Close'].pct_change()\n",
      "[*********************100%%**********************]  1 of 1 completed\n",
      "C:\\Users\\Bogdan\\AppData\\Local\\Temp\\ipykernel_28348\\2407199606.py:3: SettingWithCopyWarning: \n",
      "A value is trying to be set on a copy of a slice from a DataFrame.\n",
      "Try using .loc[row_indexer,col_indexer] = value instead\n",
      "\n",
      "See the caveats in the documentation: https://pandas.pydata.org/pandas-docs/stable/user_guide/indexing.html#returning-a-view-versus-a-copy\n",
      "  stock_df['returns'] = stock_df['Adj Close'].pct_change()\n"
     ]
    },
    {
     "name": "stdout",
     "output_type": "stream",
     "text": [
      "LYB is done\n",
      "MTB is done\n"
     ]
    },
    {
     "name": "stderr",
     "output_type": "stream",
     "text": [
      "[*********************100%%**********************]  1 of 1 completed\n",
      "C:\\Users\\Bogdan\\AppData\\Local\\Temp\\ipykernel_28348\\2407199606.py:3: SettingWithCopyWarning: \n",
      "A value is trying to be set on a copy of a slice from a DataFrame.\n",
      "Try using .loc[row_indexer,col_indexer] = value instead\n",
      "\n",
      "See the caveats in the documentation: https://pandas.pydata.org/pandas-docs/stable/user_guide/indexing.html#returning-a-view-versus-a-copy\n",
      "  stock_df['returns'] = stock_df['Adj Close'].pct_change()\n",
      "[*********************100%%**********************]  1 of 1 completed\n",
      "C:\\Users\\Bogdan\\AppData\\Local\\Temp\\ipykernel_28348\\2407199606.py:3: SettingWithCopyWarning: \n",
      "A value is trying to be set on a copy of a slice from a DataFrame.\n",
      "Try using .loc[row_indexer,col_indexer] = value instead\n",
      "\n",
      "See the caveats in the documentation: https://pandas.pydata.org/pandas-docs/stable/user_guide/indexing.html#returning-a-view-versus-a-copy\n",
      "  stock_df['returns'] = stock_df['Adj Close'].pct_change()\n",
      "[*********************100%%**********************]  1 of 1 completed"
     ]
    },
    {
     "name": "stdout",
     "output_type": "stream",
     "text": [
      "MRO is done\n",
      "MPC is done\n"
     ]
    },
    {
     "name": "stderr",
     "output_type": "stream",
     "text": [
      "\n",
      "C:\\Users\\Bogdan\\AppData\\Local\\Temp\\ipykernel_28348\\2407199606.py:3: SettingWithCopyWarning: \n",
      "A value is trying to be set on a copy of a slice from a DataFrame.\n",
      "Try using .loc[row_indexer,col_indexer] = value instead\n",
      "\n",
      "See the caveats in the documentation: https://pandas.pydata.org/pandas-docs/stable/user_guide/indexing.html#returning-a-view-versus-a-copy\n",
      "  stock_df['returns'] = stock_df['Adj Close'].pct_change()\n",
      "[*********************100%%**********************]  1 of 1 completed\n",
      "C:\\Users\\Bogdan\\AppData\\Local\\Temp\\ipykernel_28348\\2407199606.py:3: SettingWithCopyWarning: \n",
      "A value is trying to be set on a copy of a slice from a DataFrame.\n",
      "Try using .loc[row_indexer,col_indexer] = value instead\n",
      "\n",
      "See the caveats in the documentation: https://pandas.pydata.org/pandas-docs/stable/user_guide/indexing.html#returning-a-view-versus-a-copy\n",
      "  stock_df['returns'] = stock_df['Adj Close'].pct_change()\n"
     ]
    },
    {
     "name": "stdout",
     "output_type": "stream",
     "text": [
      "MKTX is done\n",
      "MAR is done\n"
     ]
    },
    {
     "name": "stderr",
     "output_type": "stream",
     "text": [
      "[*********************100%%**********************]  1 of 1 completed\n",
      "C:\\Users\\Bogdan\\AppData\\Local\\Temp\\ipykernel_28348\\2407199606.py:3: SettingWithCopyWarning: \n",
      "A value is trying to be set on a copy of a slice from a DataFrame.\n",
      "Try using .loc[row_indexer,col_indexer] = value instead\n",
      "\n",
      "See the caveats in the documentation: https://pandas.pydata.org/pandas-docs/stable/user_guide/indexing.html#returning-a-view-versus-a-copy\n",
      "  stock_df['returns'] = stock_df['Adj Close'].pct_change()\n",
      "[*********************100%%**********************]  1 of 1 completed\n",
      "C:\\Users\\Bogdan\\AppData\\Local\\Temp\\ipykernel_28348\\2407199606.py:3: SettingWithCopyWarning: \n",
      "A value is trying to be set on a copy of a slice from a DataFrame.\n",
      "Try using .loc[row_indexer,col_indexer] = value instead\n",
      "\n",
      "See the caveats in the documentation: https://pandas.pydata.org/pandas-docs/stable/user_guide/indexing.html#returning-a-view-versus-a-copy\n",
      "  stock_df['returns'] = stock_df['Adj Close'].pct_change()\n",
      "[*********************100%%**********************]  1 of 1 completed"
     ]
    },
    {
     "name": "stdout",
     "output_type": "stream",
     "text": [
      "MMC is done\n",
      "MLM is done\n"
     ]
    },
    {
     "name": "stderr",
     "output_type": "stream",
     "text": [
      "\n",
      "C:\\Users\\Bogdan\\AppData\\Local\\Temp\\ipykernel_28348\\2407199606.py:3: SettingWithCopyWarning: \n",
      "A value is trying to be set on a copy of a slice from a DataFrame.\n",
      "Try using .loc[row_indexer,col_indexer] = value instead\n",
      "\n",
      "See the caveats in the documentation: https://pandas.pydata.org/pandas-docs/stable/user_guide/indexing.html#returning-a-view-versus-a-copy\n",
      "  stock_df['returns'] = stock_df['Adj Close'].pct_change()\n",
      "[*********************100%%**********************]  1 of 1 completed\n",
      "C:\\Users\\Bogdan\\AppData\\Local\\Temp\\ipykernel_28348\\2407199606.py:3: SettingWithCopyWarning: \n",
      "A value is trying to be set on a copy of a slice from a DataFrame.\n",
      "Try using .loc[row_indexer,col_indexer] = value instead\n",
      "\n",
      "See the caveats in the documentation: https://pandas.pydata.org/pandas-docs/stable/user_guide/indexing.html#returning-a-view-versus-a-copy\n",
      "  stock_df['returns'] = stock_df['Adj Close'].pct_change()\n",
      "[*********************100%%**********************]  1 of 1 completed\n",
      "C:\\Users\\Bogdan\\AppData\\Local\\Temp\\ipykernel_28348\\2407199606.py:3: SettingWithCopyWarning: \n",
      "A value is trying to be set on a copy of a slice from a DataFrame.\n",
      "Try using .loc[row_indexer,col_indexer] = value instead\n",
      "\n",
      "See the caveats in the documentation: https://pandas.pydata.org/pandas-docs/stable/user_guide/indexing.html#returning-a-view-versus-a-copy\n",
      "  stock_df['returns'] = stock_df['Adj Close'].pct_change()\n",
      "[*********************100%%**********************]  1 of 1 completed"
     ]
    },
    {
     "name": "stdout",
     "output_type": "stream",
     "text": [
      "MAS is done\n",
      "MA is done\n",
      "MTCH is done\n"
     ]
    },
    {
     "name": "stderr",
     "output_type": "stream",
     "text": [
      "\n",
      "C:\\Users\\Bogdan\\AppData\\Local\\Temp\\ipykernel_28348\\2407199606.py:3: SettingWithCopyWarning: \n",
      "A value is trying to be set on a copy of a slice from a DataFrame.\n",
      "Try using .loc[row_indexer,col_indexer] = value instead\n",
      "\n",
      "See the caveats in the documentation: https://pandas.pydata.org/pandas-docs/stable/user_guide/indexing.html#returning-a-view-versus-a-copy\n",
      "  stock_df['returns'] = stock_df['Adj Close'].pct_change()\n",
      "[*********************100%%**********************]  1 of 1 completed\n",
      "C:\\Users\\Bogdan\\AppData\\Local\\Temp\\ipykernel_28348\\2407199606.py:3: SettingWithCopyWarning: \n",
      "A value is trying to be set on a copy of a slice from a DataFrame.\n",
      "Try using .loc[row_indexer,col_indexer] = value instead\n",
      "\n",
      "See the caveats in the documentation: https://pandas.pydata.org/pandas-docs/stable/user_guide/indexing.html#returning-a-view-versus-a-copy\n",
      "  stock_df['returns'] = stock_df['Adj Close'].pct_change()\n"
     ]
    },
    {
     "name": "stdout",
     "output_type": "stream",
     "text": [
      "MKC is done\n",
      "MCD is done\n"
     ]
    },
    {
     "name": "stderr",
     "output_type": "stream",
     "text": [
      "[*********************100%%**********************]  1 of 1 completed\n",
      "C:\\Users\\Bogdan\\AppData\\Local\\Temp\\ipykernel_28348\\2407199606.py:3: SettingWithCopyWarning: \n",
      "A value is trying to be set on a copy of a slice from a DataFrame.\n",
      "Try using .loc[row_indexer,col_indexer] = value instead\n",
      "\n",
      "See the caveats in the documentation: https://pandas.pydata.org/pandas-docs/stable/user_guide/indexing.html#returning-a-view-versus-a-copy\n",
      "  stock_df['returns'] = stock_df['Adj Close'].pct_change()\n",
      "[*********************100%%**********************]  1 of 1 completed\n",
      "C:\\Users\\Bogdan\\AppData\\Local\\Temp\\ipykernel_28348\\2407199606.py:3: SettingWithCopyWarning: \n",
      "A value is trying to be set on a copy of a slice from a DataFrame.\n",
      "Try using .loc[row_indexer,col_indexer] = value instead\n",
      "\n",
      "See the caveats in the documentation: https://pandas.pydata.org/pandas-docs/stable/user_guide/indexing.html#returning-a-view-versus-a-copy\n",
      "  stock_df['returns'] = stock_df['Adj Close'].pct_change()\n",
      "[*********************100%%**********************]  1 of 1 completed"
     ]
    },
    {
     "name": "stdout",
     "output_type": "stream",
     "text": [
      "MCK is done\n",
      "MDT is done\n"
     ]
    },
    {
     "name": "stderr",
     "output_type": "stream",
     "text": [
      "\n",
      "C:\\Users\\Bogdan\\AppData\\Local\\Temp\\ipykernel_28348\\2407199606.py:3: SettingWithCopyWarning: \n",
      "A value is trying to be set on a copy of a slice from a DataFrame.\n",
      "Try using .loc[row_indexer,col_indexer] = value instead\n",
      "\n",
      "See the caveats in the documentation: https://pandas.pydata.org/pandas-docs/stable/user_guide/indexing.html#returning-a-view-versus-a-copy\n",
      "  stock_df['returns'] = stock_df['Adj Close'].pct_change()\n",
      "[*********************100%%**********************]  1 of 1 completed\n",
      "C:\\Users\\Bogdan\\AppData\\Local\\Temp\\ipykernel_28348\\2407199606.py:3: SettingWithCopyWarning: \n",
      "A value is trying to be set on a copy of a slice from a DataFrame.\n",
      "Try using .loc[row_indexer,col_indexer] = value instead\n",
      "\n",
      "See the caveats in the documentation: https://pandas.pydata.org/pandas-docs/stable/user_guide/indexing.html#returning-a-view-versus-a-copy\n",
      "  stock_df['returns'] = stock_df['Adj Close'].pct_change()\n",
      "[*********************100%%**********************]  1 of 1 completed\n",
      "C:\\Users\\Bogdan\\AppData\\Local\\Temp\\ipykernel_28348\\2407199606.py:3: SettingWithCopyWarning: \n",
      "A value is trying to be set on a copy of a slice from a DataFrame.\n",
      "Try using .loc[row_indexer,col_indexer] = value instead\n",
      "\n",
      "See the caveats in the documentation: https://pandas.pydata.org/pandas-docs/stable/user_guide/indexing.html#returning-a-view-versus-a-copy\n",
      "  stock_df['returns'] = stock_df['Adj Close'].pct_change()\n",
      "[*********************100%%**********************]  1 of 1 completed"
     ]
    },
    {
     "name": "stdout",
     "output_type": "stream",
     "text": [
      "MRK is done\n",
      "META is done\n",
      "MET is done\n"
     ]
    },
    {
     "name": "stderr",
     "output_type": "stream",
     "text": [
      "\n",
      "C:\\Users\\Bogdan\\AppData\\Local\\Temp\\ipykernel_28348\\2407199606.py:3: SettingWithCopyWarning: \n",
      "A value is trying to be set on a copy of a slice from a DataFrame.\n",
      "Try using .loc[row_indexer,col_indexer] = value instead\n",
      "\n",
      "See the caveats in the documentation: https://pandas.pydata.org/pandas-docs/stable/user_guide/indexing.html#returning-a-view-versus-a-copy\n",
      "  stock_df['returns'] = stock_df['Adj Close'].pct_change()\n",
      "[*********************100%%**********************]  1 of 1 completed\n",
      "C:\\Users\\Bogdan\\AppData\\Local\\Temp\\ipykernel_28348\\2407199606.py:3: SettingWithCopyWarning: \n",
      "A value is trying to be set on a copy of a slice from a DataFrame.\n",
      "Try using .loc[row_indexer,col_indexer] = value instead\n",
      "\n",
      "See the caveats in the documentation: https://pandas.pydata.org/pandas-docs/stable/user_guide/indexing.html#returning-a-view-versus-a-copy\n",
      "  stock_df['returns'] = stock_df['Adj Close'].pct_change()\n",
      "[*********************100%%**********************]  1 of 1 completed\n",
      "C:\\Users\\Bogdan\\AppData\\Local\\Temp\\ipykernel_28348\\2407199606.py:3: SettingWithCopyWarning: \n",
      "A value is trying to be set on a copy of a slice from a DataFrame.\n",
      "Try using .loc[row_indexer,col_indexer] = value instead\n",
      "\n",
      "See the caveats in the documentation: https://pandas.pydata.org/pandas-docs/stable/user_guide/indexing.html#returning-a-view-versus-a-copy\n",
      "  stock_df['returns'] = stock_df['Adj Close'].pct_change()\n"
     ]
    },
    {
     "name": "stdout",
     "output_type": "stream",
     "text": [
      "MTD is done\n",
      "MGM is done\n",
      "MCHP is done\n"
     ]
    },
    {
     "name": "stderr",
     "output_type": "stream",
     "text": [
      "[*********************100%%**********************]  1 of 1 completed\n",
      "C:\\Users\\Bogdan\\AppData\\Local\\Temp\\ipykernel_28348\\2407199606.py:3: SettingWithCopyWarning: \n",
      "A value is trying to be set on a copy of a slice from a DataFrame.\n",
      "Try using .loc[row_indexer,col_indexer] = value instead\n",
      "\n",
      "See the caveats in the documentation: https://pandas.pydata.org/pandas-docs/stable/user_guide/indexing.html#returning-a-view-versus-a-copy\n",
      "  stock_df['returns'] = stock_df['Adj Close'].pct_change()\n",
      "[*********************100%%**********************]  1 of 1 completed"
     ]
    },
    {
     "name": "stdout",
     "output_type": "stream",
     "text": [
      "MU is done\n",
      "MSFT is done\n"
     ]
    },
    {
     "name": "stderr",
     "output_type": "stream",
     "text": [
      "\n",
      "C:\\Users\\Bogdan\\AppData\\Local\\Temp\\ipykernel_28348\\2407199606.py:3: SettingWithCopyWarning: \n",
      "A value is trying to be set on a copy of a slice from a DataFrame.\n",
      "Try using .loc[row_indexer,col_indexer] = value instead\n",
      "\n",
      "See the caveats in the documentation: https://pandas.pydata.org/pandas-docs/stable/user_guide/indexing.html#returning-a-view-versus-a-copy\n",
      "  stock_df['returns'] = stock_df['Adj Close'].pct_change()\n",
      "[*********************100%%**********************]  1 of 1 completed\n",
      "C:\\Users\\Bogdan\\AppData\\Local\\Temp\\ipykernel_28348\\2407199606.py:3: SettingWithCopyWarning: \n",
      "A value is trying to be set on a copy of a slice from a DataFrame.\n",
      "Try using .loc[row_indexer,col_indexer] = value instead\n",
      "\n",
      "See the caveats in the documentation: https://pandas.pydata.org/pandas-docs/stable/user_guide/indexing.html#returning-a-view-versus-a-copy\n",
      "  stock_df['returns'] = stock_df['Adj Close'].pct_change()\n",
      "[*********************100%%**********************]  1 of 1 completed\n",
      "C:\\Users\\Bogdan\\AppData\\Local\\Temp\\ipykernel_28348\\2407199606.py:3: SettingWithCopyWarning: \n",
      "A value is trying to be set on a copy of a slice from a DataFrame.\n",
      "Try using .loc[row_indexer,col_indexer] = value instead\n",
      "\n",
      "See the caveats in the documentation: https://pandas.pydata.org/pandas-docs/stable/user_guide/indexing.html#returning-a-view-versus-a-copy\n",
      "  stock_df['returns'] = stock_df['Adj Close'].pct_change()\n",
      "[*********************100%%**********************]  1 of 1 completed\n",
      "C:\\Users\\Bogdan\\AppData\\Local\\Temp\\ipykernel_28348\\2407199606.py:3: SettingWithCopyWarning: \n",
      "A value is trying to be set on a copy of a slice from a DataFrame.\n",
      "Try using .loc[row_indexer,col_indexer] = value instead\n",
      "\n",
      "See the caveats in the documentation: https://pandas.pydata.org/pandas-docs/stable/user_guide/indexing.html#returning-a-view-versus-a-copy\n",
      "  stock_df['returns'] = stock_df['Adj Close'].pct_change()\n",
      "[*********************100%%**********************]  1 of 1 completed"
     ]
    },
    {
     "name": "stdout",
     "output_type": "stream",
     "text": [
      "MAA is done\n",
      "MRNA is done\n",
      "MHK is done\n",
      "MOH is done\n"
     ]
    },
    {
     "name": "stderr",
     "output_type": "stream",
     "text": [
      "\n",
      "C:\\Users\\Bogdan\\AppData\\Local\\Temp\\ipykernel_28348\\2407199606.py:3: SettingWithCopyWarning: \n",
      "A value is trying to be set on a copy of a slice from a DataFrame.\n",
      "Try using .loc[row_indexer,col_indexer] = value instead\n",
      "\n",
      "See the caveats in the documentation: https://pandas.pydata.org/pandas-docs/stable/user_guide/indexing.html#returning-a-view-versus-a-copy\n",
      "  stock_df['returns'] = stock_df['Adj Close'].pct_change()\n",
      "[*********************100%%**********************]  1 of 1 completed\n",
      "C:\\Users\\Bogdan\\AppData\\Local\\Temp\\ipykernel_28348\\2407199606.py:3: SettingWithCopyWarning: \n",
      "A value is trying to be set on a copy of a slice from a DataFrame.\n",
      "Try using .loc[row_indexer,col_indexer] = value instead\n",
      "\n",
      "See the caveats in the documentation: https://pandas.pydata.org/pandas-docs/stable/user_guide/indexing.html#returning-a-view-versus-a-copy\n",
      "  stock_df['returns'] = stock_df['Adj Close'].pct_change()\n",
      "[*********************100%%**********************]  1 of 1 completed\n",
      "C:\\Users\\Bogdan\\AppData\\Local\\Temp\\ipykernel_28348\\2407199606.py:3: SettingWithCopyWarning: \n",
      "A value is trying to be set on a copy of a slice from a DataFrame.\n",
      "Try using .loc[row_indexer,col_indexer] = value instead\n",
      "\n",
      "See the caveats in the documentation: https://pandas.pydata.org/pandas-docs/stable/user_guide/indexing.html#returning-a-view-versus-a-copy\n",
      "  stock_df['returns'] = stock_df['Adj Close'].pct_change()\n",
      "[*********************100%%**********************]  1 of 1 completed\n",
      "C:\\Users\\Bogdan\\AppData\\Local\\Temp\\ipykernel_28348\\2407199606.py:3: SettingWithCopyWarning: \n",
      "A value is trying to be set on a copy of a slice from a DataFrame.\n",
      "Try using .loc[row_indexer,col_indexer] = value instead\n",
      "\n",
      "See the caveats in the documentation: https://pandas.pydata.org/pandas-docs/stable/user_guide/indexing.html#returning-a-view-versus-a-copy\n",
      "  stock_df['returns'] = stock_df['Adj Close'].pct_change()\n"
     ]
    },
    {
     "name": "stdout",
     "output_type": "stream",
     "text": [
      "TAP is done\n",
      "MDLZ is done\n",
      "MPWR is done\n"
     ]
    },
    {
     "name": "stderr",
     "output_type": "stream",
     "text": [
      "[*********************100%%**********************]  1 of 1 completed\n",
      "C:\\Users\\Bogdan\\AppData\\Local\\Temp\\ipykernel_28348\\2407199606.py:3: SettingWithCopyWarning: \n",
      "A value is trying to be set on a copy of a slice from a DataFrame.\n",
      "Try using .loc[row_indexer,col_indexer] = value instead\n",
      "\n",
      "See the caveats in the documentation: https://pandas.pydata.org/pandas-docs/stable/user_guide/indexing.html#returning-a-view-versus-a-copy\n",
      "  stock_df['returns'] = stock_df['Adj Close'].pct_change()\n",
      "[*********************100%%**********************]  1 of 1 completed\n",
      "C:\\Users\\Bogdan\\AppData\\Local\\Temp\\ipykernel_28348\\2407199606.py:3: SettingWithCopyWarning: \n",
      "A value is trying to be set on a copy of a slice from a DataFrame.\n",
      "Try using .loc[row_indexer,col_indexer] = value instead\n",
      "\n",
      "See the caveats in the documentation: https://pandas.pydata.org/pandas-docs/stable/user_guide/indexing.html#returning-a-view-versus-a-copy\n",
      "  stock_df['returns'] = stock_df['Adj Close'].pct_change()\n",
      "[*********************100%%**********************]  1 of 1 completed\n",
      "C:\\Users\\Bogdan\\AppData\\Local\\Temp\\ipykernel_28348\\2407199606.py:3: SettingWithCopyWarning: \n",
      "A value is trying to be set on a copy of a slice from a DataFrame.\n",
      "Try using .loc[row_indexer,col_indexer] = value instead\n",
      "\n",
      "See the caveats in the documentation: https://pandas.pydata.org/pandas-docs/stable/user_guide/indexing.html#returning-a-view-versus-a-copy\n",
      "  stock_df['returns'] = stock_df['Adj Close'].pct_change()\n"
     ]
    },
    {
     "name": "stdout",
     "output_type": "stream",
     "text": [
      "MNST is done\n",
      "MCO is done\n",
      "MS is done\n"
     ]
    },
    {
     "name": "stderr",
     "output_type": "stream",
     "text": [
      "[*********************100%%**********************]  1 of 1 completed\n",
      "C:\\Users\\Bogdan\\AppData\\Local\\Temp\\ipykernel_28348\\2407199606.py:3: SettingWithCopyWarning: \n",
      "A value is trying to be set on a copy of a slice from a DataFrame.\n",
      "Try using .loc[row_indexer,col_indexer] = value instead\n",
      "\n",
      "See the caveats in the documentation: https://pandas.pydata.org/pandas-docs/stable/user_guide/indexing.html#returning-a-view-versus-a-copy\n",
      "  stock_df['returns'] = stock_df['Adj Close'].pct_change()\n",
      "[*********************100%%**********************]  1 of 1 completed\n",
      "C:\\Users\\Bogdan\\AppData\\Local\\Temp\\ipykernel_28348\\2407199606.py:3: SettingWithCopyWarning: \n",
      "A value is trying to be set on a copy of a slice from a DataFrame.\n",
      "Try using .loc[row_indexer,col_indexer] = value instead\n",
      "\n",
      "See the caveats in the documentation: https://pandas.pydata.org/pandas-docs/stable/user_guide/indexing.html#returning-a-view-versus-a-copy\n",
      "  stock_df['returns'] = stock_df['Adj Close'].pct_change()\n",
      "[*********************100%%**********************]  1 of 1 completed"
     ]
    },
    {
     "name": "stdout",
     "output_type": "stream",
     "text": [
      "MOS is done\n",
      "MSI is done\n"
     ]
    },
    {
     "name": "stderr",
     "output_type": "stream",
     "text": [
      "\n",
      "C:\\Users\\Bogdan\\AppData\\Local\\Temp\\ipykernel_28348\\2407199606.py:3: SettingWithCopyWarning: \n",
      "A value is trying to be set on a copy of a slice from a DataFrame.\n",
      "Try using .loc[row_indexer,col_indexer] = value instead\n",
      "\n",
      "See the caveats in the documentation: https://pandas.pydata.org/pandas-docs/stable/user_guide/indexing.html#returning-a-view-versus-a-copy\n",
      "  stock_df['returns'] = stock_df['Adj Close'].pct_change()\n",
      "[*********************100%%**********************]  1 of 1 completed\n",
      "C:\\Users\\Bogdan\\AppData\\Local\\Temp\\ipykernel_28348\\2407199606.py:3: SettingWithCopyWarning: \n",
      "A value is trying to be set on a copy of a slice from a DataFrame.\n",
      "Try using .loc[row_indexer,col_indexer] = value instead\n",
      "\n",
      "See the caveats in the documentation: https://pandas.pydata.org/pandas-docs/stable/user_guide/indexing.html#returning-a-view-versus-a-copy\n",
      "  stock_df['returns'] = stock_df['Adj Close'].pct_change()\n",
      "[*********************100%%**********************]  1 of 1 completed\n",
      "C:\\Users\\Bogdan\\AppData\\Local\\Temp\\ipykernel_28348\\2407199606.py:3: SettingWithCopyWarning: \n",
      "A value is trying to be set on a copy of a slice from a DataFrame.\n",
      "Try using .loc[row_indexer,col_indexer] = value instead\n",
      "\n",
      "See the caveats in the documentation: https://pandas.pydata.org/pandas-docs/stable/user_guide/indexing.html#returning-a-view-versus-a-copy\n",
      "  stock_df['returns'] = stock_df['Adj Close'].pct_change()\n",
      "[*********************100%%**********************]  1 of 1 completed"
     ]
    },
    {
     "name": "stdout",
     "output_type": "stream",
     "text": [
      "MSCI is done\n",
      "NDAQ is done\n",
      "NTAP is done\n"
     ]
    },
    {
     "name": "stderr",
     "output_type": "stream",
     "text": [
      "\n",
      "C:\\Users\\Bogdan\\AppData\\Local\\Temp\\ipykernel_28348\\2407199606.py:3: SettingWithCopyWarning: \n",
      "A value is trying to be set on a copy of a slice from a DataFrame.\n",
      "Try using .loc[row_indexer,col_indexer] = value instead\n",
      "\n",
      "See the caveats in the documentation: https://pandas.pydata.org/pandas-docs/stable/user_guide/indexing.html#returning-a-view-versus-a-copy\n",
      "  stock_df['returns'] = stock_df['Adj Close'].pct_change()\n",
      "[*********************100%%**********************]  1 of 1 completed\n",
      "C:\\Users\\Bogdan\\AppData\\Local\\Temp\\ipykernel_28348\\2407199606.py:3: SettingWithCopyWarning: \n",
      "A value is trying to be set on a copy of a slice from a DataFrame.\n",
      "Try using .loc[row_indexer,col_indexer] = value instead\n",
      "\n",
      "See the caveats in the documentation: https://pandas.pydata.org/pandas-docs/stable/user_guide/indexing.html#returning-a-view-versus-a-copy\n",
      "  stock_df['returns'] = stock_df['Adj Close'].pct_change()\n",
      "[*********************100%%**********************]  1 of 1 completed\n",
      "C:\\Users\\Bogdan\\AppData\\Local\\Temp\\ipykernel_28348\\2407199606.py:3: SettingWithCopyWarning: \n",
      "A value is trying to be set on a copy of a slice from a DataFrame.\n",
      "Try using .loc[row_indexer,col_indexer] = value instead\n",
      "\n",
      "See the caveats in the documentation: https://pandas.pydata.org/pandas-docs/stable/user_guide/indexing.html#returning-a-view-versus-a-copy\n",
      "  stock_df['returns'] = stock_df['Adj Close'].pct_change()\n",
      "[*********************100%%**********************]  1 of 1 completed"
     ]
    },
    {
     "name": "stdout",
     "output_type": "stream",
     "text": [
      "NFLX is done\n",
      "NEM is done\n",
      "NWSA is done\n"
     ]
    },
    {
     "name": "stderr",
     "output_type": "stream",
     "text": [
      "\n",
      "C:\\Users\\Bogdan\\AppData\\Local\\Temp\\ipykernel_28348\\2407199606.py:3: SettingWithCopyWarning: \n",
      "A value is trying to be set on a copy of a slice from a DataFrame.\n",
      "Try using .loc[row_indexer,col_indexer] = value instead\n",
      "\n",
      "See the caveats in the documentation: https://pandas.pydata.org/pandas-docs/stable/user_guide/indexing.html#returning-a-view-versus-a-copy\n",
      "  stock_df['returns'] = stock_df['Adj Close'].pct_change()\n",
      "[*********************100%%**********************]  1 of 1 completed\n",
      "C:\\Users\\Bogdan\\AppData\\Local\\Temp\\ipykernel_28348\\2407199606.py:3: SettingWithCopyWarning: \n",
      "A value is trying to be set on a copy of a slice from a DataFrame.\n",
      "Try using .loc[row_indexer,col_indexer] = value instead\n",
      "\n",
      "See the caveats in the documentation: https://pandas.pydata.org/pandas-docs/stable/user_guide/indexing.html#returning-a-view-versus-a-copy\n",
      "  stock_df['returns'] = stock_df['Adj Close'].pct_change()\n",
      "[*********************100%%**********************]  1 of 1 completed"
     ]
    },
    {
     "name": "stdout",
     "output_type": "stream",
     "text": [
      "NWS is done\n",
      "NEE is done\n"
     ]
    },
    {
     "name": "stderr",
     "output_type": "stream",
     "text": [
      "\n",
      "C:\\Users\\Bogdan\\AppData\\Local\\Temp\\ipykernel_28348\\2407199606.py:3: SettingWithCopyWarning: \n",
      "A value is trying to be set on a copy of a slice from a DataFrame.\n",
      "Try using .loc[row_indexer,col_indexer] = value instead\n",
      "\n",
      "See the caveats in the documentation: https://pandas.pydata.org/pandas-docs/stable/user_guide/indexing.html#returning-a-view-versus-a-copy\n",
      "  stock_df['returns'] = stock_df['Adj Close'].pct_change()\n",
      "[*********************100%%**********************]  1 of 1 completed"
     ]
    },
    {
     "name": "stdout",
     "output_type": "stream",
     "text": [
      "NKE is done\n",
      "NI is done\n"
     ]
    },
    {
     "name": "stderr",
     "output_type": "stream",
     "text": [
      "\n",
      "C:\\Users\\Bogdan\\AppData\\Local\\Temp\\ipykernel_28348\\2407199606.py:3: SettingWithCopyWarning: \n",
      "A value is trying to be set on a copy of a slice from a DataFrame.\n",
      "Try using .loc[row_indexer,col_indexer] = value instead\n",
      "\n",
      "See the caveats in the documentation: https://pandas.pydata.org/pandas-docs/stable/user_guide/indexing.html#returning-a-view-versus-a-copy\n",
      "  stock_df['returns'] = stock_df['Adj Close'].pct_change()\n",
      "[*********************100%%**********************]  1 of 1 completed\n",
      "C:\\Users\\Bogdan\\AppData\\Local\\Temp\\ipykernel_28348\\2407199606.py:3: SettingWithCopyWarning: \n",
      "A value is trying to be set on a copy of a slice from a DataFrame.\n",
      "Try using .loc[row_indexer,col_indexer] = value instead\n",
      "\n",
      "See the caveats in the documentation: https://pandas.pydata.org/pandas-docs/stable/user_guide/indexing.html#returning-a-view-versus-a-copy\n",
      "  stock_df['returns'] = stock_df['Adj Close'].pct_change()\n",
      "[*********************100%%**********************]  1 of 1 completed\n",
      "C:\\Users\\Bogdan\\AppData\\Local\\Temp\\ipykernel_28348\\2407199606.py:3: SettingWithCopyWarning: \n",
      "A value is trying to be set on a copy of a slice from a DataFrame.\n",
      "Try using .loc[row_indexer,col_indexer] = value instead\n",
      "\n",
      "See the caveats in the documentation: https://pandas.pydata.org/pandas-docs/stable/user_guide/indexing.html#returning-a-view-versus-a-copy\n",
      "  stock_df['returns'] = stock_df['Adj Close'].pct_change()\n"
     ]
    },
    {
     "name": "stdout",
     "output_type": "stream",
     "text": [
      "NDSN is done\n",
      "NSC is done\n"
     ]
    },
    {
     "name": "stderr",
     "output_type": "stream",
     "text": [
      "[*********************100%%**********************]  1 of 1 completed\n",
      "C:\\Users\\Bogdan\\AppData\\Local\\Temp\\ipykernel_28348\\2407199606.py:3: SettingWithCopyWarning: \n",
      "A value is trying to be set on a copy of a slice from a DataFrame.\n",
      "Try using .loc[row_indexer,col_indexer] = value instead\n",
      "\n",
      "See the caveats in the documentation: https://pandas.pydata.org/pandas-docs/stable/user_guide/indexing.html#returning-a-view-versus-a-copy\n",
      "  stock_df['returns'] = stock_df['Adj Close'].pct_change()\n",
      "[*********************100%%**********************]  1 of 1 completed\n",
      "C:\\Users\\Bogdan\\AppData\\Local\\Temp\\ipykernel_28348\\2407199606.py:3: SettingWithCopyWarning: \n",
      "A value is trying to be set on a copy of a slice from a DataFrame.\n",
      "Try using .loc[row_indexer,col_indexer] = value instead\n",
      "\n",
      "See the caveats in the documentation: https://pandas.pydata.org/pandas-docs/stable/user_guide/indexing.html#returning-a-view-versus-a-copy\n",
      "  stock_df['returns'] = stock_df['Adj Close'].pct_change()\n",
      "[*********************100%%**********************]  1 of 1 completed"
     ]
    },
    {
     "name": "stdout",
     "output_type": "stream",
     "text": [
      "NTRS is done\n",
      "NOC is done\n",
      "NCLH is done\n"
     ]
    },
    {
     "name": "stderr",
     "output_type": "stream",
     "text": [
      "\n",
      "C:\\Users\\Bogdan\\AppData\\Local\\Temp\\ipykernel_28348\\2407199606.py:3: SettingWithCopyWarning: \n",
      "A value is trying to be set on a copy of a slice from a DataFrame.\n",
      "Try using .loc[row_indexer,col_indexer] = value instead\n",
      "\n",
      "See the caveats in the documentation: https://pandas.pydata.org/pandas-docs/stable/user_guide/indexing.html#returning-a-view-versus-a-copy\n",
      "  stock_df['returns'] = stock_df['Adj Close'].pct_change()\n",
      "[*********************100%%**********************]  1 of 1 completed\n",
      "C:\\Users\\Bogdan\\AppData\\Local\\Temp\\ipykernel_28348\\2407199606.py:3: SettingWithCopyWarning: \n",
      "A value is trying to be set on a copy of a slice from a DataFrame.\n",
      "Try using .loc[row_indexer,col_indexer] = value instead\n",
      "\n",
      "See the caveats in the documentation: https://pandas.pydata.org/pandas-docs/stable/user_guide/indexing.html#returning-a-view-versus-a-copy\n",
      "  stock_df['returns'] = stock_df['Adj Close'].pct_change()\n",
      "[*********************100%%**********************]  1 of 1 completed\n",
      "C:\\Users\\Bogdan\\AppData\\Local\\Temp\\ipykernel_28348\\2407199606.py:3: SettingWithCopyWarning: \n",
      "A value is trying to be set on a copy of a slice from a DataFrame.\n",
      "Try using .loc[row_indexer,col_indexer] = value instead\n",
      "\n",
      "See the caveats in the documentation: https://pandas.pydata.org/pandas-docs/stable/user_guide/indexing.html#returning-a-view-versus-a-copy\n",
      "  stock_df['returns'] = stock_df['Adj Close'].pct_change()\n",
      "[*********************100%%**********************]  1 of 1 completed"
     ]
    },
    {
     "name": "stdout",
     "output_type": "stream",
     "text": [
      "NRG is done\n",
      "NUE is done\n",
      "NVDA is done\n"
     ]
    },
    {
     "name": "stderr",
     "output_type": "stream",
     "text": [
      "\n",
      "C:\\Users\\Bogdan\\AppData\\Local\\Temp\\ipykernel_28348\\2407199606.py:3: SettingWithCopyWarning: \n",
      "A value is trying to be set on a copy of a slice from a DataFrame.\n",
      "Try using .loc[row_indexer,col_indexer] = value instead\n",
      "\n",
      "See the caveats in the documentation: https://pandas.pydata.org/pandas-docs/stable/user_guide/indexing.html#returning-a-view-versus-a-copy\n",
      "  stock_df['returns'] = stock_df['Adj Close'].pct_change()\n",
      "[*********************100%%**********************]  1 of 1 completed\n",
      "C:\\Users\\Bogdan\\AppData\\Local\\Temp\\ipykernel_28348\\2407199606.py:3: SettingWithCopyWarning: \n",
      "A value is trying to be set on a copy of a slice from a DataFrame.\n",
      "Try using .loc[row_indexer,col_indexer] = value instead\n",
      "\n",
      "See the caveats in the documentation: https://pandas.pydata.org/pandas-docs/stable/user_guide/indexing.html#returning-a-view-versus-a-copy\n",
      "  stock_df['returns'] = stock_df['Adj Close'].pct_change()\n",
      "[*********************100%%**********************]  1 of 1 completed\n",
      "C:\\Users\\Bogdan\\AppData\\Local\\Temp\\ipykernel_28348\\2407199606.py:3: SettingWithCopyWarning: \n",
      "A value is trying to be set on a copy of a slice from a DataFrame.\n",
      "Try using .loc[row_indexer,col_indexer] = value instead\n",
      "\n",
      "See the caveats in the documentation: https://pandas.pydata.org/pandas-docs/stable/user_guide/indexing.html#returning-a-view-versus-a-copy\n",
      "  stock_df['returns'] = stock_df['Adj Close'].pct_change()\n",
      "[*********************100%%**********************]  1 of 1 completed\n",
      "C:\\Users\\Bogdan\\AppData\\Local\\Temp\\ipykernel_28348\\2407199606.py:3: SettingWithCopyWarning: \n",
      "A value is trying to be set on a copy of a slice from a DataFrame.\n",
      "Try using .loc[row_indexer,col_indexer] = value instead\n",
      "\n",
      "See the caveats in the documentation: https://pandas.pydata.org/pandas-docs/stable/user_guide/indexing.html#returning-a-view-versus-a-copy\n",
      "  stock_df['returns'] = stock_df['Adj Close'].pct_change()\n"
     ]
    },
    {
     "name": "stdout",
     "output_type": "stream",
     "text": [
      "NVR is done\n",
      "NXPI is done\n",
      "ORLY is done\n"
     ]
    },
    {
     "name": "stderr",
     "output_type": "stream",
     "text": [
      "[*********************100%%**********************]  1 of 1 completed\n",
      "C:\\Users\\Bogdan\\AppData\\Local\\Temp\\ipykernel_28348\\2407199606.py:3: SettingWithCopyWarning: \n",
      "A value is trying to be set on a copy of a slice from a DataFrame.\n",
      "Try using .loc[row_indexer,col_indexer] = value instead\n",
      "\n",
      "See the caveats in the documentation: https://pandas.pydata.org/pandas-docs/stable/user_guide/indexing.html#returning-a-view-versus-a-copy\n",
      "  stock_df['returns'] = stock_df['Adj Close'].pct_change()\n",
      "[*********************100%%**********************]  1 of 1 completed\n",
      "C:\\Users\\Bogdan\\AppData\\Local\\Temp\\ipykernel_28348\\2407199606.py:3: SettingWithCopyWarning: \n",
      "A value is trying to be set on a copy of a slice from a DataFrame.\n",
      "Try using .loc[row_indexer,col_indexer] = value instead\n",
      "\n",
      "See the caveats in the documentation: https://pandas.pydata.org/pandas-docs/stable/user_guide/indexing.html#returning-a-view-versus-a-copy\n",
      "  stock_df['returns'] = stock_df['Adj Close'].pct_change()\n",
      "[*********************100%%**********************]  1 of 1 completed"
     ]
    },
    {
     "name": "stdout",
     "output_type": "stream",
     "text": [
      "OXY is done\n",
      "ODFL is done\n"
     ]
    },
    {
     "name": "stderr",
     "output_type": "stream",
     "text": [
      "\n",
      "C:\\Users\\Bogdan\\AppData\\Local\\Temp\\ipykernel_28348\\2407199606.py:3: SettingWithCopyWarning: \n",
      "A value is trying to be set on a copy of a slice from a DataFrame.\n",
      "Try using .loc[row_indexer,col_indexer] = value instead\n",
      "\n",
      "See the caveats in the documentation: https://pandas.pydata.org/pandas-docs/stable/user_guide/indexing.html#returning-a-view-versus-a-copy\n",
      "  stock_df['returns'] = stock_df['Adj Close'].pct_change()\n",
      "[*********************100%%**********************]  1 of 1 completed\n",
      "C:\\Users\\Bogdan\\AppData\\Local\\Temp\\ipykernel_28348\\2407199606.py:3: SettingWithCopyWarning: \n",
      "A value is trying to be set on a copy of a slice from a DataFrame.\n",
      "Try using .loc[row_indexer,col_indexer] = value instead\n",
      "\n",
      "See the caveats in the documentation: https://pandas.pydata.org/pandas-docs/stable/user_guide/indexing.html#returning-a-view-versus-a-copy\n",
      "  stock_df['returns'] = stock_df['Adj Close'].pct_change()\n",
      "[*********************100%%**********************]  1 of 1 completed\n",
      "C:\\Users\\Bogdan\\AppData\\Local\\Temp\\ipykernel_28348\\2407199606.py:3: SettingWithCopyWarning: \n",
      "A value is trying to be set on a copy of a slice from a DataFrame.\n",
      "Try using .loc[row_indexer,col_indexer] = value instead\n",
      "\n",
      "See the caveats in the documentation: https://pandas.pydata.org/pandas-docs/stable/user_guide/indexing.html#returning-a-view-versus-a-copy\n",
      "  stock_df['returns'] = stock_df['Adj Close'].pct_change()\n",
      "[*********************100%%**********************]  1 of 1 completed"
     ]
    },
    {
     "name": "stdout",
     "output_type": "stream",
     "text": [
      "OMC is done\n",
      "ON is done\n",
      "OKE is done\n"
     ]
    },
    {
     "name": "stderr",
     "output_type": "stream",
     "text": [
      "\n",
      "C:\\Users\\Bogdan\\AppData\\Local\\Temp\\ipykernel_28348\\2407199606.py:3: SettingWithCopyWarning: \n",
      "A value is trying to be set on a copy of a slice from a DataFrame.\n",
      "Try using .loc[row_indexer,col_indexer] = value instead\n",
      "\n",
      "See the caveats in the documentation: https://pandas.pydata.org/pandas-docs/stable/user_guide/indexing.html#returning-a-view-versus-a-copy\n",
      "  stock_df['returns'] = stock_df['Adj Close'].pct_change()\n",
      "[*********************100%%**********************]  1 of 1 completed\n",
      "C:\\Users\\Bogdan\\AppData\\Local\\Temp\\ipykernel_28348\\2407199606.py:3: SettingWithCopyWarning: \n",
      "A value is trying to be set on a copy of a slice from a DataFrame.\n",
      "Try using .loc[row_indexer,col_indexer] = value instead\n",
      "\n",
      "See the caveats in the documentation: https://pandas.pydata.org/pandas-docs/stable/user_guide/indexing.html#returning-a-view-versus-a-copy\n",
      "  stock_df['returns'] = stock_df['Adj Close'].pct_change()\n",
      "[*********************100%%**********************]  1 of 1 completed\n",
      "C:\\Users\\Bogdan\\AppData\\Local\\Temp\\ipykernel_28348\\2407199606.py:3: SettingWithCopyWarning: \n",
      "A value is trying to be set on a copy of a slice from a DataFrame.\n",
      "Try using .loc[row_indexer,col_indexer] = value instead\n",
      "\n",
      "See the caveats in the documentation: https://pandas.pydata.org/pandas-docs/stable/user_guide/indexing.html#returning-a-view-versus-a-copy\n",
      "  stock_df['returns'] = stock_df['Adj Close'].pct_change()\n",
      "[*********************100%%**********************]  1 of 1 completed"
     ]
    },
    {
     "name": "stdout",
     "output_type": "stream",
     "text": [
      "ORCL is done\n",
      "OTIS is done\n",
      "PCAR is done\n"
     ]
    },
    {
     "name": "stderr",
     "output_type": "stream",
     "text": [
      "\n",
      "C:\\Users\\Bogdan\\AppData\\Local\\Temp\\ipykernel_28348\\2407199606.py:3: SettingWithCopyWarning: \n",
      "A value is trying to be set on a copy of a slice from a DataFrame.\n",
      "Try using .loc[row_indexer,col_indexer] = value instead\n",
      "\n",
      "See the caveats in the documentation: https://pandas.pydata.org/pandas-docs/stable/user_guide/indexing.html#returning-a-view-versus-a-copy\n",
      "  stock_df['returns'] = stock_df['Adj Close'].pct_change()\n",
      "[*********************100%%**********************]  1 of 1 completed\n",
      "C:\\Users\\Bogdan\\AppData\\Local\\Temp\\ipykernel_28348\\2407199606.py:3: SettingWithCopyWarning: \n",
      "A value is trying to be set on a copy of a slice from a DataFrame.\n",
      "Try using .loc[row_indexer,col_indexer] = value instead\n",
      "\n",
      "See the caveats in the documentation: https://pandas.pydata.org/pandas-docs/stable/user_guide/indexing.html#returning-a-view-versus-a-copy\n",
      "  stock_df['returns'] = stock_df['Adj Close'].pct_change()\n",
      "[*********************100%%**********************]  1 of 1 completed\n",
      "C:\\Users\\Bogdan\\AppData\\Local\\Temp\\ipykernel_28348\\2407199606.py:3: SettingWithCopyWarning: \n",
      "A value is trying to be set on a copy of a slice from a DataFrame.\n",
      "Try using .loc[row_indexer,col_indexer] = value instead\n",
      "\n",
      "See the caveats in the documentation: https://pandas.pydata.org/pandas-docs/stable/user_guide/indexing.html#returning-a-view-versus-a-copy\n",
      "  stock_df['returns'] = stock_df['Adj Close'].pct_change()\n"
     ]
    },
    {
     "name": "stdout",
     "output_type": "stream",
     "text": [
      "PKG is done\n",
      "PANW is done\n",
      "PARA is done\n"
     ]
    },
    {
     "name": "stderr",
     "output_type": "stream",
     "text": [
      "[*********************100%%**********************]  1 of 1 completed\n",
      "C:\\Users\\Bogdan\\AppData\\Local\\Temp\\ipykernel_28348\\2407199606.py:3: SettingWithCopyWarning: \n",
      "A value is trying to be set on a copy of a slice from a DataFrame.\n",
      "Try using .loc[row_indexer,col_indexer] = value instead\n",
      "\n",
      "See the caveats in the documentation: https://pandas.pydata.org/pandas-docs/stable/user_guide/indexing.html#returning-a-view-versus-a-copy\n",
      "  stock_df['returns'] = stock_df['Adj Close'].pct_change()\n",
      "[*********************100%%**********************]  1 of 1 completed\n",
      "C:\\Users\\Bogdan\\AppData\\Local\\Temp\\ipykernel_28348\\2407199606.py:3: SettingWithCopyWarning: \n",
      "A value is trying to be set on a copy of a slice from a DataFrame.\n",
      "Try using .loc[row_indexer,col_indexer] = value instead\n",
      "\n",
      "See the caveats in the documentation: https://pandas.pydata.org/pandas-docs/stable/user_guide/indexing.html#returning-a-view-versus-a-copy\n",
      "  stock_df['returns'] = stock_df['Adj Close'].pct_change()\n",
      "[*********************100%%**********************]  1 of 1 completed\n",
      "C:\\Users\\Bogdan\\AppData\\Local\\Temp\\ipykernel_28348\\2407199606.py:3: SettingWithCopyWarning: \n",
      "A value is trying to be set on a copy of a slice from a DataFrame.\n",
      "Try using .loc[row_indexer,col_indexer] = value instead\n",
      "\n",
      "See the caveats in the documentation: https://pandas.pydata.org/pandas-docs/stable/user_guide/indexing.html#returning-a-view-versus-a-copy\n",
      "  stock_df['returns'] = stock_df['Adj Close'].pct_change()\n",
      "[*********************100%%**********************]  1 of 1 completed"
     ]
    },
    {
     "name": "stdout",
     "output_type": "stream",
     "text": [
      "PH is done\n",
      "PAYX is done\n",
      "PAYC is done\n"
     ]
    },
    {
     "name": "stderr",
     "output_type": "stream",
     "text": [
      "\n",
      "C:\\Users\\Bogdan\\AppData\\Local\\Temp\\ipykernel_28348\\2407199606.py:3: SettingWithCopyWarning: \n",
      "A value is trying to be set on a copy of a slice from a DataFrame.\n",
      "Try using .loc[row_indexer,col_indexer] = value instead\n",
      "\n",
      "See the caveats in the documentation: https://pandas.pydata.org/pandas-docs/stable/user_guide/indexing.html#returning-a-view-versus-a-copy\n",
      "  stock_df['returns'] = stock_df['Adj Close'].pct_change()\n",
      "[*********************100%%**********************]  1 of 1 completed\n",
      "C:\\Users\\Bogdan\\AppData\\Local\\Temp\\ipykernel_28348\\2407199606.py:3: SettingWithCopyWarning: \n",
      "A value is trying to be set on a copy of a slice from a DataFrame.\n",
      "Try using .loc[row_indexer,col_indexer] = value instead\n",
      "\n",
      "See the caveats in the documentation: https://pandas.pydata.org/pandas-docs/stable/user_guide/indexing.html#returning-a-view-versus-a-copy\n",
      "  stock_df['returns'] = stock_df['Adj Close'].pct_change()\n",
      "[*********************100%%**********************]  1 of 1 completed"
     ]
    },
    {
     "name": "stdout",
     "output_type": "stream",
     "text": [
      "PYPL is done\n",
      "PNR is done\n"
     ]
    },
    {
     "name": "stderr",
     "output_type": "stream",
     "text": [
      "\n",
      "C:\\Users\\Bogdan\\AppData\\Local\\Temp\\ipykernel_28348\\2407199606.py:3: SettingWithCopyWarning: \n",
      "A value is trying to be set on a copy of a slice from a DataFrame.\n",
      "Try using .loc[row_indexer,col_indexer] = value instead\n",
      "\n",
      "See the caveats in the documentation: https://pandas.pydata.org/pandas-docs/stable/user_guide/indexing.html#returning-a-view-versus-a-copy\n",
      "  stock_df['returns'] = stock_df['Adj Close'].pct_change()\n",
      "[*********************100%%**********************]  1 of 1 completed\n",
      "C:\\Users\\Bogdan\\AppData\\Local\\Temp\\ipykernel_28348\\2407199606.py:3: SettingWithCopyWarning: \n",
      "A value is trying to be set on a copy of a slice from a DataFrame.\n",
      "Try using .loc[row_indexer,col_indexer] = value instead\n",
      "\n",
      "See the caveats in the documentation: https://pandas.pydata.org/pandas-docs/stable/user_guide/indexing.html#returning-a-view-versus-a-copy\n",
      "  stock_df['returns'] = stock_df['Adj Close'].pct_change()\n"
     ]
    },
    {
     "name": "stdout",
     "output_type": "stream",
     "text": [
      "PEP is done\n",
      "PFE is done\n"
     ]
    },
    {
     "name": "stderr",
     "output_type": "stream",
     "text": [
      "[*********************100%%**********************]  1 of 1 completed\n",
      "C:\\Users\\Bogdan\\AppData\\Local\\Temp\\ipykernel_28348\\2407199606.py:3: SettingWithCopyWarning: \n",
      "A value is trying to be set on a copy of a slice from a DataFrame.\n",
      "Try using .loc[row_indexer,col_indexer] = value instead\n",
      "\n",
      "See the caveats in the documentation: https://pandas.pydata.org/pandas-docs/stable/user_guide/indexing.html#returning-a-view-versus-a-copy\n",
      "  stock_df['returns'] = stock_df['Adj Close'].pct_change()\n",
      "[*********************100%%**********************]  1 of 1 completed\n",
      "C:\\Users\\Bogdan\\AppData\\Local\\Temp\\ipykernel_28348\\2407199606.py:3: SettingWithCopyWarning: \n",
      "A value is trying to be set on a copy of a slice from a DataFrame.\n",
      "Try using .loc[row_indexer,col_indexer] = value instead\n",
      "\n",
      "See the caveats in the documentation: https://pandas.pydata.org/pandas-docs/stable/user_guide/indexing.html#returning-a-view-versus-a-copy\n",
      "  stock_df['returns'] = stock_df['Adj Close'].pct_change()\n",
      "[*********************100%%**********************]  1 of 1 completed"
     ]
    },
    {
     "name": "stdout",
     "output_type": "stream",
     "text": [
      "PCG is done\n",
      "PM is done\n",
      "PSX is done\n"
     ]
    },
    {
     "name": "stderr",
     "output_type": "stream",
     "text": [
      "\n",
      "C:\\Users\\Bogdan\\AppData\\Local\\Temp\\ipykernel_28348\\2407199606.py:3: SettingWithCopyWarning: \n",
      "A value is trying to be set on a copy of a slice from a DataFrame.\n",
      "Try using .loc[row_indexer,col_indexer] = value instead\n",
      "\n",
      "See the caveats in the documentation: https://pandas.pydata.org/pandas-docs/stable/user_guide/indexing.html#returning-a-view-versus-a-copy\n",
      "  stock_df['returns'] = stock_df['Adj Close'].pct_change()\n",
      "[*********************100%%**********************]  1 of 1 completed\n",
      "C:\\Users\\Bogdan\\AppData\\Local\\Temp\\ipykernel_28348\\2407199606.py:3: SettingWithCopyWarning: \n",
      "A value is trying to be set on a copy of a slice from a DataFrame.\n",
      "Try using .loc[row_indexer,col_indexer] = value instead\n",
      "\n",
      "See the caveats in the documentation: https://pandas.pydata.org/pandas-docs/stable/user_guide/indexing.html#returning-a-view-versus-a-copy\n",
      "  stock_df['returns'] = stock_df['Adj Close'].pct_change()\n",
      "[*********************100%%**********************]  1 of 1 completed\n",
      "C:\\Users\\Bogdan\\AppData\\Local\\Temp\\ipykernel_28348\\2407199606.py:3: SettingWithCopyWarning: \n",
      "A value is trying to be set on a copy of a slice from a DataFrame.\n",
      "Try using .loc[row_indexer,col_indexer] = value instead\n",
      "\n",
      "See the caveats in the documentation: https://pandas.pydata.org/pandas-docs/stable/user_guide/indexing.html#returning-a-view-versus-a-copy\n",
      "  stock_df['returns'] = stock_df['Adj Close'].pct_change()\n"
     ]
    },
    {
     "name": "stdout",
     "output_type": "stream",
     "text": [
      "PNW is done\n",
      "PNC is done\n"
     ]
    },
    {
     "name": "stderr",
     "output_type": "stream",
     "text": [
      "[*********************100%%**********************]  1 of 1 completed\n",
      "C:\\Users\\Bogdan\\AppData\\Local\\Temp\\ipykernel_28348\\2407199606.py:3: SettingWithCopyWarning: \n",
      "A value is trying to be set on a copy of a slice from a DataFrame.\n",
      "Try using .loc[row_indexer,col_indexer] = value instead\n",
      "\n",
      "See the caveats in the documentation: https://pandas.pydata.org/pandas-docs/stable/user_guide/indexing.html#returning-a-view-versus-a-copy\n",
      "  stock_df['returns'] = stock_df['Adj Close'].pct_change()\n",
      "[*********************100%%**********************]  1 of 1 completed\n",
      "C:\\Users\\Bogdan\\AppData\\Local\\Temp\\ipykernel_28348\\2407199606.py:3: SettingWithCopyWarning: \n",
      "A value is trying to be set on a copy of a slice from a DataFrame.\n",
      "Try using .loc[row_indexer,col_indexer] = value instead\n",
      "\n",
      "See the caveats in the documentation: https://pandas.pydata.org/pandas-docs/stable/user_guide/indexing.html#returning-a-view-versus-a-copy\n",
      "  stock_df['returns'] = stock_df['Adj Close'].pct_change()\n",
      "[*********************100%%**********************]  1 of 1 completed"
     ]
    },
    {
     "name": "stdout",
     "output_type": "stream",
     "text": [
      "POOL is done\n",
      "PPG is done\n"
     ]
    },
    {
     "name": "stderr",
     "output_type": "stream",
     "text": [
      "\n",
      "C:\\Users\\Bogdan\\AppData\\Local\\Temp\\ipykernel_28348\\2407199606.py:3: SettingWithCopyWarning: \n",
      "A value is trying to be set on a copy of a slice from a DataFrame.\n",
      "Try using .loc[row_indexer,col_indexer] = value instead\n",
      "\n",
      "See the caveats in the documentation: https://pandas.pydata.org/pandas-docs/stable/user_guide/indexing.html#returning-a-view-versus-a-copy\n",
      "  stock_df['returns'] = stock_df['Adj Close'].pct_change()\n",
      "[*********************100%%**********************]  1 of 1 completed\n",
      "C:\\Users\\Bogdan\\AppData\\Local\\Temp\\ipykernel_28348\\2407199606.py:3: SettingWithCopyWarning: \n",
      "A value is trying to be set on a copy of a slice from a DataFrame.\n",
      "Try using .loc[row_indexer,col_indexer] = value instead\n",
      "\n",
      "See the caveats in the documentation: https://pandas.pydata.org/pandas-docs/stable/user_guide/indexing.html#returning-a-view-versus-a-copy\n",
      "  stock_df['returns'] = stock_df['Adj Close'].pct_change()\n",
      "[*********************100%%**********************]  1 of 1 completed"
     ]
    },
    {
     "name": "stdout",
     "output_type": "stream",
     "text": [
      "PPL is done\n",
      "PFG is done\n"
     ]
    },
    {
     "name": "stderr",
     "output_type": "stream",
     "text": [
      "\n",
      "C:\\Users\\Bogdan\\AppData\\Local\\Temp\\ipykernel_28348\\2407199606.py:3: SettingWithCopyWarning: \n",
      "A value is trying to be set on a copy of a slice from a DataFrame.\n",
      "Try using .loc[row_indexer,col_indexer] = value instead\n",
      "\n",
      "See the caveats in the documentation: https://pandas.pydata.org/pandas-docs/stable/user_guide/indexing.html#returning-a-view-versus-a-copy\n",
      "  stock_df['returns'] = stock_df['Adj Close'].pct_change()\n",
      "[*********************100%%**********************]  1 of 1 completed\n",
      "C:\\Users\\Bogdan\\AppData\\Local\\Temp\\ipykernel_28348\\2407199606.py:3: SettingWithCopyWarning: \n",
      "A value is trying to be set on a copy of a slice from a DataFrame.\n",
      "Try using .loc[row_indexer,col_indexer] = value instead\n",
      "\n",
      "See the caveats in the documentation: https://pandas.pydata.org/pandas-docs/stable/user_guide/indexing.html#returning-a-view-versus-a-copy\n",
      "  stock_df['returns'] = stock_df['Adj Close'].pct_change()\n",
      "[*********************100%%**********************]  1 of 1 completed\n",
      "C:\\Users\\Bogdan\\AppData\\Local\\Temp\\ipykernel_28348\\2407199606.py:3: SettingWithCopyWarning: \n",
      "A value is trying to be set on a copy of a slice from a DataFrame.\n",
      "Try using .loc[row_indexer,col_indexer] = value instead\n",
      "\n",
      "See the caveats in the documentation: https://pandas.pydata.org/pandas-docs/stable/user_guide/indexing.html#returning-a-view-versus-a-copy\n",
      "  stock_df['returns'] = stock_df['Adj Close'].pct_change()\n"
     ]
    },
    {
     "name": "stdout",
     "output_type": "stream",
     "text": [
      "PG is done\n",
      "PGR is done\n",
      "PLD is done\n"
     ]
    },
    {
     "name": "stderr",
     "output_type": "stream",
     "text": [
      "[*********************100%%**********************]  1 of 1 completed\n",
      "C:\\Users\\Bogdan\\AppData\\Local\\Temp\\ipykernel_28348\\2407199606.py:3: SettingWithCopyWarning: \n",
      "A value is trying to be set on a copy of a slice from a DataFrame.\n",
      "Try using .loc[row_indexer,col_indexer] = value instead\n",
      "\n",
      "See the caveats in the documentation: https://pandas.pydata.org/pandas-docs/stable/user_guide/indexing.html#returning-a-view-versus-a-copy\n",
      "  stock_df['returns'] = stock_df['Adj Close'].pct_change()\n",
      "[*********************100%%**********************]  1 of 1 completed\n",
      "C:\\Users\\Bogdan\\AppData\\Local\\Temp\\ipykernel_28348\\2407199606.py:3: SettingWithCopyWarning: \n",
      "A value is trying to be set on a copy of a slice from a DataFrame.\n",
      "Try using .loc[row_indexer,col_indexer] = value instead\n",
      "\n",
      "See the caveats in the documentation: https://pandas.pydata.org/pandas-docs/stable/user_guide/indexing.html#returning-a-view-versus-a-copy\n",
      "  stock_df['returns'] = stock_df['Adj Close'].pct_change()\n",
      "[*********************100%%**********************]  1 of 1 completed\n",
      "C:\\Users\\Bogdan\\AppData\\Local\\Temp\\ipykernel_28348\\2407199606.py:3: SettingWithCopyWarning: \n",
      "A value is trying to be set on a copy of a slice from a DataFrame.\n",
      "Try using .loc[row_indexer,col_indexer] = value instead\n",
      "\n",
      "See the caveats in the documentation: https://pandas.pydata.org/pandas-docs/stable/user_guide/indexing.html#returning-a-view-versus-a-copy\n",
      "  stock_df['returns'] = stock_df['Adj Close'].pct_change()\n"
     ]
    },
    {
     "name": "stdout",
     "output_type": "stream",
     "text": [
      "PRU is done\n",
      "PEG is done\n",
      "PTC is done\n"
     ]
    },
    {
     "name": "stderr",
     "output_type": "stream",
     "text": [
      "[*********************100%%**********************]  1 of 1 completed\n",
      "C:\\Users\\Bogdan\\AppData\\Local\\Temp\\ipykernel_28348\\2407199606.py:3: SettingWithCopyWarning: \n",
      "A value is trying to be set on a copy of a slice from a DataFrame.\n",
      "Try using .loc[row_indexer,col_indexer] = value instead\n",
      "\n",
      "See the caveats in the documentation: https://pandas.pydata.org/pandas-docs/stable/user_guide/indexing.html#returning-a-view-versus-a-copy\n",
      "  stock_df['returns'] = stock_df['Adj Close'].pct_change()\n",
      "[*********************100%%**********************]  1 of 1 completed\n",
      "C:\\Users\\Bogdan\\AppData\\Local\\Temp\\ipykernel_28348\\2407199606.py:3: SettingWithCopyWarning: \n",
      "A value is trying to be set on a copy of a slice from a DataFrame.\n",
      "Try using .loc[row_indexer,col_indexer] = value instead\n",
      "\n",
      "See the caveats in the documentation: https://pandas.pydata.org/pandas-docs/stable/user_guide/indexing.html#returning-a-view-versus-a-copy\n",
      "  stock_df['returns'] = stock_df['Adj Close'].pct_change()\n",
      "[*********************100%%**********************]  1 of 1 completed\n",
      "C:\\Users\\Bogdan\\AppData\\Local\\Temp\\ipykernel_28348\\2407199606.py:3: SettingWithCopyWarning: \n",
      "A value is trying to be set on a copy of a slice from a DataFrame.\n",
      "Try using .loc[row_indexer,col_indexer] = value instead\n",
      "\n",
      "See the caveats in the documentation: https://pandas.pydata.org/pandas-docs/stable/user_guide/indexing.html#returning-a-view-versus-a-copy\n",
      "  stock_df['returns'] = stock_df['Adj Close'].pct_change()\n"
     ]
    },
    {
     "name": "stdout",
     "output_type": "stream",
     "text": [
      "PSA is done\n",
      "PHM is done\n",
      "QRVO is done\n"
     ]
    },
    {
     "name": "stderr",
     "output_type": "stream",
     "text": [
      "[*********************100%%**********************]  1 of 1 completed\n",
      "C:\\Users\\Bogdan\\AppData\\Local\\Temp\\ipykernel_28348\\2407199606.py:3: SettingWithCopyWarning: \n",
      "A value is trying to be set on a copy of a slice from a DataFrame.\n",
      "Try using .loc[row_indexer,col_indexer] = value instead\n",
      "\n",
      "See the caveats in the documentation: https://pandas.pydata.org/pandas-docs/stable/user_guide/indexing.html#returning-a-view-versus-a-copy\n",
      "  stock_df['returns'] = stock_df['Adj Close'].pct_change()\n",
      "[*********************100%%**********************]  1 of 1 completed\n",
      "C:\\Users\\Bogdan\\AppData\\Local\\Temp\\ipykernel_28348\\2407199606.py:3: SettingWithCopyWarning: \n",
      "A value is trying to be set on a copy of a slice from a DataFrame.\n",
      "Try using .loc[row_indexer,col_indexer] = value instead\n",
      "\n",
      "See the caveats in the documentation: https://pandas.pydata.org/pandas-docs/stable/user_guide/indexing.html#returning-a-view-versus-a-copy\n",
      "  stock_df['returns'] = stock_df['Adj Close'].pct_change()\n",
      "[*********************100%%**********************]  1 of 1 completed"
     ]
    },
    {
     "name": "stdout",
     "output_type": "stream",
     "text": [
      "PWR is done\n",
      "QCOM is done\n"
     ]
    },
    {
     "name": "stderr",
     "output_type": "stream",
     "text": [
      "\n",
      "C:\\Users\\Bogdan\\AppData\\Local\\Temp\\ipykernel_28348\\2407199606.py:3: SettingWithCopyWarning: \n",
      "A value is trying to be set on a copy of a slice from a DataFrame.\n",
      "Try using .loc[row_indexer,col_indexer] = value instead\n",
      "\n",
      "See the caveats in the documentation: https://pandas.pydata.org/pandas-docs/stable/user_guide/indexing.html#returning-a-view-versus-a-copy\n",
      "  stock_df['returns'] = stock_df['Adj Close'].pct_change()\n",
      "[*********************100%%**********************]  1 of 1 completed\n",
      "C:\\Users\\Bogdan\\AppData\\Local\\Temp\\ipykernel_28348\\2407199606.py:3: SettingWithCopyWarning: \n",
      "A value is trying to be set on a copy of a slice from a DataFrame.\n",
      "Try using .loc[row_indexer,col_indexer] = value instead\n",
      "\n",
      "See the caveats in the documentation: https://pandas.pydata.org/pandas-docs/stable/user_guide/indexing.html#returning-a-view-versus-a-copy\n",
      "  stock_df['returns'] = stock_df['Adj Close'].pct_change()\n",
      "[*********************100%%**********************]  1 of 1 completed"
     ]
    },
    {
     "name": "stdout",
     "output_type": "stream",
     "text": [
      "DGX is done\n",
      "RL is done\n"
     ]
    },
    {
     "name": "stderr",
     "output_type": "stream",
     "text": [
      "\n",
      "C:\\Users\\Bogdan\\AppData\\Local\\Temp\\ipykernel_28348\\2407199606.py:3: SettingWithCopyWarning: \n",
      "A value is trying to be set on a copy of a slice from a DataFrame.\n",
      "Try using .loc[row_indexer,col_indexer] = value instead\n",
      "\n",
      "See the caveats in the documentation: https://pandas.pydata.org/pandas-docs/stable/user_guide/indexing.html#returning-a-view-versus-a-copy\n",
      "  stock_df['returns'] = stock_df['Adj Close'].pct_change()\n",
      "[*********************100%%**********************]  1 of 1 completed\n",
      "C:\\Users\\Bogdan\\AppData\\Local\\Temp\\ipykernel_28348\\2407199606.py:3: SettingWithCopyWarning: \n",
      "A value is trying to be set on a copy of a slice from a DataFrame.\n",
      "Try using .loc[row_indexer,col_indexer] = value instead\n",
      "\n",
      "See the caveats in the documentation: https://pandas.pydata.org/pandas-docs/stable/user_guide/indexing.html#returning-a-view-versus-a-copy\n",
      "  stock_df['returns'] = stock_df['Adj Close'].pct_change()\n"
     ]
    },
    {
     "name": "stdout",
     "output_type": "stream",
     "text": [
      "RJF is done\n",
      "RTX is done\n"
     ]
    },
    {
     "name": "stderr",
     "output_type": "stream",
     "text": [
      "[*********************100%%**********************]  1 of 1 completed\n",
      "C:\\Users\\Bogdan\\AppData\\Local\\Temp\\ipykernel_28348\\2407199606.py:3: SettingWithCopyWarning: \n",
      "A value is trying to be set on a copy of a slice from a DataFrame.\n",
      "Try using .loc[row_indexer,col_indexer] = value instead\n",
      "\n",
      "See the caveats in the documentation: https://pandas.pydata.org/pandas-docs/stable/user_guide/indexing.html#returning-a-view-versus-a-copy\n",
      "  stock_df['returns'] = stock_df['Adj Close'].pct_change()\n",
      "[*********************100%%**********************]  1 of 1 completed\n",
      "C:\\Users\\Bogdan\\AppData\\Local\\Temp\\ipykernel_28348\\2407199606.py:3: SettingWithCopyWarning: \n",
      "A value is trying to be set on a copy of a slice from a DataFrame.\n",
      "Try using .loc[row_indexer,col_indexer] = value instead\n",
      "\n",
      "See the caveats in the documentation: https://pandas.pydata.org/pandas-docs/stable/user_guide/indexing.html#returning-a-view-versus-a-copy\n",
      "  stock_df['returns'] = stock_df['Adj Close'].pct_change()\n",
      "[*********************100%%**********************]  1 of 1 completed"
     ]
    },
    {
     "name": "stdout",
     "output_type": "stream",
     "text": [
      "O is done\n",
      "REG is done\n",
      "REGN is done\n"
     ]
    },
    {
     "name": "stderr",
     "output_type": "stream",
     "text": [
      "\n",
      "C:\\Users\\Bogdan\\AppData\\Local\\Temp\\ipykernel_28348\\2407199606.py:3: SettingWithCopyWarning: \n",
      "A value is trying to be set on a copy of a slice from a DataFrame.\n",
      "Try using .loc[row_indexer,col_indexer] = value instead\n",
      "\n",
      "See the caveats in the documentation: https://pandas.pydata.org/pandas-docs/stable/user_guide/indexing.html#returning-a-view-versus-a-copy\n",
      "  stock_df['returns'] = stock_df['Adj Close'].pct_change()\n",
      "[*********************100%%**********************]  1 of 1 completed\n",
      "C:\\Users\\Bogdan\\AppData\\Local\\Temp\\ipykernel_28348\\2407199606.py:3: SettingWithCopyWarning: \n",
      "A value is trying to be set on a copy of a slice from a DataFrame.\n",
      "Try using .loc[row_indexer,col_indexer] = value instead\n",
      "\n",
      "See the caveats in the documentation: https://pandas.pydata.org/pandas-docs/stable/user_guide/indexing.html#returning-a-view-versus-a-copy\n",
      "  stock_df['returns'] = stock_df['Adj Close'].pct_change()\n",
      "[*********************100%%**********************]  1 of 1 completed\n",
      "C:\\Users\\Bogdan\\AppData\\Local\\Temp\\ipykernel_28348\\2407199606.py:3: SettingWithCopyWarning: \n",
      "A value is trying to be set on a copy of a slice from a DataFrame.\n",
      "Try using .loc[row_indexer,col_indexer] = value instead\n",
      "\n",
      "See the caveats in the documentation: https://pandas.pydata.org/pandas-docs/stable/user_guide/indexing.html#returning-a-view-versus-a-copy\n",
      "  stock_df['returns'] = stock_df['Adj Close'].pct_change()\n",
      "[*********************100%%**********************]  1 of 1 completed"
     ]
    },
    {
     "name": "stdout",
     "output_type": "stream",
     "text": [
      "RF is done\n",
      "RSG is done\n",
      "RMD is done\n"
     ]
    },
    {
     "name": "stderr",
     "output_type": "stream",
     "text": [
      "\n",
      "C:\\Users\\Bogdan\\AppData\\Local\\Temp\\ipykernel_28348\\2407199606.py:3: SettingWithCopyWarning: \n",
      "A value is trying to be set on a copy of a slice from a DataFrame.\n",
      "Try using .loc[row_indexer,col_indexer] = value instead\n",
      "\n",
      "See the caveats in the documentation: https://pandas.pydata.org/pandas-docs/stable/user_guide/indexing.html#returning-a-view-versus-a-copy\n",
      "  stock_df['returns'] = stock_df['Adj Close'].pct_change()\n",
      "[*********************100%%**********************]  1 of 1 completed\n",
      "C:\\Users\\Bogdan\\AppData\\Local\\Temp\\ipykernel_28348\\2407199606.py:3: SettingWithCopyWarning: \n",
      "A value is trying to be set on a copy of a slice from a DataFrame.\n",
      "Try using .loc[row_indexer,col_indexer] = value instead\n",
      "\n",
      "See the caveats in the documentation: https://pandas.pydata.org/pandas-docs/stable/user_guide/indexing.html#returning-a-view-versus-a-copy\n",
      "  stock_df['returns'] = stock_df['Adj Close'].pct_change()\n",
      "[*********************100%%**********************]  1 of 1 completed\n",
      "C:\\Users\\Bogdan\\AppData\\Local\\Temp\\ipykernel_28348\\2407199606.py:3: SettingWithCopyWarning: \n",
      "A value is trying to be set on a copy of a slice from a DataFrame.\n",
      "Try using .loc[row_indexer,col_indexer] = value instead\n",
      "\n",
      "See the caveats in the documentation: https://pandas.pydata.org/pandas-docs/stable/user_guide/indexing.html#returning-a-view-versus-a-copy\n",
      "  stock_df['returns'] = stock_df['Adj Close'].pct_change()\n",
      "[*********************100%%**********************]  1 of 1 completed"
     ]
    },
    {
     "name": "stdout",
     "output_type": "stream",
     "text": [
      "RVTY is done\n",
      "ROK is done\n"
     ]
    },
    {
     "name": "stderr",
     "output_type": "stream",
     "text": [
      "\n",
      "C:\\Users\\Bogdan\\AppData\\Local\\Temp\\ipykernel_28348\\2407199606.py:3: SettingWithCopyWarning: \n",
      "A value is trying to be set on a copy of a slice from a DataFrame.\n",
      "Try using .loc[row_indexer,col_indexer] = value instead\n",
      "\n",
      "See the caveats in the documentation: https://pandas.pydata.org/pandas-docs/stable/user_guide/indexing.html#returning-a-view-versus-a-copy\n",
      "  stock_df['returns'] = stock_df['Adj Close'].pct_change()\n",
      "[*********************100%%**********************]  1 of 1 completed\n",
      "C:\\Users\\Bogdan\\AppData\\Local\\Temp\\ipykernel_28348\\2407199606.py:3: SettingWithCopyWarning: \n",
      "A value is trying to be set on a copy of a slice from a DataFrame.\n",
      "Try using .loc[row_indexer,col_indexer] = value instead\n",
      "\n",
      "See the caveats in the documentation: https://pandas.pydata.org/pandas-docs/stable/user_guide/indexing.html#returning-a-view-versus-a-copy\n",
      "  stock_df['returns'] = stock_df['Adj Close'].pct_change()\n",
      "[*********************100%%**********************]  1 of 1 completed"
     ]
    },
    {
     "name": "stdout",
     "output_type": "stream",
     "text": [
      "ROL is done\n",
      "ROP is done\n"
     ]
    },
    {
     "name": "stderr",
     "output_type": "stream",
     "text": [
      "\n",
      "C:\\Users\\Bogdan\\AppData\\Local\\Temp\\ipykernel_28348\\2407199606.py:3: SettingWithCopyWarning: \n",
      "A value is trying to be set on a copy of a slice from a DataFrame.\n",
      "Try using .loc[row_indexer,col_indexer] = value instead\n",
      "\n",
      "See the caveats in the documentation: https://pandas.pydata.org/pandas-docs/stable/user_guide/indexing.html#returning-a-view-versus-a-copy\n",
      "  stock_df['returns'] = stock_df['Adj Close'].pct_change()\n",
      "[*********************100%%**********************]  1 of 1 completed\n",
      "C:\\Users\\Bogdan\\AppData\\Local\\Temp\\ipykernel_28348\\2407199606.py:3: SettingWithCopyWarning: \n",
      "A value is trying to be set on a copy of a slice from a DataFrame.\n",
      "Try using .loc[row_indexer,col_indexer] = value instead\n",
      "\n",
      "See the caveats in the documentation: https://pandas.pydata.org/pandas-docs/stable/user_guide/indexing.html#returning-a-view-versus-a-copy\n",
      "  stock_df['returns'] = stock_df['Adj Close'].pct_change()\n",
      "[*********************100%%**********************]  1 of 1 completed\n",
      "C:\\Users\\Bogdan\\AppData\\Local\\Temp\\ipykernel_28348\\2407199606.py:3: SettingWithCopyWarning: \n",
      "A value is trying to be set on a copy of a slice from a DataFrame.\n",
      "Try using .loc[row_indexer,col_indexer] = value instead\n",
      "\n",
      "See the caveats in the documentation: https://pandas.pydata.org/pandas-docs/stable/user_guide/indexing.html#returning-a-view-versus-a-copy\n",
      "  stock_df['returns'] = stock_df['Adj Close'].pct_change()\n"
     ]
    },
    {
     "name": "stdout",
     "output_type": "stream",
     "text": [
      "ROST is done\n",
      "RCL is done\n",
      "SPGI is done\n"
     ]
    },
    {
     "name": "stderr",
     "output_type": "stream",
     "text": [
      "[*********************100%%**********************]  1 of 1 completed\n",
      "C:\\Users\\Bogdan\\AppData\\Local\\Temp\\ipykernel_28348\\2407199606.py:3: SettingWithCopyWarning: \n",
      "A value is trying to be set on a copy of a slice from a DataFrame.\n",
      "Try using .loc[row_indexer,col_indexer] = value instead\n",
      "\n",
      "See the caveats in the documentation: https://pandas.pydata.org/pandas-docs/stable/user_guide/indexing.html#returning-a-view-versus-a-copy\n",
      "  stock_df['returns'] = stock_df['Adj Close'].pct_change()\n",
      "[*********************100%%**********************]  1 of 1 completed\n",
      "C:\\Users\\Bogdan\\AppData\\Local\\Temp\\ipykernel_28348\\2407199606.py:3: SettingWithCopyWarning: \n",
      "A value is trying to be set on a copy of a slice from a DataFrame.\n",
      "Try using .loc[row_indexer,col_indexer] = value instead\n",
      "\n",
      "See the caveats in the documentation: https://pandas.pydata.org/pandas-docs/stable/user_guide/indexing.html#returning-a-view-versus-a-copy\n",
      "  stock_df['returns'] = stock_df['Adj Close'].pct_change()\n",
      "[*********************100%%**********************]  1 of 1 completed\n",
      "C:\\Users\\Bogdan\\AppData\\Local\\Temp\\ipykernel_28348\\2407199606.py:3: SettingWithCopyWarning: \n",
      "A value is trying to be set on a copy of a slice from a DataFrame.\n",
      "Try using .loc[row_indexer,col_indexer] = value instead\n",
      "\n",
      "See the caveats in the documentation: https://pandas.pydata.org/pandas-docs/stable/user_guide/indexing.html#returning-a-view-versus-a-copy\n",
      "  stock_df['returns'] = stock_df['Adj Close'].pct_change()\n"
     ]
    },
    {
     "name": "stdout",
     "output_type": "stream",
     "text": [
      "CRM is done\n",
      "SBAC is done\n",
      "SLB is done\n"
     ]
    },
    {
     "name": "stderr",
     "output_type": "stream",
     "text": [
      "[*********************100%%**********************]  1 of 1 completed\n",
      "C:\\Users\\Bogdan\\AppData\\Local\\Temp\\ipykernel_28348\\2407199606.py:3: SettingWithCopyWarning: \n",
      "A value is trying to be set on a copy of a slice from a DataFrame.\n",
      "Try using .loc[row_indexer,col_indexer] = value instead\n",
      "\n",
      "See the caveats in the documentation: https://pandas.pydata.org/pandas-docs/stable/user_guide/indexing.html#returning-a-view-versus-a-copy\n",
      "  stock_df['returns'] = stock_df['Adj Close'].pct_change()\n",
      "[*********************100%%**********************]  1 of 1 completed\n",
      "C:\\Users\\Bogdan\\AppData\\Local\\Temp\\ipykernel_28348\\2407199606.py:3: SettingWithCopyWarning: \n",
      "A value is trying to be set on a copy of a slice from a DataFrame.\n",
      "Try using .loc[row_indexer,col_indexer] = value instead\n",
      "\n",
      "See the caveats in the documentation: https://pandas.pydata.org/pandas-docs/stable/user_guide/indexing.html#returning-a-view-versus-a-copy\n",
      "  stock_df['returns'] = stock_df['Adj Close'].pct_change()\n",
      "[*********************100%%**********************]  1 of 1 completed\n",
      "C:\\Users\\Bogdan\\AppData\\Local\\Temp\\ipykernel_28348\\2407199606.py:3: SettingWithCopyWarning: \n",
      "A value is trying to be set on a copy of a slice from a DataFrame.\n",
      "Try using .loc[row_indexer,col_indexer] = value instead\n",
      "\n",
      "See the caveats in the documentation: https://pandas.pydata.org/pandas-docs/stable/user_guide/indexing.html#returning-a-view-versus-a-copy\n",
      "  stock_df['returns'] = stock_df['Adj Close'].pct_change()\n"
     ]
    },
    {
     "name": "stdout",
     "output_type": "stream",
     "text": [
      "STX is done\n",
      "SRE is done\n",
      "NOW is done\n"
     ]
    },
    {
     "name": "stderr",
     "output_type": "stream",
     "text": [
      "[*********************100%%**********************]  1 of 1 completed\n",
      "C:\\Users\\Bogdan\\AppData\\Local\\Temp\\ipykernel_28348\\2407199606.py:3: SettingWithCopyWarning: \n",
      "A value is trying to be set on a copy of a slice from a DataFrame.\n",
      "Try using .loc[row_indexer,col_indexer] = value instead\n",
      "\n",
      "See the caveats in the documentation: https://pandas.pydata.org/pandas-docs/stable/user_guide/indexing.html#returning-a-view-versus-a-copy\n",
      "  stock_df['returns'] = stock_df['Adj Close'].pct_change()\n",
      "[*********************100%%**********************]  1 of 1 completed\n",
      "C:\\Users\\Bogdan\\AppData\\Local\\Temp\\ipykernel_28348\\2407199606.py:3: SettingWithCopyWarning: \n",
      "A value is trying to be set on a copy of a slice from a DataFrame.\n",
      "Try using .loc[row_indexer,col_indexer] = value instead\n",
      "\n",
      "See the caveats in the documentation: https://pandas.pydata.org/pandas-docs/stable/user_guide/indexing.html#returning-a-view-versus-a-copy\n",
      "  stock_df['returns'] = stock_df['Adj Close'].pct_change()\n",
      "[*********************100%%**********************]  1 of 1 completed\n",
      "C:\\Users\\Bogdan\\AppData\\Local\\Temp\\ipykernel_28348\\2407199606.py:3: SettingWithCopyWarning: \n",
      "A value is trying to be set on a copy of a slice from a DataFrame.\n",
      "Try using .loc[row_indexer,col_indexer] = value instead\n",
      "\n",
      "See the caveats in the documentation: https://pandas.pydata.org/pandas-docs/stable/user_guide/indexing.html#returning-a-view-versus-a-copy\n",
      "  stock_df['returns'] = stock_df['Adj Close'].pct_change()\n"
     ]
    },
    {
     "name": "stdout",
     "output_type": "stream",
     "text": [
      "SHW is done\n",
      "SPG is done\n",
      "SWKS is done\n"
     ]
    },
    {
     "name": "stderr",
     "output_type": "stream",
     "text": [
      "[*********************100%%**********************]  1 of 1 completed\n",
      "C:\\Users\\Bogdan\\AppData\\Local\\Temp\\ipykernel_28348\\2407199606.py:3: SettingWithCopyWarning: \n",
      "A value is trying to be set on a copy of a slice from a DataFrame.\n",
      "Try using .loc[row_indexer,col_indexer] = value instead\n",
      "\n",
      "See the caveats in the documentation: https://pandas.pydata.org/pandas-docs/stable/user_guide/indexing.html#returning-a-view-versus-a-copy\n",
      "  stock_df['returns'] = stock_df['Adj Close'].pct_change()\n",
      "[*********************100%%**********************]  1 of 1 completed\n",
      "C:\\Users\\Bogdan\\AppData\\Local\\Temp\\ipykernel_28348\\2176492446.py:6: SettingWithCopyWarning: \n",
      "A value is trying to be set on a copy of a slice from a DataFrame.\n",
      "Try using .loc[row_indexer,col_indexer] = value instead\n",
      "\n",
      "See the caveats in the documentation: https://pandas.pydata.org/pandas-docs/stable/user_guide/indexing.html#returning-a-view-versus-a-copy\n",
      "  stock_df['ticker'] = ticker\n",
      "C:\\Users\\Bogdan\\AppData\\Local\\Temp\\ipykernel_28348\\2176492446.py:7: SettingWithCopyWarning: \n",
      "A value is trying to be set on a copy of a slice from a DataFrame.\n",
      "Try using .loc[row_indexer,col_indexer] = value instead\n",
      "\n",
      "See the caveats in the documentation: https://pandas.pydata.org/pandas-docs/stable/user_guide/indexing.html#returning-a-view-versus-a-copy\n",
      "  stock_df['date'] = stock_df.index\n",
      "C:\\Users\\Bogdan\\AppData\\Local\\Temp\\ipykernel_28348\\2912987679.py:3: SettingWithCopyWarning: \n",
      "A value is trying to be set on a copy of a slice from a DataFrame.\n",
      "Try using .loc[row_indexer,col_indexer] = value instead\n",
      "\n",
      "See the caveats in the documentation: https://pandas.pydata.org/pandas-docs/stable/user_guide/indexing.html#returning-a-view-versus-a-copy\n",
      "  df[f'{i}_mt_ret'] = df['Adj Close'].pct_change(i).shift()\n",
      "C:\\Users\\Bogdan\\AppData\\Local\\Temp\\ipykernel_28348\\2912987679.py:3: SettingWithCopyWarning: \n",
      "A value is trying to be set on a copy of a slice from a DataFrame.\n",
      "Try using .loc[row_indexer,col_indexer] = value instead\n",
      "\n",
      "See the caveats in the documentation: https://pandas.pydata.org/pandas-docs/stable/user_guide/indexing.html#returning-a-view-versus-a-copy\n",
      "  df[f'{i}_mt_ret'] = df['Adj Close'].pct_change(i).shift()\n",
      "[*********************100%%**********************]  1 of 1 completed\n",
      "C:\\Users\\Bogdan\\AppData\\Local\\Temp\\ipykernel_28348\\2407199606.py:3: SettingWithCopyWarning: \n",
      "A value is trying to be set on a copy of a slice from a DataFrame.\n",
      "Try using .loc[row_indexer,col_indexer] = value instead\n",
      "\n",
      "See the caveats in the documentation: https://pandas.pydata.org/pandas-docs/stable/user_guide/indexing.html#returning-a-view-versus-a-copy\n",
      "  stock_df['returns'] = stock_df['Adj Close'].pct_change()\n",
      "[*********************100%%**********************]  1 of 1 completed\n"
     ]
    },
    {
     "name": "stdout",
     "output_type": "stream",
     "text": [
      "SJM is done\n",
      "SW is done\n",
      "SNA is done\n",
      "SOLV is done\n"
     ]
    },
    {
     "name": "stderr",
     "output_type": "stream",
     "text": [
      "[*********************100%%**********************]  1 of 1 completed\n",
      "C:\\Users\\Bogdan\\AppData\\Local\\Temp\\ipykernel_28348\\2407199606.py:3: SettingWithCopyWarning: \n",
      "A value is trying to be set on a copy of a slice from a DataFrame.\n",
      "Try using .loc[row_indexer,col_indexer] = value instead\n",
      "\n",
      "See the caveats in the documentation: https://pandas.pydata.org/pandas-docs/stable/user_guide/indexing.html#returning-a-view-versus-a-copy\n",
      "  stock_df['returns'] = stock_df['Adj Close'].pct_change()\n",
      "[*********************100%%**********************]  1 of 1 completed\n",
      "C:\\Users\\Bogdan\\AppData\\Local\\Temp\\ipykernel_28348\\2407199606.py:3: SettingWithCopyWarning: \n",
      "A value is trying to be set on a copy of a slice from a DataFrame.\n",
      "Try using .loc[row_indexer,col_indexer] = value instead\n",
      "\n",
      "See the caveats in the documentation: https://pandas.pydata.org/pandas-docs/stable/user_guide/indexing.html#returning-a-view-versus-a-copy\n",
      "  stock_df['returns'] = stock_df['Adj Close'].pct_change()\n",
      "[*********************100%%**********************]  1 of 1 completed\n",
      "C:\\Users\\Bogdan\\AppData\\Local\\Temp\\ipykernel_28348\\2407199606.py:3: SettingWithCopyWarning: \n",
      "A value is trying to be set on a copy of a slice from a DataFrame.\n",
      "Try using .loc[row_indexer,col_indexer] = value instead\n",
      "\n",
      "See the caveats in the documentation: https://pandas.pydata.org/pandas-docs/stable/user_guide/indexing.html#returning-a-view-versus-a-copy\n",
      "  stock_df['returns'] = stock_df['Adj Close'].pct_change()\n"
     ]
    },
    {
     "name": "stdout",
     "output_type": "stream",
     "text": [
      "SO is done\n",
      "LUV is done\n",
      "SWK is done\n"
     ]
    },
    {
     "name": "stderr",
     "output_type": "stream",
     "text": [
      "[*********************100%%**********************]  1 of 1 completed\n",
      "C:\\Users\\Bogdan\\AppData\\Local\\Temp\\ipykernel_28348\\2407199606.py:3: SettingWithCopyWarning: \n",
      "A value is trying to be set on a copy of a slice from a DataFrame.\n",
      "Try using .loc[row_indexer,col_indexer] = value instead\n",
      "\n",
      "See the caveats in the documentation: https://pandas.pydata.org/pandas-docs/stable/user_guide/indexing.html#returning-a-view-versus-a-copy\n",
      "  stock_df['returns'] = stock_df['Adj Close'].pct_change()\n",
      "[*********************100%%**********************]  1 of 1 completed\n",
      "C:\\Users\\Bogdan\\AppData\\Local\\Temp\\ipykernel_28348\\2407199606.py:3: SettingWithCopyWarning: \n",
      "A value is trying to be set on a copy of a slice from a DataFrame.\n",
      "Try using .loc[row_indexer,col_indexer] = value instead\n",
      "\n",
      "See the caveats in the documentation: https://pandas.pydata.org/pandas-docs/stable/user_guide/indexing.html#returning-a-view-versus-a-copy\n",
      "  stock_df['returns'] = stock_df['Adj Close'].pct_change()\n",
      "[*********************100%%**********************]  1 of 1 completed"
     ]
    },
    {
     "name": "stdout",
     "output_type": "stream",
     "text": [
      "SBUX is done\n",
      "STT is done\n"
     ]
    },
    {
     "name": "stderr",
     "output_type": "stream",
     "text": [
      "\n",
      "C:\\Users\\Bogdan\\AppData\\Local\\Temp\\ipykernel_28348\\2407199606.py:3: SettingWithCopyWarning: \n",
      "A value is trying to be set on a copy of a slice from a DataFrame.\n",
      "Try using .loc[row_indexer,col_indexer] = value instead\n",
      "\n",
      "See the caveats in the documentation: https://pandas.pydata.org/pandas-docs/stable/user_guide/indexing.html#returning-a-view-versus-a-copy\n",
      "  stock_df['returns'] = stock_df['Adj Close'].pct_change()\n",
      "[*********************100%%**********************]  1 of 1 completed\n",
      "C:\\Users\\Bogdan\\AppData\\Local\\Temp\\ipykernel_28348\\2407199606.py:3: SettingWithCopyWarning: \n",
      "A value is trying to be set on a copy of a slice from a DataFrame.\n",
      "Try using .loc[row_indexer,col_indexer] = value instead\n",
      "\n",
      "See the caveats in the documentation: https://pandas.pydata.org/pandas-docs/stable/user_guide/indexing.html#returning-a-view-versus-a-copy\n",
      "  stock_df['returns'] = stock_df['Adj Close'].pct_change()\n",
      "[*********************100%%**********************]  1 of 1 completed"
     ]
    },
    {
     "name": "stdout",
     "output_type": "stream",
     "text": [
      "STLD is done\n",
      "STE is done\n",
      "SYK is done\n"
     ]
    },
    {
     "name": "stderr",
     "output_type": "stream",
     "text": [
      "\n",
      "C:\\Users\\Bogdan\\AppData\\Local\\Temp\\ipykernel_28348\\2407199606.py:3: SettingWithCopyWarning: \n",
      "A value is trying to be set on a copy of a slice from a DataFrame.\n",
      "Try using .loc[row_indexer,col_indexer] = value instead\n",
      "\n",
      "See the caveats in the documentation: https://pandas.pydata.org/pandas-docs/stable/user_guide/indexing.html#returning-a-view-versus-a-copy\n",
      "  stock_df['returns'] = stock_df['Adj Close'].pct_change()\n",
      "[*********************100%%**********************]  1 of 1 completed\n",
      "C:\\Users\\Bogdan\\AppData\\Local\\Temp\\ipykernel_28348\\2407199606.py:3: SettingWithCopyWarning: \n",
      "A value is trying to be set on a copy of a slice from a DataFrame.\n",
      "Try using .loc[row_indexer,col_indexer] = value instead\n",
      "\n",
      "See the caveats in the documentation: https://pandas.pydata.org/pandas-docs/stable/user_guide/indexing.html#returning-a-view-versus-a-copy\n",
      "  stock_df['returns'] = stock_df['Adj Close'].pct_change()\n",
      "[*********************100%%**********************]  1 of 1 completed\n",
      "C:\\Users\\Bogdan\\AppData\\Local\\Temp\\ipykernel_28348\\2407199606.py:3: SettingWithCopyWarning: \n",
      "A value is trying to be set on a copy of a slice from a DataFrame.\n",
      "Try using .loc[row_indexer,col_indexer] = value instead\n",
      "\n",
      "See the caveats in the documentation: https://pandas.pydata.org/pandas-docs/stable/user_guide/indexing.html#returning-a-view-versus-a-copy\n",
      "  stock_df['returns'] = stock_df['Adj Close'].pct_change()\n",
      "[*********************100%%**********************]  1 of 1 completed"
     ]
    },
    {
     "name": "stdout",
     "output_type": "stream",
     "text": [
      "SMCI is done\n",
      "SYF is done\n",
      "SNPS is done\n"
     ]
    },
    {
     "name": "stderr",
     "output_type": "stream",
     "text": [
      "\n",
      "C:\\Users\\Bogdan\\AppData\\Local\\Temp\\ipykernel_28348\\2407199606.py:3: SettingWithCopyWarning: \n",
      "A value is trying to be set on a copy of a slice from a DataFrame.\n",
      "Try using .loc[row_indexer,col_indexer] = value instead\n",
      "\n",
      "See the caveats in the documentation: https://pandas.pydata.org/pandas-docs/stable/user_guide/indexing.html#returning-a-view-versus-a-copy\n",
      "  stock_df['returns'] = stock_df['Adj Close'].pct_change()\n",
      "[*********************100%%**********************]  1 of 1 completed\n",
      "C:\\Users\\Bogdan\\AppData\\Local\\Temp\\ipykernel_28348\\2407199606.py:3: SettingWithCopyWarning: \n",
      "A value is trying to be set on a copy of a slice from a DataFrame.\n",
      "Try using .loc[row_indexer,col_indexer] = value instead\n",
      "\n",
      "See the caveats in the documentation: https://pandas.pydata.org/pandas-docs/stable/user_guide/indexing.html#returning-a-view-versus-a-copy\n",
      "  stock_df['returns'] = stock_df['Adj Close'].pct_change()\n",
      "[*********************100%%**********************]  1 of 1 completed\n",
      "C:\\Users\\Bogdan\\AppData\\Local\\Temp\\ipykernel_28348\\2407199606.py:3: SettingWithCopyWarning: \n",
      "A value is trying to be set on a copy of a slice from a DataFrame.\n",
      "Try using .loc[row_indexer,col_indexer] = value instead\n",
      "\n",
      "See the caveats in the documentation: https://pandas.pydata.org/pandas-docs/stable/user_guide/indexing.html#returning-a-view-versus-a-copy\n",
      "  stock_df['returns'] = stock_df['Adj Close'].pct_change()\n",
      "[*********************100%%**********************]  1 of 1 completed\n",
      "C:\\Users\\Bogdan\\AppData\\Local\\Temp\\ipykernel_28348\\2407199606.py:3: SettingWithCopyWarning: \n",
      "A value is trying to be set on a copy of a slice from a DataFrame.\n",
      "Try using .loc[row_indexer,col_indexer] = value instead\n",
      "\n",
      "See the caveats in the documentation: https://pandas.pydata.org/pandas-docs/stable/user_guide/indexing.html#returning-a-view-versus-a-copy\n",
      "  stock_df['returns'] = stock_df['Adj Close'].pct_change()\n"
     ]
    },
    {
     "name": "stdout",
     "output_type": "stream",
     "text": [
      "SYY is done\n",
      "TMUS is done\n",
      "TROW is done\n"
     ]
    },
    {
     "name": "stderr",
     "output_type": "stream",
     "text": [
      "[*********************100%%**********************]  1 of 1 completed\n",
      "C:\\Users\\Bogdan\\AppData\\Local\\Temp\\ipykernel_28348\\2407199606.py:3: SettingWithCopyWarning: \n",
      "A value is trying to be set on a copy of a slice from a DataFrame.\n",
      "Try using .loc[row_indexer,col_indexer] = value instead\n",
      "\n",
      "See the caveats in the documentation: https://pandas.pydata.org/pandas-docs/stable/user_guide/indexing.html#returning-a-view-versus-a-copy\n",
      "  stock_df['returns'] = stock_df['Adj Close'].pct_change()\n",
      "[*********************100%%**********************]  1 of 1 completed\n",
      "C:\\Users\\Bogdan\\AppData\\Local\\Temp\\ipykernel_28348\\2407199606.py:3: SettingWithCopyWarning: \n",
      "A value is trying to be set on a copy of a slice from a DataFrame.\n",
      "Try using .loc[row_indexer,col_indexer] = value instead\n",
      "\n",
      "See the caveats in the documentation: https://pandas.pydata.org/pandas-docs/stable/user_guide/indexing.html#returning-a-view-versus-a-copy\n",
      "  stock_df['returns'] = stock_df['Adj Close'].pct_change()\n",
      "[*********************100%%**********************]  1 of 1 completed\n",
      "C:\\Users\\Bogdan\\AppData\\Local\\Temp\\ipykernel_28348\\2407199606.py:3: SettingWithCopyWarning: \n",
      "A value is trying to be set on a copy of a slice from a DataFrame.\n",
      "Try using .loc[row_indexer,col_indexer] = value instead\n",
      "\n",
      "See the caveats in the documentation: https://pandas.pydata.org/pandas-docs/stable/user_guide/indexing.html#returning-a-view-versus-a-copy\n",
      "  stock_df['returns'] = stock_df['Adj Close'].pct_change()\n"
     ]
    },
    {
     "name": "stdout",
     "output_type": "stream",
     "text": [
      "TTWO is done\n",
      "TPR is done\n",
      "TRGP is done\n"
     ]
    },
    {
     "name": "stderr",
     "output_type": "stream",
     "text": [
      "[*********************100%%**********************]  1 of 1 completed\n",
      "C:\\Users\\Bogdan\\AppData\\Local\\Temp\\ipykernel_28348\\2407199606.py:3: SettingWithCopyWarning: \n",
      "A value is trying to be set on a copy of a slice from a DataFrame.\n",
      "Try using .loc[row_indexer,col_indexer] = value instead\n",
      "\n",
      "See the caveats in the documentation: https://pandas.pydata.org/pandas-docs/stable/user_guide/indexing.html#returning-a-view-versus-a-copy\n",
      "  stock_df['returns'] = stock_df['Adj Close'].pct_change()\n",
      "[*********************100%%**********************]  1 of 1 completed\n",
      "C:\\Users\\Bogdan\\AppData\\Local\\Temp\\ipykernel_28348\\2407199606.py:3: SettingWithCopyWarning: \n",
      "A value is trying to be set on a copy of a slice from a DataFrame.\n",
      "Try using .loc[row_indexer,col_indexer] = value instead\n",
      "\n",
      "See the caveats in the documentation: https://pandas.pydata.org/pandas-docs/stable/user_guide/indexing.html#returning-a-view-versus-a-copy\n",
      "  stock_df['returns'] = stock_df['Adj Close'].pct_change()\n",
      "[*********************100%%**********************]  1 of 1 completed\n",
      "C:\\Users\\Bogdan\\AppData\\Local\\Temp\\ipykernel_28348\\2407199606.py:3: SettingWithCopyWarning: \n",
      "A value is trying to be set on a copy of a slice from a DataFrame.\n",
      "Try using .loc[row_indexer,col_indexer] = value instead\n",
      "\n",
      "See the caveats in the documentation: https://pandas.pydata.org/pandas-docs/stable/user_guide/indexing.html#returning-a-view-versus-a-copy\n",
      "  stock_df['returns'] = stock_df['Adj Close'].pct_change()\n"
     ]
    },
    {
     "name": "stdout",
     "output_type": "stream",
     "text": [
      "TGT is done\n",
      "TEL is done\n",
      "TDY is done\n"
     ]
    },
    {
     "name": "stderr",
     "output_type": "stream",
     "text": [
      "[*********************100%%**********************]  1 of 1 completed\n",
      "C:\\Users\\Bogdan\\AppData\\Local\\Temp\\ipykernel_28348\\2407199606.py:3: SettingWithCopyWarning: \n",
      "A value is trying to be set on a copy of a slice from a DataFrame.\n",
      "Try using .loc[row_indexer,col_indexer] = value instead\n",
      "\n",
      "See the caveats in the documentation: https://pandas.pydata.org/pandas-docs/stable/user_guide/indexing.html#returning-a-view-versus-a-copy\n",
      "  stock_df['returns'] = stock_df['Adj Close'].pct_change()\n",
      "[*********************100%%**********************]  1 of 1 completed\n",
      "C:\\Users\\Bogdan\\AppData\\Local\\Temp\\ipykernel_28348\\2407199606.py:3: SettingWithCopyWarning: \n",
      "A value is trying to be set on a copy of a slice from a DataFrame.\n",
      "Try using .loc[row_indexer,col_indexer] = value instead\n",
      "\n",
      "See the caveats in the documentation: https://pandas.pydata.org/pandas-docs/stable/user_guide/indexing.html#returning-a-view-versus-a-copy\n",
      "  stock_df['returns'] = stock_df['Adj Close'].pct_change()\n",
      "[*********************100%%**********************]  1 of 1 completed\n",
      "C:\\Users\\Bogdan\\AppData\\Local\\Temp\\ipykernel_28348\\2407199606.py:3: SettingWithCopyWarning: \n",
      "A value is trying to be set on a copy of a slice from a DataFrame.\n",
      "Try using .loc[row_indexer,col_indexer] = value instead\n",
      "\n",
      "See the caveats in the documentation: https://pandas.pydata.org/pandas-docs/stable/user_guide/indexing.html#returning-a-view-versus-a-copy\n",
      "  stock_df['returns'] = stock_df['Adj Close'].pct_change()\n"
     ]
    },
    {
     "name": "stdout",
     "output_type": "stream",
     "text": [
      "TFX is done\n",
      "TER is done\n",
      "TSLA is done\n"
     ]
    },
    {
     "name": "stderr",
     "output_type": "stream",
     "text": [
      "[*********************100%%**********************]  1 of 1 completed\n",
      "C:\\Users\\Bogdan\\AppData\\Local\\Temp\\ipykernel_28348\\2407199606.py:3: SettingWithCopyWarning: \n",
      "A value is trying to be set on a copy of a slice from a DataFrame.\n",
      "Try using .loc[row_indexer,col_indexer] = value instead\n",
      "\n",
      "See the caveats in the documentation: https://pandas.pydata.org/pandas-docs/stable/user_guide/indexing.html#returning-a-view-versus-a-copy\n",
      "  stock_df['returns'] = stock_df['Adj Close'].pct_change()\n"
     ]
    },
    {
     "name": "stdout",
     "output_type": "stream",
     "text": [
      "TXN is done\n"
     ]
    },
    {
     "name": "stderr",
     "output_type": "stream",
     "text": [
      "[*********************100%%**********************]  1 of 1 completed\n",
      "C:\\Users\\Bogdan\\AppData\\Local\\Temp\\ipykernel_28348\\2407199606.py:3: SettingWithCopyWarning: \n",
      "A value is trying to be set on a copy of a slice from a DataFrame.\n",
      "Try using .loc[row_indexer,col_indexer] = value instead\n",
      "\n",
      "See the caveats in the documentation: https://pandas.pydata.org/pandas-docs/stable/user_guide/indexing.html#returning-a-view-versus-a-copy\n",
      "  stock_df['returns'] = stock_df['Adj Close'].pct_change()\n",
      "[*********************100%%**********************]  1 of 1 completed\n",
      "C:\\Users\\Bogdan\\AppData\\Local\\Temp\\ipykernel_28348\\2407199606.py:3: SettingWithCopyWarning: \n",
      "A value is trying to be set on a copy of a slice from a DataFrame.\n",
      "Try using .loc[row_indexer,col_indexer] = value instead\n",
      "\n",
      "See the caveats in the documentation: https://pandas.pydata.org/pandas-docs/stable/user_guide/indexing.html#returning-a-view-versus-a-copy\n",
      "  stock_df['returns'] = stock_df['Adj Close'].pct_change()\n"
     ]
    },
    {
     "name": "stdout",
     "output_type": "stream",
     "text": [
      "TXT is done\n",
      "TMO is done\n"
     ]
    },
    {
     "name": "stderr",
     "output_type": "stream",
     "text": [
      "[*********************100%%**********************]  1 of 1 completed\n",
      "C:\\Users\\Bogdan\\AppData\\Local\\Temp\\ipykernel_28348\\2407199606.py:3: SettingWithCopyWarning: \n",
      "A value is trying to be set on a copy of a slice from a DataFrame.\n",
      "Try using .loc[row_indexer,col_indexer] = value instead\n",
      "\n",
      "See the caveats in the documentation: https://pandas.pydata.org/pandas-docs/stable/user_guide/indexing.html#returning-a-view-versus-a-copy\n",
      "  stock_df['returns'] = stock_df['Adj Close'].pct_change()\n",
      "[*********************100%%**********************]  1 of 1 completed\n",
      "C:\\Users\\Bogdan\\AppData\\Local\\Temp\\ipykernel_28348\\2407199606.py:3: SettingWithCopyWarning: \n",
      "A value is trying to be set on a copy of a slice from a DataFrame.\n",
      "Try using .loc[row_indexer,col_indexer] = value instead\n",
      "\n",
      "See the caveats in the documentation: https://pandas.pydata.org/pandas-docs/stable/user_guide/indexing.html#returning-a-view-versus-a-copy\n",
      "  stock_df['returns'] = stock_df['Adj Close'].pct_change()\n",
      "[*********************100%%**********************]  1 of 1 completed\n",
      "C:\\Users\\Bogdan\\AppData\\Local\\Temp\\ipykernel_28348\\2407199606.py:3: SettingWithCopyWarning: \n",
      "A value is trying to be set on a copy of a slice from a DataFrame.\n",
      "Try using .loc[row_indexer,col_indexer] = value instead\n",
      "\n",
      "See the caveats in the documentation: https://pandas.pydata.org/pandas-docs/stable/user_guide/indexing.html#returning-a-view-versus-a-copy\n",
      "  stock_df['returns'] = stock_df['Adj Close'].pct_change()\n"
     ]
    },
    {
     "name": "stdout",
     "output_type": "stream",
     "text": [
      "TJX is done\n",
      "TSCO is done\n",
      "TT is done\n"
     ]
    },
    {
     "name": "stderr",
     "output_type": "stream",
     "text": [
      "[*********************100%%**********************]  1 of 1 completed\n",
      "C:\\Users\\Bogdan\\AppData\\Local\\Temp\\ipykernel_28348\\2407199606.py:3: SettingWithCopyWarning: \n",
      "A value is trying to be set on a copy of a slice from a DataFrame.\n",
      "Try using .loc[row_indexer,col_indexer] = value instead\n",
      "\n",
      "See the caveats in the documentation: https://pandas.pydata.org/pandas-docs/stable/user_guide/indexing.html#returning-a-view-versus-a-copy\n",
      "  stock_df['returns'] = stock_df['Adj Close'].pct_change()\n",
      "[*********************100%%**********************]  1 of 1 completed\n",
      "C:\\Users\\Bogdan\\AppData\\Local\\Temp\\ipykernel_28348\\2407199606.py:3: SettingWithCopyWarning: \n",
      "A value is trying to be set on a copy of a slice from a DataFrame.\n",
      "Try using .loc[row_indexer,col_indexer] = value instead\n",
      "\n",
      "See the caveats in the documentation: https://pandas.pydata.org/pandas-docs/stable/user_guide/indexing.html#returning-a-view-versus-a-copy\n",
      "  stock_df['returns'] = stock_df['Adj Close'].pct_change()\n",
      "[*********************100%%**********************]  1 of 1 completed"
     ]
    },
    {
     "name": "stdout",
     "output_type": "stream",
     "text": [
      "TDG is done\n",
      "TRV is done\n"
     ]
    },
    {
     "name": "stderr",
     "output_type": "stream",
     "text": [
      "\n",
      "C:\\Users\\Bogdan\\AppData\\Local\\Temp\\ipykernel_28348\\2407199606.py:3: SettingWithCopyWarning: \n",
      "A value is trying to be set on a copy of a slice from a DataFrame.\n",
      "Try using .loc[row_indexer,col_indexer] = value instead\n",
      "\n",
      "See the caveats in the documentation: https://pandas.pydata.org/pandas-docs/stable/user_guide/indexing.html#returning-a-view-versus-a-copy\n",
      "  stock_df['returns'] = stock_df['Adj Close'].pct_change()\n",
      "[*********************100%%**********************]  1 of 1 completed"
     ]
    },
    {
     "name": "stdout",
     "output_type": "stream",
     "text": [
      "TRMB is done\n",
      "TFC is done\n"
     ]
    },
    {
     "name": "stderr",
     "output_type": "stream",
     "text": [
      "\n",
      "C:\\Users\\Bogdan\\AppData\\Local\\Temp\\ipykernel_28348\\2407199606.py:3: SettingWithCopyWarning: \n",
      "A value is trying to be set on a copy of a slice from a DataFrame.\n",
      "Try using .loc[row_indexer,col_indexer] = value instead\n",
      "\n",
      "See the caveats in the documentation: https://pandas.pydata.org/pandas-docs/stable/user_guide/indexing.html#returning-a-view-versus-a-copy\n",
      "  stock_df['returns'] = stock_df['Adj Close'].pct_change()\n",
      "[*********************100%%**********************]  1 of 1 completed\n",
      "C:\\Users\\Bogdan\\AppData\\Local\\Temp\\ipykernel_28348\\2407199606.py:3: SettingWithCopyWarning: \n",
      "A value is trying to be set on a copy of a slice from a DataFrame.\n",
      "Try using .loc[row_indexer,col_indexer] = value instead\n",
      "\n",
      "See the caveats in the documentation: https://pandas.pydata.org/pandas-docs/stable/user_guide/indexing.html#returning-a-view-versus-a-copy\n",
      "  stock_df['returns'] = stock_df['Adj Close'].pct_change()\n",
      "[*********************100%%**********************]  1 of 1 completed\n",
      "C:\\Users\\Bogdan\\AppData\\Local\\Temp\\ipykernel_28348\\2407199606.py:3: SettingWithCopyWarning: \n",
      "A value is trying to be set on a copy of a slice from a DataFrame.\n",
      "Try using .loc[row_indexer,col_indexer] = value instead\n",
      "\n",
      "See the caveats in the documentation: https://pandas.pydata.org/pandas-docs/stable/user_guide/indexing.html#returning-a-view-versus-a-copy\n",
      "  stock_df['returns'] = stock_df['Adj Close'].pct_change()\n"
     ]
    },
    {
     "name": "stdout",
     "output_type": "stream",
     "text": [
      "TYL is done\n",
      "TSN is done\n"
     ]
    },
    {
     "name": "stderr",
     "output_type": "stream",
     "text": [
      "[*********************100%%**********************]  1 of 1 completed\n",
      "C:\\Users\\Bogdan\\AppData\\Local\\Temp\\ipykernel_28348\\2407199606.py:3: SettingWithCopyWarning: \n",
      "A value is trying to be set on a copy of a slice from a DataFrame.\n",
      "Try using .loc[row_indexer,col_indexer] = value instead\n",
      "\n",
      "See the caveats in the documentation: https://pandas.pydata.org/pandas-docs/stable/user_guide/indexing.html#returning-a-view-versus-a-copy\n",
      "  stock_df['returns'] = stock_df['Adj Close'].pct_change()\n",
      "[*********************100%%**********************]  1 of 1 completed\n",
      "C:\\Users\\Bogdan\\AppData\\Local\\Temp\\ipykernel_28348\\2407199606.py:3: SettingWithCopyWarning: \n",
      "A value is trying to be set on a copy of a slice from a DataFrame.\n",
      "Try using .loc[row_indexer,col_indexer] = value instead\n",
      "\n",
      "See the caveats in the documentation: https://pandas.pydata.org/pandas-docs/stable/user_guide/indexing.html#returning-a-view-versus-a-copy\n",
      "  stock_df['returns'] = stock_df['Adj Close'].pct_change()\n",
      "[*********************100%%**********************]  1 of 1 completed\n",
      "C:\\Users\\Bogdan\\AppData\\Local\\Temp\\ipykernel_28348\\2407199606.py:3: SettingWithCopyWarning: \n",
      "A value is trying to be set on a copy of a slice from a DataFrame.\n",
      "Try using .loc[row_indexer,col_indexer] = value instead\n",
      "\n",
      "See the caveats in the documentation: https://pandas.pydata.org/pandas-docs/stable/user_guide/indexing.html#returning-a-view-versus-a-copy\n",
      "  stock_df['returns'] = stock_df['Adj Close'].pct_change()\n"
     ]
    },
    {
     "name": "stdout",
     "output_type": "stream",
     "text": [
      "USB is done\n",
      "UBER is done\n",
      "UDR is done\n"
     ]
    },
    {
     "name": "stderr",
     "output_type": "stream",
     "text": [
      "[*********************100%%**********************]  1 of 1 completed\n",
      "C:\\Users\\Bogdan\\AppData\\Local\\Temp\\ipykernel_28348\\2407199606.py:3: SettingWithCopyWarning: \n",
      "A value is trying to be set on a copy of a slice from a DataFrame.\n",
      "Try using .loc[row_indexer,col_indexer] = value instead\n",
      "\n",
      "See the caveats in the documentation: https://pandas.pydata.org/pandas-docs/stable/user_guide/indexing.html#returning-a-view-versus-a-copy\n",
      "  stock_df['returns'] = stock_df['Adj Close'].pct_change()\n",
      "[*********************100%%**********************]  1 of 1 completed\n",
      "C:\\Users\\Bogdan\\AppData\\Local\\Temp\\ipykernel_28348\\2407199606.py:3: SettingWithCopyWarning: \n",
      "A value is trying to be set on a copy of a slice from a DataFrame.\n",
      "Try using .loc[row_indexer,col_indexer] = value instead\n",
      "\n",
      "See the caveats in the documentation: https://pandas.pydata.org/pandas-docs/stable/user_guide/indexing.html#returning-a-view-versus-a-copy\n",
      "  stock_df['returns'] = stock_df['Adj Close'].pct_change()\n",
      "[*********************100%%**********************]  1 of 1 completed\n",
      "C:\\Users\\Bogdan\\AppData\\Local\\Temp\\ipykernel_28348\\2407199606.py:3: SettingWithCopyWarning: \n",
      "A value is trying to be set on a copy of a slice from a DataFrame.\n",
      "Try using .loc[row_indexer,col_indexer] = value instead\n",
      "\n",
      "See the caveats in the documentation: https://pandas.pydata.org/pandas-docs/stable/user_guide/indexing.html#returning-a-view-versus-a-copy\n",
      "  stock_df['returns'] = stock_df['Adj Close'].pct_change()\n"
     ]
    },
    {
     "name": "stdout",
     "output_type": "stream",
     "text": [
      "ULTA is done\n",
      "UNP is done\n",
      "UAL is done\n"
     ]
    },
    {
     "name": "stderr",
     "output_type": "stream",
     "text": [
      "[*********************100%%**********************]  1 of 1 completed\n",
      "C:\\Users\\Bogdan\\AppData\\Local\\Temp\\ipykernel_28348\\2407199606.py:3: SettingWithCopyWarning: \n",
      "A value is trying to be set on a copy of a slice from a DataFrame.\n",
      "Try using .loc[row_indexer,col_indexer] = value instead\n",
      "\n",
      "See the caveats in the documentation: https://pandas.pydata.org/pandas-docs/stable/user_guide/indexing.html#returning-a-view-versus-a-copy\n",
      "  stock_df['returns'] = stock_df['Adj Close'].pct_change()\n",
      "[*********************100%%**********************]  1 of 1 completed\n",
      "C:\\Users\\Bogdan\\AppData\\Local\\Temp\\ipykernel_28348\\2407199606.py:3: SettingWithCopyWarning: \n",
      "A value is trying to be set on a copy of a slice from a DataFrame.\n",
      "Try using .loc[row_indexer,col_indexer] = value instead\n",
      "\n",
      "See the caveats in the documentation: https://pandas.pydata.org/pandas-docs/stable/user_guide/indexing.html#returning-a-view-versus-a-copy\n",
      "  stock_df['returns'] = stock_df['Adj Close'].pct_change()\n",
      "[*********************100%%**********************]  1 of 1 completed\n",
      "C:\\Users\\Bogdan\\AppData\\Local\\Temp\\ipykernel_28348\\2407199606.py:3: SettingWithCopyWarning: \n",
      "A value is trying to be set on a copy of a slice from a DataFrame.\n",
      "Try using .loc[row_indexer,col_indexer] = value instead\n",
      "\n",
      "See the caveats in the documentation: https://pandas.pydata.org/pandas-docs/stable/user_guide/indexing.html#returning-a-view-versus-a-copy\n",
      "  stock_df['returns'] = stock_df['Adj Close'].pct_change()\n"
     ]
    },
    {
     "name": "stdout",
     "output_type": "stream",
     "text": [
      "UPS is done\n",
      "URI is done\n",
      "UNH is done\n"
     ]
    },
    {
     "name": "stderr",
     "output_type": "stream",
     "text": [
      "[*********************100%%**********************]  1 of 1 completed\n",
      "C:\\Users\\Bogdan\\AppData\\Local\\Temp\\ipykernel_28348\\2407199606.py:3: SettingWithCopyWarning: \n",
      "A value is trying to be set on a copy of a slice from a DataFrame.\n",
      "Try using .loc[row_indexer,col_indexer] = value instead\n",
      "\n",
      "See the caveats in the documentation: https://pandas.pydata.org/pandas-docs/stable/user_guide/indexing.html#returning-a-view-versus-a-copy\n",
      "  stock_df['returns'] = stock_df['Adj Close'].pct_change()\n",
      "[*********************100%%**********************]  1 of 1 completed\n",
      "C:\\Users\\Bogdan\\AppData\\Local\\Temp\\ipykernel_28348\\2407199606.py:3: SettingWithCopyWarning: \n",
      "A value is trying to be set on a copy of a slice from a DataFrame.\n",
      "Try using .loc[row_indexer,col_indexer] = value instead\n",
      "\n",
      "See the caveats in the documentation: https://pandas.pydata.org/pandas-docs/stable/user_guide/indexing.html#returning-a-view-versus-a-copy\n",
      "  stock_df['returns'] = stock_df['Adj Close'].pct_change()\n",
      "[*********************100%%**********************]  1 of 1 completed\n",
      "C:\\Users\\Bogdan\\AppData\\Local\\Temp\\ipykernel_28348\\2407199606.py:3: SettingWithCopyWarning: \n",
      "A value is trying to be set on a copy of a slice from a DataFrame.\n",
      "Try using .loc[row_indexer,col_indexer] = value instead\n",
      "\n",
      "See the caveats in the documentation: https://pandas.pydata.org/pandas-docs/stable/user_guide/indexing.html#returning-a-view-versus-a-copy\n",
      "  stock_df['returns'] = stock_df['Adj Close'].pct_change()\n",
      "[*********************100%%**********************]  1 of 1 completed"
     ]
    },
    {
     "name": "stdout",
     "output_type": "stream",
     "text": [
      "UHS is done\n",
      "VLO is done\n",
      "VTR is done\n"
     ]
    },
    {
     "name": "stderr",
     "output_type": "stream",
     "text": [
      "\n",
      "[*********************100%%**********************]  1 of 1 completed\n",
      "C:\\Users\\Bogdan\\AppData\\Local\\Temp\\ipykernel_28348\\2407199606.py:3: SettingWithCopyWarning: \n",
      "A value is trying to be set on a copy of a slice from a DataFrame.\n",
      "Try using .loc[row_indexer,col_indexer] = value instead\n",
      "\n",
      "See the caveats in the documentation: https://pandas.pydata.org/pandas-docs/stable/user_guide/indexing.html#returning-a-view-versus-a-copy\n",
      "  stock_df['returns'] = stock_df['Adj Close'].pct_change()\n",
      "[*********************100%%**********************]  1 of 1 completed\n",
      "C:\\Users\\Bogdan\\AppData\\Local\\Temp\\ipykernel_28348\\2407199606.py:3: SettingWithCopyWarning: \n",
      "A value is trying to be set on a copy of a slice from a DataFrame.\n",
      "Try using .loc[row_indexer,col_indexer] = value instead\n",
      "\n",
      "See the caveats in the documentation: https://pandas.pydata.org/pandas-docs/stable/user_guide/indexing.html#returning-a-view-versus-a-copy\n",
      "  stock_df['returns'] = stock_df['Adj Close'].pct_change()\n",
      "[*********************100%%**********************]  1 of 1 completed"
     ]
    },
    {
     "name": "stdout",
     "output_type": "stream",
     "text": [
      "VLTO is done\n",
      "VRSN is done\n",
      "VRSK is done\n"
     ]
    },
    {
     "name": "stderr",
     "output_type": "stream",
     "text": [
      "\n",
      "C:\\Users\\Bogdan\\AppData\\Local\\Temp\\ipykernel_28348\\2407199606.py:3: SettingWithCopyWarning: \n",
      "A value is trying to be set on a copy of a slice from a DataFrame.\n",
      "Try using .loc[row_indexer,col_indexer] = value instead\n",
      "\n",
      "See the caveats in the documentation: https://pandas.pydata.org/pandas-docs/stable/user_guide/indexing.html#returning-a-view-versus-a-copy\n",
      "  stock_df['returns'] = stock_df['Adj Close'].pct_change()\n",
      "[*********************100%%**********************]  1 of 1 completed\n",
      "C:\\Users\\Bogdan\\AppData\\Local\\Temp\\ipykernel_28348\\2407199606.py:3: SettingWithCopyWarning: \n",
      "A value is trying to be set on a copy of a slice from a DataFrame.\n",
      "Try using .loc[row_indexer,col_indexer] = value instead\n",
      "\n",
      "See the caveats in the documentation: https://pandas.pydata.org/pandas-docs/stable/user_guide/indexing.html#returning-a-view-versus-a-copy\n",
      "  stock_df['returns'] = stock_df['Adj Close'].pct_change()\n",
      "[*********************100%%**********************]  1 of 1 completed\n",
      "C:\\Users\\Bogdan\\AppData\\Local\\Temp\\ipykernel_28348\\2407199606.py:3: SettingWithCopyWarning: \n",
      "A value is trying to be set on a copy of a slice from a DataFrame.\n",
      "Try using .loc[row_indexer,col_indexer] = value instead\n",
      "\n",
      "See the caveats in the documentation: https://pandas.pydata.org/pandas-docs/stable/user_guide/indexing.html#returning-a-view-versus-a-copy\n",
      "  stock_df['returns'] = stock_df['Adj Close'].pct_change()\n"
     ]
    },
    {
     "name": "stdout",
     "output_type": "stream",
     "text": [
      "VZ is done\n",
      "VRTX is done\n",
      "VTRS is done\n"
     ]
    },
    {
     "name": "stderr",
     "output_type": "stream",
     "text": [
      "[*********************100%%**********************]  1 of 1 completed\n",
      "C:\\Users\\Bogdan\\AppData\\Local\\Temp\\ipykernel_28348\\2407199606.py:3: SettingWithCopyWarning: \n",
      "A value is trying to be set on a copy of a slice from a DataFrame.\n",
      "Try using .loc[row_indexer,col_indexer] = value instead\n",
      "\n",
      "See the caveats in the documentation: https://pandas.pydata.org/pandas-docs/stable/user_guide/indexing.html#returning-a-view-versus-a-copy\n",
      "  stock_df['returns'] = stock_df['Adj Close'].pct_change()\n",
      "[*********************100%%**********************]  1 of 1 completed\n",
      "C:\\Users\\Bogdan\\AppData\\Local\\Temp\\ipykernel_28348\\2407199606.py:3: SettingWithCopyWarning: \n",
      "A value is trying to be set on a copy of a slice from a DataFrame.\n",
      "Try using .loc[row_indexer,col_indexer] = value instead\n",
      "\n",
      "See the caveats in the documentation: https://pandas.pydata.org/pandas-docs/stable/user_guide/indexing.html#returning-a-view-versus-a-copy\n",
      "  stock_df['returns'] = stock_df['Adj Close'].pct_change()\n",
      "[*********************100%%**********************]  1 of 1 completed\n",
      "C:\\Users\\Bogdan\\AppData\\Local\\Temp\\ipykernel_28348\\2407199606.py:3: SettingWithCopyWarning: \n",
      "A value is trying to be set on a copy of a slice from a DataFrame.\n",
      "Try using .loc[row_indexer,col_indexer] = value instead\n",
      "\n",
      "See the caveats in the documentation: https://pandas.pydata.org/pandas-docs/stable/user_guide/indexing.html#returning-a-view-versus-a-copy\n",
      "  stock_df['returns'] = stock_df['Adj Close'].pct_change()\n"
     ]
    },
    {
     "name": "stdout",
     "output_type": "stream",
     "text": [
      "VICI is done\n",
      "V is done\n",
      "VST is done\n"
     ]
    },
    {
     "name": "stderr",
     "output_type": "stream",
     "text": [
      "[*********************100%%**********************]  1 of 1 completed\n",
      "C:\\Users\\Bogdan\\AppData\\Local\\Temp\\ipykernel_28348\\2407199606.py:3: SettingWithCopyWarning: \n",
      "A value is trying to be set on a copy of a slice from a DataFrame.\n",
      "Try using .loc[row_indexer,col_indexer] = value instead\n",
      "\n",
      "See the caveats in the documentation: https://pandas.pydata.org/pandas-docs/stable/user_guide/indexing.html#returning-a-view-versus-a-copy\n",
      "  stock_df['returns'] = stock_df['Adj Close'].pct_change()\n",
      "[*********************100%%**********************]  1 of 1 completed\n",
      "C:\\Users\\Bogdan\\AppData\\Local\\Temp\\ipykernel_28348\\2407199606.py:3: SettingWithCopyWarning: \n",
      "A value is trying to be set on a copy of a slice from a DataFrame.\n",
      "Try using .loc[row_indexer,col_indexer] = value instead\n",
      "\n",
      "See the caveats in the documentation: https://pandas.pydata.org/pandas-docs/stable/user_guide/indexing.html#returning-a-view-versus-a-copy\n",
      "  stock_df['returns'] = stock_df['Adj Close'].pct_change()\n"
     ]
    },
    {
     "name": "stdout",
     "output_type": "stream",
     "text": [
      "VMC is done\n",
      "WRB is done\n"
     ]
    },
    {
     "name": "stderr",
     "output_type": "stream",
     "text": [
      "[*********************100%%**********************]  1 of 1 completed\n",
      "C:\\Users\\Bogdan\\AppData\\Local\\Temp\\ipykernel_28348\\2407199606.py:3: SettingWithCopyWarning: \n",
      "A value is trying to be set on a copy of a slice from a DataFrame.\n",
      "Try using .loc[row_indexer,col_indexer] = value instead\n",
      "\n",
      "See the caveats in the documentation: https://pandas.pydata.org/pandas-docs/stable/user_guide/indexing.html#returning-a-view-versus-a-copy\n",
      "  stock_df['returns'] = stock_df['Adj Close'].pct_change()\n",
      "[*********************100%%**********************]  1 of 1 completed\n",
      "C:\\Users\\Bogdan\\AppData\\Local\\Temp\\ipykernel_28348\\2407199606.py:3: SettingWithCopyWarning: \n",
      "A value is trying to be set on a copy of a slice from a DataFrame.\n",
      "Try using .loc[row_indexer,col_indexer] = value instead\n",
      "\n",
      "See the caveats in the documentation: https://pandas.pydata.org/pandas-docs/stable/user_guide/indexing.html#returning-a-view-versus-a-copy\n",
      "  stock_df['returns'] = stock_df['Adj Close'].pct_change()\n",
      "[*********************100%%**********************]  1 of 1 completed"
     ]
    },
    {
     "name": "stdout",
     "output_type": "stream",
     "text": [
      "GWW is done\n",
      "WAB is done\n",
      "WBA is done\n"
     ]
    },
    {
     "name": "stderr",
     "output_type": "stream",
     "text": [
      "\n",
      "C:\\Users\\Bogdan\\AppData\\Local\\Temp\\ipykernel_28348\\2407199606.py:3: SettingWithCopyWarning: \n",
      "A value is trying to be set on a copy of a slice from a DataFrame.\n",
      "Try using .loc[row_indexer,col_indexer] = value instead\n",
      "\n",
      "See the caveats in the documentation: https://pandas.pydata.org/pandas-docs/stable/user_guide/indexing.html#returning-a-view-versus-a-copy\n",
      "  stock_df['returns'] = stock_df['Adj Close'].pct_change()\n",
      "[*********************100%%**********************]  1 of 1 completed\n",
      "C:\\Users\\Bogdan\\AppData\\Local\\Temp\\ipykernel_28348\\2407199606.py:3: SettingWithCopyWarning: \n",
      "A value is trying to be set on a copy of a slice from a DataFrame.\n",
      "Try using .loc[row_indexer,col_indexer] = value instead\n",
      "\n",
      "See the caveats in the documentation: https://pandas.pydata.org/pandas-docs/stable/user_guide/indexing.html#returning-a-view-versus-a-copy\n",
      "  stock_df['returns'] = stock_df['Adj Close'].pct_change()\n",
      "[*********************100%%**********************]  1 of 1 completed\n",
      "C:\\Users\\Bogdan\\AppData\\Local\\Temp\\ipykernel_28348\\2407199606.py:3: SettingWithCopyWarning: \n",
      "A value is trying to be set on a copy of a slice from a DataFrame.\n",
      "Try using .loc[row_indexer,col_indexer] = value instead\n",
      "\n",
      "See the caveats in the documentation: https://pandas.pydata.org/pandas-docs/stable/user_guide/indexing.html#returning-a-view-versus-a-copy\n",
      "  stock_df['returns'] = stock_df['Adj Close'].pct_change()\n",
      "[*********************100%%**********************]  1 of 1 completed\n",
      "C:\\Users\\Bogdan\\AppData\\Local\\Temp\\ipykernel_28348\\2407199606.py:3: SettingWithCopyWarning: \n",
      "A value is trying to be set on a copy of a slice from a DataFrame.\n",
      "Try using .loc[row_indexer,col_indexer] = value instead\n",
      "\n",
      "See the caveats in the documentation: https://pandas.pydata.org/pandas-docs/stable/user_guide/indexing.html#returning-a-view-versus-a-copy\n",
      "  stock_df['returns'] = stock_df['Adj Close'].pct_change()\n"
     ]
    },
    {
     "name": "stdout",
     "output_type": "stream",
     "text": [
      "WMT is done\n",
      "DIS is done\n",
      "WBD is done\n"
     ]
    },
    {
     "name": "stderr",
     "output_type": "stream",
     "text": [
      "[*********************100%%**********************]  1 of 1 completed\n",
      "C:\\Users\\Bogdan\\AppData\\Local\\Temp\\ipykernel_28348\\2407199606.py:3: SettingWithCopyWarning: \n",
      "A value is trying to be set on a copy of a slice from a DataFrame.\n",
      "Try using .loc[row_indexer,col_indexer] = value instead\n",
      "\n",
      "See the caveats in the documentation: https://pandas.pydata.org/pandas-docs/stable/user_guide/indexing.html#returning-a-view-versus-a-copy\n",
      "  stock_df['returns'] = stock_df['Adj Close'].pct_change()\n",
      "[*********************100%%**********************]  1 of 1 completed\n",
      "C:\\Users\\Bogdan\\AppData\\Local\\Temp\\ipykernel_28348\\2407199606.py:3: SettingWithCopyWarning: \n",
      "A value is trying to be set on a copy of a slice from a DataFrame.\n",
      "Try using .loc[row_indexer,col_indexer] = value instead\n",
      "\n",
      "See the caveats in the documentation: https://pandas.pydata.org/pandas-docs/stable/user_guide/indexing.html#returning-a-view-versus-a-copy\n",
      "  stock_df['returns'] = stock_df['Adj Close'].pct_change()\n",
      "[*********************100%%**********************]  1 of 1 completed\n",
      "C:\\Users\\Bogdan\\AppData\\Local\\Temp\\ipykernel_28348\\2407199606.py:3: SettingWithCopyWarning: \n",
      "A value is trying to be set on a copy of a slice from a DataFrame.\n",
      "Try using .loc[row_indexer,col_indexer] = value instead\n",
      "\n",
      "See the caveats in the documentation: https://pandas.pydata.org/pandas-docs/stable/user_guide/indexing.html#returning-a-view-versus-a-copy\n",
      "  stock_df['returns'] = stock_df['Adj Close'].pct_change()\n"
     ]
    },
    {
     "name": "stdout",
     "output_type": "stream",
     "text": [
      "WM is done\n",
      "WAT is done\n",
      "WEC is done\n"
     ]
    },
    {
     "name": "stderr",
     "output_type": "stream",
     "text": [
      "[*********************100%%**********************]  1 of 1 completed\n",
      "C:\\Users\\Bogdan\\AppData\\Local\\Temp\\ipykernel_28348\\2407199606.py:3: SettingWithCopyWarning: \n",
      "A value is trying to be set on a copy of a slice from a DataFrame.\n",
      "Try using .loc[row_indexer,col_indexer] = value instead\n",
      "\n",
      "See the caveats in the documentation: https://pandas.pydata.org/pandas-docs/stable/user_guide/indexing.html#returning-a-view-versus-a-copy\n",
      "  stock_df['returns'] = stock_df['Adj Close'].pct_change()\n",
      "[*********************100%%**********************]  1 of 1 completed"
     ]
    },
    {
     "name": "stdout",
     "output_type": "stream",
     "text": [
      "WFC is done\n",
      "WELL is done\n"
     ]
    },
    {
     "name": "stderr",
     "output_type": "stream",
     "text": [
      "\n",
      "C:\\Users\\Bogdan\\AppData\\Local\\Temp\\ipykernel_28348\\2407199606.py:3: SettingWithCopyWarning: \n",
      "A value is trying to be set on a copy of a slice from a DataFrame.\n",
      "Try using .loc[row_indexer,col_indexer] = value instead\n",
      "\n",
      "See the caveats in the documentation: https://pandas.pydata.org/pandas-docs/stable/user_guide/indexing.html#returning-a-view-versus-a-copy\n",
      "  stock_df['returns'] = stock_df['Adj Close'].pct_change()\n",
      "[*********************100%%**********************]  1 of 1 completed\n",
      "C:\\Users\\Bogdan\\AppData\\Local\\Temp\\ipykernel_28348\\2407199606.py:3: SettingWithCopyWarning: \n",
      "A value is trying to be set on a copy of a slice from a DataFrame.\n",
      "Try using .loc[row_indexer,col_indexer] = value instead\n",
      "\n",
      "See the caveats in the documentation: https://pandas.pydata.org/pandas-docs/stable/user_guide/indexing.html#returning-a-view-versus-a-copy\n",
      "  stock_df['returns'] = stock_df['Adj Close'].pct_change()\n",
      "[*********************100%%**********************]  1 of 1 completed\n",
      "C:\\Users\\Bogdan\\AppData\\Local\\Temp\\ipykernel_28348\\2407199606.py:3: SettingWithCopyWarning: \n",
      "A value is trying to be set on a copy of a slice from a DataFrame.\n",
      "Try using .loc[row_indexer,col_indexer] = value instead\n",
      "\n",
      "See the caveats in the documentation: https://pandas.pydata.org/pandas-docs/stable/user_guide/indexing.html#returning-a-view-versus-a-copy\n",
      "  stock_df['returns'] = stock_df['Adj Close'].pct_change()\n",
      "[*********************100%%**********************]  1 of 1 completed"
     ]
    },
    {
     "name": "stdout",
     "output_type": "stream",
     "text": [
      "WST is done\n",
      "WDC is done\n",
      "WY is done\n"
     ]
    },
    {
     "name": "stderr",
     "output_type": "stream",
     "text": [
      "\n",
      "C:\\Users\\Bogdan\\AppData\\Local\\Temp\\ipykernel_28348\\2407199606.py:3: SettingWithCopyWarning: \n",
      "A value is trying to be set on a copy of a slice from a DataFrame.\n",
      "Try using .loc[row_indexer,col_indexer] = value instead\n",
      "\n",
      "See the caveats in the documentation: https://pandas.pydata.org/pandas-docs/stable/user_guide/indexing.html#returning-a-view-versus-a-copy\n",
      "  stock_df['returns'] = stock_df['Adj Close'].pct_change()\n",
      "[*********************100%%**********************]  1 of 1 completed\n",
      "C:\\Users\\Bogdan\\AppData\\Local\\Temp\\ipykernel_28348\\2407199606.py:3: SettingWithCopyWarning: \n",
      "A value is trying to be set on a copy of a slice from a DataFrame.\n",
      "Try using .loc[row_indexer,col_indexer] = value instead\n",
      "\n",
      "See the caveats in the documentation: https://pandas.pydata.org/pandas-docs/stable/user_guide/indexing.html#returning-a-view-versus-a-copy\n",
      "  stock_df['returns'] = stock_df['Adj Close'].pct_change()\n",
      "[*********************100%%**********************]  1 of 1 completed\n",
      "C:\\Users\\Bogdan\\AppData\\Local\\Temp\\ipykernel_28348\\2407199606.py:3: SettingWithCopyWarning: \n",
      "A value is trying to be set on a copy of a slice from a DataFrame.\n",
      "Try using .loc[row_indexer,col_indexer] = value instead\n",
      "\n",
      "See the caveats in the documentation: https://pandas.pydata.org/pandas-docs/stable/user_guide/indexing.html#returning-a-view-versus-a-copy\n",
      "  stock_df['returns'] = stock_df['Adj Close'].pct_change()\n",
      "[*********************100%%**********************]  1 of 1 completed"
     ]
    },
    {
     "name": "stdout",
     "output_type": "stream",
     "text": [
      "WMB is done\n",
      "WTW is done\n",
      "WYNN is done\n"
     ]
    },
    {
     "name": "stderr",
     "output_type": "stream",
     "text": [
      "\n",
      "C:\\Users\\Bogdan\\AppData\\Local\\Temp\\ipykernel_28348\\2407199606.py:3: SettingWithCopyWarning: \n",
      "A value is trying to be set on a copy of a slice from a DataFrame.\n",
      "Try using .loc[row_indexer,col_indexer] = value instead\n",
      "\n",
      "See the caveats in the documentation: https://pandas.pydata.org/pandas-docs/stable/user_guide/indexing.html#returning-a-view-versus-a-copy\n",
      "  stock_df['returns'] = stock_df['Adj Close'].pct_change()\n",
      "[*********************100%%**********************]  1 of 1 completed\n",
      "C:\\Users\\Bogdan\\AppData\\Local\\Temp\\ipykernel_28348\\2407199606.py:3: SettingWithCopyWarning: \n",
      "A value is trying to be set on a copy of a slice from a DataFrame.\n",
      "Try using .loc[row_indexer,col_indexer] = value instead\n",
      "\n",
      "See the caveats in the documentation: https://pandas.pydata.org/pandas-docs/stable/user_guide/indexing.html#returning-a-view-versus-a-copy\n",
      "  stock_df['returns'] = stock_df['Adj Close'].pct_change()\n",
      "[*********************100%%**********************]  1 of 1 completed\n",
      "C:\\Users\\Bogdan\\AppData\\Local\\Temp\\ipykernel_28348\\2407199606.py:3: SettingWithCopyWarning: \n",
      "A value is trying to be set on a copy of a slice from a DataFrame.\n",
      "Try using .loc[row_indexer,col_indexer] = value instead\n",
      "\n",
      "See the caveats in the documentation: https://pandas.pydata.org/pandas-docs/stable/user_guide/indexing.html#returning-a-view-versus-a-copy\n",
      "  stock_df['returns'] = stock_df['Adj Close'].pct_change()\n",
      "[*********************100%%**********************]  1 of 1 completed\n",
      "C:\\Users\\Bogdan\\AppData\\Local\\Temp\\ipykernel_28348\\2407199606.py:3: SettingWithCopyWarning: \n",
      "A value is trying to be set on a copy of a slice from a DataFrame.\n",
      "Try using .loc[row_indexer,col_indexer] = value instead\n",
      "\n",
      "See the caveats in the documentation: https://pandas.pydata.org/pandas-docs/stable/user_guide/indexing.html#returning-a-view-versus-a-copy\n",
      "  stock_df['returns'] = stock_df['Adj Close'].pct_change()\n"
     ]
    },
    {
     "name": "stdout",
     "output_type": "stream",
     "text": [
      "XEL is done\n",
      "XYL is done\n",
      "YUM is done\n"
     ]
    },
    {
     "name": "stderr",
     "output_type": "stream",
     "text": [
      "[*********************100%%**********************]  1 of 1 completed\n",
      "C:\\Users\\Bogdan\\AppData\\Local\\Temp\\ipykernel_28348\\2407199606.py:3: SettingWithCopyWarning: \n",
      "A value is trying to be set on a copy of a slice from a DataFrame.\n",
      "Try using .loc[row_indexer,col_indexer] = value instead\n",
      "\n",
      "See the caveats in the documentation: https://pandas.pydata.org/pandas-docs/stable/user_guide/indexing.html#returning-a-view-versus-a-copy\n",
      "  stock_df['returns'] = stock_df['Adj Close'].pct_change()\n",
      "[*********************100%%**********************]  1 of 1 completed\n",
      "C:\\Users\\Bogdan\\AppData\\Local\\Temp\\ipykernel_28348\\2407199606.py:3: SettingWithCopyWarning: \n",
      "A value is trying to be set on a copy of a slice from a DataFrame.\n",
      "Try using .loc[row_indexer,col_indexer] = value instead\n",
      "\n",
      "See the caveats in the documentation: https://pandas.pydata.org/pandas-docs/stable/user_guide/indexing.html#returning-a-view-versus-a-copy\n",
      "  stock_df['returns'] = stock_df['Adj Close'].pct_change()\n",
      "[*********************100%%**********************]  1 of 1 completed"
     ]
    },
    {
     "name": "stdout",
     "output_type": "stream",
     "text": [
      "ZBRA is done\n",
      "ZBH is done\n",
      "ZTS is done\n"
     ]
    },
    {
     "name": "stderr",
     "output_type": "stream",
     "text": [
      "\n",
      "C:\\Users\\Bogdan\\AppData\\Local\\Temp\\ipykernel_28348\\2407199606.py:3: SettingWithCopyWarning: \n",
      "A value is trying to be set on a copy of a slice from a DataFrame.\n",
      "Try using .loc[row_indexer,col_indexer] = value instead\n",
      "\n",
      "See the caveats in the documentation: https://pandas.pydata.org/pandas-docs/stable/user_guide/indexing.html#returning-a-view-versus-a-copy\n",
      "  stock_df['returns'] = stock_df['Adj Close'].pct_change()\n"
     ]
    }
   ],
   "source": [
    "df = pd.DataFrame()\n",
    "\n",
    "for ticker in tickers:\n",
    "    try:\n",
    "        stock_df = yf.download(ticker, start=start, end=end, interval=interval).iloc[:, -2:-1]\n",
    "        stock_df['ticker'] = ticker\n",
    "        stock_df['date'] = stock_df.index\n",
    "        stock_df = prep_stock_df(stock_df)\n",
    "\n",
    "        if df.empty:\n",
    "            df = stock_df\n",
    "        else:\n",
    "            df = pd.concat([df, stock_df])\n",
    "        print(ticker, 'is done')\n",
    "        \n",
    "\n",
    "    except Exception as e:\n",
    "        print(ticker, e)"
   ]
  },
  {
   "cell_type": "code",
   "execution_count": 6,
   "metadata": {},
   "outputs": [],
   "source": [
    "df = df.dropna().reset_index()"
   ]
  },
  {
   "cell_type": "code",
   "execution_count": 7,
   "metadata": {},
   "outputs": [],
   "source": [
    "X = df[['1_mt_ret', '3_mt_ret', '6_mt_ret', '9_mt_ret']]\n",
    "y = df['category']"
   ]
  },
  {
   "cell_type": "code",
   "execution_count": 8,
   "metadata": {},
   "outputs": [],
   "source": [
    "from sklearn.linear_model import LogisticRegression\n",
    "from sklearn.model_selection import train_test_split"
   ]
  },
  {
   "cell_type": "code",
   "execution_count": 9,
   "metadata": {},
   "outputs": [],
   "source": [
    "model = LogisticRegression(max_iter=1000)\n",
    "X_train, X_test, y_train, y_test = train_test_split(X, y, test_size=0.3, random_state=0)\n",
    "model = model.fit(X_train, y_train)\n",
    "y_preds = pd.DataFrame(model.predict(X_test))"
   ]
  },
  {
   "cell_type": "code",
   "execution_count": 10,
   "metadata": {},
   "outputs": [],
   "source": [
    "y_preds = y_preds.rename(columns={0: 'predicted_category'})\n",
    "y_preds.index = X_test.index\n",
    "test_df = pd.concat([X_test, y_test, y_preds], axis=1)\n",
    "merged_df = pd.merge(df[['ticker', 'date','returns']], test_df, left_index=True, right_index=True)"
   ]
  },
  {
   "cell_type": "code",
   "execution_count": 39,
   "metadata": {},
   "outputs": [],
   "source": [
    "s = merged_df[merged_df['predicted_category'].isin(['slightly positive', 'positive'])]"
   ]
  },
  {
   "cell_type": "code",
   "execution_count": 45,
   "metadata": {},
   "outputs": [
    {
     "data": {
      "text/html": [
       "<div>\n",
       "<style scoped>\n",
       "    .dataframe tbody tr th:only-of-type {\n",
       "        vertical-align: middle;\n",
       "    }\n",
       "\n",
       "    .dataframe tbody tr th {\n",
       "        vertical-align: top;\n",
       "    }\n",
       "\n",
       "    .dataframe thead th {\n",
       "        text-align: right;\n",
       "    }\n",
       "</style>\n",
       "<table border=\"1\" class=\"dataframe\">\n",
       "  <thead>\n",
       "    <tr style=\"text-align: right;\">\n",
       "      <th></th>\n",
       "      <th>ticker</th>\n",
       "      <th>date</th>\n",
       "      <th>returns</th>\n",
       "      <th>1_mt_ret</th>\n",
       "      <th>3_mt_ret</th>\n",
       "      <th>6_mt_ret</th>\n",
       "      <th>9_mt_ret</th>\n",
       "      <th>category</th>\n",
       "      <th>predicted_category</th>\n",
       "    </tr>\n",
       "  </thead>\n",
       "  <tbody>\n",
       "    <tr>\n",
       "      <th>1</th>\n",
       "      <td>MMM</td>\n",
       "      <td>2024-02-01</td>\n",
       "      <td>-0.023635</td>\n",
       "      <td>-0.136937</td>\n",
       "      <td>0.053708</td>\n",
       "      <td>-0.127642</td>\n",
       "      <td>-0.070359</td>\n",
       "      <td>slightly negative</td>\n",
       "      <td>slightly positive</td>\n",
       "    </tr>\n",
       "    <tr>\n",
       "      <th>2</th>\n",
       "      <td>MMM</td>\n",
       "      <td>2024-03-01</td>\n",
       "      <td>0.170558</td>\n",
       "      <td>-0.023635</td>\n",
       "      <td>-0.055520</td>\n",
       "      <td>-0.109694</td>\n",
       "      <td>0.033250</td>\n",
       "      <td>high</td>\n",
       "      <td>slightly positive</td>\n",
       "    </tr>\n",
       "    <tr>\n",
       "      <th>4</th>\n",
       "      <td>MMM</td>\n",
       "      <td>2024-05-01</td>\n",
       "      <td>0.037613</td>\n",
       "      <td>0.088206</td>\n",
       "      <td>0.243701</td>\n",
       "      <td>0.310497</td>\n",
       "      <td>0.084953</td>\n",
       "      <td>slightly positive</td>\n",
       "      <td>slightly positive</td>\n",
       "    </tr>\n",
       "    <tr>\n",
       "      <th>9</th>\n",
       "      <td>AOS</td>\n",
       "      <td>2024-03-01</td>\n",
       "      <td>0.079132</td>\n",
       "      <td>0.072364</td>\n",
       "      <td>0.104381</td>\n",
       "      <td>0.153390</td>\n",
       "      <td>0.313148</td>\n",
       "      <td>positive</td>\n",
       "      <td>slightly positive</td>\n",
       "    </tr>\n",
       "    <tr>\n",
       "      <th>10</th>\n",
       "      <td>AOS</td>\n",
       "      <td>2024-04-01</td>\n",
       "      <td>-0.074000</td>\n",
       "      <td>0.079132</td>\n",
       "      <td>0.089422</td>\n",
       "      <td>0.364552</td>\n",
       "      <td>0.244940</td>\n",
       "      <td>negative</td>\n",
       "      <td>slightly positive</td>\n",
       "    </tr>\n",
       "    <tr>\n",
       "      <th>...</th>\n",
       "      <td>...</td>\n",
       "      <td>...</td>\n",
       "      <td>...</td>\n",
       "      <td>...</td>\n",
       "      <td>...</td>\n",
       "      <td>...</td>\n",
       "      <td>...</td>\n",
       "      <td>...</td>\n",
       "      <td>...</td>\n",
       "    </tr>\n",
       "    <tr>\n",
       "      <th>3478</th>\n",
       "      <td>ZBH</td>\n",
       "      <td>2024-04-01</td>\n",
       "      <td>-0.086936</td>\n",
       "      <td>0.061274</td>\n",
       "      <td>0.086633</td>\n",
       "      <td>0.180988</td>\n",
       "      <td>-0.088250</td>\n",
       "      <td>negative</td>\n",
       "      <td>slightly positive</td>\n",
       "    </tr>\n",
       "    <tr>\n",
       "      <th>3479</th>\n",
       "      <td>ZBH</td>\n",
       "      <td>2024-05-01</td>\n",
       "      <td>-0.042650</td>\n",
       "      <td>-0.086936</td>\n",
       "      <td>-0.040556</td>\n",
       "      <td>0.156465</td>\n",
       "      <td>-0.124077</td>\n",
       "      <td>slightly negative</td>\n",
       "      <td>slightly positive</td>\n",
       "    </tr>\n",
       "    <tr>\n",
       "      <th>3480</th>\n",
       "      <td>ZBH</td>\n",
       "      <td>2024-06-01</td>\n",
       "      <td>-0.057490</td>\n",
       "      <td>-0.042650</td>\n",
       "      <td>-0.072318</td>\n",
       "      <td>-0.006133</td>\n",
       "      <td>-0.027471</td>\n",
       "      <td>negative</td>\n",
       "      <td>slightly positive</td>\n",
       "    </tr>\n",
       "    <tr>\n",
       "      <th>3484</th>\n",
       "      <td>ZTS</td>\n",
       "      <td>2024-03-01</td>\n",
       "      <td>-0.146826</td>\n",
       "      <td>0.058409</td>\n",
       "      <td>0.125148</td>\n",
       "      <td>0.045907</td>\n",
       "      <td>0.225041</td>\n",
       "      <td>low</td>\n",
       "      <td>slightly positive</td>\n",
       "    </tr>\n",
       "    <tr>\n",
       "      <th>3488</th>\n",
       "      <td>ZTS</td>\n",
       "      <td>2024-07-01</td>\n",
       "      <td>0.026650</td>\n",
       "      <td>0.022411</td>\n",
       "      <td>0.027447</td>\n",
       "      <td>-0.117147</td>\n",
       "      <td>0.003942</td>\n",
       "      <td>slightly positive</td>\n",
       "      <td>slightly positive</td>\n",
       "    </tr>\n",
       "  </tbody>\n",
       "</table>\n",
       "<p>1020 rows × 9 columns</p>\n",
       "</div>"
      ],
      "text/plain": [
       "     ticker       date   returns  1_mt_ret  3_mt_ret  6_mt_ret  9_mt_ret  \\\n",
       "1       MMM 2024-02-01 -0.023635 -0.136937  0.053708 -0.127642 -0.070359   \n",
       "2       MMM 2024-03-01  0.170558 -0.023635 -0.055520 -0.109694  0.033250   \n",
       "4       MMM 2024-05-01  0.037613  0.088206  0.243701  0.310497  0.084953   \n",
       "9       AOS 2024-03-01  0.079132  0.072364  0.104381  0.153390  0.313148   \n",
       "10      AOS 2024-04-01 -0.074000  0.079132  0.089422  0.364552  0.244940   \n",
       "...     ...        ...       ...       ...       ...       ...       ...   \n",
       "3478    ZBH 2024-04-01 -0.086936  0.061274  0.086633  0.180988 -0.088250   \n",
       "3479    ZBH 2024-05-01 -0.042650 -0.086936 -0.040556  0.156465 -0.124077   \n",
       "3480    ZBH 2024-06-01 -0.057490 -0.042650 -0.072318 -0.006133 -0.027471   \n",
       "3484    ZTS 2024-03-01 -0.146826  0.058409  0.125148  0.045907  0.225041   \n",
       "3488    ZTS 2024-07-01  0.026650  0.022411  0.027447 -0.117147  0.003942   \n",
       "\n",
       "               category predicted_category  \n",
       "1     slightly negative  slightly positive  \n",
       "2                  high  slightly positive  \n",
       "4     slightly positive  slightly positive  \n",
       "9              positive  slightly positive  \n",
       "10             negative  slightly positive  \n",
       "...                 ...                ...  \n",
       "3478           negative  slightly positive  \n",
       "3479  slightly negative  slightly positive  \n",
       "3480           negative  slightly positive  \n",
       "3484                low  slightly positive  \n",
       "3488  slightly positive  slightly positive  \n",
       "\n",
       "[1020 rows x 9 columns]"
      ]
     },
     "execution_count": 45,
     "metadata": {},
     "output_type": "execute_result"
    }
   ],
   "source": [
    "s"
   ]
  },
  {
   "cell_type": "code",
   "execution_count": 41,
   "metadata": {},
   "outputs": [
    {
     "data": {
      "text/plain": [
       "np.float64(28426.470001982605)"
      ]
     },
     "execution_count": 41,
     "metadata": {},
     "output_type": "execute_result"
    }
   ],
   "source": [
    "(s.returns + 1).prod() - 1"
   ]
  },
  {
   "cell_type": "code",
   "execution_count": 44,
   "metadata": {},
   "outputs": [
    {
     "data": {
      "application/vnd.plotly.v1+json": {
       "config": {
        "plotlyServerURL": "https://plot.ly"
       },
       "data": [
        {
         "alignmentgroup": "True",
         "bingroup": "x",
         "hovertemplate": "category=%{x}<br>count=%{y}<extra></extra>",
         "legendgroup": "",
         "marker": {
          "color": "#636efa",
          "pattern": {
           "shape": ""
          }
         },
         "name": "",
         "offsetgroup": "",
         "orientation": "v",
         "showlegend": false,
         "type": "histogram",
         "x": [
          "slightly negative",
          "high",
          "slightly positive",
          "positive",
          "negative",
          "slightly positive",
          "positive",
          "negative",
          "positive",
          "slightly positive",
          "slightly positive",
          "negative",
          "positive",
          "negative",
          "slightly negative",
          "very high",
          "negative",
          "low",
          "very high",
          "slightly negative",
          "positive",
          "slightly positive",
          "negative",
          "negative",
          "slightly positive",
          "negative",
          "very high",
          "positive",
          "slightly positive",
          "slightly negative",
          "slightly positive",
          "positive",
          "slightly negative",
          "slightly negative",
          "positive",
          "positive",
          "positive",
          "slightly negative",
          "slightly positive",
          "positive",
          "slightly positive",
          "slightly positive",
          "positive",
          "slightly positive",
          "slightly positive",
          "slightly positive",
          "slightly negative",
          "low",
          "slightly negative",
          "slightly positive",
          "positive",
          "slightly positive",
          "slightly positive",
          "positive",
          "slightly positive",
          "positive",
          "low",
          "slightly negative",
          "slightly positive",
          "positive",
          "positive",
          "slightly negative",
          "slightly positive",
          "slightly negative",
          "slightly negative",
          "slightly negative",
          "slightly negative",
          "fairly high",
          "positive",
          "slightly negative",
          "slightly positive",
          "slightly positive",
          "slightly positive",
          "slightly positive",
          "negative",
          "slightly negative",
          "slightly positive",
          "low",
          "positive",
          "positive",
          "positive",
          "slightly negative",
          "slightly negative",
          "negative",
          "positive",
          "positive",
          "low",
          "positive",
          "slightly positive",
          "slightly positive",
          "slightly negative",
          "slightly negative",
          "slightly negative",
          "slightly negative",
          "positive",
          "positive",
          "fairly low",
          "negative",
          "slightly positive",
          "slightly positive",
          "slightly negative",
          "slightly negative",
          "negative",
          "positive",
          "slightly negative",
          "slightly positive",
          "slightly positive",
          "fairly low",
          "slightly negative",
          "slightly positive",
          "slightly positive",
          "slightly negative",
          "positive",
          "positive",
          "slightly positive",
          "positive",
          "slightly positive",
          "positive",
          "very low",
          "positive",
          "slightly negative",
          "slightly negative",
          "slightly positive",
          "slightly positive",
          "slightly negative",
          "positive",
          "slightly negative",
          "fairly high",
          "slightly negative",
          "positive",
          "low",
          "slightly negative",
          "slightly positive",
          "negative",
          "slightly positive",
          "slightly positive",
          "positive",
          "fairly low",
          "negative",
          "slightly positive",
          "slightly negative",
          "slightly negative",
          "slightly negative",
          "slightly positive",
          "fairly high",
          "positive",
          "slightly positive",
          "slightly positive",
          "fairly low",
          "slightly negative",
          "slightly positive",
          "slightly negative",
          "slightly positive",
          "negative",
          "slightly positive",
          "slightly negative",
          "positive",
          "positive",
          "slightly positive",
          "positive",
          "slightly positive",
          "low",
          "slightly negative",
          "slightly positive",
          "slightly positive",
          "fairly high",
          "positive",
          "low",
          "slightly negative",
          "slightly positive",
          "slightly positive",
          "slightly negative",
          "slightly positive",
          "fairly high",
          "positive",
          "slightly positive",
          "low",
          "positive",
          "slightly negative",
          "slightly positive",
          "slightly negative",
          "slightly negative",
          "slightly positive",
          "slightly positive",
          "slightly negative",
          "slightly positive",
          "slightly negative",
          "slightly negative",
          "slightly positive",
          "slightly positive",
          "fairly high",
          "low",
          "slightly positive",
          "very high",
          "slightly positive",
          "slightly negative",
          "slightly positive",
          "fairly high",
          "slightly positive",
          "slightly positive",
          "slightly negative",
          "positive",
          "low",
          "negative",
          "slightly positive",
          "slightly positive",
          "low",
          "low",
          "slightly positive",
          "slightly negative",
          "slightly negative",
          "negative",
          "slightly negative",
          "slightly negative",
          "slightly negative",
          "slightly negative",
          "slightly positive",
          "negative",
          "low",
          "slightly positive",
          "very high",
          "slightly negative",
          "fairly low",
          "negative",
          "slightly negative",
          "slightly positive",
          "positive",
          "slightly positive",
          "slightly positive",
          "very low",
          "fairly high",
          "positive",
          "slightly negative",
          "slightly positive",
          "slightly negative",
          "positive",
          "slightly positive",
          "slightly positive",
          "positive",
          "slightly positive",
          "slightly positive",
          "slightly positive",
          "slightly positive",
          "slightly negative",
          "slightly positive",
          "slightly positive",
          "slightly positive",
          "high",
          "negative",
          "positive",
          "slightly negative",
          "slightly positive",
          "slightly positive",
          "slightly positive",
          "slightly positive",
          "positive",
          "negative",
          "slightly positive",
          "positive",
          "slightly positive",
          "slightly negative",
          "fairly high",
          "slightly negative",
          "slightly negative",
          "slightly negative",
          "slightly positive",
          "slightly positive",
          "slightly negative",
          "high",
          "negative",
          "slightly negative",
          "slightly positive",
          "positive",
          "fairly high",
          "positive",
          "slightly positive",
          "positive",
          "slightly positive",
          "slightly positive",
          "fairly high",
          "fairly high",
          "negative",
          "slightly positive",
          "slightly positive",
          "slightly positive",
          "positive",
          "slightly negative",
          "slightly negative",
          "slightly positive",
          "negative",
          "fairly high",
          "slightly negative",
          "slightly negative",
          "positive",
          "positive",
          "low",
          "slightly positive",
          "fairly high",
          "slightly negative",
          "slightly positive",
          "slightly negative",
          "slightly positive",
          "slightly negative",
          "positive",
          "slightly negative",
          "negative",
          "slightly negative",
          "positive",
          "positive",
          "slightly positive",
          "fairly low",
          "slightly positive",
          "high",
          "positive",
          "very high",
          "negative",
          "slightly negative",
          "slightly negative",
          "slightly negative",
          "negative",
          "slightly positive",
          "high",
          "positive",
          "positive",
          "positive",
          "slightly positive",
          "slightly positive",
          "fairly high",
          "positive",
          "fairly high",
          "slightly negative",
          "slightly negative",
          "slightly positive",
          "slightly positive",
          "negative",
          "positive",
          "slightly positive",
          "slightly positive",
          "slightly negative",
          "slightly positive",
          "slightly positive",
          "fairly high",
          "slightly positive",
          "slightly negative",
          "positive",
          "slightly negative",
          "slightly negative",
          "fairly low",
          "fairly high",
          "negative",
          "positive",
          "fairly high",
          "negative",
          "slightly positive",
          "slightly positive",
          "slightly positive",
          "slightly positive",
          "slightly negative",
          "slightly negative",
          "high",
          "slightly positive",
          "positive",
          "slightly positive",
          "positive",
          "negative",
          "slightly negative",
          "positive",
          "slightly positive",
          "slightly positive",
          "low",
          "slightly negative",
          "slightly negative",
          "positive",
          "negative",
          "positive",
          "slightly negative",
          "slightly positive",
          "slightly negative",
          "positive",
          "slightly positive",
          "slightly negative",
          "slightly negative",
          "positive",
          "slightly negative",
          "slightly positive",
          "low",
          "slightly positive",
          "slightly negative",
          "slightly positive",
          "slightly negative",
          "negative",
          "slightly positive",
          "positive",
          "slightly positive",
          "slightly negative",
          "slightly negative",
          "slightly positive",
          "slightly positive",
          "slightly positive",
          "negative",
          "low",
          "slightly negative",
          "positive",
          "slightly negative",
          "slightly negative",
          "slightly negative",
          "slightly positive",
          "positive",
          "slightly positive",
          "high",
          "negative",
          "high",
          "slightly positive",
          "fairly high",
          "slightly negative",
          "slightly positive",
          "slightly positive",
          "positive",
          "fairly low",
          "positive",
          "positive",
          "slightly negative",
          "positive",
          "slightly negative",
          "slightly negative",
          "fairly high",
          "positive",
          "negative",
          "slightly negative",
          "positive",
          "low",
          "slightly negative",
          "slightly positive",
          "low",
          "negative",
          "very high",
          "positive",
          "slightly positive",
          "positive",
          "fairly high",
          "slightly positive",
          "slightly positive",
          "slightly positive",
          "slightly negative",
          "fairly low",
          "slightly negative",
          "slightly positive",
          "slightly positive",
          "slightly positive",
          "very high",
          "slightly negative",
          "low",
          "slightly negative",
          "slightly negative",
          "positive",
          "fairly high",
          "negative",
          "slightly negative",
          "slightly positive",
          "positive",
          "fairly low",
          "slightly positive",
          "slightly positive",
          "positive",
          "slightly positive",
          "slightly positive",
          "positive",
          "positive",
          "slightly negative",
          "slightly negative",
          "negative",
          "slightly positive",
          "positive",
          "positive",
          "slightly negative",
          "slightly positive",
          "slightly positive",
          "slightly positive",
          "slightly negative",
          "high",
          "slightly negative",
          "slightly positive",
          "slightly positive",
          "slightly positive",
          "positive",
          "low",
          "slightly positive",
          "slightly negative",
          "slightly positive",
          "slightly positive",
          "low",
          "slightly positive",
          "slightly negative",
          "slightly positive",
          "slightly positive",
          "slightly positive",
          "negative",
          "slightly positive",
          "fairly low",
          "negative",
          "slightly negative",
          "low",
          "slightly positive",
          "slightly negative",
          "fairly high",
          "negative",
          "slightly negative",
          "slightly positive",
          "positive",
          "slightly positive",
          "slightly negative",
          "negative",
          "positive",
          "slightly positive",
          "slightly negative",
          "slightly positive",
          "fairly high",
          "slightly negative",
          "low",
          "slightly positive",
          "very low",
          "slightly positive",
          "slightly negative",
          "slightly negative",
          "negative",
          "slightly positive",
          "fairly high",
          "slightly negative",
          "very high",
          "slightly negative",
          "slightly negative",
          "positive",
          "fairly high",
          "fairly high",
          "slightly positive",
          "fairly high",
          "positive",
          "fairly high",
          "slightly positive",
          "slightly positive",
          "slightly negative",
          "slightly positive",
          "slightly positive",
          "slightly negative",
          "fairly high",
          "slightly negative",
          "negative",
          "slightly positive",
          "negative",
          "slightly positive",
          "slightly positive",
          "slightly negative",
          "negative",
          "slightly positive",
          "negative",
          "slightly negative",
          "slightly positive",
          "slightly positive",
          "slightly negative",
          "slightly positive",
          "negative",
          "slightly negative",
          "fairly high",
          "negative",
          "slightly negative",
          "slightly positive",
          "positive",
          "positive",
          "slightly negative",
          "slightly positive",
          "slightly positive",
          "slightly positive",
          "slightly positive",
          "negative",
          "slightly negative",
          "positive",
          "slightly negative",
          "slightly negative",
          "slightly positive",
          "slightly positive",
          "slightly negative",
          "slightly positive",
          "positive",
          "fairly high",
          "negative",
          "slightly positive",
          "very low",
          "negative",
          "slightly negative",
          "slightly negative",
          "high",
          "slightly positive",
          "slightly negative",
          "slightly positive",
          "positive",
          "slightly negative",
          "slightly negative",
          "positive",
          "fairly high",
          "slightly negative",
          "negative",
          "positive",
          "slightly positive",
          "slightly negative",
          "slightly positive",
          "slightly positive",
          "fairly high",
          "slightly negative",
          "positive",
          "slightly negative",
          "negative",
          "slightly negative",
          "positive",
          "slightly positive",
          "slightly negative",
          "slightly positive",
          "slightly positive",
          "slightly positive",
          "positive",
          "slightly negative",
          "slightly positive",
          "slightly negative",
          "slightly negative",
          "fairly low",
          "slightly negative",
          "slightly negative",
          "slightly negative",
          "positive",
          "slightly negative",
          "slightly negative",
          "slightly positive",
          "slightly negative",
          "positive",
          "very high",
          "slightly negative",
          "low",
          "positive",
          "slightly positive",
          "slightly positive",
          "positive",
          "positive",
          "negative",
          "fairly high",
          "slightly negative",
          "slightly negative",
          "slightly negative",
          "fairly low",
          "slightly positive",
          "slightly negative",
          "slightly positive",
          "slightly negative",
          "fairly high",
          "positive",
          "slightly positive",
          "slightly positive",
          "slightly negative",
          "slightly positive",
          "slightly positive",
          "slightly positive",
          "slightly negative",
          "positive",
          "low",
          "slightly negative",
          "slightly positive",
          "slightly negative",
          "slightly negative",
          "slightly negative",
          "slightly negative",
          "slightly negative",
          "positive",
          "slightly negative",
          "slightly negative",
          "negative",
          "positive",
          "positive",
          "slightly positive",
          "positive",
          "slightly positive",
          "fairly low",
          "slightly negative",
          "fairly high",
          "slightly negative",
          "slightly positive",
          "slightly negative",
          "positive",
          "fairly high",
          "positive",
          "negative",
          "slightly positive",
          "slightly negative",
          "slightly positive",
          "very low",
          "slightly negative",
          "slightly negative",
          "positive",
          "negative",
          "positive",
          "slightly negative",
          "slightly negative",
          "fairly high",
          "positive",
          "slightly positive",
          "fairly high",
          "slightly positive",
          "positive",
          "negative",
          "slightly positive",
          "negative",
          "slightly negative",
          "slightly positive",
          "slightly negative",
          "positive",
          "slightly positive",
          "slightly negative",
          "slightly negative",
          "slightly negative",
          "positive",
          "positive",
          "low",
          "negative",
          "slightly positive",
          "slightly positive",
          "fairly high",
          "very high",
          "negative",
          "slightly negative",
          "slightly positive",
          "slightly negative",
          "slightly positive",
          "positive",
          "positive",
          "fairly high",
          "slightly positive",
          "slightly negative",
          "slightly positive",
          "low",
          "fairly high",
          "high",
          "slightly negative",
          "slightly positive",
          "slightly positive",
          "slightly negative",
          "slightly negative",
          "slightly negative",
          "fairly high",
          "positive",
          "negative",
          "slightly positive",
          "slightly negative",
          "positive",
          "slightly positive",
          "slightly negative",
          "positive",
          "slightly negative",
          "slightly negative",
          "slightly positive",
          "slightly negative",
          "slightly negative",
          "positive",
          "negative",
          "negative",
          "slightly positive",
          "slightly positive",
          "slightly positive",
          "slightly positive",
          "slightly negative",
          "slightly positive",
          "positive",
          "slightly negative",
          "positive",
          "slightly positive",
          "slightly positive",
          "negative",
          "positive",
          "slightly positive",
          "negative",
          "slightly positive",
          "positive",
          "positive",
          "positive",
          "fairly high",
          "negative",
          "slightly positive",
          "fairly low",
          "positive",
          "low",
          "slightly negative",
          "slightly positive",
          "positive",
          "positive",
          "slightly positive",
          "slightly positive",
          "slightly positive",
          "very high",
          "low",
          "slightly negative",
          "slightly positive",
          "slightly negative",
          "slightly negative",
          "slightly negative",
          "slightly negative",
          "slightly positive",
          "slightly positive",
          "slightly negative",
          "positive",
          "fairly high",
          "negative",
          "slightly negative",
          "slightly positive",
          "positive",
          "slightly positive",
          "slightly negative",
          "slightly negative",
          "slightly positive",
          "slightly positive",
          "positive",
          "slightly positive",
          "slightly positive",
          "positive",
          "slightly positive",
          "positive",
          "positive",
          "positive",
          "slightly negative",
          "slightly negative",
          "slightly positive",
          "positive",
          "low",
          "low",
          "slightly positive",
          "positive",
          "slightly positive",
          "slightly positive",
          "positive",
          "slightly positive",
          "slightly negative",
          "slightly positive",
          "high",
          "slightly negative",
          "slightly positive",
          "slightly positive",
          "low",
          "positive",
          "negative",
          "slightly negative",
          "slightly negative",
          "slightly negative",
          "negative",
          "slightly negative",
          "slightly positive",
          "positive",
          "positive",
          "slightly negative",
          "slightly negative",
          "slightly negative",
          "slightly positive",
          "slightly negative",
          "slightly negative",
          "slightly positive",
          "slightly positive",
          "negative",
          "slightly positive",
          "extremely high",
          "positive",
          "positive",
          "slightly positive",
          "slightly negative",
          "positive",
          "slightly positive",
          "slightly positive",
          "slightly negative",
          "fairly high",
          "fairly high",
          "slightly positive",
          "positive",
          "negative",
          "slightly positive",
          "slightly positive",
          "negative",
          "low",
          "slightly positive",
          "negative",
          "slightly positive",
          "negative",
          "slightly positive",
          "low",
          "positive",
          "positive",
          "slightly positive",
          "slightly positive",
          "fairly high",
          "slightly positive",
          "low",
          "slightly positive",
          "positive",
          "slightly positive",
          "slightly negative",
          "slightly positive",
          "slightly positive",
          "slightly positive",
          "slightly negative",
          "slightly positive",
          "slightly positive",
          "slightly positive",
          "slightly positive",
          "slightly positive",
          "slightly positive",
          "negative",
          "negative",
          "fairly high",
          "slightly positive",
          "slightly positive",
          "slightly positive",
          "slightly negative",
          "slightly positive",
          "slightly positive",
          "slightly negative",
          "positive",
          "slightly negative",
          "slightly negative",
          "slightly positive",
          "slightly negative",
          "very low",
          "slightly negative",
          "slightly negative",
          "slightly positive",
          "positive",
          "negative",
          "slightly positive",
          "positive",
          "positive",
          "negative",
          "positive",
          "slightly negative",
          "slightly positive",
          "slightly positive",
          "positive",
          "positive",
          "negative",
          "fairly high",
          "slightly negative",
          "negative",
          "slightly positive",
          "slightly positive",
          "slightly negative",
          "slightly negative",
          "negative",
          "slightly negative",
          "negative",
          "positive",
          "slightly positive",
          "slightly negative",
          "high",
          "positive",
          "slightly negative",
          "slightly negative",
          "slightly positive",
          "slightly positive",
          "slightly negative",
          "positive",
          "low",
          "high",
          "high",
          "slightly positive",
          "low",
          "slightly negative",
          "positive",
          "slightly positive",
          "slightly negative",
          "fairly high",
          "negative",
          "fairly low",
          "positive",
          "fairly high",
          "slightly positive",
          "high",
          "positive",
          "slightly negative",
          "slightly negative",
          "slightly positive",
          "slightly negative",
          "positive",
          "slightly positive",
          "slightly negative",
          "slightly negative",
          "slightly positive",
          "slightly positive",
          "slightly positive",
          "slightly positive",
          "slightly negative",
          "slightly positive",
          "slightly positive",
          "positive",
          "slightly positive",
          "slightly positive",
          "fairly low",
          "slightly negative",
          "slightly positive",
          "positive",
          "slightly positive",
          "fairly high",
          "negative",
          "low",
          "slightly positive",
          "slightly negative",
          "slightly positive",
          "slightly negative",
          "slightly negative",
          "slightly negative",
          "high",
          "positive",
          "slightly positive",
          "slightly positive",
          "slightly negative",
          "positive",
          "negative",
          "slightly negative",
          "negative",
          "low",
          "slightly positive"
         ],
         "xaxis": "x",
         "yaxis": "y"
        }
       ],
       "layout": {
        "barmode": "relative",
        "legend": {
         "tracegroupgap": 0
        },
        "template": {
         "data": {
          "bar": [
           {
            "error_x": {
             "color": "#2a3f5f"
            },
            "error_y": {
             "color": "#2a3f5f"
            },
            "marker": {
             "line": {
              "color": "#E5ECF6",
              "width": 0.5
             },
             "pattern": {
              "fillmode": "overlay",
              "size": 10,
              "solidity": 0.2
             }
            },
            "type": "bar"
           }
          ],
          "barpolar": [
           {
            "marker": {
             "line": {
              "color": "#E5ECF6",
              "width": 0.5
             },
             "pattern": {
              "fillmode": "overlay",
              "size": 10,
              "solidity": 0.2
             }
            },
            "type": "barpolar"
           }
          ],
          "carpet": [
           {
            "aaxis": {
             "endlinecolor": "#2a3f5f",
             "gridcolor": "white",
             "linecolor": "white",
             "minorgridcolor": "white",
             "startlinecolor": "#2a3f5f"
            },
            "baxis": {
             "endlinecolor": "#2a3f5f",
             "gridcolor": "white",
             "linecolor": "white",
             "minorgridcolor": "white",
             "startlinecolor": "#2a3f5f"
            },
            "type": "carpet"
           }
          ],
          "choropleth": [
           {
            "colorbar": {
             "outlinewidth": 0,
             "ticks": ""
            },
            "type": "choropleth"
           }
          ],
          "contour": [
           {
            "colorbar": {
             "outlinewidth": 0,
             "ticks": ""
            },
            "colorscale": [
             [
              0,
              "#0d0887"
             ],
             [
              0.1111111111111111,
              "#46039f"
             ],
             [
              0.2222222222222222,
              "#7201a8"
             ],
             [
              0.3333333333333333,
              "#9c179e"
             ],
             [
              0.4444444444444444,
              "#bd3786"
             ],
             [
              0.5555555555555556,
              "#d8576b"
             ],
             [
              0.6666666666666666,
              "#ed7953"
             ],
             [
              0.7777777777777778,
              "#fb9f3a"
             ],
             [
              0.8888888888888888,
              "#fdca26"
             ],
             [
              1,
              "#f0f921"
             ]
            ],
            "type": "contour"
           }
          ],
          "contourcarpet": [
           {
            "colorbar": {
             "outlinewidth": 0,
             "ticks": ""
            },
            "type": "contourcarpet"
           }
          ],
          "heatmap": [
           {
            "colorbar": {
             "outlinewidth": 0,
             "ticks": ""
            },
            "colorscale": [
             [
              0,
              "#0d0887"
             ],
             [
              0.1111111111111111,
              "#46039f"
             ],
             [
              0.2222222222222222,
              "#7201a8"
             ],
             [
              0.3333333333333333,
              "#9c179e"
             ],
             [
              0.4444444444444444,
              "#bd3786"
             ],
             [
              0.5555555555555556,
              "#d8576b"
             ],
             [
              0.6666666666666666,
              "#ed7953"
             ],
             [
              0.7777777777777778,
              "#fb9f3a"
             ],
             [
              0.8888888888888888,
              "#fdca26"
             ],
             [
              1,
              "#f0f921"
             ]
            ],
            "type": "heatmap"
           }
          ],
          "heatmapgl": [
           {
            "colorbar": {
             "outlinewidth": 0,
             "ticks": ""
            },
            "colorscale": [
             [
              0,
              "#0d0887"
             ],
             [
              0.1111111111111111,
              "#46039f"
             ],
             [
              0.2222222222222222,
              "#7201a8"
             ],
             [
              0.3333333333333333,
              "#9c179e"
             ],
             [
              0.4444444444444444,
              "#bd3786"
             ],
             [
              0.5555555555555556,
              "#d8576b"
             ],
             [
              0.6666666666666666,
              "#ed7953"
             ],
             [
              0.7777777777777778,
              "#fb9f3a"
             ],
             [
              0.8888888888888888,
              "#fdca26"
             ],
             [
              1,
              "#f0f921"
             ]
            ],
            "type": "heatmapgl"
           }
          ],
          "histogram": [
           {
            "marker": {
             "pattern": {
              "fillmode": "overlay",
              "size": 10,
              "solidity": 0.2
             }
            },
            "type": "histogram"
           }
          ],
          "histogram2d": [
           {
            "colorbar": {
             "outlinewidth": 0,
             "ticks": ""
            },
            "colorscale": [
             [
              0,
              "#0d0887"
             ],
             [
              0.1111111111111111,
              "#46039f"
             ],
             [
              0.2222222222222222,
              "#7201a8"
             ],
             [
              0.3333333333333333,
              "#9c179e"
             ],
             [
              0.4444444444444444,
              "#bd3786"
             ],
             [
              0.5555555555555556,
              "#d8576b"
             ],
             [
              0.6666666666666666,
              "#ed7953"
             ],
             [
              0.7777777777777778,
              "#fb9f3a"
             ],
             [
              0.8888888888888888,
              "#fdca26"
             ],
             [
              1,
              "#f0f921"
             ]
            ],
            "type": "histogram2d"
           }
          ],
          "histogram2dcontour": [
           {
            "colorbar": {
             "outlinewidth": 0,
             "ticks": ""
            },
            "colorscale": [
             [
              0,
              "#0d0887"
             ],
             [
              0.1111111111111111,
              "#46039f"
             ],
             [
              0.2222222222222222,
              "#7201a8"
             ],
             [
              0.3333333333333333,
              "#9c179e"
             ],
             [
              0.4444444444444444,
              "#bd3786"
             ],
             [
              0.5555555555555556,
              "#d8576b"
             ],
             [
              0.6666666666666666,
              "#ed7953"
             ],
             [
              0.7777777777777778,
              "#fb9f3a"
             ],
             [
              0.8888888888888888,
              "#fdca26"
             ],
             [
              1,
              "#f0f921"
             ]
            ],
            "type": "histogram2dcontour"
           }
          ],
          "mesh3d": [
           {
            "colorbar": {
             "outlinewidth": 0,
             "ticks": ""
            },
            "type": "mesh3d"
           }
          ],
          "parcoords": [
           {
            "line": {
             "colorbar": {
              "outlinewidth": 0,
              "ticks": ""
             }
            },
            "type": "parcoords"
           }
          ],
          "pie": [
           {
            "automargin": true,
            "type": "pie"
           }
          ],
          "scatter": [
           {
            "fillpattern": {
             "fillmode": "overlay",
             "size": 10,
             "solidity": 0.2
            },
            "type": "scatter"
           }
          ],
          "scatter3d": [
           {
            "line": {
             "colorbar": {
              "outlinewidth": 0,
              "ticks": ""
             }
            },
            "marker": {
             "colorbar": {
              "outlinewidth": 0,
              "ticks": ""
             }
            },
            "type": "scatter3d"
           }
          ],
          "scattercarpet": [
           {
            "marker": {
             "colorbar": {
              "outlinewidth": 0,
              "ticks": ""
             }
            },
            "type": "scattercarpet"
           }
          ],
          "scattergeo": [
           {
            "marker": {
             "colorbar": {
              "outlinewidth": 0,
              "ticks": ""
             }
            },
            "type": "scattergeo"
           }
          ],
          "scattergl": [
           {
            "marker": {
             "colorbar": {
              "outlinewidth": 0,
              "ticks": ""
             }
            },
            "type": "scattergl"
           }
          ],
          "scattermapbox": [
           {
            "marker": {
             "colorbar": {
              "outlinewidth": 0,
              "ticks": ""
             }
            },
            "type": "scattermapbox"
           }
          ],
          "scatterpolar": [
           {
            "marker": {
             "colorbar": {
              "outlinewidth": 0,
              "ticks": ""
             }
            },
            "type": "scatterpolar"
           }
          ],
          "scatterpolargl": [
           {
            "marker": {
             "colorbar": {
              "outlinewidth": 0,
              "ticks": ""
             }
            },
            "type": "scatterpolargl"
           }
          ],
          "scatterternary": [
           {
            "marker": {
             "colorbar": {
              "outlinewidth": 0,
              "ticks": ""
             }
            },
            "type": "scatterternary"
           }
          ],
          "surface": [
           {
            "colorbar": {
             "outlinewidth": 0,
             "ticks": ""
            },
            "colorscale": [
             [
              0,
              "#0d0887"
             ],
             [
              0.1111111111111111,
              "#46039f"
             ],
             [
              0.2222222222222222,
              "#7201a8"
             ],
             [
              0.3333333333333333,
              "#9c179e"
             ],
             [
              0.4444444444444444,
              "#bd3786"
             ],
             [
              0.5555555555555556,
              "#d8576b"
             ],
             [
              0.6666666666666666,
              "#ed7953"
             ],
             [
              0.7777777777777778,
              "#fb9f3a"
             ],
             [
              0.8888888888888888,
              "#fdca26"
             ],
             [
              1,
              "#f0f921"
             ]
            ],
            "type": "surface"
           }
          ],
          "table": [
           {
            "cells": {
             "fill": {
              "color": "#EBF0F8"
             },
             "line": {
              "color": "white"
             }
            },
            "header": {
             "fill": {
              "color": "#C8D4E3"
             },
             "line": {
              "color": "white"
             }
            },
            "type": "table"
           }
          ]
         },
         "layout": {
          "annotationdefaults": {
           "arrowcolor": "#2a3f5f",
           "arrowhead": 0,
           "arrowwidth": 1
          },
          "autotypenumbers": "strict",
          "coloraxis": {
           "colorbar": {
            "outlinewidth": 0,
            "ticks": ""
           }
          },
          "colorscale": {
           "diverging": [
            [
             0,
             "#8e0152"
            ],
            [
             0.1,
             "#c51b7d"
            ],
            [
             0.2,
             "#de77ae"
            ],
            [
             0.3,
             "#f1b6da"
            ],
            [
             0.4,
             "#fde0ef"
            ],
            [
             0.5,
             "#f7f7f7"
            ],
            [
             0.6,
             "#e6f5d0"
            ],
            [
             0.7,
             "#b8e186"
            ],
            [
             0.8,
             "#7fbc41"
            ],
            [
             0.9,
             "#4d9221"
            ],
            [
             1,
             "#276419"
            ]
           ],
           "sequential": [
            [
             0,
             "#0d0887"
            ],
            [
             0.1111111111111111,
             "#46039f"
            ],
            [
             0.2222222222222222,
             "#7201a8"
            ],
            [
             0.3333333333333333,
             "#9c179e"
            ],
            [
             0.4444444444444444,
             "#bd3786"
            ],
            [
             0.5555555555555556,
             "#d8576b"
            ],
            [
             0.6666666666666666,
             "#ed7953"
            ],
            [
             0.7777777777777778,
             "#fb9f3a"
            ],
            [
             0.8888888888888888,
             "#fdca26"
            ],
            [
             1,
             "#f0f921"
            ]
           ],
           "sequentialminus": [
            [
             0,
             "#0d0887"
            ],
            [
             0.1111111111111111,
             "#46039f"
            ],
            [
             0.2222222222222222,
             "#7201a8"
            ],
            [
             0.3333333333333333,
             "#9c179e"
            ],
            [
             0.4444444444444444,
             "#bd3786"
            ],
            [
             0.5555555555555556,
             "#d8576b"
            ],
            [
             0.6666666666666666,
             "#ed7953"
            ],
            [
             0.7777777777777778,
             "#fb9f3a"
            ],
            [
             0.8888888888888888,
             "#fdca26"
            ],
            [
             1,
             "#f0f921"
            ]
           ]
          },
          "colorway": [
           "#636efa",
           "#EF553B",
           "#00cc96",
           "#ab63fa",
           "#FFA15A",
           "#19d3f3",
           "#FF6692",
           "#B6E880",
           "#FF97FF",
           "#FECB52"
          ],
          "font": {
           "color": "#2a3f5f"
          },
          "geo": {
           "bgcolor": "white",
           "lakecolor": "white",
           "landcolor": "#E5ECF6",
           "showlakes": true,
           "showland": true,
           "subunitcolor": "white"
          },
          "hoverlabel": {
           "align": "left"
          },
          "hovermode": "closest",
          "mapbox": {
           "style": "light"
          },
          "paper_bgcolor": "white",
          "plot_bgcolor": "#E5ECF6",
          "polar": {
           "angularaxis": {
            "gridcolor": "white",
            "linecolor": "white",
            "ticks": ""
           },
           "bgcolor": "#E5ECF6",
           "radialaxis": {
            "gridcolor": "white",
            "linecolor": "white",
            "ticks": ""
           }
          },
          "scene": {
           "xaxis": {
            "backgroundcolor": "#E5ECF6",
            "gridcolor": "white",
            "gridwidth": 2,
            "linecolor": "white",
            "showbackground": true,
            "ticks": "",
            "zerolinecolor": "white"
           },
           "yaxis": {
            "backgroundcolor": "#E5ECF6",
            "gridcolor": "white",
            "gridwidth": 2,
            "linecolor": "white",
            "showbackground": true,
            "ticks": "",
            "zerolinecolor": "white"
           },
           "zaxis": {
            "backgroundcolor": "#E5ECF6",
            "gridcolor": "white",
            "gridwidth": 2,
            "linecolor": "white",
            "showbackground": true,
            "ticks": "",
            "zerolinecolor": "white"
           }
          },
          "shapedefaults": {
           "line": {
            "color": "#2a3f5f"
           }
          },
          "ternary": {
           "aaxis": {
            "gridcolor": "white",
            "linecolor": "white",
            "ticks": ""
           },
           "baxis": {
            "gridcolor": "white",
            "linecolor": "white",
            "ticks": ""
           },
           "bgcolor": "#E5ECF6",
           "caxis": {
            "gridcolor": "white",
            "linecolor": "white",
            "ticks": ""
           }
          },
          "title": {
           "x": 0.05
          },
          "xaxis": {
           "automargin": true,
           "gridcolor": "white",
           "linecolor": "white",
           "ticks": "",
           "title": {
            "standoff": 15
           },
           "zerolinecolor": "white",
           "zerolinewidth": 2
          },
          "yaxis": {
           "automargin": true,
           "gridcolor": "white",
           "linecolor": "white",
           "ticks": "",
           "title": {
            "standoff": 15
           },
           "zerolinecolor": "white",
           "zerolinewidth": 2
          }
         }
        },
        "title": {
         "text": "Histogram of Category Values"
        },
        "xaxis": {
         "anchor": "y",
         "categoryarray": [
          "extremly low",
          "very low",
          "fairly low",
          "low",
          "negative",
          "slightly negative",
          "slightly positive",
          "positive",
          "fairly high",
          "high",
          "very high",
          "extremely high"
         ],
         "categoryorder": "array",
         "domain": [
          0,
          1
         ],
         "title": {
          "text": "Category"
         }
        },
        "yaxis": {
         "anchor": "x",
         "domain": [
          0,
          1
         ],
         "title": {
          "text": "Count"
         }
        }
       }
      }
     },
     "metadata": {},
     "output_type": "display_data"
    }
   ],
   "source": [
    "category_order = ['extremly low', 'very low', 'fairly low', 'low', 'negative', 'slightly negative',\n",
    "          'slightly positive', 'positive', 'fairly high', 'high', 'very high', 'extremely high']\n",
    "\n",
    "# Plotting the histogram with specified category order\n",
    "fig = px.histogram(s, x='category', title='Histogram of Category Values', category_orders={'category': category_order})\n",
    "fig.update_layout(xaxis_title='Category', yaxis_title='Count')\n",
    "\n",
    "# Show the plot\n",
    "fig.show()\n"
   ]
  }
 ],
 "metadata": {
  "kernelspec": {
   "display_name": ".venv",
   "language": "python",
   "name": "python3"
  },
  "language_info": {
   "codemirror_mode": {
    "name": "ipython",
    "version": 3
   },
   "file_extension": ".py",
   "mimetype": "text/x-python",
   "name": "python",
   "nbconvert_exporter": "python",
   "pygments_lexer": "ipython3",
   "version": "3.10.8"
  }
 },
 "nbformat": 4,
 "nbformat_minor": 2
}
