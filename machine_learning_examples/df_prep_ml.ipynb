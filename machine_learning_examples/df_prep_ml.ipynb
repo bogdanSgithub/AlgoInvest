{
 "cells": [
  {
   "cell_type": "code",
   "execution_count": 2,
   "metadata": {},
   "outputs": [],
   "source": [
    "import pandas as pd\n",
    "import numpy as np\n",
    "import matplotlib.pyplot as plt"
   ]
  },
  {
   "cell_type": "code",
   "execution_count": 3,
   "metadata": {},
   "outputs": [],
   "source": [
    "data = pd.read_csv('sp500_data.csv')"
   ]
  },
  {
   "cell_type": "code",
   "execution_count": 4,
   "metadata": {},
   "outputs": [
    {
     "name": "stderr",
     "output_type": "stream",
     "text": [
      "C:\\Users\\Bogdan\\AppData\\Local\\Temp\\ipykernel_376\\4105595538.py:10: SettingWithCopyWarning: \n",
      "A value is trying to be set on a copy of a slice from a DataFrame.\n",
      "Try using .loc[row_indexer,col_indexer] = value instead\n",
      "\n",
      "See the caveats in the documentation: https://pandas.pydata.org/pandas-docs/stable/user_guide/indexing.html#returning-a-view-versus-a-copy\n",
      "  df['category'] = pd.cut(df['result'], bins=bins, labels=labels)\n"
     ]
    }
   ],
   "source": [
    "# take a small sample size to understand what's happening\n",
    "tickers = ['NVDA', 'GOOG', 'AMZN']\n",
    "df = data[['ticker', 'year', 'profit_margin', 'p/e', 'eps', 'result']]\n",
    "\n",
    "bins = [-float('inf'), -1, -0.8, -0.6, -0.4, -0.2, 0, 0.2, 0.4, 0.6, 0.8, 1.0, float('inf')]\n",
    "labels = ['very low', 'low', 'fairly low', 'moderately low', 'slightly low', 'negative',\n",
    "          'slightly positive', 'positive', 'fairly high', 'high', 'very high', 'extremely high']\n",
    "\n",
    "# Create categorical labels\n",
    "df['category'] = pd.cut(df['result'], bins=bins, labels=labels)\n",
    "\n",
    "filtered_df = df[data.ticker.isin(tickers)]"
   ]
  },
  {
   "cell_type": "code",
   "execution_count": 5,
   "metadata": {},
   "outputs": [],
   "source": [
    "from sklearn.linear_model import LogisticRegression\n",
    "from sklearn.model_selection import train_test_split"
   ]
  },
  {
   "cell_type": "code",
   "execution_count": 6,
   "metadata": {},
   "outputs": [],
   "source": [
    "X = filtered_df[['profit_margin', 'p/e', 'eps']]\n",
    "y = filtered_df[['category']]"
   ]
  },
  {
   "cell_type": "code",
   "execution_count": 7,
   "metadata": {},
   "outputs": [
    {
     "name": "stderr",
     "output_type": "stream",
     "text": [
      "c:\\Users\\Bogdan\\Desktop\\AlgoInvest\\.venv\\lib\\site-packages\\sklearn\\utils\\validation.py:1339: DataConversionWarning: A column-vector y was passed when a 1d array was expected. Please change the shape of y to (n_samples, ), for example using ravel().\n",
      "  y = column_or_1d(y, warn=True)\n",
      "c:\\Users\\Bogdan\\Desktop\\AlgoInvest\\.venv\\lib\\site-packages\\sklearn\\linear_model\\_logistic.py:469: ConvergenceWarning: lbfgs failed to converge (status=1):\n",
      "STOP: TOTAL NO. of ITERATIONS REACHED LIMIT.\n",
      "\n",
      "Increase the number of iterations (max_iter) or scale the data as shown in:\n",
      "    https://scikit-learn.org/stable/modules/preprocessing.html\n",
      "Please also refer to the documentation for alternative solver options:\n",
      "    https://scikit-learn.org/stable/modules/linear_model.html#logistic-regression\n",
      "  n_iter_i = _check_optimize_result(\n"
     ]
    }
   ],
   "source": [
    "model = LogisticRegression(max_iter=1000)\n",
    "X_train, X_test, y_train, y_test = train_test_split(X, y, test_size=0.3, random_state=0)\n",
    "model = model.fit(X_train, y_train)\n",
    "y_preds = pd.DataFrame(model.predict(X_test))"
   ]
  },
  {
   "cell_type": "code",
   "execution_count": 8,
   "metadata": {},
   "outputs": [],
   "source": [
    "y_preds = y_preds.rename(columns={0: 'predicted_category'})\n",
    "y_preds.index = X_test.index\n",
    "test_df = pd.concat([X_test, y_test, y_preds], axis=1)\n",
    "merged_df = pd.merge(filtered_df[['ticker', 'year', 'result']], test_df, left_index=True, right_index=True)"
   ]
  },
  {
   "cell_type": "code",
   "execution_count": 9,
   "metadata": {},
   "outputs": [
    {
     "data": {
      "text/html": [
       "<div>\n",
       "<style scoped>\n",
       "    .dataframe tbody tr th:only-of-type {\n",
       "        vertical-align: middle;\n",
       "    }\n",
       "\n",
       "    .dataframe tbody tr th {\n",
       "        vertical-align: top;\n",
       "    }\n",
       "\n",
       "    .dataframe thead th {\n",
       "        text-align: right;\n",
       "    }\n",
       "</style>\n",
       "<table border=\"1\" class=\"dataframe\">\n",
       "  <thead>\n",
       "    <tr style=\"text-align: right;\">\n",
       "      <th></th>\n",
       "      <th>ticker</th>\n",
       "      <th>year</th>\n",
       "      <th>result</th>\n",
       "      <th>profit_margin</th>\n",
       "      <th>p/e</th>\n",
       "      <th>eps</th>\n",
       "      <th>category</th>\n",
       "      <th>predicted_category</th>\n",
       "    </tr>\n",
       "  </thead>\n",
       "  <tbody>\n",
       "    <tr>\n",
       "      <th>108</th>\n",
       "      <td>AMZN</td>\n",
       "      <td>2017</td>\n",
       "      <td>0.263965</td>\n",
       "      <td>0.119927</td>\n",
       "      <td>198.814391</td>\n",
       "      <td>5.980503</td>\n",
       "      <td>positive</td>\n",
       "      <td>slightly positive</td>\n",
       "    </tr>\n",
       "    <tr>\n",
       "      <th>110</th>\n",
       "      <td>AMZN</td>\n",
       "      <td>2019</td>\n",
       "      <td>0.752453</td>\n",
       "      <td>0.035908</td>\n",
       "      <td>80.870585</td>\n",
       "      <td>22.849346</td>\n",
       "      <td>high</td>\n",
       "      <td>positive</td>\n",
       "    </tr>\n",
       "    <tr>\n",
       "      <th>1366</th>\n",
       "      <td>NVDA</td>\n",
       "      <td>2020</td>\n",
       "      <td>1.252548</td>\n",
       "      <td>0.379282</td>\n",
       "      <td>2.935830</td>\n",
       "      <td>20.408759</td>\n",
       "      <td>extremely high</td>\n",
       "      <td>moderately low</td>\n",
       "    </tr>\n",
       "    <tr>\n",
       "      <th>1367</th>\n",
       "      <td>NVDA</td>\n",
       "      <td>2021</td>\n",
       "      <td>0.828534</td>\n",
       "      <td>0.182729</td>\n",
       "      <td>4.244891</td>\n",
       "      <td>31.165468</td>\n",
       "      <td>very high</td>\n",
       "      <td>negative</td>\n",
       "    </tr>\n",
       "  </tbody>\n",
       "</table>\n",
       "</div>"
      ],
      "text/plain": [
       "     ticker  year    result  profit_margin         p/e        eps  \\\n",
       "108    AMZN  2017  0.263965       0.119927  198.814391   5.980503   \n",
       "110    AMZN  2019  0.752453       0.035908   80.870585  22.849346   \n",
       "1366   NVDA  2020  1.252548       0.379282    2.935830  20.408759   \n",
       "1367   NVDA  2021  0.828534       0.182729    4.244891  31.165468   \n",
       "\n",
       "            category predicted_category  \n",
       "108         positive  slightly positive  \n",
       "110             high           positive  \n",
       "1366  extremely high     moderately low  \n",
       "1367       very high           negative  "
      ]
     },
     "execution_count": 9,
     "metadata": {},
     "output_type": "execute_result"
    }
   ],
   "source": [
    "merged_df"
   ]
  },
  {
   "cell_type": "code",
   "execution_count": 10,
   "metadata": {},
   "outputs": [
    {
     "data": {
      "text/plain": [
       "np.float64(8.123438749419863)"
      ]
     },
     "execution_count": 10,
     "metadata": {},
     "output_type": "execute_result"
    }
   ],
   "source": [
    "(merged_df.result + 1).prod() - 1"
   ]
  },
  {
   "cell_type": "code",
   "execution_count": 11,
   "metadata": {},
   "outputs": [
    {
     "data": {
      "text/plain": [
       "108     0.263965\n",
       "110     0.752453\n",
       "1366    1.252548\n",
       "1367    0.828534\n",
       "Name: result, dtype: float64"
      ]
     },
     "execution_count": 11,
     "metadata": {},
     "output_type": "execute_result"
    }
   ],
   "source": [
    "merged_df.result"
   ]
  }
 ],
 "metadata": {
  "kernelspec": {
   "display_name": ".venv",
   "language": "python",
   "name": "python3"
  },
  "language_info": {
   "codemirror_mode": {
    "name": "ipython",
    "version": 3
   },
   "file_extension": ".py",
   "mimetype": "text/x-python",
   "name": "python",
   "nbconvert_exporter": "python",
   "pygments_lexer": "ipython3",
   "version": "3.10.8"
  }
 },
 "nbformat": 4,
 "nbformat_minor": 2
}
