{
 "cells": [
  {
   "cell_type": "code",
   "execution_count": 2,
   "metadata": {},
   "outputs": [],
   "source": [
    "import pandas as pd\n",
    "import numpy as np\n",
    "import matplotlib.pyplot as plt\n",
    "import yfinance as yf\n",
    "from datetime import datetime\n",
    "import time"
   ]
  },
  {
   "cell_type": "code",
   "execution_count": 3,
   "metadata": {},
   "outputs": [],
   "source": [
    "tickers = pd.read_html('https://en.wikipedia.org/wiki/List_of_S%26P_500_companies')[0]['Symbol'].str.replace('.', '-')"
   ]
  },
  {
   "cell_type": "code",
   "execution_count": 4,
   "metadata": {},
   "outputs": [],
   "source": [
    "def remove_last_col(df):\n",
    "    if len(df.columns) > N:\n",
    "        df = df.iloc[:, :-1]\n",
    "    return df"
   ]
  },
  {
   "cell_type": "code",
   "execution_count": 26,
   "metadata": {},
   "outputs": [
    {
     "name": "stdout",
     "output_type": "stream",
     "text": [
      "['2024-01-31', '2023-01-31', '2022-01-31', '2021-01-31']\n",
      "['2025-01-31', '2024-02-01', '2023-02-01', '2022-02-01']\n",
      "['2024-01-31T00:00:00.000000000' '2023-01-31T00:00:00.000000000'\n",
      " '2022-01-31T00:00:00.000000000' '2021-01-31T00:00:00.000000000']\n",
      "             Gross Profit   Gross Profit\n",
      "2024-01-31  44301000000.0  44301000000.0\n",
      "2023-01-31  15356000000.0  15356000000.0\n",
      "2022-01-31  17475000000.0  17475000000.0\n",
      "2021-01-31  10396000000.0  10396000000.0\n",
      "            Total Revenue  Total Revenue\n",
      "2024-01-31  60922000000.0  60922000000.0\n",
      "2023-01-31  26974000000.0  26974000000.0\n",
      "2022-01-31  26914000000.0  26914000000.0\n",
      "2021-01-31  16675000000.0  16675000000.0\n",
      "           Gross Profit Gross Profit Total Revenue Total Revenue\n",
      "2024-01-31          NaN          NaN           NaN           NaN\n",
      "2023-01-31          NaN          NaN           NaN           NaN\n",
      "2022-01-31          NaN          NaN           NaN           NaN\n",
      "2021-01-31          NaN          NaN           NaN           NaN\n",
      "NVDA Cannot set a DataFrame with multiple columns to the single column interest_coverage\n"
     ]
    }
   ],
   "source": [
    "yearly_combined = pd.DataFrame()\n",
    "N = 4\n",
    "# tickers[0]\n",
    "for ticker in ['NVDA']:\n",
    "    try:\n",
    "        stock = yf.Ticker(ticker)\n",
    "        info = stock.info\n",
    "        \n",
    "        balance = stock.balance_sheet\n",
    "        balance = remove_last_col(balance)\n",
    "\n",
    "        financials = stock.financials\n",
    "        financials = remove_last_col(financials)\n",
    "\n",
    "        earnings = stock.income_stmt\n",
    "        earnings = remove_last_col(earnings)\n",
    "\n",
    "        cashflow = stock.cash_flow\n",
    "        cashflow = remove_last_col(cashflow)\n",
    "\n",
    "        start_dates = balance.columns.values\n",
    "        end_dates = start_dates + np.timedelta64(366, 'D')\n",
    "\n",
    "        start_dates = [str(date)[: -19] for date in start_dates]\n",
    "        end_dates = [str(date)[: -19] for date in end_dates]\n",
    "        \n",
    "\n",
    "        year1 = stock.history(start=start_dates[0], end=end_dates[0]).reset_index(drop=True)\n",
    "        year2 = stock.history(start=start_dates[1], end=end_dates[1]).reset_index(drop=True)\n",
    "        year3 = stock.history(start=start_dates[2], end=end_dates[2]).reset_index(drop=True)\n",
    "        year4 = stock.history(start=start_dates[3], end=end_dates[3]).reset_index(drop=True)\n",
    "        print(start_dates)\n",
    "        print(end_dates)\n",
    "\n",
    "        columns = balance.columns.values\n",
    "        print(columns)\n",
    "        balance.columns = columns\n",
    "        earnings.columns= columns\n",
    "        cashflow.columns = columns\n",
    "        financials.columns = columns\n",
    "\n",
    "        yearly = pd.concat([balance, earnings, cashflow, financials]).T\n",
    "        columns = yearly.columns.values\n",
    "        #print('jello')\n",
    "        #for col in columns:\n",
    "        #    print(col)\n",
    "        #yearly['gross_margin'] = yearly['Gross Profit'] / yearly['Total Revenue']\n",
    "        print(yearly['Gross Profit'])\n",
    "        print(yearly['Total Revenue'])\n",
    "        print(yearly['Gross Profit'] / yearly['Total Revenue'])\n",
    "        # Liquidity\n",
    "        # current ratio = current assets / current liabilities\n",
    "\n",
    "\n",
    "        yearly['current_ratio'] = yearly['Current Assets'] / yearly['Current Liabilities']\n",
    "        # quick ratio = Inventory + current assets / current liabilities\n",
    "        yearly['quick_ratio'] = yearly['Total Assets']\n",
    "        if 'Inventory' in columns:\n",
    "            yearly['quick_ratio'] += yearly['Inventory']\n",
    "        yearly['quick_ratio'] /= yearly['Total Liabilities Net Minority Interest']\n",
    "        # cash ratio = (cash + cash equivalents) / current liabilities\n",
    "        yearly['cash_ratio'] = yearly['Cash And Cash Equivalents'] / yearly['Total Liabilities Net Minority Interest']\n",
    "        yearly['operating_cashflow'] = yearly['Operating Cash Flow']\n",
    "        # equity ratio = total equity / total assets\n",
    "        yearly['equity_ratio'] = yearly['Stockholders Equity'] / yearly['Total Assets']\n",
    "\n",
    "        # Leverage\n",
    "        # debt to equity = total liabilites / shareholder equity\n",
    "        yearly['debt_to_equity'] = yearly['Total Liabilities Net Minority Interest'] / yearly['Stockholders Equity']\n",
    "        # debt to assets = total liabilites / shareholder equity\n",
    "        yearly['debt_to_assets'] = yearly['Total Liabilities Net Minority Interest'] / yearly['Total Assets']\n",
    "        # interest coverage = operating income / interest expense\n",
    "        yearly['interest_coverage'] = yearly['Operating Revenue'] / yearly['Interest Expense']\n",
    "\n",
    "        # Efficiency\n",
    "        # asset turnover = revenue / total assets\n",
    "        yearly['asset_turnover'] = yearly['Total Revenue'] / yearly['Total Assets']\n",
    "        # receivables turnover = revenue / accounts receivables\n",
    "        if 'Receivables' in columns: yearly['receivables_turnover'] = yearly['Total Revenue'] / yearly['Receivables']\n",
    "        else: yearly['receivables_turnover'] = np.nan\n",
    "\n",
    "        # Profitability\n",
    "        # gross margin = gross profit / revenue\n",
    "        yearly['gross_margin'] = yearly['Gross Profit'] / yearly['Total Revenue']\n",
    "        # profit margin = net income / revenue\n",
    "        yearly['profit_margin'] = yearly['Net Income'] / yearly['Total Revenue']\n",
    "        # return on equity = net income / shareholder equity\n",
    "        yearly['return_on_equity'] = yearly['Net Income'] / yearly['Stockholders Equity']\n",
    "        # return on assets = net income / total assets\n",
    "        yearly['return_on_assets'] = yearly['Net Income'] / yearly['Total Assets']\n",
    "        # eps\n",
    "\n",
    "        shareprice = np.array([year1.loc[0, 'Close'], year2.loc[0, 'Close'], year3.loc[0, 'Close'], year4.loc[0, 'Close']])\n",
    "        # p/e = shareprice / eps\n",
    "        yearly['p/e'] = shareprice / yearly['eps']\n",
    "\n",
    "        yearly['ticker'] = ticker\n",
    "        yearly['sector'] = info['sector']\n",
    "        yearly.index = yearly.index.year\n",
    "        yearly['year'] = yearly.index.values\n",
    "        \n",
    "        startprice = np.array([year1.loc[1, 'Open'], year2.loc[1, 'Open'], year3.loc[1, 'Open'], year4.loc[1, 'Open']])\n",
    "        endprice = np.array([year1.loc[len(year1)-1, 'Close'], year2.loc[len(year2)-1, 'Close'], year3.loc[len(year3)-1, 'Close'], year4.loc[len(year4)-1, 'Close']])\n",
    "        pctdiff = (endprice-startprice) / startprice\n",
    "        yearly['result'] = pctdiff\n",
    "                \n",
    "        columns = [\"current_ratio\", \"quick_ratio\", \"cash_ratio\", \"operating_cashflow\", \"equity_ratio\", \"debt_to_equity\", \"debt_to_assets\", \"interest_coverage\", \"asset_turnover\", \"receivables_turnover\", \"gross_margin\", \"profit_margin\", \"return_on_equity\", \"return_on_assets\", \"eps\", \"p/e\", \"ticker\", \"sector\", \"year\", \"result\"]\n",
    "\n",
    "        yearly = yearly[columns].reset_index(drop=True)\n",
    "        \n",
    "        if yearly_combined.empty:\n",
    "            yearly_combined = yearly\n",
    "        else:\n",
    "            yearly_combined = pd.concat([yearly_combined, yearly]).reset_index(drop=True)\n",
    "        print(ticker, 'is done')\n",
    "        \n",
    "\n",
    "    except Exception as e:\n",
    "        print(ticker, e)\n",
    "\n",
    "yearly_combined.to_csv('combined.csv', index=False)"
   ]
  },
  {
   "cell_type": "code",
   "execution_count": 22,
   "metadata": {},
   "outputs": [
    {
     "data": {
      "text/plain": [
       "0.623448275862069"
      ]
     },
     "execution_count": 22,
     "metadata": {},
     "output_type": "execute_result"
    }
   ],
   "source": [
    "10396000000.0 / 16675000000"
   ]
  },
  {
   "cell_type": "markdown",
   "metadata": {},
   "source": [
    "[ 1.08142815  2.12601203 -0.22102979  0.82907985]\n",
    "NVDA Cannot set a DataFrame with multiple columns to the single column interest_coverage\n"
   ]
  }
 ],
 "metadata": {
  "kernelspec": {
   "display_name": ".venv",
   "language": "python",
   "name": "python3"
  },
  "language_info": {
   "codemirror_mode": {
    "name": "ipython",
    "version": 3
   },
   "file_extension": ".py",
   "mimetype": "text/x-python",
   "name": "python",
   "nbconvert_exporter": "python",
   "pygments_lexer": "ipython3",
   "version": "3.10.8"
  }
 },
 "nbformat": 4,
 "nbformat_minor": 2
}
