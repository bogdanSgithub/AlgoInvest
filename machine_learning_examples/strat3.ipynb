{
 "cells": [
  {
   "cell_type": "code",
   "execution_count": 1,
   "metadata": {},
   "outputs": [],
   "source": [
    "import yfinance as yf\n",
    "import pandas as pd\n",
    "import datetime as dt\n",
    "import numpy as np"
   ]
  },
  {
   "cell_type": "code",
   "execution_count": 2,
   "metadata": {},
   "outputs": [
    {
     "name": "stderr",
     "output_type": "stream",
     "text": [
      "[*********************100%%**********************]  1 of 1 completed\n"
     ]
    }
   ],
   "source": [
    "start = dt.datetime(2011, 1, 1)\n",
    "starting_date = dt.datetime(2012, 1, 1)\n",
    "end = dt.datetime.now()\n",
    "interval = '1mo'\n",
    "\n",
    "df = yf.download('NVDA', start=start, end=end, interval=interval)"
   ]
  },
  {
   "cell_type": "code",
   "execution_count": 3,
   "metadata": {},
   "outputs": [],
   "source": [
    "data = df[['Adj Close']].copy()\n",
    "data['returns'] = data['Adj Close'].pct_change()"
   ]
  },
  {
   "cell_type": "code",
   "execution_count": 4,
   "metadata": {},
   "outputs": [],
   "source": [
    "def lagit(df, lags):\n",
    "    names = []\n",
    "    for i in range(3, lags+1, 3):\n",
    "        df['Lag_'+str(i)] = df['returns'].shift(i)\n",
    "        names.append('Lag_'+str(i))\n",
    "    return names"
   ]
  },
  {
   "cell_type": "code",
   "execution_count": 5,
   "metadata": {},
   "outputs": [
    {
     "data": {
      "text/html": [
       "<div>\n",
       "<style scoped>\n",
       "    .dataframe tbody tr th:only-of-type {\n",
       "        vertical-align: middle;\n",
       "    }\n",
       "\n",
       "    .dataframe tbody tr th {\n",
       "        vertical-align: top;\n",
       "    }\n",
       "\n",
       "    .dataframe thead th {\n",
       "        text-align: right;\n",
       "    }\n",
       "</style>\n",
       "<table border=\"1\" class=\"dataframe\">\n",
       "  <thead>\n",
       "    <tr style=\"text-align: right;\">\n",
       "      <th></th>\n",
       "      <th>Adj Close</th>\n",
       "      <th>returns</th>\n",
       "      <th>Lag_3</th>\n",
       "      <th>Lag_6</th>\n",
       "      <th>Lag_9</th>\n",
       "    </tr>\n",
       "    <tr>\n",
       "      <th>Date</th>\n",
       "      <th></th>\n",
       "      <th></th>\n",
       "      <th></th>\n",
       "      <th></th>\n",
       "      <th></th>\n",
       "    </tr>\n",
       "  </thead>\n",
       "  <tbody>\n",
       "    <tr>\n",
       "      <th>2011-01-01</th>\n",
       "      <td>0.548502</td>\n",
       "      <td>NaN</td>\n",
       "      <td>NaN</td>\n",
       "      <td>NaN</td>\n",
       "      <td>NaN</td>\n",
       "    </tr>\n",
       "    <tr>\n",
       "      <th>2011-02-01</th>\n",
       "      <td>0.519609</td>\n",
       "      <td>-0.052675</td>\n",
       "      <td>NaN</td>\n",
       "      <td>NaN</td>\n",
       "      <td>NaN</td>\n",
       "    </tr>\n",
       "    <tr>\n",
       "      <th>2011-03-01</th>\n",
       "      <td>0.423300</td>\n",
       "      <td>-0.185349</td>\n",
       "      <td>NaN</td>\n",
       "      <td>NaN</td>\n",
       "      <td>NaN</td>\n",
       "    </tr>\n",
       "    <tr>\n",
       "      <th>2011-04-01</th>\n",
       "      <td>0.458613</td>\n",
       "      <td>0.083423</td>\n",
       "      <td>NaN</td>\n",
       "      <td>NaN</td>\n",
       "      <td>NaN</td>\n",
       "    </tr>\n",
       "    <tr>\n",
       "      <th>2011-05-01</th>\n",
       "      <td>0.459531</td>\n",
       "      <td>0.002000</td>\n",
       "      <td>-0.052675</td>\n",
       "      <td>NaN</td>\n",
       "      <td>NaN</td>\n",
       "    </tr>\n",
       "    <tr>\n",
       "      <th>...</th>\n",
       "      <td>...</td>\n",
       "      <td>...</td>\n",
       "      <td>...</td>\n",
       "      <td>...</td>\n",
       "      <td>...</td>\n",
       "    </tr>\n",
       "    <tr>\n",
       "      <th>2024-03-01</th>\n",
       "      <td>90.344337</td>\n",
       "      <td>0.142128</td>\n",
       "      <td>0.058841</td>\n",
       "      <td>-0.118651</td>\n",
       "      <td>0.118095</td>\n",
       "    </tr>\n",
       "    <tr>\n",
       "      <th>2024-04-01</th>\n",
       "      <td>86.394905</td>\n",
       "      <td>-0.043715</td>\n",
       "      <td>0.242527</td>\n",
       "      <td>-0.062430</td>\n",
       "      <td>0.104767</td>\n",
       "    </tr>\n",
       "    <tr>\n",
       "      <th>2024-05-01</th>\n",
       "      <td>109.624001</td>\n",
       "      <td>0.268871</td>\n",
       "      <td>0.285810</td>\n",
       "      <td>0.146886</td>\n",
       "      <td>0.056196</td>\n",
       "    </tr>\n",
       "    <tr>\n",
       "      <th>2024-06-01</th>\n",
       "      <td>123.529854</td>\n",
       "      <td>0.126850</td>\n",
       "      <td>0.142128</td>\n",
       "      <td>0.058841</td>\n",
       "      <td>-0.118651</td>\n",
       "    </tr>\n",
       "    <tr>\n",
       "      <th>2024-07-01</th>\n",
       "      <td>117.930000</td>\n",
       "      <td>-0.045332</td>\n",
       "      <td>-0.043715</td>\n",
       "      <td>0.242527</td>\n",
       "      <td>-0.062430</td>\n",
       "    </tr>\n",
       "  </tbody>\n",
       "</table>\n",
       "<p>163 rows × 5 columns</p>\n",
       "</div>"
      ],
      "text/plain": [
       "             Adj Close   returns     Lag_3     Lag_6     Lag_9\n",
       "Date                                                          \n",
       "2011-01-01    0.548502       NaN       NaN       NaN       NaN\n",
       "2011-02-01    0.519609 -0.052675       NaN       NaN       NaN\n",
       "2011-03-01    0.423300 -0.185349       NaN       NaN       NaN\n",
       "2011-04-01    0.458613  0.083423       NaN       NaN       NaN\n",
       "2011-05-01    0.459531  0.002000 -0.052675       NaN       NaN\n",
       "...                ...       ...       ...       ...       ...\n",
       "2024-03-01   90.344337  0.142128  0.058841 -0.118651  0.118095\n",
       "2024-04-01   86.394905 -0.043715  0.242527 -0.062430  0.104767\n",
       "2024-05-01  109.624001  0.268871  0.285810  0.146886  0.056196\n",
       "2024-06-01  123.529854  0.126850  0.142128  0.058841 -0.118651\n",
       "2024-07-01  117.930000 -0.045332 -0.043715  0.242527 -0.062430\n",
       "\n",
       "[163 rows x 5 columns]"
      ]
     },
     "execution_count": 5,
     "metadata": {},
     "output_type": "execute_result"
    }
   ],
   "source": [
    "lagnames = lagit(data, 9)\n",
    "data"
   ]
  },
  {
   "cell_type": "code",
   "execution_count": 6,
   "metadata": {},
   "outputs": [],
   "source": [
    "data.dropna(inplace=True)"
   ]
  },
  {
   "cell_type": "code",
   "execution_count": 7,
   "metadata": {},
   "outputs": [],
   "source": [
    "from sklearn.linear_model import LinearRegression\n",
    "from sklearn.model_selection import train_test_split\n",
    "from sklearn.metrics import r2_score\n",
    "model = LinearRegression()"
   ]
  },
  {
   "cell_type": "code",
   "execution_count": 8,
   "metadata": {},
   "outputs": [
    {
     "data": {
      "text/plain": [
       "(0.005988742974078587, -0.2808779863030342)"
      ]
     },
     "execution_count": 8,
     "metadata": {},
     "output_type": "execute_result"
    }
   ],
   "source": [
    "train,test = train_test_split(data, test_size=0.3, random_state=0)\n",
    "model.fit(train[lagnames], train['returns'])\n",
    "\n",
    "# Make predictions for training & testing sets\n",
    "y_train_pred = model.predict(train[lagnames])\n",
    "y_test_pred = model.predict(test[lagnames])\n",
    "\n",
    "# Check if model is good\n",
    "train_r2 = r2_score(train['returns'], y_train_pred)\n",
    "test_r2 = r2_score(test['returns'], y_test_pred)\n",
    "\n",
    "train_r2, test_r2"
   ]
  },
  {
   "cell_type": "code",
   "execution_count": 19,
   "metadata": {},
   "outputs": [],
   "source": [
    "test['prediction_LR'] = model.predict(test[lagnames])\n",
    "#test['direction_LR'] = [1 if i > 0 else -1 for i in test.prediction_LR]\n",
    "#test['strat_LR'] = test['direction_LR'] * test['returns']\n",
    "#np.exp(test[['returns', 'strat_LR']].sum())\n",
    "#np.exp(test[['returns', 'strat_LR']].cumsum()).plot()\n",
    "high_increases = test[test['prediction_LR'] >= 0.03]"
   ]
  },
  {
   "cell_type": "code",
   "execution_count": 20,
   "metadata": {},
   "outputs": [
    {
     "name": "stdout",
     "output_type": "stream",
     "text": [
      "(51, 6)\n"
     ]
    },
    {
     "data": {
      "text/plain": [
       "(35, 6)"
      ]
     },
     "execution_count": 20,
     "metadata": {},
     "output_type": "execute_result"
    }
   ],
   "source": [
    "print(high_increases.shape)\n",
    "positive_returns = high_increases[high_increases['returns'] > 0]\n",
    "positive_returns.shape"
   ]
  }
 ],
 "metadata": {
  "kernelspec": {
   "display_name": ".venv",
   "language": "python",
   "name": "python3"
  },
  "language_info": {
   "codemirror_mode": {
    "name": "ipython",
    "version": 3
   },
   "file_extension": ".py",
   "mimetype": "text/x-python",
   "name": "python",
   "nbconvert_exporter": "python",
   "pygments_lexer": "ipython3",
   "version": "3.10.8"
  }
 },
 "nbformat": 4,
 "nbformat_minor": 2
}
